{
 "cells": [
  {
   "cell_type": "markdown",
   "metadata": {
    "nbpresent": {
     "id": "6f7e17b3-4fd2-48a3-b1b6-8b9b12742fc0"
    },
    "slideshow": {
     "slide_type": "slide"
    }
   },
   "source": [
    " # Elemento triangular de 3 nodos en elasticidad plana\n",
    "\n",
    "Análisis de Estructuras. Grado en Ingeniería Civil. \n",
    "\n",
    "Autores: \n",
    "\n",
    "+ Alejandro E. Martínez-Castro, Esther Puertas García, Rafael Gallego.\n",
    "+ Departamento de Mecánica de Estructuras e Ingeniería Hidráulica. Universidad de Granada.\n",
    "\n",
    "\n",
    "<a rel=\"license\" href=\"http://creativecommons.org/licenses/by-nc-sa/4.0/\"><img alt=\"Licencia de Creative Commons\" style=\"border-width:0\" src=\"https://i.creativecommons.org/l/by-nc-sa/4.0/88x31.png\" /></a><br /><span xmlns:dct=\"http://purl.org/dc/terms/\" property=\"dct:title\">Cuadernos MEF: Elemento Triangular de 3 nodos</span> by <span xmlns:cc=\"http://creativecommons.org/ns#\" property=\"cc:attributionName\">Alejandro Martínez Castro, Esther Puertas García, Rafael Gallego Sevilla</span> is licensed under a <a rel=\"license\" href=\"http://creativecommons.org/licenses/by-nc-sa/4.0/\">Creative Commons Reconocimiento-NoComercial-CompartirIgual 4.0 Internacional License</a>."
   ]
  },
  {
   "cell_type": "markdown",
   "metadata": {
    "nbpresent": {
     "id": "7b292760-41b2-4298-a131-3d7ea47f0a31"
    },
    "slideshow": {
     "slide_type": "slide"
    }
   },
   "source": [
    "## Formulación en un elemento\n",
    "\n",
    "La formulación del MEF para un elemento parte de la expresión del PTV. \n",
    "\n",
    "\\begin{equation}\n",
    "\\int_{\\Omega} \\boldsymbol{\\sigma}^T \\cdot \\boldsymbol{\\varepsilon}^* \\, d\\Omega = \\int_{\\Gamma} \\mathbf{t}^t \\cdot \\mathbf{u}^* \\,d \\Gamma + \\int_{\\Omega} \\mathbf{b}^T \\,\\cdot \\, \\mathbf{u}^* \\,d \\Omega + \\sum_{k=1}^n \\mathbf{F}_k^T \\,\\mathbf{u}_k^*\n",
    "\\end{equation}\n",
    "\n",
    "El siguiente paso consiste en plantear una discretización para el campo $\\mathbf{u}$, mediante funciones de forma, en función de un vector de grados de libertad $\\mathbf{a}$. \n",
    "\n",
    "\\begin{equation}\n",
    "\\mathbf{u} = \\mathbf{N}\\cdot \\mathbf{a}\n",
    "\\end{equation}\n",
    "\n",
    "Esta relación inducirá una relación para el vector $\\boldsymbol{\\varepsilon}$, \n",
    "\n",
    "\\begin{equation}\n",
    "\\boldsymbol{\\varepsilon} = \\mathbf{B}\\cdot \\mathbf{a}\n",
    "\\end{equation}"
   ]
  },
  {
   "cell_type": "markdown",
   "metadata": {
    "nbpresent": {
     "id": "ac031f1f-371b-45ab-a508-fdc0db8a30ca"
    },
    "slideshow": {
     "slide_type": "slide"
    }
   },
   "source": [
    "Eligiendo alternativamente $\\mathbf{u^*} = N_i(x,y)$ se obtendrá un conjunto de ecuaciones que formará el sistema matricial dentro de un elemento: \n",
    "\n",
    "\\begin{equation}\n",
    "\\mathbf{K}\\cdot \\mathbf{a} = \\int_{\\Gamma} \\mathbf{N}^T \\cdot \\mathbf{t} \\,d \\Gamma + \\int_{\\Omega} \\mathbf{N}^T \\,\\cdot \\, \\mathbf{b} \\,d \\Omega + \\mathbf{F_n} = \\mathbf{f}_t + \\mathbf{f}_b + \\mathbf{F_n}\n",
    "\\end{equation}\n",
    "\n",
    "Siendo $\\mathbf{F_n}$ el vector de fuerzas nodales, el cual se cancela entre elementos en el ensamblaje. Estas fuerzas nodales tienen dimensiones de fuerza por unidad de longitud (en $z$). \n",
    "\n",
    "Se ha asumido que los desplazamientos son continuos, y que las funciones de forma $N_i(x,y)$ toman valor $1$ en el nodo $i$ y cero en el resto. "
   ]
  },
  {
   "cell_type": "markdown",
   "metadata": {
    "nbpresent": {
     "id": "e9787334-6c56-462e-b555-78003df5e769"
    },
    "slideshow": {
     "slide_type": "slide"
    }
   },
   "source": [
    "\n",
    "\n",
    "## Discretización y funciones de forma. \n",
    "\n",
    "El elemento más sencillo para elasticidad es el elemento triangular de 3 nodos. \n",
    "\n",
    "Consideremos un elemento de 3 nodos: \n",
    "- Las coordenadas de los 3 vértices son $(x_1, y_1)$, $(x_2,y_2)$, $(x_3,y_3)$. \n",
    "- Los desplazamientos se interpolan a partir de $(u_1,v_1)$, $(u_2,v_2)$, $(u_3,v_3)$. \n",
    "\n",
    "\\begin{equation}\n",
    "\\begin{pmatrix} u \\\\ v \\end{pmatrix} = \n",
    "\\left[\n",
    "\\begin{matrix}\n",
    "N_1 & 0 & N_2 & 0 & N_3 & 0 \\\\\n",
    "0 & N_1 & 0 & N_2 & 0 & N_3 \n",
    "\\end{matrix}\n",
    "\\right] \\cdot \\begin{pmatrix} u_1 \\\\ v_1 \\\\ u_2 \\\\ v_2 \\\\ u_3 \\\\ v_3 \\end{pmatrix}\n",
    "\\end{equation}\n",
    "\n",
    "Esta matriz genera la relación $\\mathbf{u} = \\mathbf{N}\\,\\cdot\\mathbf{a}$.\n",
    "\n",
    "Las funciones $N_1$, $N_2$ y $N_3$ pueden obtenerse de manera análoga a como se hizo en vigas. \n",
    "\n",
    "La base en este caso es la $\\mathcal{B} = \\lbrace 1, x, y \\rbrace$. "
   ]
  },
  {
   "cell_type": "code",
   "execution_count": 1,
   "metadata": {
    "nbpresent": {
     "id": "fd34555d-fc65-4373-8c88-1879c528ae50"
    },
    "slideshow": {
     "slide_type": "slide"
    }
   },
   "outputs": [
    {
     "name": "stdout",
     "output_type": "stream",
     "text": [
      "IPython console for SymPy 0.7.6.1 (Python 2.7.11-64-bit) (ground types: python)\n",
      "\n",
      "These commands were executed:\n",
      ">>> from __future__ import division\n",
      ">>> from sympy import *\n",
      ">>> x, y, z, t = symbols('x y z t')\n",
      ">>> k, m, n = symbols('k m n', integer=True)\n",
      ">>> f, g, h = symbols('f g h', cls=Function)\n",
      ">>> init_printing()\n",
      "\n",
      "Documentation can be found at http://www.sympy.org\n"
     ]
    }
   ],
   "source": [
    "from sympy import init_session\n",
    "init_session()"
   ]
  },
  {
   "cell_type": "code",
   "execution_count": 2,
   "metadata": {
    "nbpresent": {
     "id": "2ce0692d-d926-4d6f-ab9a-521ba57f3cfe"
    },
    "slideshow": {
     "slide_type": "slide"
    }
   },
   "outputs": [
    {
     "data": {
      "image/png": "[encoded data removed]",
      "text/latex": [
       "$$\\left[\\begin{matrix}1 & x & y\\end{matrix}\\right]$$"
      ],
      "text/plain": [
       "[1  x  y]"
      ]
     },
     "execution_count": 2,
     "metadata": {},
     "output_type": "execute_result"
    }
   ],
   "source": [
    "base = Matrix([[1,x,y]])\n",
    "base"
   ]
  },
  {
   "cell_type": "code",
   "execution_count": 3,
   "metadata": {
    "nbpresent": {
     "id": "2a14944c-2a4f-4877-b74c-f5be5c908f64"
    },
    "slideshow": {
     "slide_type": "slide"
    }
   },
   "outputs": [
    {
     "data": {
      "image/png": "[encoded data removed]",
      "text/latex": [
       "$$\\left[\\begin{matrix}1 & x_{1} & y_{1}\\\\1 & x_{2} & y_{2}\\\\1 & x_{3} & y_{3}\\end{matrix}\\right]$$"
      ],
      "text/plain": [
       "⎡1  x₁  y₁⎤\n",
       "⎢         ⎥\n",
       "⎢1  x₂  y₂⎥\n",
       "⎢         ⎥\n",
       "⎣1  x₃  y₃⎦"
      ]
     },
     "execution_count": 3,
     "metadata": {},
     "output_type": "execute_result"
    }
   ],
   "source": [
    "x1,y1,x2,y2,x3,y3 = symbols('x1 y1 x2 y2 x3 y3')\n",
    "matM = Matrix.vstack(base.subs([(x,x1),(y,y1)]),base.subs([(x,x2),(y,y2)]),base.subs([(x,x3),(y,y3)]))\n",
    "matM"
   ]
  },
  {
   "cell_type": "code",
   "execution_count": 4,
   "metadata": {
    "nbpresent": {
     "id": "480b4c63-a866-4a45-8f9a-10404fbf9a71"
    },
    "slideshow": {
     "slide_type": "slide"
    }
   },
   "outputs": [
    {
     "data": {
      "image/png": "[encoded data removed]",
      "text/latex": [
       "$$\\left[\\begin{matrix}\\frac{x_{1}}{- x_{1} + x_{2}} - \\frac{\\left(-1 + \\frac{- x_{1} + x_{3}}{- x_{1} + x_{2}}\\right) \\left(x_{1} - x_{2}\\right) \\left(- \\frac{x_{1} \\left(- y_{1} + y_{2}\\right)}{- x_{1} + x_{2}} + y_{1}\\right)}{\\left(x_{1} - x_{2}\\right) \\left(- y_{1} + y_{3}\\right) + \\left(x_{1} - x_{3}\\right) \\left(y_{1} - y_{2}\\right)} + 1 & - \\frac{x_{1}}{- x_{1} + x_{2}} + \\frac{\\left(- x_{1} + x_{3}\\right) \\left(x_{1} - x_{2}\\right) \\left(- \\frac{x_{1} \\left(- y_{1} + y_{2}\\right)}{- x_{1} + x_{2}} + y_{1}\\right)}{\\left(- x_{1} + x_{2}\\right) \\left(\\left(x_{1} - x_{2}\\right) \\left(- y_{1} + y_{3}\\right) + \\left(x_{1} - x_{3}\\right) \\left(y_{1} - y_{2}\\right)\\right)} & - \\frac{\\left(x_{1} - x_{2}\\right) \\left(- \\frac{x_{1} \\left(- y_{1} + y_{2}\\right)}{- x_{1} + x_{2}} + y_{1}\\right)}{\\left(x_{1} - x_{2}\\right) \\left(- y_{1} + y_{3}\\right) + \\left(x_{1} - x_{3}\\right) \\left(y_{1} - y_{2}\\right)}\\\\- \\frac{\\left(-1 + \\frac{- x_{1} + x_{3}}{- x_{1} + x_{2}}\\right) \\left(x_{1} - x_{2}\\right) \\left(- y_{1} + y_{2}\\right)}{\\left(- x_{1} + x_{2}\\right) \\left(\\left(x_{1} - x_{2}\\right) \\left(- y_{1} + y_{3}\\right) + \\left(x_{1} - x_{3}\\right) \\left(y_{1} - y_{2}\\right)\\right)} - \\frac{1}{- x_{1} + x_{2}} & \\frac{1}{- x_{1} + x_{2}} + \\frac{\\left(- x_{1} + x_{3}\\right) \\left(x_{1} - x_{2}\\right) \\left(- y_{1} + y_{2}\\right)}{\\left(- x_{1} + x_{2}\\right)^{2} \\left(\\left(x_{1} - x_{2}\\right) \\left(- y_{1} + y_{3}\\right) + \\left(x_{1} - x_{3}\\right) \\left(y_{1} - y_{2}\\right)\\right)} & - \\frac{\\left(x_{1} - x_{2}\\right) \\left(- y_{1} + y_{2}\\right)}{\\left(- x_{1} + x_{2}\\right) \\left(\\left(x_{1} - x_{2}\\right) \\left(- y_{1} + y_{3}\\right) + \\left(x_{1} - x_{3}\\right) \\left(y_{1} - y_{2}\\right)\\right)}\\\\\\frac{\\left(-1 + \\frac{- x_{1} + x_{3}}{- x_{1} + x_{2}}\\right) \\left(x_{1} - x_{2}\\right)}{\\left(x_{1} - x_{2}\\right) \\left(- y_{1} + y_{3}\\right) + \\left(x_{1} - x_{3}\\right) \\left(y_{1} - y_{2}\\right)} & - \\frac{\\left(- x_{1} + x_{3}\\right) \\left(x_{1} - x_{2}\\right)}{\\left(- x_{1} + x_{2}\\right) \\left(\\left(x_{1} - x_{2}\\right) \\left(- y_{1} + y_{3}\\right) + \\left(x_{1} - x_{3}\\right) \\left(y_{1} - y_{2}\\right)\\right)} & \\frac{x_{1} - x_{2}}{\\left(x_{1} - x_{2}\\right) \\left(- y_{1} + y_{3}\\right) + \\left(x_{1} - x_{3}\\right) \\left(y_{1} - y_{2}\\right)}\\end{matrix}\\right]$$"
      ],
      "text/plain": [
       "⎡             ⎛     -x₁ + x₃⎞           ⎛  x₁⋅(-y₁ + y₂)     ⎞                \n",
       "⎢             ⎜-1 + ────────⎟⋅(x₁ - x₂)⋅⎜- ───────────── + y₁⎟                \n",
       "⎢     x₁      ⎝     -x₁ + x₂⎠           ⎝     -x₁ + x₂       ⎠              x₁\n",
       "⎢  ──────── - ──────────────────────────────────────────────── + 1     - ─────\n",
       "⎢  -x₁ + x₂      (x₁ - x₂)⋅(-y₁ + y₃) + (x₁ - x₃)⋅(y₁ - y₂)              -x₁ +\n",
       "⎢                                                                             \n",
       "⎢            ⎛     -x₁ + x₃⎞                                                  \n",
       "⎢            ⎜-1 + ────────⎟⋅(x₁ - x₂)⋅(-y₁ + y₂)                             \n",
       "⎢            ⎝     -x₁ + x₂⎠                                    1         1   \n",
       "⎢- ─────────────────────────────────────────────────────── - ────────  ───────\n",
       "⎢  (-x₁ + x₂)⋅((x₁ - x₂)⋅(-y₁ + y₃) + (x₁ - x₃)⋅(y₁ - y₂))   -x₁ + x₂  -x₁ + x\n",
       "⎢                                                                             \n",
       "⎢                                                                             \n",
       "⎢                     ⎛     -x₁ + x₃⎞                                         \n",
       "⎢                     ⎜-1 + ────────⎟⋅(x₁ - x₂)                               \n",
       "⎢                     ⎝     -x₁ + x₂⎠                                         \n",
       "⎢             ──────────────────────────────────────────                     ─\n",
       "⎣             (x₁ - x₂)⋅(-y₁ + y₃) + (x₁ - x₃)⋅(y₁ - y₂)                     (\n",
       "\n",
       "                                 ⎛  x₁⋅(-y₁ + y₂)     ⎞                       \n",
       "            (-x₁ + x₃)⋅(x₁ - x₂)⋅⎜- ───────────── + y₁⎟                  -(x₁ \n",
       "                                 ⎝     -x₁ + x₂       ⎠                       \n",
       "─── + ───────────────────────────────────────────────────────        ─────────\n",
       " x₂   (-x₁ + x₂)⋅((x₁ - x₂)⋅(-y₁ + y₃) + (x₁ - x₃)⋅(y₁ - y₂))        (x₁ - x₂)\n",
       "                                                                              \n",
       "                                                                              \n",
       "                                                                              \n",
       "                (-x₁ + x₃)⋅(x₁ - x₂)⋅(-y₁ + y₂)                               \n",
       "─ + ────────────────────────────────────────────────────────   ───────────────\n",
       "₂             2                                                (-x₁ + x₂)⋅((x₁\n",
       "    (-x₁ + x₂) ⋅((x₁ - x₂)⋅(-y₁ + y₃) + (x₁ - x₃)⋅(y₁ - y₂))                  \n",
       "                                                                              \n",
       "                                                                              \n",
       "                                                                              \n",
       "                -(-x₁ + x₃)⋅(x₁ - x₂)                                         \n",
       "──────────────────────────────────────────────────────               ─────────\n",
       "-x₁ + x₂)⋅((x₁ - x₂)⋅(-y₁ + y₃) + (x₁ - x₃)⋅(y₁ - y₂))               (x₁ - x₂)\n",
       "\n",
       "      ⎛  x₁⋅(-y₁ + y₂)     ⎞            ⎤\n",
       "- x₂)⋅⎜- ───────────── + y₁⎟            ⎥\n",
       "      ⎝     -x₁ + x₂       ⎠            ⎥\n",
       "─────────────────────────────────       ⎥\n",
       "⋅(-y₁ + y₃) + (x₁ - x₃)⋅(y₁ - y₂)       ⎥\n",
       "                                        ⎥\n",
       "                                        ⎥\n",
       "                                        ⎥\n",
       "  -(x₁ - x₂)⋅(-y₁ + y₂)                 ⎥\n",
       "────────────────────────────────────────⎥\n",
       " - x₂)⋅(-y₁ + y₃) + (x₁ - x₃)⋅(y₁ - y₂))⎥\n",
       "                                        ⎥\n",
       "                                        ⎥\n",
       "                                        ⎥\n",
       "                                        ⎥\n",
       "        x₁ - x₂                         ⎥\n",
       "─────────────────────────────────       ⎥\n",
       "⋅(-y₁ + y₃) + (x₁ - x₃)⋅(y₁ - y₂)       ⎦"
      ]
     },
     "execution_count": 4,
     "metadata": {},
     "output_type": "execute_result"
    }
   ],
   "source": [
    "Inv_matM = matM.inv()\n",
    "Inv_matM"
   ]
  },
  {
   "cell_type": "markdown",
   "metadata": {
    "nbpresent": {
     "id": "40b38f63-46d3-4d03-be49-7ba1d86ee091"
    },
    "slideshow": {
     "slide_type": "slide"
    }
   },
   "source": [
    "Esta expresión resulta más sencilla si se obtiene la inversa mediante otro procedimiento. La matriz inversa puede calcularse como la matriz de los adjuntos dividida entre el determinante. \n",
    "\n",
    "\\begin{equation}\n",
    "\\mathbf{M}^{-1} = \\dfrac{\\mathrm{adj} \\mathbf{M}^T}{|\\mathbf{M}|}\n",
    "\\end{equation}\n",
    "\n",
    "Esto puede hacerse en SymPy como sigue: "
   ]
  },
  {
   "cell_type": "code",
   "execution_count": 5,
   "metadata": {
    "nbpresent": {
     "id": "460304fc-805a-47ab-b6ac-1d7324c93cdd"
    },
    "slideshow": {
     "slide_type": "slide"
    }
   },
   "outputs": [
    {
     "data": {
      "image/png": "[encoded data removed]",
      "text/latex": [
       "$$\\left[\\begin{matrix}\\frac{x_{2} y_{3} - x_{3} y_{2}}{x_{1} y_{2} + x_{3} \\left(x_{2} y_{2} + y_{1}\\right) + y_{1} + y_{3} \\left(- x_{1} + x_{2}\\right) - \\left(- x_{2} - 1\\right) \\left(- x_{3} y_{2} - y_{1}\\right)} & \\frac{- x_{1} y_{3} + x_{3} y_{1}}{x_{1} y_{2} + x_{3} \\left(x_{2} y_{2} + y_{1}\\right) + y_{1} + y_{3} \\left(- x_{1} + x_{2}\\right) - \\left(- x_{2} - 1\\right) \\left(- x_{3} y_{2} - y_{1}\\right)} & \\frac{x_{1} y_{2} - x_{2} y_{1}}{x_{1} y_{2} + x_{3} \\left(x_{2} y_{2} + y_{1}\\right) + y_{1} + y_{3} \\left(- x_{1} + x_{2}\\right) - \\left(- x_{2} - 1\\right) \\left(- x_{3} y_{2} - y_{1}\\right)}\\\\\\frac{y_{2} - y_{3}}{x_{1} y_{2} + x_{3} \\left(x_{2} y_{2} + y_{1}\\right) + y_{1} + y_{3} \\left(- x_{1} + x_{2}\\right) - \\left(- x_{2} - 1\\right) \\left(- x_{3} y_{2} - y_{1}\\right)} & \\frac{- y_{1} + y_{3}}{x_{1} y_{2} + x_{3} \\left(x_{2} y_{2} + y_{1}\\right) + y_{1} + y_{3} \\left(- x_{1} + x_{2}\\right) - \\left(- x_{2} - 1\\right) \\left(- x_{3} y_{2} - y_{1}\\right)} & \\frac{y_{1} - y_{2}}{x_{1} y_{2} + x_{3} \\left(x_{2} y_{2} + y_{1}\\right) + y_{1} + y_{3} \\left(- x_{1} + x_{2}\\right) - \\left(- x_{2} - 1\\right) \\left(- x_{3} y_{2} - y_{1}\\right)}\\\\\\frac{- x_{2} + x_{3}}{x_{1} y_{2} + x_{3} \\left(x_{2} y_{2} + y_{1}\\right) + y_{1} + y_{3} \\left(- x_{1} + x_{2}\\right) - \\left(- x_{2} - 1\\right) \\left(- x_{3} y_{2} - y_{1}\\right)} & \\frac{x_{1} - x_{3}}{x_{1} y_{2} + x_{3} \\left(x_{2} y_{2} + y_{1}\\right) + y_{1} + y_{3} \\left(- x_{1} + x_{2}\\right) - \\left(- x_{2} - 1\\right) \\left(- x_{3} y_{2} - y_{1}\\right)} & \\frac{- x_{1} + x_{2}}{x_{1} y_{2} + x_{3} \\left(x_{2} y_{2} + y_{1}\\right) + y_{1} + y_{3} \\left(- x_{1} + x_{2}\\right) - \\left(- x_{2} - 1\\right) \\left(- x_{3} y_{2} - y_{1}\\right)}\\end{matrix}\\right]$$"
      ],
      "text/plain": [
       "⎡                            x₂⋅y₃ - x₃⋅y₂                                    \n",
       "⎢──────────────────────────────────────────────────────────────────────  ─────\n",
       "⎢x₁⋅y₂ + x₃⋅(x₂⋅y₂ + y₁) + y₁ + y₃⋅(-x₁ + x₂) - (-x₂ - 1)⋅(-x₃⋅y₂ - y₁)  x₁⋅y₂\n",
       "⎢                                                                             \n",
       "⎢                               y₂ - y₃                                       \n",
       "⎢──────────────────────────────────────────────────────────────────────  ─────\n",
       "⎢x₁⋅y₂ + x₃⋅(x₂⋅y₂ + y₁) + y₁ + y₃⋅(-x₁ + x₂) - (-x₂ - 1)⋅(-x₃⋅y₂ - y₁)  x₁⋅y₂\n",
       "⎢                                                                             \n",
       "⎢                               -x₂ + x₃                                      \n",
       "⎢──────────────────────────────────────────────────────────────────────  ─────\n",
       "⎣x₁⋅y₂ + x₃⋅(x₂⋅y₂ + y₁) + y₁ + y₃⋅(-x₁ + x₂) - (-x₂ - 1)⋅(-x₃⋅y₂ - y₁)  x₁⋅y₂\n",
       "\n",
       "                       -x₁⋅y₃ + x₃⋅y₁                                         \n",
       "─────────────────────────────────────────────────────────────────  ───────────\n",
       " + x₃⋅(x₂⋅y₂ + y₁) + y₁ + y₃⋅(-x₁ + x₂) - (-x₂ - 1)⋅(-x₃⋅y₂ - y₁)  x₁⋅y₂ + x₃⋅\n",
       "                                                                              \n",
       "                          -y₁ + y₃                                            \n",
       "─────────────────────────────────────────────────────────────────  ───────────\n",
       " + x₃⋅(x₂⋅y₂ + y₁) + y₁ + y₃⋅(-x₁ + x₂) - (-x₂ - 1)⋅(-x₃⋅y₂ - y₁)  x₁⋅y₂ + x₃⋅\n",
       "                                                                              \n",
       "                          x₁ - x₃                                             \n",
       "─────────────────────────────────────────────────────────────────  ───────────\n",
       " + x₃⋅(x₂⋅y₂ + y₁) + y₁ + y₃⋅(-x₁ + x₂) - (-x₂ - 1)⋅(-x₃⋅y₂ - y₁)  x₁⋅y₂ + x₃⋅\n",
       "\n",
       "                 x₁⋅y₂ - x₂⋅y₁                             ⎤\n",
       "───────────────────────────────────────────────────────────⎥\n",
       "(x₂⋅y₂ + y₁) + y₁ + y₃⋅(-x₁ + x₂) - (-x₂ - 1)⋅(-x₃⋅y₂ - y₁)⎥\n",
       "                                                           ⎥\n",
       "                    y₁ - y₂                                ⎥\n",
       "───────────────────────────────────────────────────────────⎥\n",
       "(x₂⋅y₂ + y₁) + y₁ + y₃⋅(-x₁ + x₂) - (-x₂ - 1)⋅(-x₃⋅y₂ - y₁)⎥\n",
       "                                                           ⎥\n",
       "                    -x₁ + x₂                               ⎥\n",
       "───────────────────────────────────────────────────────────⎥\n",
       "(x₂⋅y₂ + y₁) + y₁ + y₃⋅(-x₁ + x₂) - (-x₂ - 1)⋅(-x₃⋅y₂ - y₁)⎦"
      ]
     },
     "execution_count": 5,
     "metadata": {},
     "output_type": "execute_result"
    }
   ],
   "source": [
    "matM.inverse_ADJ()"
   ]
  },
  {
   "cell_type": "markdown",
   "metadata": {
    "nbpresent": {
     "id": "93eab622-5673-4585-8f49-2cd39ee188a0"
    },
    "slideshow": {
     "slide_type": "slide"
    }
   },
   "source": [
    "La función _adjugate_ obtiene la matriz de adjuntos traspuesta. "
   ]
  },
  {
   "cell_type": "code",
   "execution_count": 6,
   "metadata": {
    "nbpresent": {
     "id": "29afc9fe-03a5-4cf5-9f8d-a8b23cdd2d0e"
    },
    "slideshow": {
     "slide_type": "-"
    }
   },
   "outputs": [
    {
     "data": {
      "image/png": "[encoded data removed]",
      "text/latex": [
       "$$\\left[\\begin{matrix}x_{2} y_{3} - x_{3} y_{2} & - x_{1} y_{3} + x_{3} y_{1} & x_{1} y_{2} - x_{2} y_{1}\\\\y_{2} - y_{3} & - y_{1} + y_{3} & y_{1} - y_{2}\\\\- x_{2} + x_{3} & x_{1} - x_{3} & - x_{1} + x_{2}\\end{matrix}\\right]$$"
      ],
      "text/plain": [
       "⎡x₂⋅y₃ - x₃⋅y₂  -x₁⋅y₃ + x₃⋅y₁  x₁⋅y₂ - x₂⋅y₁⎤\n",
       "⎢                                            ⎥\n",
       "⎢   y₂ - y₃        -y₁ + y₃        y₁ - y₂   ⎥\n",
       "⎢                                            ⎥\n",
       "⎣  -x₂ + x₃        x₁ - x₃        -x₁ + x₂   ⎦"
      ]
     },
     "execution_count": 6,
     "metadata": {},
     "output_type": "execute_result"
    }
   ],
   "source": [
    "matM.adjugate()"
   ]
  },
  {
   "cell_type": "markdown",
   "metadata": {
    "nbpresent": {
     "id": "ad95e55f-7d67-4ccc-9d65-c1823345463b"
    },
    "slideshow": {
     "slide_type": "-"
    }
   },
   "source": [
    "Observe que en la expresión de la inversa aparece un denominador comun"
   ]
  },
  {
   "cell_type": "code",
   "execution_count": 7,
   "metadata": {
    "nbpresent": {
     "id": "e77df9bf-f721-4b80-a170-7f280f5a6a0c"
    },
    "slideshow": {
     "slide_type": "slide"
    }
   },
   "outputs": [
    {
     "data": {
      "image/png": "[encoded data removed]",
      "text/latex": [
       "$$x_{1} y_{2} + x_{3} \\left(x_{2} y_{2} + y_{1}\\right) + y_{1} + y_{3} \\left(- x_{1} + x_{2}\\right) - \\left(- x_{2} - 1\\right) \\left(- x_{3} y_{2} - y_{1}\\right)$$"
      ],
      "text/plain": [
       "x₁⋅y₂ + x₃⋅(x₂⋅y₂ + y₁) + y₁ + y₃⋅(-x₁ + x₂) - (-x₂ - 1)⋅(-x₃⋅y₂ - y₁)"
      ]
     },
     "execution_count": 7,
     "metadata": {},
     "output_type": "execute_result"
    }
   ],
   "source": [
    "denominador = matM.adjugate()[0,0]/matM.inverse_ADJ()[0,0]\n",
    "denominador "
   ]
  },
  {
   "cell_type": "markdown",
   "metadata": {
    "nbpresent": {
     "id": "df7e7740-3203-49aa-9004-888cca9bc843"
    },
    "slideshow": {
     "slide_type": "slide"
    }
   },
   "source": [
    "Simplificando"
   ]
  },
  {
   "cell_type": "code",
   "execution_count": 8,
   "metadata": {
    "nbpresent": {
     "id": "72869c8b-6fe0-40ad-864c-571b97a06250"
    },
    "slideshow": {
     "slide_type": "-"
    }
   },
   "outputs": [
    {
     "data": {
      "image/png": "[encoded data removed]",
      "text/latex": [
       "$$x_{1} y_{2} - x_{1} y_{3} - x_{2} y_{1} + x_{2} y_{3} + x_{3} y_{1} - x_{3} y_{2}$$"
      ],
      "text/plain": [
       "x₁⋅y₂ - x₁⋅y₃ - x₂⋅y₁ + x₂⋅y₃ + x₃⋅y₁ - x₃⋅y₂"
      ]
     },
     "execution_count": 8,
     "metadata": {},
     "output_type": "execute_result"
    }
   ],
   "source": [
    "denominador.simplify()"
   ]
  },
  {
   "cell_type": "markdown",
   "metadata": {
    "nbpresent": {
     "id": "cd2917c1-1cfd-4662-8ee9-3976449ac789"
    },
    "slideshow": {
     "slide_type": "-"
    }
   },
   "source": [
    "Que coincide con el determinante de la matriz $\\mathbf{M}$"
   ]
  },
  {
   "cell_type": "code",
   "execution_count": 9,
   "metadata": {
    "nbpresent": {
     "id": "36f1abab-0a55-46c6-bd52-327a2a861cd2"
    },
    "slideshow": {
     "slide_type": "-"
    }
   },
   "outputs": [
    {
     "data": {
      "image/png": "[encoded data removed]",
      "text/latex": [
       "$$x_{1} y_{2} - x_{1} y_{3} - x_{2} y_{1} + x_{2} y_{3} + x_{3} y_{1} - x_{3} y_{2}$$"
      ],
      "text/plain": [
       "x₁⋅y₂ - x₁⋅y₃ - x₂⋅y₁ + x₂⋅y₃ + x₃⋅y₁ - x₃⋅y₂"
      ]
     },
     "execution_count": 9,
     "metadata": {},
     "output_type": "execute_result"
    }
   ],
   "source": [
    "matM.det()"
   ]
  },
  {
   "cell_type": "markdown",
   "metadata": {
    "nbpresent": {
     "id": "6dccd6b8-4002-440e-b711-ef4ac275c1c6"
    },
    "slideshow": {
     "slide_type": "slide"
    }
   },
   "source": [
    "Si se elige la numeración tal que los nodos 1-2-3 se recorren en sentido contrario a las agujas del reloj, puede demostrarse que el anterior producto coincide con módulo del producto vectorial de los vectores 1-2 y 1-3. \n",
    "\n",
    "En efecto. \n",
    "\n",
    "El vector $\\mathbf{e_1}$, de $(x1,y1)$ a $(x_2,y2)$ es $\\mathbf{e_1} = [x_2-x_1,y_2-y_1]^T$.\n",
    "\n",
    "El vector $\\mathbf{e_2}$, de $(x1,y1)$ a $(x_3,y3)$ es $\\mathbf{e_2} = [x_3-x_1,y_3-y_1]^T$.\n",
    "\n",
    "El producto vectorial de ambos vectores será un vector orientado en la dirección del eje $z$ positivo. La componente $z$ será positivo, porque se ha elegido según la orientación 1-2-3 con recorrido contrario a las agujas del reloj. \n",
    "\n",
    "El módulo del producto vectorial coincidirá por tanto con la componente z. \n",
    "\n",
    "Además, el módulo de este producto vectorial coincide con el área del paralelogramo formado por los dos vectores. Y a su vez, será el doble de área del triángulo formado por los puntos 1-2-3. \n"
   ]
  },
  {
   "cell_type": "code",
   "execution_count": 10,
   "metadata": {
    "nbpresent": {
     "id": "f41e47fa-2c9c-4147-b3a7-a571750642ed"
    },
    "slideshow": {
     "slide_type": "-"
    }
   },
   "outputs": [
    {
     "data": {
      "image/png": "[encoded data removed]",
      "text/latex": [
       "$$\\left[\\begin{matrix}i & j & k\\\\- x_{1} + x_{2} & - y_{1} + y_{2} & 0\\\\- x_{1} + x_{3} & - y_{1} + y_{3} & 0\\end{matrix}\\right]$$"
      ],
      "text/plain": [
       "⎡   i         j      k⎤\n",
       "⎢                     ⎥\n",
       "⎢-x₁ + x₂  -y₁ + y₂  0⎥\n",
       "⎢                     ⎥\n",
       "⎣-x₁ + x₃  -y₁ + y₃  0⎦"
      ]
     },
     "execution_count": 10,
     "metadata": {},
     "output_type": "execute_result"
    }
   ],
   "source": [
    "i,j,k = symbols('i j k')\n",
    "prodvect = Matrix([[i,j,k], [x2-x1,y2-y1,0],[x3-x1,y3-y1,0]])\n",
    "prodvect"
   ]
  },
  {
   "cell_type": "code",
   "execution_count": 11,
   "metadata": {
    "nbpresent": {
     "id": "efc85cc5-7661-4995-9dc0-997539c9d224"
    },
    "slideshow": {
     "slide_type": "slide"
    }
   },
   "outputs": [
    {
     "data": {
      "image/png": "[encoded data removed]",
      "text/latex": [
       "$$x_{1} y_{2} - x_{1} y_{3} - x_{2} y_{1} + x_{2} y_{3} + x_{3} y_{1} - x_{3} y_{2}$$"
      ],
      "text/plain": [
       "x₁⋅y₂ - x₁⋅y₃ - x₂⋅y₁ + x₂⋅y₃ + x₃⋅y₁ - x₃⋅y₂"
      ]
     },
     "execution_count": 11,
     "metadata": {},
     "output_type": "execute_result"
    }
   ],
   "source": [
    "(prodvect.det()/k).simplify()"
   ]
  },
  {
   "cell_type": "raw",
   "metadata": {
    "nbpresent": {
     "id": "229baf68-b84e-4c4e-b4c0-e849d2f987aa"
    },
    "slideshow": {
     "slide_type": "slide"
    }
   },
   "source": [
    "Por tanto, la inversa puede escribirse a partir del área del triángulo , como: "
   ]
  },
  {
   "cell_type": "code",
   "execution_count": 12,
   "metadata": {
    "nbpresent": {
     "id": "7fc26bf3-2ffd-49e5-a1d5-518d835ec0c2"
    },
    "slideshow": {
     "slide_type": "-"
    }
   },
   "outputs": [
    {
     "data": {
      "image/png": "[encoded data removed]",
      "text/latex": [
       "$$\\left[\\begin{matrix}\\frac{1}{2 A} \\left(x_{2} y_{3} - x_{3} y_{2}\\right) & \\frac{1}{2 A} \\left(- x_{1} y_{3} + x_{3} y_{1}\\right) & \\frac{1}{2 A} \\left(x_{1} y_{2} - x_{2} y_{1}\\right)\\\\\\frac{y_{2} - y_{3}}{2 A} & \\frac{- y_{1} + y_{3}}{2 A} & \\frac{y_{1} - y_{2}}{2 A}\\\\\\frac{- x_{2} + x_{3}}{2 A} & \\frac{x_{1} - x_{3}}{2 A} & \\frac{- x_{1} + x_{2}}{2 A}\\end{matrix}\\right]$$"
      ],
      "text/plain": [
       "⎡x₂⋅y₃ - x₃⋅y₂  -x₁⋅y₃ + x₃⋅y₁  x₁⋅y₂ - x₂⋅y₁⎤\n",
       "⎢─────────────  ──────────────  ─────────────⎥\n",
       "⎢     2⋅A            2⋅A             2⋅A     ⎥\n",
       "⎢                                            ⎥\n",
       "⎢   y₂ - y₃        -y₁ + y₃        y₁ - y₂   ⎥\n",
       "⎢   ───────        ────────        ───────   ⎥\n",
       "⎢     2⋅A            2⋅A             2⋅A     ⎥\n",
       "⎢                                            ⎥\n",
       "⎢  -x₂ + x₃        x₁ - x₃        -x₁ + x₂   ⎥\n",
       "⎢  ────────        ───────        ────────   ⎥\n",
       "⎣    2⋅A             2⋅A            2⋅A      ⎦"
      ]
     },
     "execution_count": 12,
     "metadata": {},
     "output_type": "execute_result"
    }
   ],
   "source": [
    "A = symbols('A')\n",
    "Inversa = 1/(2*A) * matM.adjugate()\n",
    "Inversa"
   ]
  },
  {
   "cell_type": "markdown",
   "metadata": {
    "nbpresent": {
     "id": "64d50bb8-1555-4071-85fa-9ac830b67214"
    },
    "slideshow": {
     "slide_type": "slide"
    }
   },
   "source": [
    "La expresión de las funciones de forma es, "
   ]
  },
  {
   "cell_type": "code",
   "execution_count": 13,
   "metadata": {
    "collapsed": true,
    "nbpresent": {
     "id": "07476ba3-3ab7-4a0b-bc8f-11bf388c8816"
    },
    "slideshow": {
     "slide_type": "-"
    }
   },
   "outputs": [],
   "source": [
    "Inv_matM = Inversa\n",
    "N1 = base.dot(Inv_matM.col(0))\n",
    "N2 = base.dot(Inv_matM.col(1))\n",
    "N3 = base.dot(Inv_matM.col(2))\n",
    "N1 = N1.simplify()\n",
    "N2 = N2.simplify()\n",
    "N3 = N3.simplify()"
   ]
  },
  {
   "cell_type": "code",
   "execution_count": 14,
   "metadata": {
    "nbpresent": {
     "id": "70c6c67d-396b-4fdb-9b57-495e4fcab4a8"
    },
    "slideshow": {
     "slide_type": "-"
    }
   },
   "outputs": [
    {
     "data": {
      "image/png": "[encoded data removed]",
      "text/latex": [
       "$$\\frac{1}{2 A} \\left(x \\left(y_{2} - y_{3}\\right) + x_{2} y_{3} - x_{3} y_{2} - y \\left(x_{2} - x_{3}\\right)\\right)$$"
      ],
      "text/plain": [
       "x⋅(y₂ - y₃) + x₂⋅y₃ - x₃⋅y₂ - y⋅(x₂ - x₃)\n",
       "─────────────────────────────────────────\n",
       "                   2⋅A                   "
      ]
     },
     "execution_count": 14,
     "metadata": {},
     "output_type": "execute_result"
    }
   ],
   "source": [
    "N1"
   ]
  },
  {
   "cell_type": "code",
   "execution_count": 15,
   "metadata": {
    "nbpresent": {
     "id": "71a0fe4f-b81a-4cc5-8733-e7aad7a50c77"
    },
    "slideshow": {
     "slide_type": "-"
    }
   },
   "outputs": [
    {
     "data": {
      "image/png": "[encoded data removed]",
      "text/latex": [
       "$$\\frac{1}{2 A} \\left(- x \\left(y_{1} - y_{3}\\right) - x_{1} y_{3} + x_{3} y_{1} + y \\left(x_{1} - x_{3}\\right)\\right)$$"
      ],
      "text/plain": [
       "-x⋅(y₁ - y₃) - x₁⋅y₃ + x₃⋅y₁ + y⋅(x₁ - x₃)\n",
       "──────────────────────────────────────────\n",
       "                   2⋅A                    "
      ]
     },
     "execution_count": 15,
     "metadata": {},
     "output_type": "execute_result"
    }
   ],
   "source": [
    "N2"
   ]
  },
  {
   "cell_type": "code",
   "execution_count": 16,
   "metadata": {
    "nbpresent": {
     "id": "4b73ca12-7102-4910-84cf-dd285bfaa65d"
    },
    "slideshow": {
     "slide_type": "-"
    }
   },
   "outputs": [
    {
     "data": {
      "image/png": "[encoded data removed]",
      "text/latex": [
       "$$\\frac{1}{2 A} \\left(x \\left(y_{1} - y_{2}\\right) + x_{1} y_{2} - x_{2} y_{1} - y \\left(x_{1} - x_{2}\\right)\\right)$$"
      ],
      "text/plain": [
       "x⋅(y₁ - y₂) + x₁⋅y₂ - x₂⋅y₁ - y⋅(x₁ - x₂)\n",
       "─────────────────────────────────────────\n",
       "                   2⋅A                   "
      ]
     },
     "execution_count": 16,
     "metadata": {},
     "output_type": "execute_result"
    }
   ],
   "source": [
    "N3"
   ]
  },
  {
   "cell_type": "markdown",
   "metadata": {
    "nbpresent": {
     "id": "10df3901-0dac-4161-924f-91596e2eab5e"
    },
    "slideshow": {
     "slide_type": "-"
    }
   },
   "source": [
    "Nótese que para que esta expresión pueda aplicarse, interpretándose $A$ como el área del triángulo con símbolo positivo, la orientación del triángulo ha de ser positiva, es decir, los puntos 1-2-3 deben orientarse en sentido antihorario. "
   ]
  },
  {
   "cell_type": "markdown",
   "metadata": {
    "nbpresent": {
     "id": "660bee45-7079-4ec5-868c-6d67dbb1ff19"
    },
    "slideshow": {
     "slide_type": "slide"
    }
   },
   "source": [
    "## Expresión del vector de deformaciones. \n",
    "\n",
    "El vector de deformaciones se expresa mediante el siguiente producto: \n",
    "\n",
    "\\begin{equation}\n",
    "\\boldsymbol{\\varepsilon} = \\begin{pmatrix} \\varepsilon_{nx} \\\\ \\varepsilon_{ny} \\\\ \\gamma_{xy} \\end{pmatrix}\n",
    "\\end{equation}\n",
    "\n",
    "Y en función de las funciones de forma: \n",
    "\n",
    "\\begin{equation}\n",
    "\\boldsymbol{\\varepsilon} = \\left[ \n",
    "\\begin{matrix}\n",
    "\\dfrac{\\partial N_1}{\\partial x} & 0 & \\dfrac{\\partial N_2}{\\partial x} & 0 & \\dfrac{\\partial N_3}{\\partial x} & 0 \\\\\n",
    "0 & \\dfrac{\\partial N_1}{\\partial x} & 0 & \\dfrac{\\partial N_2}{\\partial x} & 0 & \\dfrac{\\partial N_3}{\\partial x} \\\\\n",
    "\\dfrac{\\partial N_1}{\\partial y} & \\dfrac{\\partial N_1}{\\partial x} & \\dfrac{\\partial N_2}{\\partial y} & \\dfrac{\\partial N_2}{\\partial x} & \\dfrac{\\partial N_3}{\\partial y} & \\dfrac{\\partial N_3}{\\partial x}\n",
    "\\end{matrix} \\right] \\cdot\n",
    "\\begin{pmatrix} u_1 \\\\ v_1 \\\\ u_2 \\\\ v_2 \\\\ u_3 \\\\ v_3 \\end{pmatrix}\n",
    "\\end{equation}\n",
    "\n",
    "Relación que puede escribirse como: $\\boldsymbol{\\varepsilon} = \\mathbf{B} \\cdot \\mathbf{a}$.\n",
    "\n",
    "La matriz $\\mathbf{B}$ en este contexto se denomina _matriz de deformación_.\n"
   ]
  },
  {
   "cell_type": "code",
   "execution_count": 17,
   "metadata": {
    "nbpresent": {
     "id": "8b02ec30-af37-4bb3-9cc7-3c9c79ead397"
    },
    "slideshow": {
     "slide_type": "slide"
    }
   },
   "outputs": [
    {
     "data": {
      "image/png": "[encoded data removed]",
      "text/latex": [
       "$$\\left[\\begin{matrix}\\frac{y_{2} - y_{3}}{2 A} & 0 & \\frac{- y_{1} + y_{3}}{2 A} & 0 & \\frac{y_{1} - y_{2}}{2 A} & 0\\\\0 & \\frac{- x_{2} + x_{3}}{2 A} & 0 & \\frac{x_{1} - x_{3}}{2 A} & 0 & \\frac{- x_{1} + x_{2}}{2 A}\\\\\\frac{- x_{2} + x_{3}}{2 A} & \\frac{y_{2} - y_{3}}{2 A} & \\frac{x_{1} - x_{3}}{2 A} & \\frac{- y_{1} + y_{3}}{2 A} & \\frac{- x_{1} + x_{2}}{2 A} & \\frac{y_{1} - y_{2}}{2 A}\\end{matrix}\\right]$$"
      ],
      "text/plain": [
       "⎡y₂ - y₃             -y₁ + y₃            y₁ - y₂           ⎤\n",
       "⎢───────      0      ────────     0      ───────      0    ⎥\n",
       "⎢  2⋅A                 2⋅A                 2⋅A             ⎥\n",
       "⎢                                                          ⎥\n",
       "⎢          -x₂ + x₃            x₁ - x₃             -x₁ + x₂⎥\n",
       "⎢   0      ────────     0      ───────      0      ────────⎥\n",
       "⎢            2⋅A                 2⋅A                 2⋅A   ⎥\n",
       "⎢                                                          ⎥\n",
       "⎢-x₂ + x₃  y₂ - y₃   x₁ - x₃   -y₁ + y₃  -x₁ + x₂  y₁ - y₂ ⎥\n",
       "⎢────────  ───────   ───────   ────────  ────────  ─────── ⎥\n",
       "⎣  2⋅A       2⋅A       2⋅A       2⋅A       2⋅A       2⋅A   ⎦"
      ]
     },
     "execution_count": 17,
     "metadata": {},
     "output_type": "execute_result"
    }
   ],
   "source": [
    "Nu = Matrix([[N1, 0, N2, 0, N3, 0]])\n",
    "Nv = Matrix([[0, N1, 0, N2, 0, N3]])\n",
    "B = Matrix.vstack(Nu.diff(x),Nv.diff(y),Nu.diff(y)+Nv.diff(x))\n",
    "B"
   ]
  },
  {
   "cell_type": "markdown",
   "metadata": {
    "nbpresent": {
     "id": "1ea26948-7b51-4a5e-8d94-a424bd4ba59b"
    },
    "slideshow": {
     "slide_type": "slide"
    }
   },
   "source": [
    "Esta matriz puede escribirse en función de seis constantes, $b_1,c_1,b_2,c_2,b_3,c_3$, como \n",
    "\n",
    "\\begin{equation}\n",
    "\\mathbf{B} = \\dfrac{1}{2\\,A}\n",
    "\\left[\n",
    "\\begin{matrix}\n",
    "b_1 & 0 & b_2 & 0 & b_3 & 0 \\\\\n",
    "0 & c_1 & 0 & c_2 & 0 & c_3 \\\\\n",
    "c_1 & b_1 & c_2 & b_2 & c_3 & b_3\n",
    "\\end{matrix}\n",
    "\\right] = \n",
    "\\left[\n",
    "\\begin{matrix}\n",
    "\\mathbf{B_1} & \\mathbf{B_2} & \\mathbf{B_3}\n",
    "\\end{matrix}\n",
    "\\right]\n",
    "\\end{equation}\n",
    "\n",
    "con $\\mathbf{B_i} =\\dfrac{1}{2\\,A}\\, \\left[ \\begin{matrix} b_i & 0 \\\\ 0 & c_i \\\\ c_i & b_i  \\end{matrix} \\right]$\n",
    "\n",
    "siendo,\n",
    "\n",
    "\\begin{align}\n",
    "b_1 & = y_2 - y_3 \\\\\n",
    "b_2 & = y_3 - y_1 \\\\\n",
    "b_3 & = y_1 - y_2 \\\\\n",
    "c_1 & = x_3 - x_2 \\\\\n",
    "c_2 & = x_1 - x_3 \\\\\n",
    "c_3 & = x_2 - x_1\n",
    "\\end{align}"
   ]
  },
  {
   "cell_type": "code",
   "execution_count": 18,
   "metadata": {
    "nbpresent": {
     "id": "96048ad5-dad1-48aa-af8b-032eb08adea4"
    },
    "slideshow": {
     "slide_type": "slide"
    }
   },
   "outputs": [
    {
     "data": {
      "image/png": "[encoded data removed]",
      "text/latex": [
       "$$\\left[\\begin{matrix}\\frac{b_{1}}{2 A} & 0 & \\frac{b_{2}}{2 A} & 0 & \\frac{b_{3}}{2 A} & 0\\\\0 & \\frac{c_{1}}{2 A} & 0 & \\frac{c_{2}}{2 A} & 0 & \\frac{c_{3}}{2 A}\\\\\\frac{c_{1}}{2 A} & \\frac{b_{1}}{2 A} & \\frac{c_{2}}{2 A} & \\frac{b_{2}}{2 A} & \\frac{c_{3}}{2 A} & \\frac{b_{3}}{2 A}\\end{matrix}\\right]$$"
      ],
      "text/plain": [
       "⎡ b₁        b₂        b₃     ⎤\n",
       "⎢───   0   ───   0   ───   0 ⎥\n",
       "⎢2⋅A       2⋅A       2⋅A     ⎥\n",
       "⎢                            ⎥\n",
       "⎢      c₁        c₂        c₃⎥\n",
       "⎢ 0   ───   0   ───   0   ───⎥\n",
       "⎢     2⋅A       2⋅A       2⋅A⎥\n",
       "⎢                            ⎥\n",
       "⎢ c₁   b₁   c₂   b₂   c₃   b₃⎥\n",
       "⎢───  ───  ───  ───  ───  ───⎥\n",
       "⎣2⋅A  2⋅A  2⋅A  2⋅A  2⋅A  2⋅A⎦"
      ]
     },
     "execution_count": 18,
     "metadata": {},
     "output_type": "execute_result"
    }
   ],
   "source": [
    "b1,b2,b3,c1,c2,c3 = symbols('b1 b2 b3 c1 c2 c3')\n",
    "B = Matrix([[b1,0,b2,0,b3,0],\n",
    "            [0,c1,0,c2,0,c3],\n",
    "            [c1,b1,c2,b2,c3,b3]])\n",
    "B = B / (2*A)\n",
    "B"
   ]
  },
  {
   "cell_type": "markdown",
   "metadata": {
    "nbpresent": {
     "id": "40a9f743-579b-4347-a8d8-2b1bf263d2c3"
    },
    "slideshow": {
     "slide_type": "slide"
    }
   },
   "source": [
    "## Tensor de constantes elásticas\n",
    "Para elasticidad isótropa, la matriz $\\mathbf{D}$ sólo depende de tres coeficientes. "
   ]
  },
  {
   "cell_type": "code",
   "execution_count": 19,
   "metadata": {
    "nbpresent": {
     "id": "7535e185-d9e2-4293-b61f-3727ebe924b3"
    },
    "slideshow": {
     "slide_type": "-"
    }
   },
   "outputs": [
    {
     "data": {
      "image/png": "[encoded data removed]",
      "text/latex": [
       "$$\\left[\\begin{matrix}d_{11} & d_{12} & 0\\\\d_{12} & d_{11} & 0\\\\0 & 0 & d_{33}\\end{matrix}\\right]$$"
      ],
      "text/plain": [
       "⎡d₁₁  d₁₂   0 ⎤\n",
       "⎢             ⎥\n",
       "⎢d₁₂  d₁₁   0 ⎥\n",
       "⎢             ⎥\n",
       "⎣ 0    0   d₃₃⎦"
      ]
     },
     "execution_count": 19,
     "metadata": {},
     "output_type": "execute_result"
    }
   ],
   "source": [
    "d11,d12,d33 = symbols('d11 d12 d33')\n",
    "D = Matrix([[d11, d12, 0],[d12,d11,0],[0,0,d33]])\n",
    "D"
   ]
  },
  {
   "cell_type": "markdown",
   "metadata": {
    "nbpresent": {
     "id": "b2d6691f-b95f-4823-afa0-55ba8718a126"
    },
    "slideshow": {
     "slide_type": "slide"
    }
   },
   "source": [
    "## Matriz de rigidez\n",
    "\n",
    "\\begin{equation}\n",
    "\\mathbf{K} = \\int_{\\Omega} \\mathbf{B}^T \\cdot \\mathbf{D} \\cdot \\mathbf{B} \\, d \\Omega \n",
    "\\end{equation}\n",
    "\n",
    "Teniendo en cuenta que el tensor $\\mathbf{D}$ sólo contiene constantes, y que la matriz $\\mathbf{B}$ es constante dentro del elemento, la integral puede verse como la integral en el área del triángulo de una constante. Claramente, esta integral será el producto de la constante por el área del triángulo. Por tanto: \n",
    "\n",
    "\\begin{equation}\n",
    "\\mathbf{K} = \\mathbf{B}^T \\cdot \\mathbf{D} \\cdot \\mathbf{B} \\cdot A\n",
    "\\end{equation}"
   ]
  },
  {
   "cell_type": "code",
   "execution_count": 20,
   "metadata": {
    "collapsed": true,
    "nbpresent": {
     "id": "0763ccaf-e12b-48a8-9843-4a05ab63cc44"
    },
    "slideshow": {
     "slide_type": "-"
    }
   },
   "outputs": [],
   "source": [
    "krigidez = B.T.multiply(D * A).multiply(B)"
   ]
  },
  {
   "cell_type": "markdown",
   "metadata": {
    "nbpresent": {
     "id": "810eac1c-86c2-43fc-8e78-6f40f362cc9f"
    },
    "slideshow": {
     "slide_type": "slide"
    }
   },
   "source": [
    "La matriz de rigidez $\\mathbf{K}$ puede expresarse como: \n",
    "\n",
    "\\begin{equation}\n",
    "\\mathbf{K} = \\left[ \\begin{matrix}\n",
    "\\mathbf{K_{11}} & \\mathbf{K_{12}} & \\mathbf{K_{13}} \\\\\n",
    "\\mathbf{K_{21}} & \\mathbf{K_{22}} & \\mathbf{K_{23}} \\\\\n",
    "\\mathbf{K_{31}} & \\mathbf{K_{32}} & \\mathbf{K_{33}} \\end{matrix} \\right] \n",
    "\\end{equation}\n",
    "\n",
    "Con \n",
    "\n",
    "\\begin{equation}\n",
    "\\mathbf{K_{ij}} = \\mathbf{B_i}^T \\cdot \\mathbf{D} \\cdot \\mathbf{B_j} \\,A\n",
    "\\end{equation}"
   ]
  },
  {
   "cell_type": "code",
   "execution_count": 21,
   "metadata": {
    "collapsed": true,
    "nbpresent": {
     "id": "e9d2c559-66bc-4bec-87c1-02faa6607885"
    },
    "slideshow": {
     "slide_type": "slide"
    }
   },
   "outputs": [],
   "source": [
    "k11 = krigidez[0:2,0:2]\n",
    "k22 = krigidez[2:4,2:4]\n",
    "k33 = krigidez[4:6,4:6]\n",
    "k12 = krigidez[0:2,2:4]\n",
    "k13 = krigidez[0:2,4:6]\n",
    "k23 = krigidez[2:4,4:6]"
   ]
  },
  {
   "cell_type": "code",
   "execution_count": 22,
   "metadata": {
    "nbpresent": {
     "id": "24ebe345-0763-4e1e-b3a2-6fc5b23e0421"
    },
    "slideshow": {
     "slide_type": "-"
    }
   },
   "outputs": [
    {
     "data": {
      "image/png": "[encoded data removed]",
      "text/latex": [
       "$$\\left[\\begin{matrix}\\frac{b_{1}^{2} d_{11}}{4 A} + \\frac{c_{1}^{2} d_{33}}{4 A} & \\frac{b_{1} c_{1} d_{12}}{4 A} + \\frac{b_{1} c_{1} d_{33}}{4 A}\\\\\\frac{b_{1} c_{1} d_{12}}{4 A} + \\frac{b_{1} c_{1} d_{33}}{4 A} & \\frac{b_{1}^{2} d_{33}}{4 A} + \\frac{c_{1}^{2} d_{11}}{4 A}\\end{matrix}\\right]$$"
      ],
      "text/plain": [
       "⎡    2         2                             ⎤\n",
       "⎢  b₁ ⋅d₁₁   c₁ ⋅d₃₃    b₁⋅c₁⋅d₁₂   b₁⋅c₁⋅d₃₃⎥\n",
       "⎢  ─────── + ───────    ───────── + ─────────⎥\n",
       "⎢    4⋅A       4⋅A         4⋅A         4⋅A   ⎥\n",
       "⎢                                            ⎥\n",
       "⎢                           2         2      ⎥\n",
       "⎢b₁⋅c₁⋅d₁₂   b₁⋅c₁⋅d₃₃    b₁ ⋅d₃₃   c₁ ⋅d₁₁  ⎥\n",
       "⎢───────── + ─────────    ─────── + ───────  ⎥\n",
       "⎣   4⋅A         4⋅A         4⋅A       4⋅A    ⎦"
      ]
     },
     "execution_count": 22,
     "metadata": {},
     "output_type": "execute_result"
    }
   ],
   "source": [
    "k11"
   ]
  },
  {
   "cell_type": "code",
   "execution_count": 23,
   "metadata": {
    "nbpresent": {
     "id": "8a877d82-d4af-4c3d-9cd2-cf5faa631f98"
    },
    "slideshow": {
     "slide_type": "-"
    }
   },
   "outputs": [
    {
     "data": {
      "image/png": "[encoded data removed]",
      "text/latex": [
       "$$\\left[\\begin{matrix}\\frac{b_{2}^{2} d_{11}}{4 A} + \\frac{c_{2}^{2} d_{33}}{4 A} & \\frac{b_{2} c_{2} d_{12}}{4 A} + \\frac{b_{2} c_{2} d_{33}}{4 A}\\\\\\frac{b_{2} c_{2} d_{12}}{4 A} + \\frac{b_{2} c_{2} d_{33}}{4 A} & \\frac{b_{2}^{2} d_{33}}{4 A} + \\frac{c_{2}^{2} d_{11}}{4 A}\\end{matrix}\\right]$$"
      ],
      "text/plain": [
       "⎡    2         2                             ⎤\n",
       "⎢  b₂ ⋅d₁₁   c₂ ⋅d₃₃    b₂⋅c₂⋅d₁₂   b₂⋅c₂⋅d₃₃⎥\n",
       "⎢  ─────── + ───────    ───────── + ─────────⎥\n",
       "⎢    4⋅A       4⋅A         4⋅A         4⋅A   ⎥\n",
       "⎢                                            ⎥\n",
       "⎢                           2         2      ⎥\n",
       "⎢b₂⋅c₂⋅d₁₂   b₂⋅c₂⋅d₃₃    b₂ ⋅d₃₃   c₂ ⋅d₁₁  ⎥\n",
       "⎢───────── + ─────────    ─────── + ───────  ⎥\n",
       "⎣   4⋅A         4⋅A         4⋅A       4⋅A    ⎦"
      ]
     },
     "execution_count": 23,
     "metadata": {},
     "output_type": "execute_result"
    }
   ],
   "source": [
    "k22"
   ]
  },
  {
   "cell_type": "code",
   "execution_count": 24,
   "metadata": {
    "nbpresent": {
     "id": "bb39055f-9f29-4ad4-bdf6-8f682799004a"
    },
    "slideshow": {
     "slide_type": "-"
    }
   },
   "outputs": [
    {
     "data": {
      "image/png": "[encoded data removed]",
      "text/latex": [
       "$$\\left[\\begin{matrix}\\frac{b_{3}^{2} d_{11}}{4 A} + \\frac{c_{3}^{2} d_{33}}{4 A} & \\frac{b_{3} c_{3} d_{12}}{4 A} + \\frac{b_{3} c_{3} d_{33}}{4 A}\\\\\\frac{b_{3} c_{3} d_{12}}{4 A} + \\frac{b_{3} c_{3} d_{33}}{4 A} & \\frac{b_{3}^{2} d_{33}}{4 A} + \\frac{c_{3}^{2} d_{11}}{4 A}\\end{matrix}\\right]$$"
      ],
      "text/plain": [
       "⎡    2         2                             ⎤\n",
       "⎢  b₃ ⋅d₁₁   c₃ ⋅d₃₃    b₃⋅c₃⋅d₁₂   b₃⋅c₃⋅d₃₃⎥\n",
       "⎢  ─────── + ───────    ───────── + ─────────⎥\n",
       "⎢    4⋅A       4⋅A         4⋅A         4⋅A   ⎥\n",
       "⎢                                            ⎥\n",
       "⎢                           2         2      ⎥\n",
       "⎢b₃⋅c₃⋅d₁₂   b₃⋅c₃⋅d₃₃    b₃ ⋅d₃₃   c₃ ⋅d₁₁  ⎥\n",
       "⎢───────── + ─────────    ─────── + ───────  ⎥\n",
       "⎣   4⋅A         4⋅A         4⋅A       4⋅A    ⎦"
      ]
     },
     "execution_count": 24,
     "metadata": {},
     "output_type": "execute_result"
    }
   ],
   "source": [
    "k33"
   ]
  },
  {
   "cell_type": "code",
   "execution_count": 25,
   "metadata": {
    "nbpresent": {
     "id": "adf011ac-4da7-4377-9f0c-2c87b134a71c"
    },
    "slideshow": {
     "slide_type": "-"
    }
   },
   "outputs": [
    {
     "data": {
      "image/png": "[encoded data removed]",
      "text/latex": [
       "$$\\left[\\begin{matrix}\\frac{b_{1} b_{2} d_{11}}{4 A} + \\frac{c_{1} c_{2} d_{33}}{4 A} & \\frac{b_{1} c_{2} d_{12}}{4 A} + \\frac{b_{2} c_{1} d_{33}}{4 A}\\\\\\frac{b_{1} c_{2} d_{33}}{4 A} + \\frac{b_{2} c_{1} d_{12}}{4 A} & \\frac{b_{1} b_{2} d_{33}}{4 A} + \\frac{c_{1} c_{2} d_{11}}{4 A}\\end{matrix}\\right]$$"
      ],
      "text/plain": [
       "⎡b₁⋅b₂⋅d₁₁   c₁⋅c₂⋅d₃₃  b₁⋅c₂⋅d₁₂   b₂⋅c₁⋅d₃₃⎤\n",
       "⎢───────── + ─────────  ───────── + ─────────⎥\n",
       "⎢   4⋅A         4⋅A        4⋅A         4⋅A   ⎥\n",
       "⎢                                            ⎥\n",
       "⎢b₁⋅c₂⋅d₃₃   b₂⋅c₁⋅d₁₂  b₁⋅b₂⋅d₃₃   c₁⋅c₂⋅d₁₁⎥\n",
       "⎢───────── + ─────────  ───────── + ─────────⎥\n",
       "⎣   4⋅A         4⋅A        4⋅A         4⋅A   ⎦"
      ]
     },
     "execution_count": 25,
     "metadata": {},
     "output_type": "execute_result"
    }
   ],
   "source": [
    "k12"
   ]
  },
  {
   "cell_type": "code",
   "execution_count": 26,
   "metadata": {
    "nbpresent": {
     "id": "e0ec15a7-f48b-46f8-b59d-78c9cc427ab4"
    },
    "slideshow": {
     "slide_type": "-"
    }
   },
   "outputs": [
    {
     "data": {
      "image/png": "[encoded data removed]",
      "text/latex": [
       "$$\\left[\\begin{matrix}\\frac{b_{1} b_{3} d_{11}}{4 A} + \\frac{c_{1} c_{3} d_{33}}{4 A} & \\frac{b_{1} c_{3} d_{12}}{4 A} + \\frac{b_{3} c_{1} d_{33}}{4 A}\\\\\\frac{b_{1} c_{3} d_{33}}{4 A} + \\frac{b_{3} c_{1} d_{12}}{4 A} & \\frac{b_{1} b_{3} d_{33}}{4 A} + \\frac{c_{1} c_{3} d_{11}}{4 A}\\end{matrix}\\right]$$"
      ],
      "text/plain": [
       "⎡b₁⋅b₃⋅d₁₁   c₁⋅c₃⋅d₃₃  b₁⋅c₃⋅d₁₂   b₃⋅c₁⋅d₃₃⎤\n",
       "⎢───────── + ─────────  ───────── + ─────────⎥\n",
       "⎢   4⋅A         4⋅A        4⋅A         4⋅A   ⎥\n",
       "⎢                                            ⎥\n",
       "⎢b₁⋅c₃⋅d₃₃   b₃⋅c₁⋅d₁₂  b₁⋅b₃⋅d₃₃   c₁⋅c₃⋅d₁₁⎥\n",
       "⎢───────── + ─────────  ───────── + ─────────⎥\n",
       "⎣   4⋅A         4⋅A        4⋅A         4⋅A   ⎦"
      ]
     },
     "execution_count": 26,
     "metadata": {},
     "output_type": "execute_result"
    }
   ],
   "source": [
    "k13"
   ]
  },
  {
   "cell_type": "code",
   "execution_count": 27,
   "metadata": {
    "nbpresent": {
     "id": "f62cb181-033c-42de-a5ee-b95925e1a582"
    },
    "slideshow": {
     "slide_type": "-"
    }
   },
   "outputs": [
    {
     "data": {
      "image/png": "[encoded data removed]",
      "text/latex": [
       "$$\\left[\\begin{matrix}\\frac{b_{2} b_{3} d_{11}}{4 A} + \\frac{c_{2} c_{3} d_{33}}{4 A} & \\frac{b_{2} c_{3} d_{12}}{4 A} + \\frac{b_{3} c_{2} d_{33}}{4 A}\\\\\\frac{b_{2} c_{3} d_{33}}{4 A} + \\frac{b_{3} c_{2} d_{12}}{4 A} & \\frac{b_{2} b_{3} d_{33}}{4 A} + \\frac{c_{2} c_{3} d_{11}}{4 A}\\end{matrix}\\right]$$"
      ],
      "text/plain": [
       "⎡b₂⋅b₃⋅d₁₁   c₂⋅c₃⋅d₃₃  b₂⋅c₃⋅d₁₂   b₃⋅c₂⋅d₃₃⎤\n",
       "⎢───────── + ─────────  ───────── + ─────────⎥\n",
       "⎢   4⋅A         4⋅A        4⋅A         4⋅A   ⎥\n",
       "⎢                                            ⎥\n",
       "⎢b₂⋅c₃⋅d₃₃   b₃⋅c₂⋅d₁₂  b₂⋅b₃⋅d₃₃   c₂⋅c₃⋅d₁₁⎥\n",
       "⎢───────── + ─────────  ───────── + ─────────⎥\n",
       "⎣   4⋅A         4⋅A        4⋅A         4⋅A   ⎦"
      ]
     },
     "execution_count": 27,
     "metadata": {},
     "output_type": "execute_result"
    }
   ],
   "source": [
    "k23"
   ]
  },
  {
   "cell_type": "markdown",
   "metadata": {
    "nbpresent": {
     "id": "b6481775-5f8f-42c1-a8bc-f6aea80be917"
    },
    "slideshow": {
     "slide_type": "slide"
    }
   },
   "source": [
    "Nótese que la matriz $\\mathbf{K}$ es simétrica, lo cual no implica que se de la relación $\\mathbf{K_{ij}} = \\mathbf{K_{ji}}$, pues esta relación es entre matrices, y por tanto, la relación correcta es: \n",
    "\n",
    "\\begin{equation}\n",
    "\\mathbf{K_{ij}} = \\mathbf{K_{ji}}^T\n",
    "\\end{equation}"
   ]
  },
  {
   "cell_type": "markdown",
   "metadata": {
    "nbpresent": {
     "id": "6e5aa3ec-3462-4ed2-a095-47935c03ce7d"
    },
    "slideshow": {
     "slide_type": "slide"
    }
   },
   "source": [
    "## Vector de fuerzas debido a tensiones en el contorno\n",
    "\n",
    "En la expresión del PTV las tensiones en el contorno $\\Gamma$, denominadas $\\mathbf{t}$ intervienen mediante la integral: \n",
    "\n",
    "\\begin{equation}\n",
    "\\mathbf{f}_t = \\int_{\\Gamma} \\mathbf{N}^T \\cdot \\mathbf{t} \\,d \\Gamma\n",
    "\\end{equation}\n",
    "\n",
    "Las fuerzas nodales se obtienen, por tanto, por integración en el elemento. \n",
    "\n",
    "Tras el ensamblaje, este vector sólo produce componentes no nulas cuando uno de los lados coincide con un lado cargado del sólido. "
   ]
  },
  {
   "cell_type": "markdown",
   "metadata": {
    "nbpresent": {
     "id": "fb6505ee-0e6b-4289-a6e5-5da33154e9d1"
    },
    "slideshow": {
     "slide_type": "slide"
    }
   },
   "source": [
    "Si el lado cargado es el 1-2, con un vector $\\mathbf{t} = [t_x,t_y]^T$ constante, queda: \n",
    "\n",
    "\\begin{equation}\n",
    "\\mathbf{f}_t = \\dfrac{L_{12}}{2} \\cdot \\begin{pmatrix} t_x \\\\ t_y \\\\ t_x \\\\ t_y \\\\0 \\\\ 0 \\end{pmatrix}\n",
    "\\end{equation}\n",
    "\n",
    "donde $L_{12}$ es la longitud del lado 1-2. "
   ]
  },
  {
   "cell_type": "markdown",
   "metadata": {
    "nbpresent": {
     "id": "310f5a11-c07d-4b8d-9f06-793838535324"
    },
    "slideshow": {
     "slide_type": "slide"
    }
   },
   "source": [
    "De forma análoga, si el lado cargado es el 1-3, se obtendrá: \n",
    "\n",
    "\\begin{equation}\n",
    "\\mathbf{f}_t = \\dfrac{L_{13}}{2} \\cdot \\begin{pmatrix} t_x \\\\ t_y \\\\ 0 \\\\ 0 \\\\t_x \\\\ t_y \\end{pmatrix}\n",
    "\\end{equation}\n",
    "\n",
    "Y si el lado cargado es el 2-3 se obtendrá: \n",
    "\n",
    "\\begin{equation}\n",
    "\\mathbf{f}_t = \\dfrac{L_{23}}{2} \\cdot \\begin{pmatrix} 0 \\\\ 0 \\\\ t_x \\\\ t_y  \\\\t_x \\\\ t_y \\end{pmatrix}\n",
    "\\end{equation}\n",
    "\n",
    "Puede demostrarse que, para cualquier distribución de tensiones, el elemento lineal reparte estas cargas a los dos nodos mediante la reducción del sistema de vectores deslizantes original a dos fuerzas en los nodos. Este reparto puede denominarse _isostático_ y expresa simplemente la idea básica de que las dos fuerzas equivalentes son tales que generan la misma resultante y el mismo momento que el sistema original. Bajo este punto de vista, el cálculo de las fuerzas nodales equivalentes es muy sencillo, y no requiere integración para su evaluación. "
   ]
  },
  {
   "cell_type": "markdown",
   "metadata": {
    "nbpresent": {
     "id": "92907311-6c5f-4a1c-9d5f-40b720a80356"
    },
    "slideshow": {
     "slide_type": "slide"
    }
   },
   "source": [
    "## Vector de fuerzas debido a fuerzas volumétricas. \n",
    "\n",
    "En la expresión del PTV interviene el vector de fuerzas interiores, volumétricas, $\\mathbf{b}$, generando fuerzas nodales equivalentes. Para un elemento: \n",
    "\n",
    "\\begin{equation}\n",
    "\\mathbf{f}_b = \\int_{\\Omega} \\mathbf{N}^T \\cdot \\mathbf{b} \\,d \\Gamma\n",
    "\\end{equation}\n",
    "\n",
    "La integración genera fuerzas nodales en los tres nodos: \n",
    "\n",
    "\\begin{equation}\n",
    "\\mathbf{f}_b = \\dfrac{A}{3} \\,\\begin{pmatrix} b_x \\\\b_y \\\\b_x \\\\b_y \\\\ b_x \\\\ b_y \\end{pmatrix}\n",
    "\\end{equation}\n",
    "\n",
    "Si la fuerza por unidad de volumen corresponde al peso propio, entonces $b_x = 0$ y $b_y = - \\rho \\,g$, siendo $\\rho$ la densidad volumétrica del material, y $g$ la constante gravitatoria. \n",
    "\n",
    "Por tanto, para el caso de fuerzas debidas a peso propio, se tomará: \n",
    "\n",
    "\\begin{equation}\n",
    "\\mathbf{f}_b = \\dfrac{A}{3} \\,\\begin{pmatrix} 0 \\\\ -\\rho \\,g \\\\ 0 \\\\- \\rho \\,g  \\\\ 0 \\\\ -\\rho \\,g \\end{pmatrix}\n",
    "\\end{equation}\n",
    "\n",
    "\n"
   ]
  },
  {
   "cell_type": "code",
   "execution_count": null,
   "metadata": {
    "collapsed": true,
    "nbpresent": {
     "id": "f322206f-47b5-401b-99fd-cbec92f00a9b"
    }
   },
   "outputs": [],
   "source": []
  }
 ],
 "metadata": {
  "anaconda-cloud": {},
  "kernelspec": {
   "display_name": "Python 2",
   "language": "python",
   "name": "python2"
  },
  "language_info": {
   "codemirror_mode": {
    "name": "ipython",
    "version": 2
   },
   "file_extension": ".py",
   "mimetype": "text/x-python",
   "name": "python",
   "nbconvert_exporter": "python",
   "pygments_lexer": "ipython2",
   "version": "2.7.13"
  },
  "nbpresent": {
   "slides": {
    "09005010-4c85-4b4a-8bf7-c36e3db98241": {
     "id": "09005010-4c85-4b4a-8bf7-c36e3db98241",
     "prev": "874cb524-a573-4f03-b465-9a8ce6f99d21",
     "regions": {
      "7e598455-796b-47bd-a479-b1476d23f61d": {
       "attrs": {
        "height": 0.8,
        "width": 0.8,
        "x": 0.1,
        "y": 0.1
       },
       "content": {
        "cell": "cd2917c1-1cfd-4662-8ee9-3976449ac789",
        "part": "whole"
       },
       "id": "7e598455-796b-47bd-a479-b1476d23f61d"
      }
     }
    },
    "0b4e326e-0767-437f-b7d9-67f95083782b": {
     "id": "0b4e326e-0767-437f-b7d9-67f95083782b",
     "prev": "ca4377ed-3be5-4eb3-ab3c-a4efc2b562ba",
     "regions": {
      "ea70c6ec-1661-4ca4-85c4-6ef522f1ffb4": {
       "attrs": {
        "height": 0.8,
        "width": 0.8,
        "x": 0.1,
        "y": 0.1
       },
       "content": {
        "cell": "96048ad5-dad1-48aa-af8b-032eb08adea4",
        "part": "whole"
       },
       "id": "ea70c6ec-1661-4ca4-85c4-6ef522f1ffb4"
      }
     }
    },
    "0d2b3a46-7ec8-4619-9bbf-246aa49f06fd": {
     "id": "0d2b3a46-7ec8-4619-9bbf-246aa49f06fd",
     "prev": "0b4e326e-0767-437f-b7d9-67f95083782b",
     "regions": {
      "2d0510ac-9ca3-402b-8e56-e8f43cd665ec": {
       "attrs": {
        "height": 0.8,
        "width": 0.8,
        "x": 0.1,
        "y": 0.1
       },
       "content": {
        "cell": "40a9f743-579b-4347-a8d8-2b1bf263d2c3",
        "part": "whole"
       },
       "id": "2d0510ac-9ca3-402b-8e56-e8f43cd665ec"
      }
     }
    },
    "12459802-bf5f-4132-a45c-69b40e963676": {
     "id": "12459802-bf5f-4132-a45c-69b40e963676",
     "prev": "2f339def-7d3d-413b-bbe5-f3f94eb3e691",
     "regions": {
      "dcdd0745-9a0b-44be-9075-470dfb425195": {
       "attrs": {
        "height": 0.8,
        "width": 0.8,
        "x": 0.1,
        "y": 0.1
       },
       "content": {
        "cell": "7fc26bf3-2ffd-49e5-a1d5-518d835ec0c2",
        "part": "whole"
       },
       "id": "dcdd0745-9a0b-44be-9075-470dfb425195"
      }
     }
    },
    "19efc269-9aef-40d8-af29-9cbedf62e804": {
     "id": "19efc269-9aef-40d8-af29-9cbedf62e804",
     "prev": "3a44044b-e104-48f9-a000-c05cf8432801",
     "regions": {
      "db377ad9-7f22-4b34-b629-ee7829a4f551": {
       "attrs": {
        "height": 0.8,
        "width": 0.8,
        "x": 0.1,
        "y": 0.1
       },
       "content": {
        "cell": "29afc9fe-03a5-4cf5-9f8d-a8b23cdd2d0e",
        "part": "whole"
       },
       "id": "db377ad9-7f22-4b34-b629-ee7829a4f551"
      }
     }
    },
    "1cd0d644-8b07-4cce-adfe-546c9d0aea9a": {
     "id": "1cd0d644-8b07-4cce-adfe-546c9d0aea9a",
     "prev": "53af86ee-ab3b-4b61-b857-ad9fc040c46d",
     "regions": {
      "70898653-08f2-4cac-b0cd-ae041bfe3daf": {
       "attrs": {
        "height": 0.8,
        "width": 0.8,
        "x": 0.1,
        "y": 0.1
       },
       "content": {
        "cell": "df7e7740-3203-49aa-9004-888cca9bc843",
        "part": "whole"
       },
       "id": "70898653-08f2-4cac-b0cd-ae041bfe3daf"
      }
     }
    },
    "2275f3e7-87db-481b-927a-b66be1fe5693": {
     "id": "2275f3e7-87db-481b-927a-b66be1fe5693",
     "prev": "fc5ff915-0129-4881-9995-d88660af8df0",
     "regions": {
      "31ac0a17-f3b0-4ace-a7dd-5aa1b041d51a": {
       "attrs": {
        "height": 0.8,
        "width": 0.8,
        "x": 0.1,
        "y": 0.1
       },
       "content": {
        "cell": "7b292760-41b2-4298-a131-3d7ea47f0a31",
        "part": "whole"
       },
       "id": "31ac0a17-f3b0-4ace-a7dd-5aa1b041d51a"
      }
     }
    },
    "29bdba44-18f0-4515-a4da-5b859ee62dcf": {
     "id": "29bdba44-18f0-4515-a4da-5b859ee62dcf",
     "prev": "50475d4a-315f-456c-8400-d3fef5b68007",
     "regions": {
      "6044cdde-54ba-4fbc-8ea3-267f31ec64a3": {
       "attrs": {
        "height": 0.8,
        "width": 0.8,
        "x": 0.1,
        "y": 0.1
       },
       "content": {
        "cell": "4b73ca12-7102-4910-84cf-dd285bfaa65d",
        "part": "whole"
       },
       "id": "6044cdde-54ba-4fbc-8ea3-267f31ec64a3"
      }
     }
    },
    "2ca56f3f-23ca-4eca-8e90-a89d53122327": {
     "id": "2ca56f3f-23ca-4eca-8e90-a89d53122327",
     "prev": "f940f6c1-cf7d-4d09-8c09-64f2ec489884",
     "regions": {
      "a568b79d-5a0b-4cbf-a6b4-b58eed475431": {
       "attrs": {
        "height": 0.8,
        "width": 0.8,
        "x": 0.1,
        "y": 0.1
       },
       "content": {
        "cell": "fd34555d-fc65-4373-8c88-1879c528ae50",
        "part": "whole"
       },
       "id": "a568b79d-5a0b-4cbf-a6b4-b58eed475431"
      }
     }
    },
    "2f339def-7d3d-413b-bbe5-f3f94eb3e691": {
     "id": "2f339def-7d3d-413b-bbe5-f3f94eb3e691",
     "prev": "9b1e95b6-ac37-4e45-ab43-ff3477c1bf76",
     "regions": {
      "a610844f-a1a7-4993-b290-ec73bc1cf366": {
       "attrs": {
        "height": 0.8,
        "width": 0.8,
        "x": 0.1,
        "y": 0.1
       },
       "content": {
        "cell": "229baf68-b84e-4c4e-b4c0-e849d2f987aa",
        "part": "whole"
       },
       "id": "a610844f-a1a7-4993-b290-ec73bc1cf366"
      }
     }
    },
    "30d85e34-c166-41b3-912e-c92131d3f9b8": {
     "id": "30d85e34-c166-41b3-912e-c92131d3f9b8",
     "prev": "7f282c6d-87db-4cc3-8459-45c27ed1757a",
     "regions": {
      "8a2a2fd1-e9ac-46f2-bdbc-3cf2abad5fce": {
       "attrs": {
        "height": 0.8,
        "width": 0.8,
        "x": 0.1,
        "y": 0.1
       },
       "content": {
        "cell": "e0ec15a7-f48b-46f8-b59d-78c9cc427ab4",
        "part": "whole"
       },
       "id": "8a2a2fd1-e9ac-46f2-bdbc-3cf2abad5fce"
      }
     }
    },
    "34d7107d-b99b-40a6-a34b-800c4888ec63": {
     "id": "34d7107d-b99b-40a6-a34b-800c4888ec63",
     "prev": "651d3570-13a2-42c9-87a0-d4f17300fd08",
     "regions": {
      "87b0adcb-56b1-4835-9826-57ceecf36f6a": {
       "attrs": {
        "height": 0.8,
        "width": 0.8,
        "x": 0.1,
        "y": 0.1
       },
       "content": {
        "cell": "70c6c67d-396b-4fdb-9b57-495e4fcab4a8",
        "part": "whole"
       },
       "id": "87b0adcb-56b1-4835-9826-57ceecf36f6a"
      }
     }
    },
    "3a44044b-e104-48f9-a000-c05cf8432801": {
     "id": "3a44044b-e104-48f9-a000-c05cf8432801",
     "prev": "8553b982-c76c-4046-9184-bac638fb4e60",
     "regions": {
      "6b112904-255e-4342-b051-338c1889109c": {
       "attrs": {
        "height": 0.8,
        "width": 0.8,
        "x": 0.1,
        "y": 0.1
       },
       "content": {
        "cell": "93eab622-5673-4585-8f49-2cd39ee188a0",
        "part": "whole"
       },
       "id": "6b112904-255e-4342-b051-338c1889109c"
      }
     }
    },
    "40e3466a-09e1-458e-924c-45648f19e0bc": {
     "id": "40e3466a-09e1-458e-924c-45648f19e0bc",
     "prev": "b4977794-4472-42f1-88b3-56825ea419a4",
     "regions": {
      "4244c07c-68d4-4b98-b5e6-c05040d23c77": {
       "attrs": {
        "height": 0.8,
        "width": 0.8,
        "x": 0.1,
        "y": 0.1
       },
       "content": {
        "cell": "b6481775-5f8f-42c1-a8bc-f6aea80be917",
        "part": "whole"
       },
       "id": "4244c07c-68d4-4b98-b5e6-c05040d23c77"
      }
     }
    },
    "4d0bc7f4-a0aa-4829-99e7-110289760235": {
     "id": "4d0bc7f4-a0aa-4829-99e7-110289760235",
     "prev": "19efc269-9aef-40d8-af29-9cbedf62e804",
     "regions": {
      "400ce09a-53c3-4d56-887b-a84f8e37928f": {
       "attrs": {
        "height": 0.8,
        "width": 0.8,
        "x": 0.1,
        "y": 0.1
       },
       "content": {
        "cell": "ad95e55f-7d67-4ccc-9d65-c1823345463b",
        "part": "whole"
       },
       "id": "400ce09a-53c3-4d56-887b-a84f8e37928f"
      }
     }
    },
    "4e643d75-85f7-4931-ba39-095dfad09dea": {
     "id": "4e643d75-85f7-4931-ba39-095dfad09dea",
     "prev": "e8c34b28-ab32-4d48-a935-56f210ffd9d8",
     "regions": {
      "c53d5d53-f2a5-4b22-89ab-d9aaf1a10451": {
       "attrs": {
        "height": 0.8,
        "width": 0.8,
        "x": 0.1,
        "y": 0.1
       },
       "content": {
        "cell": "92907311-6c5f-4a1c-9d5f-40b720a80356",
        "part": "whole"
       },
       "id": "c53d5d53-f2a5-4b22-89ab-d9aaf1a10451"
      }
     }
    },
    "50475d4a-315f-456c-8400-d3fef5b68007": {
     "id": "50475d4a-315f-456c-8400-d3fef5b68007",
     "prev": "34d7107d-b99b-40a6-a34b-800c4888ec63",
     "regions": {
      "3ad875c7-f57b-4d5c-8957-e0df04ca951b": {
       "attrs": {
        "height": 0.8,
        "width": 0.8,
        "x": 0.1,
        "y": 0.1
       },
       "content": {
        "cell": "71a0fe4f-b81a-4cc5-8733-e7aad7a50c77",
        "part": "whole"
       },
       "id": "3ad875c7-f57b-4d5c-8957-e0df04ca951b"
      }
     }
    },
    "53af86ee-ab3b-4b61-b857-ad9fc040c46d": {
     "id": "53af86ee-ab3b-4b61-b857-ad9fc040c46d",
     "prev": "4d0bc7f4-a0aa-4829-99e7-110289760235",
     "regions": {
      "bd0e5190-79ba-4bc2-a4c3-37434f79fbc2": {
       "attrs": {
        "height": 0.8,
        "width": 0.8,
        "x": 0.1,
        "y": 0.1
       },
       "content": {
        "cell": "e77df9bf-f721-4b80-a170-7f280f5a6a0c",
        "part": "whole"
       },
       "id": "bd0e5190-79ba-4bc2-a4c3-37434f79fbc2"
      }
     }
    },
    "651d3570-13a2-42c9-87a0-d4f17300fd08": {
     "id": "651d3570-13a2-42c9-87a0-d4f17300fd08",
     "prev": "6de1ed0f-df7a-40ff-aaab-57e13cb487b4",
     "regions": {
      "5b273127-d3eb-49da-8c73-26f250fb07ac": {
       "attrs": {
        "height": 0.8,
        "width": 0.8,
        "x": 0.1,
        "y": 0.1
       },
       "content": {
        "cell": "07476ba3-3ab7-4a0b-bc8f-11bf388c8816",
        "part": "whole"
       },
       "id": "5b273127-d3eb-49da-8c73-26f250fb07ac"
      }
     }
    },
    "6a891027-6d58-4db0-ac70-b73664066255": {
     "id": "6a891027-6d58-4db0-ac70-b73664066255",
     "prev": "f708e76b-d850-482f-8542-2ce251c843de",
     "regions": {
      "0d8a6b20-73fa-4a7f-b296-f0122bf1d706": {
       "attrs": {
        "height": 0.8,
        "width": 0.8,
        "x": 0.1,
        "y": 0.1
       },
       "content": {
        "cell": "bb39055f-9f29-4ad4-bdf6-8f682799004a",
        "part": "whole"
       },
       "id": "0d8a6b20-73fa-4a7f-b296-f0122bf1d706"
      }
     }
    },
    "6de1ed0f-df7a-40ff-aaab-57e13cb487b4": {
     "id": "6de1ed0f-df7a-40ff-aaab-57e13cb487b4",
     "prev": "12459802-bf5f-4132-a45c-69b40e963676",
     "regions": {
      "704b6a78-036c-44ba-915b-9f0545f9fa53": {
       "attrs": {
        "height": 0.8,
        "width": 0.8,
        "x": 0.1,
        "y": 0.1
       },
       "content": {
        "cell": "64d50bb8-1555-4071-85fa-9ac830b67214",
        "part": "whole"
       },
       "id": "704b6a78-036c-44ba-915b-9f0545f9fa53"
      }
     }
    },
    "721e6ed1-7864-447e-8d43-fbda57acef14": {
     "id": "721e6ed1-7864-447e-8d43-fbda57acef14",
     "prev": "4e643d75-85f7-4931-ba39-095dfad09dea",
     "regions": {
      "3a0691e8-c732-496b-afd9-bdc26b5c4ccf": {
       "attrs": {
        "height": 0.8,
        "width": 0.8,
        "x": 0.1,
        "y": 0.1
       },
       "content": {
        "cell": "f322206f-47b5-401b-99fd-cbec92f00a9b",
        "part": "whole"
       },
       "id": "3a0691e8-c732-496b-afd9-bdc26b5c4ccf"
      }
     }
    },
    "7f282c6d-87db-4cc3-8459-45c27ed1757a": {
     "id": "7f282c6d-87db-4cc3-8459-45c27ed1757a",
     "prev": "6a891027-6d58-4db0-ac70-b73664066255",
     "regions": {
      "1712e461-6b49-451f-80a9-ccf355d0e5f8": {
       "attrs": {
        "height": 0.8,
        "width": 0.8,
        "x": 0.1,
        "y": 0.1
       },
       "content": {
        "cell": "adf011ac-4da7-4377-9f0c-2c87b134a71c",
        "part": "whole"
       },
       "id": "1712e461-6b49-451f-80a9-ccf355d0e5f8"
      }
     }
    },
    "8553b982-c76c-4046-9184-bac638fb4e60": {
     "id": "8553b982-c76c-4046-9184-bac638fb4e60",
     "prev": "c1993e77-3f9b-464f-88c4-1eda7c189b21",
     "regions": {
      "d691f804-29e0-485d-962f-b5a8d003d4cb": {
       "attrs": {
        "height": 0.8,
        "width": 0.8,
        "x": 0.1,
        "y": 0.1
       },
       "content": {
        "cell": "460304fc-805a-47ab-b6ac-1d7324c93cdd",
        "part": "whole"
       },
       "id": "d691f804-29e0-485d-962f-b5a8d003d4cb"
      }
     }
    },
    "8610a078-8cd8-439a-992b-ca90f4fed19c": {
     "id": "8610a078-8cd8-439a-992b-ca90f4fed19c",
     "prev": "a261837e-ba8b-4be7-a396-e77b89204f4f",
     "regions": {
      "a8d347d3-a78d-4344-9b2c-178964c168da": {
       "attrs": {
        "height": 0.8,
        "width": 0.8,
        "x": 0.1,
        "y": 0.1
       },
       "content": {
        "cell": "f41e47fa-2c9c-4147-b3a7-a571750642ed",
        "part": "whole"
       },
       "id": "a8d347d3-a78d-4344-9b2c-178964c168da"
      }
     }
    },
    "874cb524-a573-4f03-b465-9a8ce6f99d21": {
     "id": "874cb524-a573-4f03-b465-9a8ce6f99d21",
     "prev": "1cd0d644-8b07-4cce-adfe-546c9d0aea9a",
     "regions": {
      "2a13e6fa-2dee-42df-bd5d-597810ba1981": {
       "attrs": {
        "height": 0.8,
        "width": 0.8,
        "x": 0.1,
        "y": 0.1
       },
       "content": {
        "cell": "72869c8b-6fe0-40ad-864c-571b97a06250",
        "part": "whole"
       },
       "id": "2a13e6fa-2dee-42df-bd5d-597810ba1981"
      }
     }
    },
    "883cdb13-1b4d-4973-8cbb-3a030f7091b0": {
     "id": "883cdb13-1b4d-4973-8cbb-3a030f7091b0",
     "prev": "c61b43e4-f462-44e1-9cde-7e01eb772665",
     "regions": {
      "42d4eed6-c2a2-4d20-9ff1-751cd6922807": {
       "attrs": {
        "height": 0.8,
        "width": 0.8,
        "x": 0.1,
        "y": 0.1
       },
       "content": {
        "cell": "480b4c63-a866-4a45-8f9a-10404fbf9a71",
        "part": "whole"
       },
       "id": "42d4eed6-c2a2-4d20-9ff1-751cd6922807"
      }
     }
    },
    "8d9e3227-34b4-4b58-8a97-540d8fbf6652": {
     "id": "8d9e3227-34b4-4b58-8a97-540d8fbf6652",
     "prev": "29bdba44-18f0-4515-a4da-5b859ee62dcf",
     "regions": {
      "12945661-4a20-4953-ba86-f53c25796cab": {
       "attrs": {
        "height": 0.8,
        "width": 0.8,
        "x": 0.1,
        "y": 0.1
       },
       "content": {
        "cell": "10df3901-0dac-4161-924f-91596e2eab5e",
        "part": "whole"
       },
       "id": "12945661-4a20-4953-ba86-f53c25796cab"
      }
     }
    },
    "9b1e95b6-ac37-4e45-ab43-ff3477c1bf76": {
     "id": "9b1e95b6-ac37-4e45-ab43-ff3477c1bf76",
     "prev": "8610a078-8cd8-439a-992b-ca90f4fed19c",
     "regions": {
      "be372b28-1088-44ba-a5e1-c98bac321506": {
       "attrs": {
        "height": 0.8,
        "width": 0.8,
        "x": 0.1,
        "y": 0.1
       },
       "content": {
        "cell": "efc85cc5-7661-4995-9dc0-997539c9d224",
        "part": "whole"
       },
       "id": "be372b28-1088-44ba-a5e1-c98bac321506"
      }
     }
    },
    "9b327828-3d5c-428f-a0d7-3e74713e7a63": {
     "id": "9b327828-3d5c-428f-a0d7-3e74713e7a63",
     "prev": "8d9e3227-34b4-4b58-8a97-540d8fbf6652",
     "regions": {
      "8c71b19d-4ba2-4798-b490-ee910df3d7d2": {
       "attrs": {
        "height": 0.8,
        "width": 0.8,
        "x": 0.1,
        "y": 0.1
       },
       "content": {
        "cell": "660bee45-7079-4ec5-868c-6d67dbb1ff19",
        "part": "whole"
       },
       "id": "8c71b19d-4ba2-4798-b490-ee910df3d7d2"
      }
     }
    },
    "9d7317d2-fd31-4d49-9910-8f25e50e9919": {
     "id": "9d7317d2-fd31-4d49-9910-8f25e50e9919",
     "prev": "0d2b3a46-7ec8-4619-9bbf-246aa49f06fd",
     "regions": {
      "98463385-8cb6-4d4e-ac19-2d5efa1930f6": {
       "attrs": {
        "height": 0.8,
        "width": 0.8,
        "x": 0.1,
        "y": 0.1
       },
       "content": {
        "cell": "7535e185-d9e2-4293-b61f-3727ebe924b3",
        "part": "whole"
       },
       "id": "98463385-8cb6-4d4e-ac19-2d5efa1930f6"
      }
     }
    },
    "9f7ca8cf-2b40-4cab-a459-d715955429cf": {
     "id": "9f7ca8cf-2b40-4cab-a459-d715955429cf",
     "prev": "e0cc926f-6030-4b19-b334-22f7a723bb94",
     "regions": {
      "6243cf57-60fd-4baf-96e2-90122c9aeb72": {
       "attrs": {
        "height": 0.8,
        "width": 0.8,
        "x": 0.1,
        "y": 0.1
       },
       "content": {
        "cell": "fb6505ee-0e6b-4289-a6e5-5da33154e9d1",
        "part": "whole"
       },
       "id": "6243cf57-60fd-4baf-96e2-90122c9aeb72"
      }
     }
    },
    "a261837e-ba8b-4be7-a396-e77b89204f4f": {
     "id": "a261837e-ba8b-4be7-a396-e77b89204f4f",
     "prev": "bdbab834-17dd-4416-ab2e-997c1d60839b",
     "regions": {
      "52ec6c67-289f-4cda-9b33-b2870c542055": {
       "attrs": {
        "height": 0.8,
        "width": 0.8,
        "x": 0.1,
        "y": 0.1
       },
       "content": {
        "cell": "6dccd6b8-4002-440e-b711-ef4ac275c1c6",
        "part": "whole"
       },
       "id": "52ec6c67-289f-4cda-9b33-b2870c542055"
      }
     }
    },
    "a6e75317-0966-4df2-a13a-c94445435335": {
     "id": "a6e75317-0966-4df2-a13a-c94445435335",
     "prev": "c1b6d275-dfe8-403a-a001-77eaa6adf631",
     "regions": {
      "300158cf-3f81-4d6c-b9c0-4a1c45d606c7": {
       "attrs": {
        "height": 0.8,
        "width": 0.8,
        "x": 0.1,
        "y": 0.1
       },
       "content": {
        "cell": "0763ccaf-e12b-48a8-9843-4a05ab63cc44",
        "part": "whole"
       },
       "id": "300158cf-3f81-4d6c-b9c0-4a1c45d606c7"
      }
     }
    },
    "b4977794-4472-42f1-88b3-56825ea419a4": {
     "id": "b4977794-4472-42f1-88b3-56825ea419a4",
     "prev": "30d85e34-c166-41b3-912e-c92131d3f9b8",
     "regions": {
      "3b7fbf9c-7081-476e-874b-66d470e2dbcc": {
       "attrs": {
        "height": 0.8,
        "width": 0.8,
        "x": 0.1,
        "y": 0.1
       },
       "content": {
        "cell": "f62cb181-033c-42de-a5ee-b95925e1a582",
        "part": "whole"
       },
       "id": "3b7fbf9c-7081-476e-874b-66d470e2dbcc"
      }
     }
    },
    "bdbab834-17dd-4416-ab2e-997c1d60839b": {
     "id": "bdbab834-17dd-4416-ab2e-997c1d60839b",
     "prev": "09005010-4c85-4b4a-8bf7-c36e3db98241",
     "regions": {
      "88bc1f21-e03b-4813-8574-31c3f99dd108": {
       "attrs": {
        "height": 0.8,
        "width": 0.8,
        "x": 0.1,
        "y": 0.1
       },
       "content": {
        "cell": "36f1abab-0a55-46c6-bd52-327a2a861cd2",
        "part": "whole"
       },
       "id": "88bc1f21-e03b-4813-8574-31c3f99dd108"
      }
     }
    },
    "bf2bcddc-4cdf-4f49-83ae-f487350d9ff4": {
     "id": "bf2bcddc-4cdf-4f49-83ae-f487350d9ff4",
     "prev": "dc0fd8a2-b57a-469f-9cb5-494f548d6312",
     "regions": {
      "d970727c-7a32-4f99-888b-0304a3618c72": {
       "attrs": {
        "height": 0.8,
        "width": 0.8,
        "x": 0.1,
        "y": 0.1
       },
       "content": {
        "cell": "e9d2c559-66bc-4bec-87c1-02faa6607885",
        "part": "whole"
       },
       "id": "d970727c-7a32-4f99-888b-0304a3618c72"
      }
     }
    },
    "c1993e77-3f9b-464f-88c4-1eda7c189b21": {
     "id": "c1993e77-3f9b-464f-88c4-1eda7c189b21",
     "prev": "883cdb13-1b4d-4973-8cbb-3a030f7091b0",
     "regions": {
      "7ffb455d-691e-450d-ae0f-c406cd53b0d3": {
       "attrs": {
        "height": 0.8,
        "width": 0.8,
        "x": 0.1,
        "y": 0.1
       },
       "content": {
        "cell": "40b38f63-46d3-4d03-be49-7ba1d86ee091",
        "part": "whole"
       },
       "id": "7ffb455d-691e-450d-ae0f-c406cd53b0d3"
      }
     }
    },
    "c1b6d275-dfe8-403a-a001-77eaa6adf631": {
     "id": "c1b6d275-dfe8-403a-a001-77eaa6adf631",
     "prev": "9d7317d2-fd31-4d49-9910-8f25e50e9919",
     "regions": {
      "efa65c09-05ca-4228-9b96-10879d8db89b": {
       "attrs": {
        "height": 0.8,
        "width": 0.8,
        "x": 0.1,
        "y": 0.1
       },
       "content": {
        "cell": "b2d6691f-b95f-4823-afa0-55ba8718a126",
        "part": "whole"
       },
       "id": "efa65c09-05ca-4228-9b96-10879d8db89b"
      }
     }
    },
    "c61b43e4-f462-44e1-9cde-7e01eb772665": {
     "id": "c61b43e4-f462-44e1-9cde-7e01eb772665",
     "prev": "c796a89b-feca-4164-867f-626156787e46",
     "regions": {
      "73bb179a-6e8f-462e-aad7-024d384c5486": {
       "attrs": {
        "height": 0.8,
        "width": 0.8,
        "x": 0.1,
        "y": 0.1
       },
       "content": {
        "cell": "2a14944c-2a4f-4877-b74c-f5be5c908f64",
        "part": "whole"
       },
       "id": "73bb179a-6e8f-462e-aad7-024d384c5486"
      }
     }
    },
    "c75a76c3-7b72-467d-9e16-5bc42caed03d": {
     "id": "c75a76c3-7b72-467d-9e16-5bc42caed03d",
     "prev": "bf2bcddc-4cdf-4f49-83ae-f487350d9ff4",
     "regions": {
      "2d35af10-9720-4de4-a3d4-8c4037de4d1c": {
       "attrs": {
        "height": 0.8,
        "width": 0.8,
        "x": 0.1,
        "y": 0.1
       },
       "content": {
        "cell": "24ebe345-0763-4e1e-b3a2-6fc5b23e0421",
        "part": "whole"
       },
       "id": "2d35af10-9720-4de4-a3d4-8c4037de4d1c"
      }
     }
    },
    "c796a89b-feca-4164-867f-626156787e46": {
     "id": "c796a89b-feca-4164-867f-626156787e46",
     "prev": "2ca56f3f-23ca-4eca-8e90-a89d53122327",
     "regions": {
      "9e1e0605-ff64-405a-acd8-44a25eed2eac": {
       "attrs": {
        "height": 0.8,
        "width": 0.8,
        "x": 0.1,
        "y": 0.1
       },
       "content": {
        "cell": "2ce0692d-d926-4d6f-ab9a-521ba57f3cfe",
        "part": "whole"
       },
       "id": "9e1e0605-ff64-405a-acd8-44a25eed2eac"
      }
     }
    },
    "ca4377ed-3be5-4eb3-ab3c-a4efc2b562ba": {
     "id": "ca4377ed-3be5-4eb3-ab3c-a4efc2b562ba",
     "prev": "ceea6199-3642-41a4-ac35-10e321b0bd0d",
     "regions": {
      "ee72f6ae-f24a-400f-8ce5-1682a06394df": {
       "attrs": {
        "height": 0.8,
        "width": 0.8,
        "x": 0.1,
        "y": 0.1
       },
       "content": {
        "cell": "1ea26948-7b51-4a5e-8d94-a424bd4ba59b",
        "part": "whole"
       },
       "id": "ee72f6ae-f24a-400f-8ce5-1682a06394df"
      }
     }
    },
    "ceea6199-3642-41a4-ac35-10e321b0bd0d": {
     "id": "ceea6199-3642-41a4-ac35-10e321b0bd0d",
     "prev": "9b327828-3d5c-428f-a0d7-3e74713e7a63",
     "regions": {
      "29cb7525-255f-481d-acee-f094965ed768": {
       "attrs": {
        "height": 0.8,
        "width": 0.8,
        "x": 0.1,
        "y": 0.1
       },
       "content": {
        "cell": "8b02ec30-af37-4bb3-9cc7-3c9c79ead397",
        "part": "whole"
       },
       "id": "29cb7525-255f-481d-acee-f094965ed768"
      }
     }
    },
    "dc0fd8a2-b57a-469f-9cb5-494f548d6312": {
     "id": "dc0fd8a2-b57a-469f-9cb5-494f548d6312",
     "prev": "a6e75317-0966-4df2-a13a-c94445435335",
     "regions": {
      "b7994fa7-217e-40f2-86dd-dc792347b500": {
       "attrs": {
        "height": 0.8,
        "width": 0.8,
        "x": 0.1,
        "y": 0.1
       },
       "content": {
        "cell": "810eac1c-86c2-43fc-8e78-6f40f362cc9f",
        "part": "whole"
       },
       "id": "b7994fa7-217e-40f2-86dd-dc792347b500"
      }
     }
    },
    "e0cc926f-6030-4b19-b334-22f7a723bb94": {
     "id": "e0cc926f-6030-4b19-b334-22f7a723bb94",
     "prev": "40e3466a-09e1-458e-924c-45648f19e0bc",
     "regions": {
      "3c901f60-9f3b-48f1-a454-df4b265483a0": {
       "attrs": {
        "height": 0.8,
        "width": 0.8,
        "x": 0.1,
        "y": 0.1
       },
       "content": {
        "cell": "6e5aa3ec-3462-4ed2-a095-47935c03ce7d",
        "part": "whole"
       },
       "id": "3c901f60-9f3b-48f1-a454-df4b265483a0"
      }
     }
    },
    "e4fe9b96-e5ad-4d52-87cf-21716b94245f": {
     "id": "e4fe9b96-e5ad-4d52-87cf-21716b94245f",
     "prev": "2275f3e7-87db-481b-927a-b66be1fe5693",
     "regions": {
      "8f072460-ce6c-4463-a6ed-7e336209e390": {
       "attrs": {
        "height": 0.8,
        "width": 0.8,
        "x": 0.1,
        "y": 0.1
       },
       "content": {
        "cell": "ac031f1f-371b-45ab-a508-fdc0db8a30ca",
        "part": "whole"
       },
       "id": "8f072460-ce6c-4463-a6ed-7e336209e390"
      }
     }
    },
    "e8c34b28-ab32-4d48-a935-56f210ffd9d8": {
     "id": "e8c34b28-ab32-4d48-a935-56f210ffd9d8",
     "prev": "9f7ca8cf-2b40-4cab-a459-d715955429cf",
     "regions": {
      "c1e6edc8-c819-429c-9c5e-926658e2d65f": {
       "attrs": {
        "height": 0.8,
        "width": 0.8,
        "x": 0.1,
        "y": 0.1
       },
       "content": {
        "cell": "310f5a11-c07d-4b8d-9f06-793838535324",
        "part": "whole"
       },
       "id": "c1e6edc8-c819-429c-9c5e-926658e2d65f"
      }
     }
    },
    "f708e76b-d850-482f-8542-2ce251c843de": {
     "id": "f708e76b-d850-482f-8542-2ce251c843de",
     "prev": "c75a76c3-7b72-467d-9e16-5bc42caed03d",
     "regions": {
      "5b692d9c-c21c-4a0d-bcbf-1d824bfcec16": {
       "attrs": {
        "height": 0.8,
        "width": 0.8,
        "x": 0.1,
        "y": 0.1
       },
       "content": {
        "cell": "8a877d82-d4af-4c3d-9cd2-cf5faa631f98",
        "part": "whole"
       },
       "id": "5b692d9c-c21c-4a0d-bcbf-1d824bfcec16"
      }
     }
    },
    "f940f6c1-cf7d-4d09-8c09-64f2ec489884": {
     "id": "f940f6c1-cf7d-4d09-8c09-64f2ec489884",
     "prev": "e4fe9b96-e5ad-4d52-87cf-21716b94245f",
     "regions": {
      "323c0202-3d00-44f8-a84b-aa7249abd2ce": {
       "attrs": {
        "height": 0.8,
        "width": 0.8,
        "x": 0.1,
        "y": 0.1
       },
       "content": {
        "cell": "e9787334-6c56-462e-b555-78003df5e769",
        "part": "whole"
       },
       "id": "323c0202-3d00-44f8-a84b-aa7249abd2ce"
      }
     }
    },
    "fc5ff915-0129-4881-9995-d88660af8df0": {
     "id": "fc5ff915-0129-4881-9995-d88660af8df0",
     "prev": null,
     "regions": {
      "c1b10d18-1e72-4cf4-98c5-4a941df98e4a": {
       "attrs": {
        "height": 0.8,
        "width": 0.8,
        "x": 0.1,
        "y": 0.1
       },
       "content": {
        "cell": "6f7e17b3-4fd2-48a3-b1b6-8b9b12742fc0",
        "part": "whole"
       },
       "id": "c1b10d18-1e72-4cf4-98c5-4a941df98e4a"
      }
     }
    }
   },
   "themes": {}
  }
 },
 "nbformat": 4,
 "nbformat_minor": 1
}
