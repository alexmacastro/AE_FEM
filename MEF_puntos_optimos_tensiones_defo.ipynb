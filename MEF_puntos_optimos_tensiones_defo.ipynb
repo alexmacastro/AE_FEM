{
 "cells": [
  {
   "cell_type": "markdown",
   "metadata": {},
   "source": [
    "\n",
    "# Puntos óptimos para el cálculo de tensiones y deformaciones en el MEF\n",
    "\n",
    "\n",
    "\n",
    "Análisis de Estructuras. Grado en Ingeniería Civil. \n",
    "\n",
    "Autor: \n",
    "- Alejandro E. Martínez-Castro.\n",
    "- Dpto. Mecánica de Estructuras e Ingeniería Hidráulica. Universidad de Granada.\n",
    "\n",
    "\n",
    "\n",
    "<a rel=\"license\" href=\"http://creativecommons.org/licenses/by-nc-sa/4.0/\"><img alt=\"Licencia de Creative Commons\" style=\"border-width:0\" src=\"https://i.creativecommons.org/l/by-nc-sa/4.0/88x31.png\" /></a><br /><span xmlns:dct=\"http://purl.org/dc/terms/\" property=\"dct:title\">Cuadernos MEF: Viga de Bernoulli-Euler</span> by <span xmlns:cc=\"http://creativecommons.org/ns#\" property=\"cc:attributionName\">Alejandro Martínez Castro, Esther Puertas García, Rafael Gallego Sevilla</span> is licensed under a <a rel=\"license\" href=\"http://creativecommons.org/licenses/by-nc-sa/4.0/\">Creative Commons Reconocimiento-NoComercial-CompartirIgual 4.0 Internacional License</a>."
   ]
  },
  {
   "cell_type": "markdown",
   "metadata": {},
   "source": [
    "## Motivación\n",
    "\n",
    "Este cuaderno es un apoyo a la clase presencial. Utilizaremos las habilidades de Python para mostrar con ejemplos una interesante propiedad de los puntos de una cuadratura de Gauss. \n",
    "\n",
    "En el intervalo $x \\in [-1,1]$, consideremos un polinomio de grado $N$, y otro de grado $N-1$ obtenido como ajuste por mínimos cuadrados a partir del anterior. \n",
    "\n",
    "Puede demostrarse que ambos polinomios se cortan en las abscisas de los puntos de Gauss de una cuadratura de orden $N$. \n",
    "\n",
    "En este cuaderno se plantean unos ejemplos. Es interesante que pruebe modificar los coeficientes del polinomio original, para ver que la coincidencia no depende de dichos coeficientes. "
   ]
  },
  {
   "cell_type": "code",
   "execution_count": 1,
   "metadata": {},
   "outputs": [
    {
     "name": "stdout",
     "output_type": "stream",
     "text": [
      "IPython console for SymPy 1.0 (Python 2.7.13-32-bit) (ground types: python)\n",
      "\n",
      "These commands were executed:\n",
      ">>> from __future__ import division\n",
      ">>> from sympy import *\n",
      ">>> x, y, z, t = symbols('x y z t')\n",
      ">>> k, m, n = symbols('k m n', integer=True)\n",
      ">>> f, g, h = symbols('f g h', cls=Function)\n",
      ">>> init_printing()\n",
      "\n",
      "Documentation can be found at http://docs.sympy.org/1.0/\n"
     ]
    }
   ],
   "source": [
    "from sympy import init_session\n",
    "init_session()"
   ]
  },
  {
   "cell_type": "markdown",
   "metadata": {},
   "source": [
    "### Ejemplo 1. Polinomio de grado $N=2$\n",
    "\n",
    "Consideremos el polinomio\n",
    "\n",
    "$f(x) = 1 + x + x^2$, \n",
    "\n",
    "con $x \\in [-1,1]$. \n",
    "\n",
    "Este polinomio es de grado $N=2$. Un polinomio de grado $N-1$, genérico, es de la forma: \n",
    "\n",
    "$g(x) = a + b x$\n",
    "\n",
    "Ajusteremos las constantes $a$ y $b$ para que $g(x)$ sea el ajuste por mínimos cuadrados del polinomio $f(x)$ en el intervalo $x\\in[-1,1]$. \n",
    "\n",
    "En primer lugar, definiremos los símbolos para $a$ y $b$, y definiremos los polinomios para $f$ y $g$"
   ]
  },
  {
   "cell_type": "code",
   "execution_count": 2,
   "metadata": {
    "collapsed": true
   },
   "outputs": [],
   "source": [
    "a,b = symbols('a b')"
   ]
  },
  {
   "cell_type": "code",
   "execution_count": 3,
   "metadata": {},
   "outputs": [
    {
     "data": {
      "image/png": "[encoded data removed]",
      "text/latex": [
       "$$x^{2} + x + 1$$"
      ],
      "text/plain": [
       " 2        \n",
       "x  + x + 1"
      ]
     },
     "execution_count": 3,
     "metadata": {},
     "output_type": "execute_result"
    }
   ],
   "source": [
    "f = 1 + x + x**2\n",
    "f"
   ]
  },
  {
   "cell_type": "code",
   "execution_count": 4,
   "metadata": {},
   "outputs": [
    {
     "data": {
      "image/png": "[encoded data removed]",
      "text/latex": [
       "$$a + b x$$"
      ],
      "text/plain": [
       "a + b⋅x"
      ]
     },
     "execution_count": 4,
     "metadata": {},
     "output_type": "execute_result"
    }
   ],
   "source": [
    "g = a + b * x\n",
    "g"
   ]
  },
  {
   "cell_type": "markdown",
   "metadata": {},
   "source": [
    "A continuación se va a plantear minimizar la siguiente función: \n",
    "\n",
    "$$ M(a,b) = \\int_{-1}^{1} [f(x) - g(x) ]^2 \\,d\\,x$$\n",
    "\n",
    "Plantearemos por tanto que las derivadas parciales respecto de $a$ y $b$ sean 0, y de ahí podremos obtener los valores de $a$ y $b$ del polinomio de ajuste. \n",
    "\n",
    "\\begin{align}\n",
    "\\dfrac{\\partial M}{\\partial a} &= 0 \\\\\n",
    "\\dfrac{\\partial M}{\\partial b} &= 0\n",
    "\\end{align}"
   ]
  },
  {
   "cell_type": "code",
   "execution_count": 5,
   "metadata": {},
   "outputs": [
    {
     "data": {
      "image/png": "[encoded data removed]",
      "text/latex": [
       "$$2 a^{2} - \\frac{16 a}{3} + \\frac{2 b^{2}}{3} - \\frac{4 b}{3} + \\frac{22}{5}$$"
      ],
      "text/plain": [
       "                 2           \n",
       "   2   16⋅a   2⋅b    4⋅b   22\n",
       "2⋅a  - ──── + ──── - ─── + ──\n",
       "        3      3      3    5 "
      ]
     },
     "execution_count": 5,
     "metadata": {},
     "output_type": "execute_result"
    }
   ],
   "source": [
    "minimizar = integrate((f - g)**2,(x,-1,1))\n",
    "minimizar"
   ]
  },
  {
   "cell_type": "code",
   "execution_count": 6,
   "metadata": {},
   "outputs": [
    {
     "data": {
      "image/png": "[encoded data removed]",
      "text/latex": [
       "$$4 a - \\frac{16}{3}$$"
      ],
      "text/plain": [
       "4⋅a - 16/3"
      ]
     },
     "execution_count": 6,
     "metadata": {},
     "output_type": "execute_result"
    }
   ],
   "source": [
    "eq1 = diff(minimizar,a)\n",
    "eq1"
   ]
  },
  {
   "cell_type": "code",
   "execution_count": 7,
   "metadata": {},
   "outputs": [
    {
     "data": {
      "image/png": "[encoded data removed]",
      "text/latex": [
       "$$\\frac{4 b}{3} - \\frac{4}{3}$$"
      ],
      "text/plain": [
       "4⋅b   4\n",
       "─── - ─\n",
       " 3    3"
      ]
     },
     "execution_count": 7,
     "metadata": {},
     "output_type": "execute_result"
    }
   ],
   "source": [
    "eq2 = diff(minimizar,b)\n",
    "eq2"
   ]
  },
  {
   "cell_type": "markdown",
   "metadata": {},
   "source": [
    "Debemos resolver ambas ecuaciones a la vez. Para esto, Sympy dispone de un solver: el resultado está en formato de _diccionario_. "
   ]
  },
  {
   "cell_type": "code",
   "execution_count": 8,
   "metadata": {},
   "outputs": [
    {
     "data": {
      "image/png": "[encoded data removed]",
      "text/latex": [
       "$$\\left \\{ a : \\frac{4}{3}, \\quad b : 1\\right \\}$$"
      ],
      "text/plain": [
       "{a: 4/3, b: 1}"
      ]
     },
     "execution_count": 8,
     "metadata": {},
     "output_type": "execute_result"
    }
   ],
   "source": [
    "from sympy.solvers import solve\n",
    "solucion = solve([eq1,eq2],[a,b])\n",
    "solucion"
   ]
  },
  {
   "cell_type": "code",
   "execution_count": 9,
   "metadata": {
    "collapsed": true
   },
   "outputs": [],
   "source": [
    "a_sol = solucion[a]\n",
    "b_sol = solucion[b]"
   ]
  },
  {
   "cell_type": "markdown",
   "metadata": {},
   "source": [
    "El polinomio de ajuste, por tanto, es el siguiente:"
   ]
  },
  {
   "cell_type": "code",
   "execution_count": 10,
   "metadata": {},
   "outputs": [
    {
     "data": {
      "image/png": "[encoded data removed]",
      "text/latex": [
       "$$x + \\frac{4}{3}$$"
      ],
      "text/plain": [
       "x + 4/3"
      ]
     },
     "execution_count": 10,
     "metadata": {},
     "output_type": "execute_result"
    }
   ],
   "source": [
    "g_ajuste = g.subs([(a,a_sol),(b,b_sol)])\n",
    "g_ajuste"
   ]
  },
  {
   "cell_type": "markdown",
   "metadata": {},
   "source": [
    "A continuación se dibujarán ambas funciones, pero no se va a dar salida en este cuaderno, sino en ventana aparte, para poder localizar con el puntero los puntos de corte. "
   ]
  },
  {
   "cell_type": "code",
   "execution_count": 11,
   "metadata": {},
   "outputs": [
    {
     "data": {
      "text/plain": [
       "<sympy.plotting.plot.Plot at 0x9b56a20>"
      ]
     },
     "execution_count": 11,
     "metadata": {},
     "output_type": "execute_result"
    }
   ],
   "source": [
    "# Dibujo ambas funciones. Ver en figura aparte y localizar los puntos de corte\n",
    "from sympy.plotting import plot\n",
    "\n",
    "plot(f,g_ajuste,(x,-1,1))"
   ]
  },
  {
   "cell_type": "markdown",
   "metadata": {},
   "source": [
    "A continuación localizaremos los puntos de corte entre ambas curvas"
   ]
  },
  {
   "cell_type": "code",
   "execution_count": 12,
   "metadata": {},
   "outputs": [
    {
     "data": {
      "image/png": "[encoded data removed]",
      "text/latex": [
       "$$\\left [ - \\frac{\\sqrt{3}}{3}, \\quad \\frac{\\sqrt{3}}{3}\\right ]$$"
      ],
      "text/plain": [
       "⎡-√3   √3⎤\n",
       "⎢────, ──⎥\n",
       "⎣ 3    3 ⎦"
      ]
     },
     "execution_count": 12,
     "metadata": {},
     "output_type": "execute_result"
    }
   ],
   "source": [
    "puntos_corte = solve(f-g_ajuste,x)\n",
    "puntos_corte"
   ]
  },
  {
   "cell_type": "markdown",
   "metadata": {},
   "source": [
    "Evaluaremos numéricamente estos puntos:"
   ]
  },
  {
   "cell_type": "code",
   "execution_count": 13,
   "metadata": {
    "collapsed": true
   },
   "outputs": [],
   "source": [
    "puntos = []\n",
    "for punto in puntos_corte:\n",
    "    puntos.append(N(punto))"
   ]
  },
  {
   "cell_type": "code",
   "execution_count": 14,
   "metadata": {},
   "outputs": [
    {
     "data": {
      "image/png": "[encoded data removed]",
      "text/latex": [
       "$$\\left [ -0.577350269189626, \\quad 0.577350269189626\\right ]$$"
      ],
      "text/plain": [
       "[-0.577350269189626, 0.577350269189626]"
      ]
     },
     "execution_count": 14,
     "metadata": {},
     "output_type": "execute_result"
    }
   ],
   "source": [
    "puntos\n"
   ]
  },
  {
   "cell_type": "markdown",
   "metadata": {},
   "source": [
    "Estos puntos de corte coinciden con las abscisas de los puntos de Gauss de una cuadratura de orden 2. \n",
    "\n",
    "Veámoslo:"
   ]
  },
  {
   "cell_type": "code",
   "execution_count": 15,
   "metadata": {},
   "outputs": [
    {
     "data": {
      "text/plain": [
       "array([-0.57735027,  0.57735027])"
      ]
     },
     "execution_count": 15,
     "metadata": {},
     "output_type": "execute_result"
    }
   ],
   "source": [
    "import numpy as np\n",
    "NPGauss = 2\n",
    "pgauss = np.polynomial.legendre.leggauss(NPGauss)\n",
    "        \n",
    "pgauss[0]"
   ]
  },
  {
   "cell_type": "markdown",
   "metadata": {},
   "source": [
    "### Ejemplo 2. Polinomio de grado $N=3$\n",
    "\n",
    "Consideremos el polinomio\n",
    "\n",
    "$f(x) = 1 + x + x^2 + x^3$, con $x \\in [-1,1]$. \n",
    "\n",
    "Este polinomio es, en esta ocasión, de grado $N=3$. Un polinomio de grado $N-1$, genérico, es de la forma: \n",
    "\n",
    "$g(x) = a + b x + c x^2$\n",
    "\n",
    "Ajusteremos las constantes $a$, $b$, y $c$ para que $g(x)$ sea el ajuste por mínimos cuadrados del polinomio $f(x)$ en el intervalo $x\\in[-1,1]$. \n",
    "\n",
    "Definiremos los símbolos adicionales y realizaremos operaciones análogas al caso anterior. "
   ]
  },
  {
   "cell_type": "code",
   "execution_count": 16,
   "metadata": {},
   "outputs": [
    {
     "data": {
      "image/png": "[encoded data removed]",
      "text/latex": [
       "$$2 a^{2} + \\frac{4 a}{3} c - \\frac{16 a}{3} + \\frac{2 b^{2}}{3} - \\frac{32 b}{15} + \\frac{2 c^{2}}{5} - \\frac{32 c}{15} + \\frac{192}{35}$$"
      ],
      "text/plain": [
       "                         2             2             \n",
       "   2   4⋅a⋅c   16⋅a   2⋅b    32⋅b   2⋅c    32⋅c   192\n",
       "2⋅a  + ───── - ──── + ──── - ──── + ──── - ──── + ───\n",
       "         3      3      3      15     5      15     35"
      ]
     },
     "execution_count": 16,
     "metadata": {},
     "output_type": "execute_result"
    }
   ],
   "source": [
    "c = symbols('c')\n",
    "f = 1 + x + x**2 + x**3\n",
    "g = a + b*x + c*x**2\n",
    "minimizar = integrate((f - g)**2,(x,-1,1))\n",
    "minimizar"
   ]
  },
  {
   "cell_type": "code",
   "execution_count": 17,
   "metadata": {},
   "outputs": [
    {
     "data": {
      "image/png": "[encoded data removed]",
      "text/latex": [
       "$$\\left ( 4 a + \\frac{4 c}{3} - \\frac{16}{3}, \\quad \\frac{4 b}{3} - \\frac{32}{15}, \\quad \\frac{4 a}{3} + \\frac{4 c}{5} - \\frac{32}{15}\\right )$$"
      ],
      "text/plain": [
       "⎛      4⋅c   16  4⋅b   32  4⋅a   4⋅c   32⎞\n",
       "⎜4⋅a + ─── - ──, ─── - ──, ─── + ─── - ──⎟\n",
       "⎝       3    3    3    15   3     5    15⎠"
      ]
     },
     "execution_count": 17,
     "metadata": {},
     "output_type": "execute_result"
    }
   ],
   "source": [
    "eq1 = diff(minimizar,a)\n",
    "eq2 = diff(minimizar,b)\n",
    "eq3 = diff(minimizar,c)\n",
    "eq1, eq2, eq3"
   ]
  },
  {
   "cell_type": "markdown",
   "metadata": {},
   "source": [
    "Resolviendo las tres ecuaciones a la vez:"
   ]
  },
  {
   "cell_type": "code",
   "execution_count": 18,
   "metadata": {},
   "outputs": [
    {
     "data": {
      "image/png": "[encoded data removed]",
      "text/latex": [
       "$$\\left \\{ a : 1, \\quad b : \\frac{8}{5}, \\quad c : 1\\right \\}$$"
      ],
      "text/plain": [
       "{a: 1, b: 8/5, c: 1}"
      ]
     },
     "execution_count": 18,
     "metadata": {},
     "output_type": "execute_result"
    }
   ],
   "source": [
    "solucion = solve([eq1,eq2,eq3],[a,b,c])\n",
    "solucion"
   ]
  },
  {
   "cell_type": "code",
   "execution_count": 19,
   "metadata": {
    "collapsed": true
   },
   "outputs": [],
   "source": [
    "a_sol = solucion[a]\n",
    "b_sol = solucion[b]\n",
    "c_sol = solucion[c]"
   ]
  },
  {
   "cell_type": "code",
   "execution_count": 20,
   "metadata": {},
   "outputs": [
    {
     "data": {
      "image/png": "[encoded data removed]",
      "text/latex": [
       "$$x^{2} + \\frac{8 x}{5} + 1$$"
      ],
      "text/plain": [
       " 2   8⋅x    \n",
       "x  + ─── + 1\n",
       "      5     "
      ]
     },
     "execution_count": 20,
     "metadata": {},
     "output_type": "execute_result"
    }
   ],
   "source": [
    "g_ajuste = g.subs([(a,a_sol),(b,b_sol),(c,c_sol)])\n",
    "g_ajuste"
   ]
  },
  {
   "cell_type": "code",
   "execution_count": 21,
   "metadata": {},
   "outputs": [
    {
     "data": {
      "text/plain": [
       "<sympy.plotting.plot.Plot at 0x9d2dc50>"
      ]
     },
     "execution_count": 21,
     "metadata": {},
     "output_type": "execute_result"
    }
   ],
   "source": [
    "# Dibujo ambas funciones. Ver en figura aparte y localizar los puntos de corte\n",
    "from sympy.plotting import plot\n",
    "\n",
    "plot(f,g_ajuste,(x,-1,1))"
   ]
  },
  {
   "cell_type": "code",
   "execution_count": 22,
   "metadata": {},
   "outputs": [
    {
     "data": {
      "image/png": "[encoded data removed]",
      "text/latex": [
       "$$\\left [ 0, \\quad - \\frac{\\sqrt{15}}{5}, \\quad \\frac{\\sqrt{15}}{5}\\right ]$$"
      ],
      "text/plain": [
       "⎡   -√15   √15⎤\n",
       "⎢0, ─────, ───⎥\n",
       "⎣     5     5 ⎦"
      ]
     },
     "execution_count": 22,
     "metadata": {},
     "output_type": "execute_result"
    }
   ],
   "source": [
    "puntos_corte = solve(f-g_ajuste,x)\n",
    "puntos_corte"
   ]
  },
  {
   "cell_type": "code",
   "execution_count": 23,
   "metadata": {},
   "outputs": [
    {
     "data": {
      "text/plain": [
       "array([-0.774596669241483, 0, 0.774596669241483], dtype=object)"
      ]
     },
     "execution_count": 23,
     "metadata": {},
     "output_type": "execute_result"
    }
   ],
   "source": [
    "puntos = []\n",
    "for punto in puntos_corte:\n",
    "    puntos.append(N(punto))\n",
    "\n",
    "puntos = np.array(puntos)\n",
    "puntos.sort()\n",
    "puntos"
   ]
  },
  {
   "cell_type": "code",
   "execution_count": 24,
   "metadata": {},
   "outputs": [
    {
     "data": {
      "text/plain": [
       "array([-0.77459667,  0.        ,  0.77459667])"
      ]
     },
     "execution_count": 24,
     "metadata": {},
     "output_type": "execute_result"
    }
   ],
   "source": [
    "NPGauss = 3\n",
    "pgauss = np.polynomial.legendre.leggauss(NPGauss)\n",
    "        \n",
    "pgauss[0]"
   ]
  },
  {
   "cell_type": "code",
   "execution_count": null,
   "metadata": {
    "collapsed": true
   },
   "outputs": [],
   "source": []
  }
 ],
 "metadata": {
  "kernelspec": {
   "display_name": "Python 2",
   "language": "python",
   "name": "python2"
  },
  "language_info": {
   "codemirror_mode": {
    "name": "ipython",
    "version": 2
   },
   "file_extension": ".py",
   "mimetype": "text/x-python",
   "name": "python",
   "nbconvert_exporter": "python",
   "pygments_lexer": "ipython2",
   "version": "2.7.13"
  }
 },
 "nbformat": 4,
 "nbformat_minor": 2
}
