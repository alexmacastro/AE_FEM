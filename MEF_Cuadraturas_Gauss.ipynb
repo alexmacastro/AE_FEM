{
 "cells": [
  {
   "cell_type": "markdown",
   "metadata": {
    "slideshow": {
     "slide_type": "slide"
    }
   },
   "source": [
    "# Integración numérica mediante puntos de Gauss\n",
    "\n",
    "Análisis de Estructuras. Grado en Ingeniería Civil.\n",
    "\n",
    "Autores:\n",
    "\n",
    "- Alejandro E. Martínez-Castro, Esther Puertas García, Rafael Gallego.\n",
    "- Departamento de Mecánica de Estructuras e Ingeniería Hidráulica. Universidad de Granada.\n",
    "\n"
   ]
  },
  {
   "cell_type": "markdown",
   "metadata": {
    "slideshow": {
     "slide_type": "slide"
    }
   },
   "source": [
    "## Cuadraturas de Gauss-Legendre en 1 dimensión\n",
    "\n",
    "En este cuaderno se plantea la integración numérica mediante cuadraturas de [Gauss-Legendre](https://es.wikipedia.org/wiki/Cuadratura_de_Gauss). \n",
    "\n",
    "En una dimensión, una cuadratura de Gauss-Legendre permite realizar la integral mediante un sumatorio\n",
    "\n",
    "\\begin{equation}\n",
    "\\int_{-1}^{1} f(t)\\,dt = \\sum_{n=1}^{N} f(t_i)\\,W_i\n",
    "\\end{equation}\n",
    "\n",
    "Siendo $t_i$ las abscisas de los puntos de Gauss y $W_i$ los \"pesos\" correspondientes a cada punto. \n",
    "\n",
    "La integral anterior es exacta si $f(t)$ es un polinomio."
   ]
  },
  {
   "cell_type": "markdown",
   "metadata": {
    "slideshow": {
     "slide_type": "slide"
    }
   },
   "source": [
    "Si el intervalo de integración es diferente a $[-1,1]$, se acude a un cambio de variable. \n",
    "\n",
    "Si el intervalo en $x$ es $[x_1,x_2]$, el cambio es: \n",
    "\n",
    "\\begin{equation}\n",
    "x = x_1 + \\dfrac{x_2-x_1}{2}\\,(t + 1)\n",
    "\\end{equation}\n",
    "\n",
    "La integral se transforma como sigue, teniendo en cuenta que: \n",
    "\n",
    "\\begin{equation}\n",
    "d x = \\dfrac{x_2 - x_1}{2} \\,d t\n",
    "\\end{equation}\n",
    "\n",
    "\\begin{equation}\n",
    "\\int_{x_1}^{x_2} f(x)\\, \\mathrm{d} x = \\int_{-1}^{1} f(t) \\,\\dfrac{d x}{dt}\\,dt = \\int_{-1}^{1} f(t) \\,\\dfrac{x_2 - x_1}{2} \\,dt  \n",
    "\\end{equation}\n",
    "\n",
    "\n",
    "Y que esta integral se puede evaluar de forma aproximada como: \n",
    "\n",
    "\\begin{equation}\n",
    "\\sum_{i=1}^{N} f(t_i)\\,W_i \\,\\dfrac{x_2-x_1}{2}\n",
    "\\end{equation}\n",
    "\n",
    "Siendo $t_i$ y $W_i$ las abscisas y los pesos de una cuadratura de Gauss de $N$ puntos.\n",
    "\n",
    "Una propiedad importante de esta integración es que la fórmula es exacta para un polinomio de grado $2N-1$. "
   ]
  },
  {
   "cell_type": "markdown",
   "metadata": {
    "collapsed": true,
    "slideshow": {
     "slide_type": "slide"
    }
   },
   "source": [
    "Si se indexa desde el 0, estas expresiones pueden evaluarse como: \n",
    "\n",
    "\\begin{equation}\n",
    "\\sum_{i=0}^{N-1} f(t_i)\\,W_i \\,\\dfrac{x_2-x_1}{2}\n",
    "\\end{equation}\n",
    "\n",
    "Esta expresión es exacta para un polinomio de grado $2\\,N-1$. \n",
    "\n",
    "Así, \n",
    "\n",
    "- Para $N=1$ la integral es exacta para un polinomio de grado 1. \n",
    "- Para $N=2$ la integral es exacta para un polinomio de grado 3. \n",
    "- Para $N=3$ la integral es exacta para un polinomio de grado 5. "
   ]
  },
  {
   "cell_type": "code",
   "execution_count": 1,
   "metadata": {
    "collapsed": false,
    "slideshow": {
     "slide_type": "slide"
    }
   },
   "outputs": [
    {
     "name": "stdout",
     "output_type": "stream",
     "text": [
      "Populating the interactive namespace from numpy and matplotlib\n"
     ]
    }
   ],
   "source": [
    "from __future__ import division\n",
    "%pylab inline "
   ]
  },
  {
   "cell_type": "markdown",
   "metadata": {
    "slideshow": {
     "slide_type": "slide"
    }
   },
   "source": [
    "En Python los puntos y pesos de una cuadratura de Gauss se obtienen mediante una función de numpy. "
   ]
  },
  {
   "cell_type": "code",
   "execution_count": 2,
   "metadata": {
    "collapsed": false,
    "slideshow": {
     "slide_type": "-"
    }
   },
   "outputs": [
    {
     "data": {
      "text/plain": [
       "(array([-0.57735027,  0.57735027]), array([ 1.,  1.]))"
      ]
     },
     "execution_count": 2,
     "metadata": {},
     "output_type": "execute_result"
    }
   ],
   "source": [
    "NPGauss = 2\n",
    "pgauss = np.polynomial.legendre.leggauss(NPGauss)\n",
    "        \n",
    "pgauss"
   ]
  },
  {
   "cell_type": "markdown",
   "metadata": {
    "slideshow": {
     "slide_type": "-"
    }
   },
   "source": [
    "Observe que se obtiene un objeto de tipo \"tupla\". \n",
    "- En la posición [0] se incluye un vector de numpy, con las abscisas $t_i$.\n",
    "- En la posición [1], un vector de numpy con los pesos $W_i$."
   ]
  },
  {
   "cell_type": "code",
   "execution_count": 3,
   "metadata": {
    "collapsed": false,
    "slideshow": {
     "slide_type": "subslide"
    }
   },
   "outputs": [
    {
     "name": "stdout",
     "output_type": "stream",
     "text": [
      "<type 'tuple'>\n",
      "\n",
      "[-0.57735027  0.57735027]\n",
      "<type 'numpy.ndarray'>\n",
      "\n",
      "[ 1.  1.]\n",
      "<type 'numpy.ndarray'>\n"
     ]
    }
   ],
   "source": [
    "print type(pgauss)  # <- Le preguntamos a Python sobre \"pgauss\". ¿De qué tipo es?\n",
    "print \"\"\n",
    "print pgauss[0]\n",
    "print type(pgauss[0])\n",
    "print\"\"\n",
    "print pgauss[1]\n",
    "print type(pgauss[1])"
   ]
  },
  {
   "cell_type": "markdown",
   "metadata": {
    "slideshow": {
     "slide_type": "skip"
    }
   },
   "source": [
    "A continuación se van a emplear estos puntos para el cálculo de diversas integrales"
   ]
  },
  {
   "cell_type": "markdown",
   "metadata": {
    "slideshow": {
     "slide_type": "slide"
    }
   },
   "source": [
    "## Integral de un polinomio cúbico\n",
    "\n",
    "Consideremos el polinomio: \n",
    "\n",
    "\\begin{equation}\n",
    "f(x) = a + b\\,x + c\\,x^2 + d\\,x^3\n",
    "\\end{equation}\n",
    "\n",
    "Supongamos que deseamos evaluar la integral \n",
    "\n",
    "\\begin{equation}\n",
    "\\int_{x_1}^{x_2} f(x) \\,dx\n",
    "\\end{equation}\n",
    "\n",
    "Planteemos esta integral simbólica exacta con SymPy"
   ]
  },
  {
   "cell_type": "code",
   "execution_count": 4,
   "metadata": {
    "collapsed": false,
    "slideshow": {
     "slide_type": "slide"
    }
   },
   "outputs": [
    {
     "name": "stdout",
     "output_type": "stream",
     "text": [
      "IPython console for SymPy 0.7.6.1 (Python 2.7.11-32-bit) (ground types: python)\n",
      "\n",
      "These commands were executed:\n",
      ">>> from __future__ import division\n",
      ">>> from sympy import *\n",
      ">>> x, y, z, t = symbols('x y z t')\n",
      ">>> k, m, n = symbols('k m n', integer=True)\n",
      ">>> f, g, h = symbols('f g h', cls=Function)\n",
      ">>> init_printing()\n",
      "\n",
      "Documentation can be found at http://www.sympy.org\n"
     ]
    }
   ],
   "source": [
    "from sympy import init_session\n",
    "init_session()"
   ]
  },
  {
   "cell_type": "markdown",
   "metadata": {
    "slideshow": {
     "slide_type": "slide"
    }
   },
   "source": [
    "### Integración analítica. \n",
    "\n",
    "Para integrar de forma exacta un polinomio de grado 3, hace falta una cuadratura de Gauss de orden 2. "
   ]
  },
  {
   "cell_type": "code",
   "execution_count": 5,
   "metadata": {
    "collapsed": false,
    "slideshow": {
     "slide_type": "-"
    }
   },
   "outputs": [
    {
     "data": {
      "image/png": "[encoded data removed]",
      "text/latex": [
       "$$- a x_{1} + a x_{2} - \\frac{b x_{1}^{2}}{2} + \\frac{b x_{2}^{2}}{2} - \\frac{c x_{1}^{3}}{3} + \\frac{c x_{2}^{3}}{3} - \\frac{d x_{1}^{4}}{4} + \\frac{d x_{2}^{4}}{4}$$"
      ],
      "text/plain": [
       "                   2       2       3       3       4       4\n",
       "               b⋅x₁    b⋅x₂    c⋅x₁    c⋅x₂    d⋅x₁    d⋅x₂ \n",
       "-a⋅x₁ + a⋅x₂ - ───── + ───── - ───── + ───── - ───── + ─────\n",
       "                 2       2       3       3       4       4  "
      ]
     },
     "execution_count": 5,
     "metadata": {},
     "output_type": "execute_result"
    }
   ],
   "source": [
    "a,b,c,d,x1,x2 = symbols('a b c d x1 x2')\n",
    "f = a + b*x + c*x**2 + d*x**3\n",
    "Int_analitica = integrate(f,(x,x1,x2))\n",
    "Int_analitica"
   ]
  },
  {
   "cell_type": "markdown",
   "metadata": {
    "slideshow": {
     "slide_type": "slide"
    }
   },
   "source": [
    "Consideremos un conjunto de valores"
   ]
  },
  {
   "cell_type": "code",
   "execution_count": 6,
   "metadata": {
    "collapsed": false,
    "slideshow": {
     "slide_type": "-"
    }
   },
   "outputs": [
    {
     "data": {
      "image/png": "[encoded data removed]",
      "text/latex": [
       "$$841.958333333333$$"
      ],
      "text/plain": [
       "841.958333333333"
      ]
     },
     "execution_count": 6,
     "metadata": {},
     "output_type": "execute_result"
    }
   ],
   "source": [
    "a1 = 1.1\n",
    "b1 = 2.5\n",
    "c1 = 3.2\n",
    "d1 = 4.3\n",
    "xx1 = 0\n",
    "xx2 = 5\n",
    "Int_exacta = Int_analitica.subs([(a,a1),(b,b1),(c,c1),(d,d1),(x1,xx1),(x2,xx2)])\n",
    "Int_exacta"
   ]
  },
  {
   "cell_type": "markdown",
   "metadata": {
    "slideshow": {
     "slide_type": "slide"
    }
   },
   "source": [
    "### Integración numérica con 2 puntos de Gauss. \n",
    "\n",
    "Determinacion de las abscisas en x. "
   ]
  },
  {
   "cell_type": "code",
   "execution_count": 7,
   "metadata": {
    "collapsed": false,
    "slideshow": {
     "slide_type": "-"
    }
   },
   "outputs": [
    {
     "data": {
      "text/plain": [
       "array([ 1.05662433,  3.94337567])"
      ]
     },
     "execution_count": 7,
     "metadata": {},
     "output_type": "execute_result"
    }
   ],
   "source": [
    "xi = xx1 + (xx2 - xx1) / 2 * (pgauss[0] + 1)\n",
    "xi"
   ]
  },
  {
   "cell_type": "code",
   "execution_count": 8,
   "metadata": {
    "collapsed": false,
    "slideshow": {
     "slide_type": "subslide"
    }
   },
   "outputs": [
    {
     "data": {
      "image/png": "[encoded data removed]",
      "text/latex": [
       "$$841.958333333$$"
      ],
      "text/plain": [
       "841.958333333"
      ]
     },
     "execution_count": 8,
     "metadata": {},
     "output_type": "execute_result"
    }
   ],
   "source": [
    "Int_numerica = 0\n",
    "\n",
    "def pol3(x):\n",
    "    return a1 + b1*x + c1*x**2 + d1*x**3\n",
    "\n",
    "for i in range(NPGauss):\n",
    "    Int_numerica += pol3(xi[i]) * (xx2-xx1)/2 * pgauss[1][i]    \n",
    "\n",
    "Int_numerica"
   ]
  },
  {
   "cell_type": "markdown",
   "metadata": {
    "slideshow": {
     "slide_type": "slide"
    }
   },
   "source": [
    "Comparación de resultados"
   ]
  },
  {
   "cell_type": "code",
   "execution_count": 9,
   "metadata": {
    "collapsed": false,
    "slideshow": {
     "slide_type": "-"
    }
   },
   "outputs": [
    {
     "data": {
      "image/png": "[encoded data removed]",
      "text/latex": [
       "$$\\left ( 841.958333333333, \\quad 841.958333333\\right )$$"
      ],
      "text/plain": [
       "(841.958333333333, 841.958333333)"
      ]
     },
     "execution_count": 9,
     "metadata": {},
     "output_type": "execute_result"
    }
   ],
   "source": [
    "Int_exacta,Int_numerica"
   ]
  },
  {
   "cell_type": "markdown",
   "metadata": {
    "slideshow": {
     "slide_type": "-"
    }
   },
   "source": [
    "Pruebe variar los valores de\n",
    "        a1, b1, c1, d1, xx1, xx2\n",
    "        \n",
    "Observe que el resultado siempre se obtiene de forma correcta. "
   ]
  },
  {
   "cell_type": "markdown",
   "metadata": {
    "slideshow": {
     "slide_type": "slide"
    }
   },
   "source": [
    "### Integración reducida con 1 punto de Gauss\n"
   ]
  },
  {
   "cell_type": "code",
   "execution_count": 10,
   "metadata": {
    "collapsed": false,
    "slideshow": {
     "slide_type": "-"
    }
   },
   "outputs": [
    {
     "data": {
      "text/plain": [
       "(array([ 0.]), array([ 2.]))"
      ]
     },
     "execution_count": 10,
     "metadata": {},
     "output_type": "execute_result"
    }
   ],
   "source": [
    "NPGauss = 1\n",
    "pgauss = np.polynomial.legendre.leggauss(NPGauss)\n",
    "pgauss"
   ]
  },
  {
   "cell_type": "code",
   "execution_count": 11,
   "metadata": {
    "collapsed": false,
    "slideshow": {
     "slide_type": "-"
    }
   },
   "outputs": [
    {
     "data": {
      "image/png": "[encoded data removed]",
      "text/latex": [
       "$$472.6875$$"
      ],
      "text/plain": [
       "472.6875"
      ]
     },
     "execution_count": 11,
     "metadata": {},
     "output_type": "execute_result"
    }
   ],
   "source": [
    "xi = xx1 + (xx2 - xx1) / 2 * (pgauss[0] + 1)\n",
    "xi\n",
    "\n",
    "Int_reducida = 0\n",
    "\n",
    "for i in range(NPGauss):\n",
    "    Int_reducida += pol3(xi[i]) * (xx2-xx1)/2 * pgauss[1][i]    \n",
    "\n",
    "Int_reducida"
   ]
  },
  {
   "cell_type": "markdown",
   "metadata": {
    "slideshow": {
     "slide_type": "slide"
    }
   },
   "source": [
    "Comparando los valores, se observar que la integración reducida produce un resultado inferior al que debería obtenerse"
   ]
  },
  {
   "cell_type": "code",
   "execution_count": 12,
   "metadata": {
    "collapsed": false,
    "slideshow": {
     "slide_type": "-"
    }
   },
   "outputs": [
    {
     "data": {
      "image/png": "[encoded data removed]",
      "text/latex": [
       "$$\\left ( 841.958333333333, \\quad 841.958333333, \\quad 472.6875\\right )$$"
      ],
      "text/plain": [
       "(841.958333333333, 841.958333333, 472.6875)"
      ]
     },
     "execution_count": 12,
     "metadata": {},
     "output_type": "execute_result"
    }
   ],
   "source": [
    "Int_exacta,Int_numerica,Int_reducida"
   ]
  },
  {
   "cell_type": "markdown",
   "metadata": {
    "slideshow": {
     "slide_type": "slide"
    }
   },
   "source": [
    "## Integración de un polinomio de grado 5\n",
    "\n",
    "La integración exacta requiere 3 puntos de Gauss\n",
    "\n"
   ]
  },
  {
   "cell_type": "code",
   "execution_count": 13,
   "metadata": {
    "collapsed": false,
    "slideshow": {
     "slide_type": "-"
    }
   },
   "outputs": [
    {
     "data": {
      "image/png": "[encoded data removed]",
      "text/latex": [
       "$$- a x_{1} + a x_{2} - \\frac{b x_{1}^{2}}{2} + \\frac{b x_{2}^{2}}{2} - \\frac{c x_{1}^{3}}{3} + \\frac{c x_{2}^{3}}{3} - \\frac{d x_{1}^{4}}{4} + \\frac{d x_{2}^{4}}{4} - \\frac{e x_{1}^{5}}{5} + \\frac{e x_{2}^{5}}{5} - \\frac{f x_{1}^{6}}{6} + \\frac{f x_{2}^{6}}{6}$$"
      ],
      "text/plain": [
       "                   2       2       3       3       4       4       5       5  \n",
       "               b⋅x₁    b⋅x₂    c⋅x₁    c⋅x₂    d⋅x₁    d⋅x₂    e⋅x₁    e⋅x₂   \n",
       "-a⋅x₁ + a⋅x₂ - ───── + ───── - ───── + ───── - ───── + ───── - ───── + ───── -\n",
       "                 2       2       3       3       4       4       5       5    \n",
       "\n",
       "     6       6\n",
       " f⋅x₁    f⋅x₂ \n",
       " ───── + ─────\n",
       "   6       6  "
      ]
     },
     "execution_count": 13,
     "metadata": {},
     "output_type": "execute_result"
    }
   ],
   "source": [
    "e,f = symbols('e,f')\n",
    "g = a + b*x + c*x**2 + d*x**3 + e*x**4 + f*x**5\n",
    "\n",
    "Int_analitica = integrate(g,(x,x1,x2))\n",
    "Int_analitica"
   ]
  },
  {
   "cell_type": "code",
   "execution_count": 14,
   "metadata": {
    "collapsed": false,
    "slideshow": {
     "slide_type": "slide"
    }
   },
   "outputs": [
    {
     "data": {
      "image/png": "[encoded data removed]",
      "text/latex": [
       "$$-16007.3333333333$$"
      ],
      "text/plain": [
       "-16007.3333333333"
      ]
     },
     "execution_count": 14,
     "metadata": {},
     "output_type": "execute_result"
    }
   ],
   "source": [
    "a1 = 3.2\n",
    "b1 = 4.2\n",
    "c1 = 3.2\n",
    "d1 = 4.3\n",
    "e1 = -2\n",
    "f1 = -6\n",
    "\n",
    "xx1 = 1\n",
    "xx2 = 5\n",
    "Int_exacta = Int_analitica.subs([(a,a1),(b,b1),(c,c1),(d,d1),(e,e1),(f,f1),(x1,xx1),(x2,xx2)])\n",
    "Int_exacta"
   ]
  },
  {
   "cell_type": "markdown",
   "metadata": {
    "slideshow": {
     "slide_type": "slide"
    }
   },
   "source": [
    "### Integración numérica con 3 puntos de Gauss"
   ]
  },
  {
   "cell_type": "code",
   "execution_count": 15,
   "metadata": {
    "collapsed": false,
    "slideshow": {
     "slide_type": "-"
    }
   },
   "outputs": [
    {
     "data": {
      "text/plain": [
       "(array([-0.77459667,  0.        ,  0.77459667]),\n",
       " array([ 0.55555556,  0.88888889,  0.55555556]))"
      ]
     },
     "execution_count": 15,
     "metadata": {},
     "output_type": "execute_result"
    }
   ],
   "source": [
    "NPGauss = 3\n",
    "pgauss = np.polynomial.legendre.leggauss(NPGauss)\n",
    "pgauss"
   ]
  },
  {
   "cell_type": "code",
   "execution_count": 16,
   "metadata": {
    "collapsed": false,
    "slideshow": {
     "slide_type": "-"
    }
   },
   "outputs": [
    {
     "data": {
      "text/plain": [
       "array([ 1.45080666,  3.        ,  4.54919334])"
      ]
     },
     "execution_count": 16,
     "metadata": {},
     "output_type": "execute_result"
    }
   ],
   "source": [
    "xi = xx1 + (xx2 - xx1) / 2 * (pgauss[0] + 1)\n",
    "xi"
   ]
  },
  {
   "cell_type": "code",
   "execution_count": 17,
   "metadata": {
    "collapsed": false,
    "slideshow": {
     "slide_type": "slide"
    }
   },
   "outputs": [
    {
     "data": {
      "image/png": "[encoded data removed]",
      "text/latex": [
       "$$-16007.3333333$$"
      ],
      "text/plain": [
       "-16007.3333333"
      ]
     },
     "execution_count": 17,
     "metadata": {},
     "output_type": "execute_result"
    }
   ],
   "source": [
    "def pol5(x):\n",
    "    return a1 + b1*x + c1*x**2 + d1*x**3 + e1*x**4 + f1*x**5\n",
    "\n",
    "Int_numerica = 0\n",
    "\n",
    "for i in range(NPGauss):\n",
    "    Int_numerica += pol5(xi[i]) * (xx2-xx1)/2 * pgauss[1][i]    \n",
    "\n",
    "Int_numerica"
   ]
  },
  {
   "cell_type": "code",
   "execution_count": 18,
   "metadata": {
    "collapsed": false,
    "slideshow": {
     "slide_type": "subslide"
    }
   },
   "outputs": [
    {
     "data": {
      "image/png": "[encoded data removed]",
      "text/latex": [
       "$$\\left ( -16007.3333333333, \\quad -16007.3333333\\right )$$"
      ],
      "text/plain": [
       "(-16007.3333333333, -16007.3333333)"
      ]
     },
     "execution_count": 18,
     "metadata": {},
     "output_type": "execute_result"
    }
   ],
   "source": [
    "Int_exacta,Int_numerica"
   ]
  },
  {
   "cell_type": "markdown",
   "metadata": {
    "slideshow": {
     "slide_type": "slide"
    }
   },
   "source": [
    "### Integración  reducida con 2 puntos de Gauss"
   ]
  },
  {
   "cell_type": "code",
   "execution_count": 19,
   "metadata": {
    "collapsed": false,
    "slideshow": {
     "slide_type": "-"
    }
   },
   "outputs": [
    {
     "data": {
      "text/plain": [
       "(array([-0.57735027,  0.57735027]), array([ 1.,  1.]))"
      ]
     },
     "execution_count": 19,
     "metadata": {},
     "output_type": "execute_result"
    }
   ],
   "source": [
    "NPGauss = 2\n",
    "pgauss = np.polynomial.legendre.leggauss(NPGauss)\n",
    "pgauss"
   ]
  },
  {
   "cell_type": "code",
   "execution_count": 20,
   "metadata": {
    "collapsed": false,
    "slideshow": {
     "slide_type": "slide"
    }
   },
   "outputs": [
    {
     "data": {
      "image/png": "[encoded data removed]",
      "text/latex": [
       "$$-15483.9555556$$"
      ],
      "text/plain": [
       "-15483.9555556"
      ]
     },
     "execution_count": 20,
     "metadata": {},
     "output_type": "execute_result"
    }
   ],
   "source": [
    "xi = xx1 + (xx2 - xx1) / 2 * (pgauss[0] + 1)\n",
    "\n",
    "Int_reducida = 0\n",
    "\n",
    "for i in range(NPGauss):\n",
    "    Int_reducida += pol5(xi[i]) * (xx2-xx1)/2 * pgauss[1][i]    \n",
    "\n",
    "Int_reducida"
   ]
  },
  {
   "cell_type": "code",
   "execution_count": 21,
   "metadata": {
    "collapsed": false,
    "slideshow": {
     "slide_type": "-"
    }
   },
   "outputs": [
    {
     "data": {
      "image/png": "[encoded data removed]",
      "text/latex": [
       "$$\\left ( -16007.3333333333, \\quad -16007.3333333, \\quad -15483.9555556\\right )$$"
      ],
      "text/plain": [
       "(-16007.3333333333, -16007.3333333, -15483.9555556)"
      ]
     },
     "execution_count": 21,
     "metadata": {},
     "output_type": "execute_result"
    }
   ],
   "source": [
    "Int_exacta,Int_numerica,Int_reducida"
   ]
  },
  {
   "cell_type": "markdown",
   "metadata": {
    "slideshow": {
     "slide_type": "slide"
    }
   },
   "source": [
    "### Integración con un exceso de puntos de Gauss\n",
    "\n",
    "Es interesante observar que si se toma una cuadratura con más puntos de Gauss de los estrictamente necesarios, el resultado es idéntico, pero con un mayor coste computacional. "
   ]
  },
  {
   "cell_type": "code",
   "execution_count": 22,
   "metadata": {
    "collapsed": false,
    "slideshow": {
     "slide_type": "-"
    }
   },
   "outputs": [
    {
     "data": {
      "text/plain": [
       "(array([-0.86113631, -0.33998104,  0.33998104,  0.86113631]),\n",
       " array([ 0.34785485,  0.65214515,  0.65214515,  0.34785485]))"
      ]
     },
     "execution_count": 22,
     "metadata": {},
     "output_type": "execute_result"
    }
   ],
   "source": [
    "NPGauss = 4\n",
    "pgauss = np.polynomial.legendre.leggauss(NPGauss)\n",
    "pgauss"
   ]
  },
  {
   "cell_type": "code",
   "execution_count": 23,
   "metadata": {
    "collapsed": false,
    "slideshow": {
     "slide_type": "-"
    }
   },
   "outputs": [
    {
     "data": {
      "image/png": "[encoded data removed]",
      "text/latex": [
       "$$-16007.3333333$$"
      ],
      "text/plain": [
       "-16007.3333333"
      ]
     },
     "execution_count": 23,
     "metadata": {},
     "output_type": "execute_result"
    }
   ],
   "source": [
    "xi = xx1 + (xx2 - xx1) / 2 * (pgauss[0] + 1)\n",
    "\n",
    "Int_num_4pga = 0\n",
    "\n",
    "for i in range(NPGauss):\n",
    "    Int_num_4pga += pol5(xi[i]) * (xx2-xx1)/2 * pgauss[1][i]    \n",
    "\n",
    "Int_num_4pga"
   ]
  },
  {
   "cell_type": "code",
   "execution_count": 24,
   "metadata": {
    "collapsed": false,
    "slideshow": {
     "slide_type": "-"
    }
   },
   "outputs": [
    {
     "data": {
      "image/png": "[encoded data removed]",
      "text/latex": [
       "$$\\left ( -16007.3333333333, \\quad -16007.3333333, \\quad -15483.9555556, \\quad -16007.3333333\\right )$$"
      ],
      "text/plain": [
       "(-16007.3333333333, -16007.3333333, -15483.9555556, -16007.3333333)"
      ]
     },
     "execution_count": 24,
     "metadata": {},
     "output_type": "execute_result"
    }
   ],
   "source": [
    "Int_exacta,Int_numerica,Int_reducida,Int_num_4pga"
   ]
  }
 ],
 "metadata": {
  "kernelspec": {
   "display_name": "Python 2",
   "language": "python",
   "name": "python2"
  },
  "language_info": {
   "codemirror_mode": {
    "name": "ipython",
    "version": 2
   },
   "file_extension": ".py",
   "mimetype": "text/x-python",
   "name": "python",
   "nbconvert_exporter": "python",
   "pygments_lexer": "ipython2",
   "version": "2.7.9"
  }
 },
 "nbformat": 4,
 "nbformat_minor": 0
}
