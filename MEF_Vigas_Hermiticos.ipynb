{
 "cells": [
  {
   "cell_type": "markdown",
   "metadata": {
    "slideshow": {
     "slide_type": "slide"
    }
   },
   "source": [
    "# El MEF para vigas. \n",
    "## Funciones de forma hermíticas. \n",
    "\n",
    "Análisis de Estructuras. Grado en Ingeniería Civil. \n",
    "\n",
    "Autor: \n",
    "\n",
    "+ Alejandro E. Martínez-Castro, Esther Puertas García, Rafael Gallego.\n",
    "+ Departamento de Mecánica de Estructuras e Ingeniería Hidráulica. Universidad de Granada.\n",
    "\n",
    "\n",
    "En este cuaderno se presenta un procedimiento sistemático que permite obtener cualquier base de funciones de forma. \n",
    "\n",
    "En primer lugar se obtiene la base hermítica de funciones cúbicas. \n",
    "\n",
    "Finalmente se plantean dos ejercicios, en los que se plantean otras bases de funciones. "
   ]
  },
  {
   "cell_type": "markdown",
   "metadata": {
    "slideshow": {
     "slide_type": "slide"
    }
   },
   "source": [
    "## Introducción\n",
    "\n",
    "El elemento más utilizado en problemas de flexión de vigas de Bernoulli-Euler (vigas esbeltas) es el cúbico de 2 nodos. Este elemento tiene en cada nodo, 2 grados de libertad (desplazamiento vertical y giro), análogo al elemento-barra (P2D) visto en Cálculo Matricial.  \n",
    "\n",
    "Para este cuaderno se va a emplear el paquete de cálculo simbólico de Python denominado [SymPy](http://www.sympy.org/es/). Dentro del entorno del servidor Jupyter, hay un enlace a SymPy directamente en la pestaña de ayuda \"Help\". \n",
    "\n",
    "Hay varias formas de obtener SymPy\n",
    "\n",
    "- Desde Anaconda, con el comando: \n",
    "      conda install sympy\n",
    "  Este comando puede ejecutarse desde una terminal de Windows (comando CMD), o en Linux / Mac, directamente desde una shell. \n",
    "\n",
    "- Mediante el instalador pip:\n",
    "      pip install sympy "
   ]
  },
  {
   "cell_type": "code",
   "execution_count": 1,
   "metadata": {
    "collapsed": false,
    "slideshow": {
     "slide_type": "slide"
    }
   },
   "outputs": [
    {
     "name": "stdout",
     "output_type": "stream",
     "text": [
      "IPython console for SymPy 0.7.6.1 (Python 2.7.11-64-bit) (ground types: python)\n",
      "\n",
      "These commands were executed:\n",
      ">>> from __future__ import division\n",
      ">>> from sympy import *\n",
      ">>> x, y, z, t = symbols('x y z t')\n",
      ">>> k, m, n = symbols('k m n', integer=True)\n",
      ">>> f, g, h = symbols('f g h', cls=Function)\n",
      ">>> init_printing()\n",
      "\n",
      "Documentation can be found at http://www.sympy.org\n"
     ]
    }
   ],
   "source": [
    "from sympy import init_session\n",
    "init_session()"
   ]
  },
  {
   "cell_type": "markdown",
   "metadata": {
    "slideshow": {
     "slide_type": "-"
    }
   },
   "source": [
    "Esto permite que se carguen una serie de variables y funciones por defecto. \n",
    "\n",
    "A continuación se definirá un nuevo símbolo, \"L\", que se empleará para hacer referencia a la longitud del elemento."
   ]
  },
  {
   "cell_type": "code",
   "execution_count": 2,
   "metadata": {
    "collapsed": true,
    "slideshow": {
     "slide_type": "slide"
    }
   },
   "outputs": [],
   "source": [
    "from sympy.matrices import *\n",
    "L = symbols('L')"
   ]
  },
  {
   "cell_type": "markdown",
   "metadata": {
    "slideshow": {
     "slide_type": "slide"
    }
   },
   "source": [
    "## Determinación de las funciones de forma\n",
    "\n",
    "Consideraremos la notación $h_1(x)$, $h_2(x)$, $h_3(x)$, y $h_4(x)$ para las funciones de forma hermíticas. \n",
    "\n",
    "Estas funciones no forman una base lagrangiana, puesto que las condiciones que se imponen no sólo implican valores puntuales del desplazamiento $w$, sino también del giro $\\theta$. Cada nodo tiene 2 condiciones de contorno. \n",
    "\n",
    "Las funciones de hermite forman base del espacio de polinomios de grado 3. Cada función $h_i(x)$ es combinación lineal de la base de funciones $\\mathcal{B} =  \\lbrace{1, x, x^2, x^3} \\rbrace$.\n",
    "\n",
    "Una función de forma $h_i(x)$ deberá podre escribirse como: \n",
    "\n",
    "\\begin{equation}\n",
    "h_i(x) = \\alpha_1^{(i)} \\cdot 1 + \\alpha_2^{(i)} \\cdot x + \\alpha_3^{(i)} \\cdot x^2 + \\alpha_4^{(i)} \\cdot x^3\n",
    "\\end{equation}\n",
    "\n",
    "siendo $\\alpha_j^(i)$, con $i,j$ variando desde 1 hasta 4, los cuatro coeficientes de la función de forma $i$-ésima. \n",
    "\n",
    "El objetivo es determinar los cuatro coeficientes, teniendo en cuenta las condiciones que se imponen a cada función de forma. \n",
    "\n",
    "- La función $h_1(x)$ debe verificar $h_1(0) = 1$, $h'_1(0) = 0$, $h_1(L) = 0$, $h'_1(L) = 0$.\n",
    "- La función $h_2(x)$ debe verificar $h_2(0) = 0$, $h'_2(0) = 1$, $h_2(L) = 0$, $h'_2(L) = 0$.\n",
    "- La función $h_3(x)$ debe verificar $h_3(0) = 0$, $h'_3(0) = 0$, $h_3(L) = 1$, $h'_3(L) = 0$.\n",
    "- La función $h_4(x)$ debe verificar $h_4(0) = 0$, $h'_4(0) = 0$, $h_4(L) = 0$, $h'_3(L) = 1$.\n"
   ]
  },
  {
   "cell_type": "markdown",
   "metadata": {
    "slideshow": {
     "slide_type": "slide"
    }
   },
   "source": [
    "Para determinar la primera función de forma, se pueden imponer las cuatro condiciones mediante cuatro ecuaciones. Escribiendo $h_1(x)$ como un producto matriz-vector, se tiene: \n",
    "\n",
    "\\begin{equation}\n",
    "h_1(x) = \\left(1\\, x\\, x^2 \\, x^3 \\right) \\cdot \n",
    "\\begin{pmatrix} \\alpha_1^{(1)} \\\\ \\alpha_2^{(1)} \\\\ \\alpha_3^{(1)} \\\\ \\alpha_4^{(1)} \\end{pmatrix}\n",
    "\\end{equation}"
   ]
  },
  {
   "cell_type": "markdown",
   "metadata": {
    "slideshow": {
     "slide_type": "slide"
    }
   },
   "source": [
    "Las cuatro condiciones de $h_1(x)$ pueden escribirse en formato matricial evaluando la función y sus derivadas en 0 y L. El sistema se escribirá en formato matricial,\n",
    "\n",
    "\\begin{equation}\n",
    "\\left[\\begin{matrix}1 & 0 & 0 & 0\\\\0 & 1 & 0 & 0\\\\1 & L & L^{2} & L^{3}\\\\0 & 1 & 2 L & 3 L^{2}\\end{matrix}\\right] \\cdot \n",
    "\\begin{pmatrix} \\alpha_1^{(1)} \\\\ \\alpha_2^{(1)} \\\\ \\alpha_3^{(1)} \\\\ \\alpha_4^{(1)}\\end{pmatrix} =\n",
    "\\begin{pmatrix} 1 \\\\ 0 \\\\ 0 \\\\ 0\\end{pmatrix}\n",
    "\\end{equation}"
   ]
  },
  {
   "cell_type": "markdown",
   "metadata": {
    "slideshow": {
     "slide_type": "slide"
    }
   },
   "source": [
    "Nótese que en cada fila del producto matriz-vector representa la evaluación de la función de forma $h_1(x)$ o de su derivada $h'_1(x)$ en $x=0$ y $x=L$. La primera fila corresponde a $h_1(0)$. La segunda, a $h'_1(0)$. La tercera, a $h_1(L)$, y la cuarta, a $h'_1(L)$. \n",
    "\n",
    "Resolviendo este sistema, pueden obtenerse los cuatro coeficientes que definen $h_1(x)$. \n",
    "\n",
    "Nótese que este sistema es muy parecido al que se debe plantear para definir los coeficientes de la segunda función de forma. \n",
    "\n",
    "\\begin{equation}\n",
    "\\left[\\begin{matrix}1 & 0 & 0 & 0\\\\0 & 1 & 0 & 0\\\\1 & L & L^{2} & L^{3}\\\\0 & 1 & 2 L & 3 L^{2}\\end{matrix}\\right] \\cdot \n",
    "\\begin{pmatrix} \\alpha_1^{(2)} \\\\ \\alpha_2^{(2)} \\\\ \\alpha_3^{(2)} \\\\ \\alpha_4^{(2)} \\end{pmatrix} =\n",
    "\\begin{pmatrix} 0 \\\\ 1 \\\\ 0 \\\\ 0\\end{pmatrix}\n",
    "\\end{equation}"
   ]
  },
  {
   "cell_type": "markdown",
   "metadata": {
    "slideshow": {
     "slide_type": "slide"
    }
   },
   "source": [
    "Los cuatro sistemas de ecuaciones (para las cuatro funciones de forma) pueden escribirse a la vez, mediante un producto matricial.\n",
    "\n",
    "\\begin{equation}\n",
    "\\left[\\begin{matrix}1 & 0 & 0 & 0\\\\0 & 1 & 0 & 0\\\\1 & L & L^{2} & L^{3}\\\\0 & 1 & 2 L & 3 L^{2}\\end{matrix}\\right] \\cdot \n",
    "\\left[\\begin{matrix} \n",
    "\\alpha_1^{(1)} & \\alpha_1^{(2)} & \\alpha_1^{(3)} & \\alpha_1^{(4)}\\\\\n",
    "\\alpha_2^{(1)} & \\alpha_2^{(2)} & \\alpha_2^{(3)} & \\alpha_2^{(4)}\\\\\n",
    "\\alpha_3^{(1)} & \\alpha_3^{(2)} & \\alpha_3^{(3)} & \\alpha_3^{(4)}\\\\\n",
    "\\alpha_4^{(1)} & \\alpha_4^{(2)} & \\alpha_4^{(3)} & \\alpha_4^{(4)}\n",
    "\\end{matrix} \\right]\n",
    " = \\left[\n",
    "\\begin{matrix} \n",
    "1 & 0 & 0 & 0  \\\\\n",
    "0 & 1 & 0 & 0  \\\\\n",
    "0 & 0 & 1 & 0  \\\\\n",
    "0 & 0 & 0 & 1  \n",
    "\\end{matrix} \\right]\n",
    "\\end{equation}\n"
   ]
  },
  {
   "cell_type": "markdown",
   "metadata": {},
   "source": [
    "Denominando \n",
    "\n",
    "\\begin{equation}\n",
    "\\mathbf{M} = \\left[\\begin{matrix}\n",
    "1 & 0 & 0 & 0\\\\\n",
    "0 & 1 & 0 & 0\\\\\n",
    "1 & L & L^{2} & L^{3}\\\\\n",
    "0 & 1 & 2 L & 3 L^{2}\\end{matrix}\\right]\n",
    "\\end{equation}\n",
    "\n",
    "Claramente, la matriz de coeficientes debe ser la inversa de $\\mathbf{M}$, puesto que el producto\n",
    "\n",
    "\\begin{equation}\n",
    "\\mathbf{M} \\cdot \\mathbf{M}^{-1} = \\mathbf{I}\n",
    "\\end{equation}\n",
    "\n",
    "con \n",
    "\n",
    "\\begin{equation}\n",
    "\\mathbf{M}^{-1} = \\left[\\begin{matrix} \n",
    "\\alpha_1^{(1)} & \\alpha_1^{(2)} & \\alpha_1^{(3)} & \\alpha_1^{(4)}\\\\\n",
    "\\alpha_2^{(1)} & \\alpha_2^{(2)} & \\alpha_2^{(3)} & \\alpha_2^{(4)}\\\\\n",
    "\\alpha_3^{(1)} & \\alpha_3^{(2)} & \\alpha_3^{(3)} & \\alpha_3^{(4)}\\\\\n",
    "\\alpha_4^{(1)} & \\alpha_4^{(2)} & \\alpha_4^{(3)} & \\alpha_4^{(4)}\n",
    "\\end{matrix} \\right]\n",
    "\\end{equation}"
   ]
  },
  {
   "cell_type": "markdown",
   "metadata": {
    "slideshow": {
     "slide_type": "slide"
    }
   },
   "source": [
    "## Determinación de la inversa mediante SymPy\n",
    "\n",
    "A continuación se definirá la matriz $\\mathbf{M}$ simbólica, y se calculará la expresión de su inversa. \n",
    "\n",
    "Esta inversa, por columnas, contiene los coeficientes de las funciones de forma. En primer lugar, se define la base de funciones. "
   ]
  },
  {
   "cell_type": "code",
   "execution_count": 3,
   "metadata": {
    "collapsed": false
   },
   "outputs": [
    {
     "data": {
      "image/png": "[encoded data removed]",
      "text/latex": [
       "$$\\left[\\begin{matrix}1 & x & x^{2} & x^{3}\\end{matrix}\\right]$$"
      ],
      "text/plain": [
       "⎡       2   3⎤\n",
       "⎣1  x  x   x ⎦"
      ]
     },
     "execution_count": 3,
     "metadata": {},
     "output_type": "execute_result"
    }
   ],
   "source": [
    "funciones = Matrix([[1, x, x**2, x**3]])\n",
    "funciones"
   ]
  },
  {
   "cell_type": "markdown",
   "metadata": {},
   "source": [
    "La derivada de esta base se puede calcular también, en formato simbólico. "
   ]
  },
  {
   "cell_type": "code",
   "execution_count": 4,
   "metadata": {
    "collapsed": false
   },
   "outputs": [
    {
     "data": {
      "image/png": "[encoded data removed]",
      "text/latex": [
       "$$\\left[\\begin{matrix}0 & 1 & 2 x & 3 x^{2}\\end{matrix}\\right]$$"
      ],
      "text/plain": [
       "⎡              2⎤\n",
       "⎣0  1  2⋅x  3⋅x ⎦"
      ]
     },
     "execution_count": 4,
     "metadata": {},
     "output_type": "execute_result"
    }
   ],
   "source": [
    "Dfunciones = funciones.diff(x)\n",
    "Dfunciones"
   ]
  },
  {
   "cell_type": "markdown",
   "metadata": {},
   "source": [
    "A continuación se construye la matriz M. En cada fila, contendrá la evaluación de la base y su derivada en $x=0$ y $x=L$. \n",
    "\n",
    "Observe cómo se generan las cuatro filas, y cómo se evalúan las funciones o sus derivadas, según corresponda a cada ecuación. \n",
    "\n",
    "Con la función \n",
    "\n",
    "    Matrix.vstack\n",
    "    \n",
    "Se genera una matriz a partir de las filas. "
   ]
  },
  {
   "cell_type": "code",
   "execution_count": 5,
   "metadata": {
    "collapsed": false
   },
   "outputs": [
    {
     "data": {
      "image/png": "[encoded data removed]",
      "text/latex": [
       "$$\\left[\\begin{matrix}1 & 0 & 0 & 0\\\\0 & 1 & 0 & 0\\\\1 & L & L^{2} & L^{3}\\\\0 & 1 & 2 L & 3 L^{2}\\end{matrix}\\right]$$"
      ],
      "text/plain": [
       "⎡1  0   0    0  ⎤\n",
       "⎢               ⎥\n",
       "⎢0  1   0    0  ⎥\n",
       "⎢               ⎥\n",
       "⎢       2     3 ⎥\n",
       "⎢1  L  L     L  ⎥\n",
       "⎢               ⎥\n",
       "⎢              2⎥\n",
       "⎣0  1  2⋅L  3⋅L ⎦"
      ]
     },
     "execution_count": 5,
     "metadata": {},
     "output_type": "execute_result"
    }
   ],
   "source": [
    "matM = Matrix.vstack(funciones.subs(x,0),Dfunciones.subs(x,0),funciones.subs(x,L),Dfunciones.subs(x,L))\n",
    "matM"
   ]
  },
  {
   "cell_type": "markdown",
   "metadata": {
    "slideshow": {
     "slide_type": "slide"
    }
   },
   "source": [
    "A continuación se evalúa la expresión simbólica de la inversa."
   ]
  },
  {
   "cell_type": "code",
   "execution_count": 6,
   "metadata": {
    "collapsed": false,
    "slideshow": {
     "slide_type": "-"
    }
   },
   "outputs": [
    {
     "data": {
      "image/png": "[encoded data removed]",
      "text/latex": [
       "$$\\left[\\begin{matrix}1 & 0 & 0 & 0\\\\0 & 1 & 0 & 0\\\\- \\frac{3}{L^{2}} & - \\frac{2}{L} & \\frac{3}{L^{2}} & - \\frac{1}{L}\\\\\\frac{2}{L^{3}} & \\frac{1}{L^{2}} & - \\frac{2}{L^{3}} & \\frac{1}{L^{2}}\\end{matrix}\\right]$$"
      ],
      "text/plain": [
       "⎡ 1    0    0    0 ⎤\n",
       "⎢                  ⎥\n",
       "⎢ 0    1    0    0 ⎥\n",
       "⎢                  ⎥\n",
       "⎢-3   -2   3    -1 ⎥\n",
       "⎢───  ───  ──   ───⎥\n",
       "⎢  2   L    2    L ⎥\n",
       "⎢ L        L       ⎥\n",
       "⎢                  ⎥\n",
       "⎢2    1    -2   1  ⎥\n",
       "⎢──   ──   ───  ── ⎥\n",
       "⎢ 3    2     3   2 ⎥\n",
       "⎣L    L     L   L  ⎦"
      ]
     },
     "execution_count": 6,
     "metadata": {},
     "output_type": "execute_result"
    }
   ],
   "source": [
    "Inv_matM = matM.inv()\n",
    "Inv_matM"
   ]
  },
  {
   "cell_type": "markdown",
   "metadata": {
    "collapsed": false
   },
   "source": [
    "## Definición de las funciones de forma\n",
    "\n",
    "La matriz $\\mathbf{M}^{-1}$ contiene, por columnas, los coeficientes que definen las funciones de forma. \n",
    "\n",
    "Para obtener las funciones de forma, basta multiplicar la base de funciones por los coeficientes (columnas) de esta matriz inversa. "
   ]
  },
  {
   "cell_type": "code",
   "execution_count": 7,
   "metadata": {
    "collapsed": false
   },
   "outputs": [],
   "source": [
    "h1 = funciones.dot(Inv_matM.col(0))\n",
    "h2 = funciones.dot(Inv_matM.col(1))\n",
    "h3 = funciones.dot(Inv_matM.col(2))\n",
    "h4 = funciones.dot(Inv_matM.col(3))"
   ]
  },
  {
   "cell_type": "code",
   "execution_count": 8,
   "metadata": {
    "collapsed": false
   },
   "outputs": [
    {
     "name": "stdout",
     "output_type": "stream",
     "text": [
      "Función h1(x) = 1 - 3*x**2/L**2 + 2*x**3/L**3\n"
     ]
    },
    {
     "data": {
      "image/png": "[encoded data removed]",
      "text/latex": [
       "$$1 - \\frac{3 x^{2}}{L^{2}} + \\frac{2 x^{3}}{L^{3}}$$"
      ],
      "text/plain": [
       "       2      3\n",
       "    3⋅x    2⋅x \n",
       "1 - ──── + ────\n",
       "      2      3 \n",
       "     L      L  "
      ]
     },
     "execution_count": 8,
     "metadata": {},
     "output_type": "execute_result"
    }
   ],
   "source": [
    "print 'Función h1(x) =', h1\n",
    "h1"
   ]
  },
  {
   "cell_type": "code",
   "execution_count": 9,
   "metadata": {
    "collapsed": false
   },
   "outputs": [
    {
     "name": "stdout",
     "output_type": "stream",
     "text": [
      "Función h2(x) = x - 2*x**2/L + x**3/L**2\n"
     ]
    },
    {
     "data": {
      "image/png": "[encoded data removed]",
      "text/latex": [
       "$$x - \\frac{2 x^{2}}{L} + \\frac{x^{3}}{L^{2}}$$"
      ],
      "text/plain": [
       "       2    3\n",
       "    2⋅x    x \n",
       "x - ──── + ──\n",
       "     L      2\n",
       "           L "
      ]
     },
     "execution_count": 9,
     "metadata": {},
     "output_type": "execute_result"
    }
   ],
   "source": [
    "print 'Función h2(x) =', h2\n",
    "h2"
   ]
  },
  {
   "cell_type": "code",
   "execution_count": 10,
   "metadata": {
    "collapsed": false
   },
   "outputs": [
    {
     "name": "stdout",
     "output_type": "stream",
     "text": [
      "Función h3(x) = 3*x**2/L**2 - 2*x**3/L**3\n"
     ]
    },
    {
     "data": {
      "image/png": "[encoded data removed]",
      "text/latex": [
       "$$\\frac{3 x^{2}}{L^{2}} - \\frac{2 x^{3}}{L^{3}}$$"
      ],
      "text/plain": [
       "   2      3\n",
       "3⋅x    2⋅x \n",
       "──── - ────\n",
       "  2      3 \n",
       " L      L  "
      ]
     },
     "execution_count": 10,
     "metadata": {},
     "output_type": "execute_result"
    }
   ],
   "source": [
    "print 'Función h3(x) =', h3\n",
    "h3"
   ]
  },
  {
   "cell_type": "code",
   "execution_count": 11,
   "metadata": {
    "collapsed": false
   },
   "outputs": [
    {
     "name": "stdout",
     "output_type": "stream",
     "text": [
      "Función h4(x) =  -x**2/L + x**3/L**2\n"
     ]
    },
    {
     "data": {
      "image/png": "[encoded data removed]",
      "text/latex": [
       "$$- \\frac{x^{2}}{L} + \\frac{x^{3}}{L^{2}}$$"
      ],
      "text/plain": [
       "   2    3\n",
       "  x    x \n",
       "- ── + ──\n",
       "  L     2\n",
       "       L "
      ]
     },
     "execution_count": 11,
     "metadata": {},
     "output_type": "execute_result"
    }
   ],
   "source": [
    "print 'Función h4(x) = ', h4\n",
    "h4"
   ]
  },
  {
   "cell_type": "markdown",
   "metadata": {},
   "source": [
    "Las funciones de forma tienen, por tanto, las siguientes expresiones: \n",
    "\n",
    "\\begin{align}\n",
    "h_1(x)&  = 1 - \\frac{3 x^{2}}{L^{2}} + \\frac{2 x^{3}}{L^{3}} \\\\\n",
    "h_2(x)& = x - \\frac{2 x^{2}}{L} + \\frac{x^{3}}{L^{2}} \\\\\n",
    "h_3(x)& = \\frac{3 x^{2}}{L^{2}} - \\frac{2 x^{3}}{L^{3}} \\\\\n",
    "h_4(x)& = - \\frac{x^{2}}{L} + \\frac{x^{3}}{L^{2}}\n",
    "\\end{align}\n",
    "\n",
    "Para obtener estas expresiones formateadas se ha usado el comando print latex(), que devuelve los comandos de $\\LaTeX$ necesarios para escribir las ecuaciones. "
   ]
  },
  {
   "cell_type": "code",
   "execution_count": 12,
   "metadata": {
    "collapsed": false
   },
   "outputs": [
    {
     "name": "stdout",
     "output_type": "stream",
     "text": [
      "1 - \\frac{3 x^{2}}{L^{2}} + \\frac{2 x^{3}}{L^{3}}\n",
      "x - \\frac{2 x^{2}}{L} + \\frac{x^{3}}{L^{2}}\n",
      "\\frac{3 x^{2}}{L^{2}} - \\frac{2 x^{3}}{L^{3}}\n",
      "- \\frac{x^{2}}{L} + \\frac{x^{3}}{L^{2}}\n"
     ]
    }
   ],
   "source": [
    "print latex(h1)\n",
    "print latex(h2)\n",
    "print latex(h3)\n",
    "print latex(h4)"
   ]
  },
  {
   "cell_type": "markdown",
   "metadata": {},
   "source": [
    "## Dibujo de las funciones de forma hermíticas\n",
    "\n",
    "A continuación se dibujan las funciones de forma. Puesto que éstas dependen de $L$, se ha tomado el intervalo $L=1$ para tener una referencia. \n",
    "\n",
    "La librería SymPy tiene sus propias funciones de dibujo. \n",
    "\n",
    "Para que se muestren dentro del cuaderno, se cargan las opciones de mostrar \"en línea\". "
   ]
  },
  {
   "cell_type": "code",
   "execution_count": 13,
   "metadata": {
    "collapsed": false,
    "slideshow": {
     "slide_type": "slide"
    }
   },
   "outputs": [
    {
     "name": "stderr",
     "output_type": "stream",
     "text": [
      "WARNING: pylab import has clobbered these variables: ['Polygon', 'cbrt', 'poly', 'sign', 'flatten', 'conjugate', 'diff', 'tan', 'Circle', 'roots', 'plot', 'eye', 'power', 'floor', 'diag', 'var', 'nan', 'sqrt', 'source', 'add', 'zeros', 'take', 'prod', 'plotting', 'product', 'seterr', 'trace', 'multinomial', 'transpose', 'test', 'ones', 'sinh', 'vectorize', 'cosh', 'trunc', 'cos', 'pi', 'f', 'mod', 'tanh', 'det', 'beta', 'sin', 'binomial', 'solve', 'log', 'exp', 'reshape', 'invert', 'gamma', 'interactive']\n",
      "`%matplotlib` prevents importing * from pylab and numpy\n",
      "/home/alex/anaconda/lib/python2.7/site-packages/matplotlib/collections.py:590: FutureWarning: elementwise comparison failed; returning scalar instead, but in the future will perform elementwise comparison\n",
      "  if self._edgecolors == str('face'):\n"
     ]
    },
    {
     "name": "stdout",
     "output_type": "stream",
     "text": [
      "Populating the interactive namespace from numpy and matplotlib\n"
     ]
    },
    {
     "data": {
      "image/png": "[encoded data removed]",
      "text/plain": [
       "<matplotlib.figure.Figure at 0x7f4749438090>"
      ]
     },
     "metadata": {},
     "output_type": "display_data"
    }
   ],
   "source": [
    "%pylab inline\n",
    "from sympy.plotting import plot\n",
    "\n",
    "p1 = plot(h1.subs('L',1),(x,0,1))"
   ]
  },
  {
   "cell_type": "code",
   "execution_count": 14,
   "metadata": {
    "collapsed": false
   },
   "outputs": [
    {
     "data": {
      "image/png": "[encoded data removed]",
      "text/plain": [
       "<matplotlib.figure.Figure at 0x7f4746fc6750>"
      ]
     },
     "metadata": {},
     "output_type": "display_data"
    },
    {
     "data": {
      "text/plain": [
       "<sympy.plotting.plot.Plot at 0x7f474fd31790>"
      ]
     },
     "execution_count": 14,
     "metadata": {},
     "output_type": "execute_result"
    }
   ],
   "source": [
    "plot (h2.subs('L',1),(x,0,1))"
   ]
  },
  {
   "cell_type": "code",
   "execution_count": 15,
   "metadata": {
    "collapsed": false
   },
   "outputs": [
    {
     "data": {
      "image/png": "[encoded data removed]",
      "text/plain": [
       "<matplotlib.figure.Figure at 0x7f4746cf14d0>"
      ]
     },
     "metadata": {},
     "output_type": "display_data"
    },
    {
     "data": {
      "text/plain": [
       "<sympy.plotting.plot.Plot at 0x7f474fd31650>"
      ]
     },
     "execution_count": 15,
     "metadata": {},
     "output_type": "execute_result"
    }
   ],
   "source": [
    "plot (h3.subs('L',1),(x,0,1))"
   ]
  },
  {
   "cell_type": "code",
   "execution_count": 16,
   "metadata": {
    "collapsed": false
   },
   "outputs": [
    {
     "data": {
      "image/png": "[encoded data removed]",
      "text/plain": [
       "<matplotlib.figure.Figure at 0x7f4746c1be50>"
      ]
     },
     "metadata": {},
     "output_type": "display_data"
    },
    {
     "data": {
      "text/plain": [
       "<sympy.plotting.plot.Plot at 0x7f4746be5dd0>"
      ]
     },
     "execution_count": 16,
     "metadata": {},
     "output_type": "execute_result"
    }
   ],
   "source": [
    "plot (h4.subs('L',1),(x,0,1))"
   ]
  },
  {
   "cell_type": "markdown",
   "metadata": {
    "slideshow": {
     "slide_type": "slide"
    }
   },
   "source": [
    "## Funciones de forma en coordenadas naturales\n",
    "\n",
    "En coordenadas naturales $\\xi$, con $\\xi \\in [-1,1]$ las funciones de forma pueden definirse de forma análoga. \n",
    "\n",
    "La base en esta ocasión está formada por las funciones $\\lbrace1,\\xi,\\xi^2,\\xi^3 \\rbrace$.\n",
    "\n",
    "En esta ocasión se evalúa en los extremos del intervalo. \n",
    "\n",
    "Estas funciones pueden obtenerse mediante un procedimiento análogo al visto anteriormente, teniendo en cuenta que se debe evaluar en los extremos $\\xi = -1$ y $\\xi = 1$. \n",
    "\n",
    "Para trabajar en simbólico se establecerá el símbolo $t$ para la letra $\\xi$. "
   ]
  },
  {
   "cell_type": "code",
   "execution_count": 17,
   "metadata": {
    "collapsed": false
   },
   "outputs": [
    {
     "data": {
      "image/png": "[encoded data removed]",
      "text/latex": [
       "$$\\left[\\begin{matrix}1 & t & t^{2} & t^{3}\\end{matrix}\\right]$$"
      ],
      "text/plain": [
       "⎡       2   3⎤\n",
       "⎣1  t  t   t ⎦"
      ]
     },
     "execution_count": 17,
     "metadata": {},
     "output_type": "execute_result"
    }
   ],
   "source": [
    "t = Symbol('t')\n",
    "base_nat = Matrix([[1, t, t**2, t**3]])\n",
    "base_nat"
   ]
  },
  {
   "cell_type": "code",
   "execution_count": 18,
   "metadata": {
    "collapsed": false,
    "slideshow": {
     "slide_type": "slide"
    }
   },
   "outputs": [
    {
     "data": {
      "image/png": "[encoded data removed]",
      "text/latex": [
       "$$\\left[\\begin{matrix}0 & 1 & 2 t & 3 t^{2}\\end{matrix}\\right]$$"
      ],
      "text/plain": [
       "⎡              2⎤\n",
       "⎣0  1  2⋅t  3⋅t ⎦"
      ]
     },
     "execution_count": 18,
     "metadata": {},
     "output_type": "execute_result"
    }
   ],
   "source": [
    "Dbase_nat = base_nat.diff(t)\n",
    "Dbase_nat"
   ]
  },
  {
   "cell_type": "code",
   "execution_count": 19,
   "metadata": {
    "collapsed": false,
    "slideshow": {
     "slide_type": "slide"
    }
   },
   "outputs": [
    {
     "data": {
      "image/png": "[encoded data removed]",
      "text/latex": [
       "$$\\left[\\begin{matrix}1 & -1 & 1 & -1\\\\0 & 1 & -2 & 3\\\\1 & 1 & 1 & 1\\\\0 & 1 & 2 & 3\\end{matrix}\\right]$$"
      ],
      "text/plain": [
       "⎡1  -1  1   -1⎤\n",
       "⎢             ⎥\n",
       "⎢0  1   -2  3 ⎥\n",
       "⎢             ⎥\n",
       "⎢1  1   1   1 ⎥\n",
       "⎢             ⎥\n",
       "⎣0  1   2   3 ⎦"
      ]
     },
     "execution_count": 19,
     "metadata": {},
     "output_type": "execute_result"
    }
   ],
   "source": [
    "matM_nat = Matrix.vstack(base_nat.subs(t,-1),Dbase_nat.subs(t,-1),base_nat.subs(t,1),Dbase_nat.subs(t,1))\n",
    "matM_nat"
   ]
  },
  {
   "cell_type": "code",
   "execution_count": 20,
   "metadata": {
    "collapsed": false,
    "slideshow": {
     "slide_type": "slide"
    }
   },
   "outputs": [
    {
     "data": {
      "image/png": "[encoded data removed]",
      "text/latex": [
       "$$\\left[\\begin{matrix}\\frac{1}{2} & \\frac{1}{4} & \\frac{1}{2} & - \\frac{1}{4}\\\\- \\frac{3}{4} & - \\frac{1}{4} & \\frac{3}{4} & - \\frac{1}{4}\\\\0 & - \\frac{1}{4} & 0 & \\frac{1}{4}\\\\\\frac{1}{4} & \\frac{1}{4} & - \\frac{1}{4} & \\frac{1}{4}\\end{matrix}\\right]$$"
      ],
      "text/plain": [
       "⎡1/2   1/4   1/2   -1/4⎤\n",
       "⎢                      ⎥\n",
       "⎢-3/4  -1/4  3/4   -1/4⎥\n",
       "⎢                      ⎥\n",
       "⎢ 0    -1/4   0    1/4 ⎥\n",
       "⎢                      ⎥\n",
       "⎣1/4   1/4   -1/4  1/4 ⎦"
      ]
     },
     "execution_count": 20,
     "metadata": {},
     "output_type": "execute_result"
    }
   ],
   "source": [
    "Inv_matM_nat = matM_nat.inv()\n",
    "Inv_matM_nat"
   ]
  },
  {
   "cell_type": "markdown",
   "metadata": {
    "slideshow": {
     "slide_type": "slide"
    }
   },
   "source": [
    "Expresión de las funciones de forma en coordenadas naturales"
   ]
  },
  {
   "cell_type": "code",
   "execution_count": 21,
   "metadata": {
    "collapsed": true
   },
   "outputs": [],
   "source": [
    "N1 = base_nat.dot(Inv_matM_nat.col(0))\n",
    "N2 = base_nat.dot(Inv_matM_nat.col(1))\n",
    "N3 = base_nat.dot(Inv_matM_nat.col(2))\n",
    "N4 = base_nat.dot(Inv_matM_nat.col(3))"
   ]
  },
  {
   "cell_type": "code",
   "execution_count": 22,
   "metadata": {
    "collapsed": false
   },
   "outputs": [
    {
     "data": {
      "image/png": "[encoded data removed]",
      "text/latex": [
       "$$\\frac{t^{3}}{4} - \\frac{3 t}{4} + \\frac{1}{2}$$"
      ],
      "text/plain": [
       " 3          \n",
       "t    3⋅t   1\n",
       "── - ─── + ─\n",
       "4     4    2"
      ]
     },
     "execution_count": 22,
     "metadata": {},
     "output_type": "execute_result"
    }
   ],
   "source": [
    "N1"
   ]
  },
  {
   "cell_type": "code",
   "execution_count": 23,
   "metadata": {
    "collapsed": false
   },
   "outputs": [
    {
     "data": {
      "image/png": "[encoded data removed]",
      "text/latex": [
       "$$\\frac{t^{3}}{4} - \\frac{t^{2}}{4} - \\frac{t}{4} + \\frac{1}{4}$$"
      ],
      "text/plain": [
       " 3    2        \n",
       "t    t    t   1\n",
       "── - ── - ─ + ─\n",
       "4    4    4   4"
      ]
     },
     "execution_count": 23,
     "metadata": {},
     "output_type": "execute_result"
    }
   ],
   "source": [
    "N2"
   ]
  },
  {
   "cell_type": "code",
   "execution_count": 24,
   "metadata": {
    "collapsed": false
   },
   "outputs": [
    {
     "data": {
      "image/png": "[encoded data removed]",
      "text/latex": [
       "$$- \\frac{t^{3}}{4} + \\frac{3 t}{4} + \\frac{1}{2}$$"
      ],
      "text/plain": [
       "   3          \n",
       "  t    3⋅t   1\n",
       "- ── + ─── + ─\n",
       "  4     4    2"
      ]
     },
     "execution_count": 24,
     "metadata": {},
     "output_type": "execute_result"
    }
   ],
   "source": [
    "N3"
   ]
  },
  {
   "cell_type": "code",
   "execution_count": 25,
   "metadata": {
    "collapsed": false
   },
   "outputs": [
    {
     "data": {
      "image/png": "[encoded data removed]",
      "text/latex": [
       "$$\\frac{t^{3}}{4} + \\frac{t^{2}}{4} - \\frac{t}{4} - \\frac{1}{4}$$"
      ],
      "text/plain": [
       " 3    2        \n",
       "t    t    t   1\n",
       "── + ── - ─ - ─\n",
       "4    4    4   4"
      ]
     },
     "execution_count": 25,
     "metadata": {},
     "output_type": "execute_result"
    }
   ],
   "source": [
    "N4"
   ]
  },
  {
   "cell_type": "markdown",
   "metadata": {
    "slideshow": {
     "slide_type": "slide"
    }
   },
   "source": [
    "Nótese que las funciones $N_2(t)$ y $N_4(t)$ proporcionan un giro unitario en la variable $t$, pero no en la variable $x$. \n",
    "\n",
    "Sustituyendo la variable $t$ por $\\xi$, podemos escribir las cuatro funciones de forma como sigue: \n",
    "\n",
    "\\begin{align}\n",
    "N_1(\\xi) & = \\frac{\\xi^{3}}{4} - \\frac{3 \\xi}{4} + \\frac{1}{2} \\\\\n",
    "N_2(\\xi) & = \\frac{\\xi^{3}}{4} - \\frac{\\xi^{2}}{4} - \\frac{\\xi}{4} + \\frac{1}{4} \\\\\n",
    "N_3(\\xi) & = -\\frac{\\xi^{3}}{4} + \\frac{3 \\xi}{4} + \\frac{1}{2} \\\\\n",
    "N_4(\\xi) & =  \\frac{\\xi^{3}}{4} + \\frac{\\xi^{2}}{4} - \\frac{\\xi}{4} - \\frac{1}{4}\n",
    "\\end{align}"
   ]
  },
  {
   "cell_type": "code",
   "execution_count": 26,
   "metadata": {
    "collapsed": false,
    "slideshow": {
     "slide_type": "slide"
    }
   },
   "outputs": [
    {
     "data": {
      "image/png": "[encoded data removed]",
      "text/plain": [
       "<matplotlib.figure.Figure at 0x7f474946a4d0>"
      ]
     },
     "metadata": {},
     "output_type": "display_data"
    },
    {
     "data": {
      "text/plain": [
       "<sympy.plotting.plot.Plot at 0x7f4746be0ed0>"
      ]
     },
     "execution_count": 26,
     "metadata": {},
     "output_type": "execute_result"
    }
   ],
   "source": [
    "plot (N1,(t,-1,1))"
   ]
  },
  {
   "cell_type": "code",
   "execution_count": 27,
   "metadata": {
    "collapsed": false
   },
   "outputs": [
    {
     "data": {
      "image/png": "[encoded data removed]",
      "text/plain": [
       "<matplotlib.figure.Figure at 0x7f4746a7b310>"
      ]
     },
     "metadata": {},
     "output_type": "display_data"
    },
    {
     "data": {
      "text/plain": [
       "<sympy.plotting.plot.Plot at 0x7f4746be0750>"
      ]
     },
     "execution_count": 27,
     "metadata": {},
     "output_type": "execute_result"
    }
   ],
   "source": [
    "plot (N2,(t,-1,1))"
   ]
  },
  {
   "cell_type": "code",
   "execution_count": 28,
   "metadata": {
    "collapsed": false
   },
   "outputs": [
    {
     "data": {
      "image/png": "[encoded data removed]",
      "text/plain": [
       "<matplotlib.figure.Figure at 0x7f4746a02790>"
      ]
     },
     "metadata": {},
     "output_type": "display_data"
    },
    {
     "data": {
      "text/plain": [
       "<sympy.plotting.plot.Plot at 0x7f4746a20b10>"
      ]
     },
     "execution_count": 28,
     "metadata": {},
     "output_type": "execute_result"
    }
   ],
   "source": [
    "plot (N3,(t,-1,1))"
   ]
  },
  {
   "cell_type": "code",
   "execution_count": 29,
   "metadata": {
    "collapsed": false
   },
   "outputs": [
    {
     "data": {
      "image/png": "[encoded data removed]",
      "text/plain": [
       "<matplotlib.figure.Figure at 0x7f47469c1d50>"
      ]
     },
     "metadata": {},
     "output_type": "display_data"
    },
    {
     "data": {
      "text/plain": [
       "<sympy.plotting.plot.Plot at 0x7f4746a02f50>"
      ]
     },
     "execution_count": 29,
     "metadata": {},
     "output_type": "execute_result"
    }
   ],
   "source": [
    "plot (N4,(t,-1,1))"
   ]
  },
  {
   "cell_type": "markdown",
   "metadata": {
    "collapsed": false
   },
   "source": [
    "## Ejercicios\n",
    "\n"
   ]
  },
  {
   "cell_type": "markdown",
   "metadata": {
    "collapsed": true
   },
   "source": [
    "### Ejercicio 1\n",
    "Determine las funciones de forma asociadas a una base lagrangiana de polinomios de grado 4, asociada a los 5 puntos $x= \\lbrace 0, \\dfrac{L}{4}, \\dfrac{L}{2}, \\dfrac{3L}{4}, L \\rbrace$."
   ]
  },
  {
   "cell_type": "markdown",
   "metadata": {},
   "source": [
    "#### Solución \n",
    "\n",
    "Consideremos los puntos de evaluación. Procediendo según se vio anteriormente, se obtiene la matriz $\\mathbf{M}$ y su inversa. En esta base lagrangiana, la función de forma de índice $i$ debe tomar valor 1 en el punto $i$, y cero en el resto. "
   ]
  },
  {
   "cell_type": "code",
   "execution_count": 30,
   "metadata": {
    "collapsed": true
   },
   "outputs": [],
   "source": [
    "puntos = [0, L/4, L/2, 3*L/4, L]"
   ]
  },
  {
   "cell_type": "code",
   "execution_count": 31,
   "metadata": {
    "collapsed": false
   },
   "outputs": [
    {
     "data": {
      "image/png": "[encoded data removed]",
      "text/latex": [
       "$$\\left[\\begin{matrix}1 & x & x^{2} & x^{3} & x^{4}\\end{matrix}\\right]$$"
      ],
      "text/plain": [
       "⎡       2   3   4⎤\n",
       "⎣1  x  x   x   x ⎦"
      ]
     },
     "execution_count": 31,
     "metadata": {},
     "output_type": "execute_result"
    }
   ],
   "source": [
    "base = Matrix([[1,x,x**2,x**3,x**4]])\n",
    "base"
   ]
  },
  {
   "cell_type": "code",
   "execution_count": 32,
   "metadata": {
    "collapsed": false
   },
   "outputs": [
    {
     "data": {
      "image/png": "[encoded data removed]",
      "text/latex": [
       "$$\\left[\\begin{matrix}1 & 0 & 0 & 0 & 0\\\\1 & \\frac{L}{4} & \\frac{L^{2}}{16} & \\frac{L^{3}}{64} & \\frac{L^{4}}{256}\\\\1 & \\frac{L}{2} & \\frac{L^{2}}{4} & \\frac{L^{3}}{8} & \\frac{L^{4}}{16}\\\\1 & \\frac{3 L}{4} & \\frac{9 L^{2}}{16} & \\frac{27 L^{3}}{64} & \\frac{81 L^{4}}{256}\\\\1 & L & L^{2} & L^{3} & L^{4}\\end{matrix}\\right]$$"
      ],
      "text/plain": [
       "⎡1   0    0      0      0  ⎤\n",
       "⎢                          ⎥\n",
       "⎢          2     3       4 ⎥\n",
       "⎢    L    L     L       L  ⎥\n",
       "⎢1   ─    ──    ──     ─── ⎥\n",
       "⎢    4    16    64     256 ⎥\n",
       "⎢                          ⎥\n",
       "⎢          2     3      4  ⎥\n",
       "⎢    L    L     L      L   ⎥\n",
       "⎢1   ─    ──    ──     ──  ⎥\n",
       "⎢    2    4     8      16  ⎥\n",
       "⎢                          ⎥\n",
       "⎢           2      3      4⎥\n",
       "⎢   3⋅L  9⋅L   27⋅L   81⋅L ⎥\n",
       "⎢1  ───  ────  ─────  ─────⎥\n",
       "⎢    4    16     64    256 ⎥\n",
       "⎢                          ⎥\n",
       "⎢          2     3      4  ⎥\n",
       "⎣1   L    L     L      L   ⎦"
      ]
     },
     "execution_count": 32,
     "metadata": {},
     "output_type": "execute_result"
    }
   ],
   "source": [
    "matM = Matrix.vstack(base.subs(x,puntos[0]), base.subs(x,puntos[1]), base.subs(x,puntos[2]), base.subs(x,puntos[3]),\n",
    "                    base.subs(x,puntos[4]))\n",
    "matM"
   ]
  },
  {
   "cell_type": "code",
   "execution_count": 33,
   "metadata": {
    "collapsed": false
   },
   "outputs": [
    {
     "data": {
      "image/png": "[encoded data removed]",
      "text/latex": [
       "$$\\left[\\begin{matrix}1 & 0 & 0 & 0 & 0\\\\- \\frac{25}{3 L} & \\frac{16}{L} & - \\frac{12}{L} & \\frac{16}{3 L} & - \\frac{1}{L}\\\\\\frac{70}{3 L^{2}} & - \\frac{208}{3 L^{2}} & \\frac{76}{L^{2}} & - \\frac{112}{3 L^{2}} & \\frac{22}{3 L^{2}}\\\\- \\frac{80}{3 L^{3}} & \\frac{96}{L^{3}} & - \\frac{128}{L^{3}} & \\frac{224}{3 L^{3}} & - \\frac{16}{L^{3}}\\\\\\frac{32}{3 L^{4}} & - \\frac{128}{3 L^{4}} & \\frac{64}{L^{4}} & - \\frac{128}{3 L^{4}} & \\frac{32}{3 L^{4}}\\end{matrix}\\right]$$"
      ],
      "text/plain": [
       "⎡ 1      0      0      0     0  ⎤\n",
       "⎢                               ⎥\n",
       "⎢-25    16    -12      16   -1  ⎥\n",
       "⎢────   ──    ────    ───   ─── ⎥\n",
       "⎢3⋅L    L      L      3⋅L    L  ⎥\n",
       "⎢                               ⎥\n",
       "⎢ 70   -208    76    -112    22 ⎥\n",
       "⎢────  ─────   ──    ─────  ────⎥\n",
       "⎢   2      2    2        2     2⎥\n",
       "⎢3⋅L    3⋅L    L      3⋅L   3⋅L ⎥\n",
       "⎢                               ⎥\n",
       "⎢-80    96    -128   224    -16 ⎥\n",
       "⎢────   ──    ─────  ────   ────⎥\n",
       "⎢   3    3       3      3     3 ⎥\n",
       "⎢3⋅L    L       L    3⋅L     L  ⎥\n",
       "⎢                               ⎥\n",
       "⎢ 32   -128    64    -128    32 ⎥\n",
       "⎢────  ─────   ──    ─────  ────⎥\n",
       "⎢   4      4    4        4     4⎥\n",
       "⎣3⋅L    3⋅L    L      3⋅L   3⋅L ⎦"
      ]
     },
     "execution_count": 33,
     "metadata": {},
     "output_type": "execute_result"
    }
   ],
   "source": [
    "Inv_matM = matM.inv()\n",
    "Inv_matM"
   ]
  },
  {
   "cell_type": "code",
   "execution_count": 34,
   "metadata": {
    "collapsed": false
   },
   "outputs": [],
   "source": [
    "f1 = base.dot(Inv_matM.col(0))\n",
    "f2 = base.dot(Inv_matM.col(1))\n",
    "f3 = base.dot(Inv_matM.col(2))\n",
    "f4 = base.dot(Inv_matM.col(3))\n",
    "f5 = base.dot(Inv_matM.col(4))"
   ]
  },
  {
   "cell_type": "markdown",
   "metadata": {},
   "source": [
    "A continuación se muestran las funciones de forma; para una mejor visualización se define un vector y se muestran por columnas. "
   ]
  },
  {
   "cell_type": "code",
   "execution_count": 35,
   "metadata": {
    "collapsed": false
   },
   "outputs": [
    {
     "data": {
      "image/png": "[encoded data removed]",
      "text/latex": [
       "$$\\left[\\begin{matrix}1 - \\frac{25 x}{3 L} + \\frac{70 x^{2}}{3 L^{2}} - \\frac{80 x^{3}}{3 L^{3}} + \\frac{32 x^{4}}{3 L^{4}}\\\\\\frac{16 x}{L} - \\frac{208 x^{2}}{3 L^{2}} + \\frac{96 x^{3}}{L^{3}} - \\frac{128 x^{4}}{3 L^{4}}\\\\- \\frac{12 x}{L} + \\frac{76 x^{2}}{L^{2}} - \\frac{128 x^{3}}{L^{3}} + \\frac{64 x^{4}}{L^{4}}\\\\\\frac{16 x}{3 L} - \\frac{112 x^{2}}{3 L^{2}} + \\frac{224 x^{3}}{3 L^{3}} - \\frac{128 x^{4}}{3 L^{4}}\\\\- \\frac{x}{L} + \\frac{22 x^{2}}{3 L^{2}} - \\frac{16 x^{3}}{L^{3}} + \\frac{32 x^{4}}{3 L^{4}}\\end{matrix}\\right]$$"
      ],
      "text/plain": [
       "⎡               2       3       4⎤\n",
       "⎢    25⋅x   70⋅x    80⋅x    32⋅x ⎥\n",
       "⎢1 - ──── + ───── - ───── + ─────⎥\n",
       "⎢    3⋅L        2       3       4⎥\n",
       "⎢            3⋅L     3⋅L     3⋅L ⎥\n",
       "⎢                                ⎥\n",
       "⎢             2       3        4 ⎥\n",
       "⎢ 16⋅x   208⋅x    96⋅x    128⋅x  ⎥\n",
       "⎢ ──── - ────── + ───── - ────── ⎥\n",
       "⎢  L         2       3        4  ⎥\n",
       "⎢         3⋅L       L      3⋅L   ⎥\n",
       "⎢                                ⎥\n",
       "⎢             2        3       4 ⎥\n",
       "⎢  12⋅x   76⋅x    128⋅x    64⋅x  ⎥\n",
       "⎢- ──── + ───── - ────── + ───── ⎥\n",
       "⎢   L        2       3        4  ⎥\n",
       "⎢           L       L        L   ⎥\n",
       "⎢                                ⎥\n",
       "⎢            2        3        4 ⎥\n",
       "⎢16⋅x   112⋅x    224⋅x    128⋅x  ⎥\n",
       "⎢──── - ────── + ────── - ────── ⎥\n",
       "⎢3⋅L        2        3        4  ⎥\n",
       "⎢        3⋅L      3⋅L      3⋅L   ⎥\n",
       "⎢                                ⎥\n",
       "⎢            2       3       4   ⎥\n",
       "⎢    x   22⋅x    16⋅x    32⋅x    ⎥\n",
       "⎢  - ─ + ───── - ───── + ─────   ⎥\n",
       "⎢    L       2      3        4   ⎥\n",
       "⎣         3⋅L      L      3⋅L    ⎦"
      ]
     },
     "execution_count": 35,
     "metadata": {},
     "output_type": "execute_result"
    }
   ],
   "source": [
    "fforma = Matrix([f1,f2,f3,f4,f5])\n",
    "fforma"
   ]
  },
  {
   "cell_type": "code",
   "execution_count": 36,
   "metadata": {
    "collapsed": false
   },
   "outputs": [
    {
     "data": {
      "image/png": "[encoded data removed]",
      "text/plain": [
       "<matplotlib.figure.Figure at 0x7f47469ae850>"
      ]
     },
     "metadata": {},
     "output_type": "display_data"
    },
    {
     "data": {
      "image/png": "[encoded data removed]",
      "text/plain": [
       "<matplotlib.figure.Figure at 0x7f4746936d10>"
      ]
     },
     "metadata": {},
     "output_type": "display_data"
    },
    {
     "data": {
      "image/png": "[encoded data removed]",
      "text/plain": [
       "<matplotlib.figure.Figure at 0x7f474691eed0>"
      ]
     },
     "metadata": {},
     "output_type": "display_data"
    },
    {
     "data": {
      "image/png": "[encoded data removed]",
      "text/plain": [
       "<matplotlib.figure.Figure at 0x7f47466de910>"
      ]
     },
     "metadata": {},
     "output_type": "display_data"
    },
    {
     "data": {
      "image/png": "[encoded data removed]",
      "text/plain": [
       "<matplotlib.figure.Figure at 0x7f4746644350>"
      ]
     },
     "metadata": {},
     "output_type": "display_data"
    },
    {
     "data": {
      "text/plain": [
       "<sympy.plotting.plot.Plot at 0x7f4746614bd0>"
      ]
     },
     "execution_count": 36,
     "metadata": {},
     "output_type": "execute_result"
    }
   ],
   "source": [
    "plot(f1.subs(L,1),(x,0,1),title=\"$f_1(x)$\")\n",
    "plot(f2.subs(L,1),(x,0,1),title=\"$f_2(x)$\")\n",
    "plot(f3.subs(L,1),(x,0,1),title=\"$f_3(x)$\")\n",
    "plot(f4.subs(L,1),(x,0,1),title=\"$f_4(x)$\")\n",
    "plot(f5.subs(L,1),(x,0,1),title=\"$f_5(x)$\")"
   ]
  },
  {
   "cell_type": "markdown",
   "metadata": {},
   "source": [
    "### Ejercicio 2\n",
    "Determine las funciones de forma asociadas a una base de polinomios generados por la base $\\mathcal{B} = \\lbrace{1,x,x^2, x^4} \\rbrace$ , con las mismas condiciones que el elemento hermítico visto anteriormente (desplazamientos y giros en los extremos del intervalo $[0,L]$).\n",
    "\n",
    "Observación: Esta base representa una base incompleta de los polinomios de grado 4, pues falta el término $x^3$. "
   ]
  },
  {
   "cell_type": "markdown",
   "metadata": {},
   "source": [
    "#### Solución\n",
    "\n",
    "Procediendo según lo visto anteriormente, se obtienen las cuatro funciones de forma. "
   ]
  },
  {
   "cell_type": "code",
   "execution_count": 37,
   "metadata": {
    "collapsed": false
   },
   "outputs": [
    {
     "data": {
      "image/png": "[encoded data removed]",
      "text/latex": [
       "$$\\left[\\begin{matrix}1 - \\frac{2 x^{2}}{L^{2}} + \\frac{x^{4}}{L^{4}}\\\\x - \\frac{3 x^{2}}{2 L} + \\frac{x^{4}}{2 L^{3}}\\\\\\frac{2 x^{2}}{L^{2}} - \\frac{x^{4}}{L^{4}}\\\\- \\frac{x^{2}}{2 L} + \\frac{x^{4}}{2 L^{3}}\\end{matrix}\\right]$$"
      ],
      "text/plain": [
       "⎡        2    4 ⎤\n",
       "⎢     2⋅x    x  ⎥\n",
       "⎢ 1 - ──── + ── ⎥\n",
       "⎢       2     4 ⎥\n",
       "⎢      L     L  ⎥\n",
       "⎢               ⎥\n",
       "⎢       2     4 ⎥\n",
       "⎢    3⋅x     x  ⎥\n",
       "⎢x - ──── + ────⎥\n",
       "⎢    2⋅L       3⎥\n",
       "⎢           2⋅L ⎥\n",
       "⎢               ⎥\n",
       "⎢      2    4   ⎥\n",
       "⎢   2⋅x    x    ⎥\n",
       "⎢   ──── - ──   ⎥\n",
       "⎢     2     4   ⎥\n",
       "⎢    L     L    ⎥\n",
       "⎢               ⎥\n",
       "⎢     2     4   ⎥\n",
       "⎢    x     x    ⎥\n",
       "⎢ - ─── + ────  ⎥\n",
       "⎢   2⋅L      3  ⎥\n",
       "⎣         2⋅L   ⎦"
      ]
     },
     "execution_count": 37,
     "metadata": {},
     "output_type": "execute_result"
    }
   ],
   "source": [
    "base = Matrix([[1,x,x**2,x**4]])\n",
    "Dbase = base.diff(x)\n",
    "matM = Matrix.vstack(base.subs(x,0), Dbase.subs(x,0),base.subs(x,L),Dbase.subs(x,L))\n",
    "Inv_matM = matM.inv()\n",
    "f1 = base.dot(Inv_matM.col(0))\n",
    "f2 = base.dot(Inv_matM.col(1))\n",
    "f3 = base.dot(Inv_matM.col(2))\n",
    "f4 = base.dot(Inv_matM.col(3))\n",
    "\n",
    "fforma = Matrix([f1,f2,f3,f4])\n",
    "\n",
    "fforma\n"
   ]
  },
  {
   "cell_type": "markdown",
   "metadata": {},
   "source": [
    "A continuación se dibujan las funciones de forma. Observe que se parecen mucho a las hermíticas, pero observando la matriz anterior, puede comprobar que no contienen términos en $x^3$. "
   ]
  },
  {
   "cell_type": "code",
   "execution_count": 38,
   "metadata": {
    "collapsed": false
   },
   "outputs": [
    {
     "data": {
      "image/png": "[encoded data removed]",
      "text/plain": [
       "<matplotlib.figure.Figure at 0x7f4746578150>"
      ]
     },
     "metadata": {},
     "output_type": "display_data"
    },
    {
     "data": {
      "image/png": "[encoded data removed]",
      "text/plain": [
       "<matplotlib.figure.Figure at 0x7f47465745d0>"
      ]
     },
     "metadata": {},
     "output_type": "display_data"
    },
    {
     "data": {
      "image/png": "[encoded data removed]",
      "text/plain": [
       "<matplotlib.figure.Figure at 0x7f47464afd90>"
      ]
     },
     "metadata": {},
     "output_type": "display_data"
    },
    {
     "data": {
      "image/png": "[encoded data removed]",
      "text/plain": [
       "<matplotlib.figure.Figure at 0x7f47463c2890>"
      ]
     },
     "metadata": {},
     "output_type": "display_data"
    },
    {
     "data": {
      "text/plain": [
       "<sympy.plotting.plot.Plot at 0x7f47463c7f10>"
      ]
     },
     "execution_count": 38,
     "metadata": {},
     "output_type": "execute_result"
    }
   ],
   "source": [
    "plot(f1.subs(L,1),(x,0,1),title=\"$f_1(x)$\")\n",
    "plot(f2.subs(L,1),(x,0,1),title=\"$f_2(x)$\")\n",
    "plot(f3.subs(L,1),(x,0,1),title=\"$f_3(x)$\")\n",
    "plot(f4.subs(L,1),(x,0,1),title=\"$f_4(x)$\")"
   ]
  },
  {
   "cell_type": "code",
   "execution_count": null,
   "metadata": {
    "collapsed": true
   },
   "outputs": [],
   "source": []
  }
 ],
 "metadata": {
  "kernelspec": {
   "display_name": "Python 2",
   "language": "python",
   "name": "python2"
  },
  "language_info": {
   "codemirror_mode": {
    "name": "ipython",
    "version": 2
   },
   "file_extension": ".py",
   "mimetype": "text/x-python",
   "name": "python",
   "nbconvert_exporter": "python",
   "pygments_lexer": "ipython2",
   "version": "2.7.9"
  }
 },
 "nbformat": 4,
 "nbformat_minor": 0
}
