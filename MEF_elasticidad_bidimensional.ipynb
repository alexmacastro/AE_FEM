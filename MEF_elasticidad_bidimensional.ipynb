{
 "cells": [
  {
   "cell_type": "markdown",
   "metadata": {
    "slideshow": {
     "slide_type": "slide"
    }
   },
   "source": [
    "# El MEF en elasticidad bidimensional. Teoría básica. \n",
    "\n",
    "Análisis de Estructuras. Grado en Ingeniería Civil. \n",
    "\n",
    "Autores: \n",
    "\n",
    "+ Alejandro E. Martínez-Castro, Esther Puertas García, Rafael Gallego.\n",
    "+ Departamento de Mecánica de Estructuras e Ingeniería Hidráulica. Universidad de Granada.\n",
    "\n"
   ]
  },
  {
   "cell_type": "markdown",
   "metadata": {
    "slideshow": {
     "slide_type": "slide"
    }
   },
   "source": [
    "## 1. Repaso a la teoría de la elasticidad\n",
    "\n",
    "En lo que sigue se planteará el problema elástico bidimensional en un sólido. En primer lugar se introduce la notación básica que se empleará en elasticidad. \n",
    "\n",
    "### 1.1.Tensor de tensiones\n",
    "El tensor de tensiones se notará como $\\mathbf{T}$. Su expresión en coordenadas cartesianas es: \n",
    "\n",
    "\\begin{equation}\n",
    "\\mathbf{T} = \n",
    "\\left[\n",
    "\\begin{matrix}\n",
    "\\sigma_{nx} & \\tau_{xy} & \\tau_{xz} \\\\\n",
    "\\tau_{xy}  & \\sigma_{ny} & \\tau_{yz} \\\\\n",
    "\\tau_{xz} & \\tau_{yz} & \\sigma_{nz}\n",
    "\\end{matrix} \\right]\n",
    "\\end{equation}\n",
    "\n",
    "Las componentes de este tensor se notarán como $\\sigma_{ij}$. \n",
    "\n",
    "Este tensor es simétrico, siendo 6 las componentes independientes."
   ]
  },
  {
   "cell_type": "markdown",
   "metadata": {
    "slideshow": {
     "slide_type": "slide"
    }
   },
   "source": [
    "### 1.2. Tensor de deformaciones\n",
    "\n",
    "El tensor de deformaciones es la componente simétrica del gradiente de deformación. \n",
    "\n",
    "Dado un campo de desplazamientos, y en relación a un sistema de referencia cartesiano $\\mathcal{R} = \\lbrace 0;x,y,z \\rbrace$, el vector desplazamiento puede escribirse como:  \n",
    "\n",
    "\\begin{equation} \\mathbf{u} = \n",
    "\\begin{pmatrix}\n",
    "u(x,y,z) \\\\ v(x,y,z) \\\\ w(x,y,z) \n",
    "\\end{pmatrix}\n",
    "\\end{equation}\n",
    "\n",
    "El gradiente de deformación es un tensor $\\nabla \\mathbf{u}$ que se obtiene a partir del campo de desplazamientos anterior, como sigue: \n",
    "\n",
    "\\begin{equation}\n",
    "\\nabla \\mathbf{u} = \\left[ \\begin{matrix}\n",
    "\\dfrac{\\partial u}{\\partial x} & \\dfrac{\\partial u}{\\partial y} & \\dfrac{\\partial u}{\\partial z} \\\\\n",
    "\\dfrac{\\partial v}{\\partial x} & \\dfrac{\\partial v}{\\partial y} & \\dfrac{\\partial v}{\\partial z} \\\\\n",
    "\\dfrac{\\partial w}{\\partial x} & \\dfrac{\\partial w}{\\partial y} & \\dfrac{\\partial w}{\\partial z}\n",
    "\\end{matrix} \\right]\n",
    "\\end{equation}\n",
    "\n",
    "Este gradiente de deformación se ha construido obteniendo por filas el gradiente de cada componente, $u,v,w$. \n"
   ]
  },
  {
   "cell_type": "markdown",
   "metadata": {
    "slideshow": {
     "slide_type": "slide"
    }
   },
   "source": [
    "Este gradiente puede descomponerse en dos matrices: una simétrica, y otra antimétrica. \n",
    "\n",
    "\\begin{equation}\n",
    "\\nabla \\mathbf{u} = \\dfrac{1}{2} \\left( \\nabla \\mathbf{u} + \\nabla \\mathbf{u}^T  \\right) + \\dfrac{1}{2} \\left( \\nabla \\mathbf{u} - \\nabla \\mathbf{u}^T  \\right)\n",
    "\\end{equation}\n",
    "\n",
    "Esta descomposición introduce dos tensores: \n",
    "\n",
    "- El tensor $\\mathbf{D}$, denominado _tensor de deformación_ $\\mathbf{D} = \\dfrac{1}{2} \\left( \\nabla \\mathbf{u} + \\nabla \\mathbf{u}^T  \\right)$\n",
    "- El tensor $\\mathbf{S}$, denominado _tensor de rotaciones_ $\\mathbf{S} = \\dfrac{1}{2} \\left( \\nabla \\mathbf{u} - \\nabla \\mathbf{u}^T  \\right)$\n",
    "\n",
    "De estos dos tensores, el tensor que se relaciona con el tensor de tensiones es $\\mathbf{D}$. Su expresión por tanto es: \n",
    "\n",
    "\\begin{equation}\n",
    "\\mathbf{D} = \\left[ \n",
    "\\begin{matrix} \\varepsilon_{nx} & \\varepsilon_{xy} & \\varepsilon_{xz} \\\\ \n",
    "\\varepsilon_{xy} & \\varepsilon_{ny} & \\varepsilon_{yz} \\\\ \n",
    "\\varepsilon_{xz} & \\varepsilon_{yz} & \\varepsilon_{nz}\n",
    "\\end{matrix} \\right]\n",
    "\\end{equation}\n",
    "\n",
    "Las componentes de este tensor se notarán como $\\varepsilon_{ij}$. \n",
    "\n",
    "Este tensor es simétrico, siendo 6 las componentes independientes.\n",
    "\n",
    "\\begin{equation}\n",
    "\\varepsilon_{ij} = {1 \\over 2} \\left({\\partial u_i \\over \\partial x_j} + {\\partial u_j \\over \\partial x_i}\\right) \\qquad \\Rightarrow \\begin{cases} \\varepsilon_{nx} = \\dfrac{\\partial u}{\\partial x}, \\quad \\varepsilon_{ny} = \\dfrac{\\partial v}{\\partial y}, \\quad \\varepsilon_{nz} = \\dfrac{\\partial w}{\\partial z} \\\\ \\varepsilon_{xy} = \\varepsilon_{yx} = \\cfrac{1}{2} \\left(\\dfrac{\\partial u}{\\partial y}+ \\dfrac{\\partial v}{\\partial x}\\right) \\\\ \\varepsilon_{xz} = \\varepsilon_{zx} = \\dfrac{1}{2} \\left(\\dfrac{\\partial u}{\\partial z}+ \\cfrac{\\partial w}{\\partial x}\\right) \\\\ \\varepsilon_{yz} = \\varepsilon_{zy} = \\cfrac{1}{2} \\left(\\dfrac{\\partial v}{\\partial z}+ \\dfrac{\\partial w}{\\partial y}\\right) \\end{cases}\n",
    "\\end{equation}\n"
   ]
  },
  {
   "cell_type": "markdown",
   "metadata": {
    "slideshow": {
     "slide_type": "slide"
    }
   },
   "source": [
    "Las componentes de deformación angular de $\\varepsilon_{ij}$ pueden escribirse en función de la deformación angular $\\gamma$, mediante la relación: \n",
    "\n",
    "\\begin{equation}\n",
    "\\varepsilon_{ij} = \\dfrac{1}{2} \\, \\gamma_{ij}\n",
    "\\end{equation}\n",
    "\n",
    "Por tanto, el tensor $\\mathbf{D}$ puede verse también como: \n",
    "\n",
    "\\begin{equation}\n",
    "\\mathbf{D} = \\left[ \n",
    "\\begin{matrix} \\varepsilon_{nx} & \\dfrac{1}{2}\\,\\gamma_{xy} & \\dfrac{1}{2} \\, \\gamma_{xz} \\\\ \n",
    "\\dfrac{1}{2} \\, \\gamma_{xy} & \\varepsilon_{ny} & \\dfrac{1}{2}\\, \\gamma_{yz} \\\\ \n",
    "\\dfrac{1}{2} \\,\\gamma_{xz} & \\dfrac{1}{2}\\, \\gamma_{yz} & \\varepsilon_{nz}\n",
    "\\end{matrix} \\right]\n",
    "\\end{equation}\n",
    "\n",
    "Por tanto, la expresión de $\\gamma_{ij}$ es similar a la de $\\varepsilon_{ij}$. Por ejemplo, para $\\gamma_{xy}$, \n",
    "\n",
    "\\begin{equation}\n",
    "\\gamma_{xy} = \\dfrac{\\partial u}{\\partial y} + \\dfrac{\\partial v}{\\partial x}\n",
    "\\end{equation}"
   ]
  },
  {
   "cell_type": "markdown",
   "metadata": {
    "slideshow": {
     "slide_type": "slide"
    }
   },
   "source": [
    "### 1.3. Relaciones tensión-deformación\n",
    "\n",
    "Las componentes del tensor $\\mathbf{D}$ pueden obtenerse a partir de las de $\\mathbf{T}$. En elasticidad isótropa y homogénea, el material se caracteriza por dos parámetros: el módulo de elasticidad $E$ y el coeficiente de Poisson $\\nu$. Se introduce además el módulo $G$ (rigidez a cizalla), el cual se obtiene en función de $E$ y $\\nu$ mediante la conocida relación $G = \\frac{E}{2\\,(1 + \\nu)}$\n",
    "\n",
    "Las componentes del tensor de deformación se obtienen como: \n",
    "\n",
    "\\begin{align}\n",
    "\\varepsilon_{nx}  &  =  \\dfrac{\\sigma_{nx}}{E} - \\dfrac{\\nu}{E} \\,\\left( \\sigma_{ny} + \\sigma_{nz} \\right) \\\\\n",
    "\\varepsilon_{ny}  &  =  \\dfrac{\\sigma_{ny}}{E} - \\dfrac{\\nu}{E} \\,\\left( \\sigma_{nx} + \\sigma_{nz} \\right) \\\\\n",
    "\\varepsilon_{nz}  &  =  \\dfrac{\\sigma_{nz}}{E} - \\dfrac{\\nu}{E} \\,\\left( \\sigma_{nx} + \\sigma_{ny} \\right) \\\\\n",
    "\\gamma_{xy} & = \\dfrac{\\tau_{xy}}{G} \\\\\n",
    "\\gamma_{yz} & = \\dfrac{\\tau_{yz}}{G} \\\\\n",
    "\\gamma_{xz} & = \\dfrac{\\tau_{xz}}{G}\n",
    "\\end{align}"
   ]
  },
  {
   "cell_type": "markdown",
   "metadata": {
    "slideshow": {
     "slide_type": "slide"
    }
   },
   "source": [
    "## 2. Formulación Débil. Expresión del PTV.\n",
    "\n",
    "### 2.1. Ecuaciones de equilibrio del tensor de tensiones. \n",
    "\n",
    "El punto de partida para plantear la formulación débil del problema es la ecuación de equilibrio interno del sólido. \n",
    "Denominando $\\sigma_{ij}$ a las componentes del tensor de tensiones, e introduciendo un vector $\\mathbf{b}$ de fuerzas por unidad de volumen, cuyas componentes son $b_i$, la expresión de la ecuación de equilibrio interno, en notación indicial, es:\n",
    "\n",
    "\\begin{equation}\n",
    "\\sigma_{ij,j} + b_i = 0\n",
    "\\end{equation}\n",
    "\n",
    "Así, para $i=1$, y teniendo en cuenta que el vector $\\mathbf{b}$ puede escribirse como \n",
    "\n",
    "\\begin{equation}\n",
    "\\mathbf{b} = \\begin{pmatrix} b_x \\\\ b_y \\\\ b_z \\end{pmatrix}\n",
    "\\end{equation}\n",
    "\n",
    "Así, para $i=1$, la ecuación de equilibrio se expresa como: \n",
    "\n",
    "\\begin{equation}\n",
    "\\dfrac{\\partial \\sigma_{nx}}{\\partial x} + \\dfrac{\\partial \\tau_{xy}}{\\partial y} + \\dfrac{\\partial \\tau_{xz}}{\\partial z} + b_x = 0\n",
    "\\end{equation}\n",
    "\n",
    "En notación vectorial, la ecuación de equilibrio interno puede escribirse como: \n",
    "\n",
    "\\begin{equation}\n",
    "\\mathrm{div} \\mathbf{T} + \\mathbf{b} = \\mathbf{0}\n",
    "\\end{equation}"
   ]
  },
  {
   "cell_type": "markdown",
   "metadata": {
    "slideshow": {
     "slide_type": "slide"
    }
   },
   "source": [
    "### 2.2. Formulación débil. Expresión del PTV en elasticidad tridimensional. \n",
    "\n",
    "Considerando un vector de desplazamiento $\\mathbf{u}^*$, en el cual se introducen 3 funciones $u^*, v^*. w^*$, como sigue: \n",
    "\n",
    "\\begin{equation}\n",
    "\\mathbf{u}^* = \\begin{pmatrix} u^* \\\\ v^* \\\\ w^* \\end{pmatrix}\n",
    "\\end{equation}\n",
    "\n",
    "En la ecuación de equilibrio interno, estableciendo el producto escalar con $\\mathbf{u}$ se obtiene, en notación indicial: \n",
    "\n",
    "\n",
    "\\begin{equation}\n",
    "\\sigma_{ij,j}\\cdot u_i^* + b_i \\cdot u_i^* = 0 \n",
    "\\end{equation}\n",
    "\n",
    "Esta ecuación equivale, en notación vectorial, a: \n",
    "\n",
    "\\begin{equation}\n",
    "\\mathrm{div} \\mathbf{T} \\cdot \\mathbf{u^*} + \\mathbf{b}^T \\cdot \\mathbf{u^*} = 0\n",
    "\\end{equation}\n",
    "\n",
    "Nótese que el resultado es un escalar, no un vector. "
   ]
  },
  {
   "cell_type": "markdown",
   "metadata": {
    "slideshow": {
     "slide_type": "slide"
    }
   },
   "source": [
    "Denominando $\\Omega$ al dominio tridimensional en el que se plantea el problema, puede escribirse: \n",
    "\n",
    "\\begin{equation}\n",
    "\\int_{\\Omega} \\left( \\sigma_{ij,j}\\cdot u_i^* + b_i \\cdot u_i^* \\right) d \\Omega = 0\n",
    "\\end{equation}\n",
    "\n",
    "Y separando en dos integrales: \n",
    "\n",
    "\\begin{equation}\n",
    "\\int_{\\Omega} \\left( \\sigma_{ij,j}\\cdot u_i^* \\right) \\,d\\Omega +  \\int_{\\Omega} b_i \\cdot u_i^*\\,d \\Omega = 0\n",
    "\\end{equation}"
   ]
  },
  {
   "cell_type": "markdown",
   "metadata": {
    "slideshow": {
     "slide_type": "slide"
    }
   },
   "source": [
    "La primera integral puede transformarse como sigue (Th. Diveregencia):\n",
    "\n",
    "\\begin{equation}\n",
    "\\int_{\\Omega} \\left( \\sigma_{ij,j}\\cdot u_i^* \\right) \\,d\\Omega = \\int_{\\Gamma} \\sigma_{ij}\\,n_j\\,u_i^*\\,d\\Gamma - \\int_{\\Omega} \\sigma_{ij} \\,u_{i,j}^* \\,d\\Omega\n",
    "\\end{equation}\n",
    "\n",
    "El tensor $u_{i,j}$ se vio anteriormente; es el gradiente de deformación $\\nabla \\mathbf{u}$. \n",
    "\n",
    "Teniendo en cuenta la descomposición $\\nabla \\mathbf{u} = \\mathbf{D} + \\mathbf{S}$, y considerando que los tensores $\\mathbf{T}$ y $\\mathbf{D}$ son simétricos, y $\\mathbf{S}$ es antimétrico, puede demostrarse que: \n",
    "\n",
    "\\begin{equation}\n",
    "\\sigma_{ij}\\cdot u_{i,j}^* = \\sigma_{ij} \\cdot \\varepsilon_{ij}^*\n",
    "\\end{equation}"
   ]
  },
  {
   "cell_type": "markdown",
   "metadata": {
    "slideshow": {
     "slide_type": "slide"
    }
   },
   "source": [
    "Además, introduciendo el vector tensión $\\mathbf{t}$, según un plano cuya normal es $\\mathbf{n}$, como:\n",
    "\n",
    "\\begin{equation}\n",
    "\\mathbf{t} = \\mathbf{T}\\cdot \\mathbf{n} \\Rightarrow t_i = \\sigma_{ij}\\,n_j\n",
    "\\end{equation}\n",
    "\n",
    "La integral puede escribirse como: \n",
    "\n",
    "\\begin{equation}\n",
    "\\int_{\\Omega} \\left( \\sigma_{ij,j}\\cdot u_i^* \\right) \\,d\\Omega = \\int_{\\Gamma} t_i\\,u_i^*\\,d\\Gamma - \\int_{\\Omega} \\sigma_{ij} \\,\\varepsilon_{ij}^* \\,d\\Omega \n",
    "\\end{equation}\n",
    "\n",
    "Y por tanto, \n",
    "\n",
    "\\begin{equation}\n",
    "\\int_{\\Gamma} t_i\\,u_i^*\\,d\\Gamma - \\int_{\\Omega} \\sigma_{ij} \\,\\varepsilon_{ij}^* \\,d\\Omega + \\int_{\\Omega} b_i \\cdot u_i^*\\,d \\Omega = 0\n",
    "\\end{equation}"
   ]
  },
  {
   "cell_type": "markdown",
   "metadata": {
    "slideshow": {
     "slide_type": "slide"
    }
   },
   "source": [
    "Y reordenando, \n",
    "\n",
    "\\begin{equation}\n",
    "\\int_{\\Omega} \\sigma_{ij} \\,\\varepsilon_{ij}^* \\,d\\Omega =  \\int_{\\Gamma} t_i\\,u_i^*\\,d\\Gamma  + \\int_{\\Omega} b_i \\cdot u_i^*\\,d \\Omega \n",
    "\\end{equation}\n",
    "\n",
    "Esta es la expresión del PTV para un problema elástico. En notación vectorial, puede escribirse: \n",
    "\n",
    "\\begin{equation}\n",
    "\\int_{\\Omega} \\mathbf{T} : \\mathbf{D}^* \\,d\\Omega =  \\int_{\\Gamma} \\mathbf{t}^T \\cdot \\mathbf{u}^* \\,d\\Gamma  + \\int_{\\Omega} \\mathbf{b}^T \\cdot\\mathbf{u^*}\\,d \\Omega \n",
    "\\end{equation}"
   ]
  },
  {
   "cell_type": "markdown",
   "metadata": {
    "slideshow": {
     "slide_type": "slide"
    }
   },
   "source": [
    "En la expresión anterior, el término $\\sigma_{ij}\\,\\varepsilon_{ij}^*$ representa el trabajo virtual de las tensiones internas. Puede escribirse así: \n",
    "\n",
    "\\begin{equation}\n",
    "\\sigma_{ij}\\,\\varepsilon_{ij}^* = \\sigma_{nx}\\,\\varepsilon_{nx}^* + \\sigma_{ny}\\,\\varepsilon_{ny}^* + \\sigma_{nz}\\,\\varepsilon_{nz}^* + \\tau_{xy}\\,\\gamma_{xy}^* + \\tau_{xz}\\,\\gamma_{xz}^* + \\tau_{yz}\\,\\gamma_{yz}^*\n",
    "\\end{equation}\n",
    "\n",
    "La integral en el volumen de  $\\mathbf{b}^T \\cdot \\mathbf{u}^*$ se interpreta como el trabajo virtual de las fuerzas volumétricas interiores. \n",
    "\n",
    "Finalmente, la integral en la frontera $\\Gamma$ incluye el producto escalar $\\mathbf{t}^T \\cdot \\mathbf{u}^*$. Esta integral se interpreta como el trabajo virtual de las tensiones aplicadas en la superficie $\\Gamma$."
   ]
  },
  {
   "cell_type": "markdown",
   "metadata": {
    "slideshow": {
     "slide_type": "slide"
    }
   },
   "source": [
    "\n",
    "## 3. Elasticidad plana\n",
    "\n",
    "La elasticidad plana se refiere al estudio de soluciones particulares del problema elástico general y al estudio del conjunto de aplicaciones técnicas en que aparecen dichos estados elásticos de tensión-deformación reducibles a problemas \"planos\" o bidimensionales.\n",
    "\n",
    "Los estados de elasticidad plana sólo son posibles en cuerpos que geométricamente son prismas mecánicos. Esta condición necesaria no es suficiente para asegurar que el cuerpo está sometido a un estado de elasticidad plana. Las condiciones suficientes dependen del tipo de fuerzas o solicitaciones a los que esté sometido dicho prisma. En las aplicaciones prácticas se diferencia entre dos tipos de estados de elasticidad plana:\n",
    "\n",
    "Decimos que un problema elástico es plano cuando todas las funciones que intervienen en el problema (fuerzas o desplazamientos) no dependen de una de las variables $x$, $y$, o $z$. En consecuencia, tampoco los tensores $\\mathbf{T}$ ni $\\mathbf{D}$ dependen de esa variable. \n",
    "\n",
    "Por conveniencia, plantearemos que las funciones no dependen de $z$. \n",
    "\n",
    "El paso a elasticidad plana puede establecerse bajo dos hipótesis diferentes. \n",
    "\n",
    "- Tensión plana: $\\sigma_{nz} = \\tau_{xz} = \\tau_{yz} = 0$. \n",
    "- Deformación plana: $\\epsilon_{nz} = \\gamma_{xz} = \\gamma_{yz} = 0$. En este caso, la componente $w(x,y,z) = 0$. \n",
    "\n",
    "Una hipótesis no implica a la otra. Es decir: \n",
    "\n",
    "- En tensión plana, la componente $\\epsilon_{nz}$ no es nula. \n",
    "- En deformación plana, la componente $\\sigma_{nz}$ no es nula."
   ]
  },
  {
   "cell_type": "markdown",
   "metadata": {
    "slideshow": {
     "slide_type": "slide"
    }
   },
   "source": [
    "### 3.1. Relación tensión-deformación en problemas planos\n",
    "\n",
    "\n",
    "#### Vector de tensiones y vector de deformaciones\n",
    "\n",
    "En problemas planos, es conveniente (especialmente en el contexto del MEF) introducir los vectores de tensiones y deformaciones. \n",
    "\n",
    "Por un lado, el _vector de deformaciones_ $\\boldsymbol{\\varepsilon}$, \n",
    "\n",
    "\\begin{equation}\n",
    "\\boldsymbol{\\varepsilon} = \\begin{pmatrix} \\varepsilon_{nx} \\\\ \\varepsilon_{ny} \\\\ \\gamma_{xy} \\end{pmatrix}\n",
    "\\end{equation}\n",
    "\n",
    "Y por otro, el _vector de tensiones_ $\\boldsymbol{\\sigma}$,\n",
    "\n",
    "\\begin{equation}\n",
    "\\boldsymbol{\\sigma} = \\begin{pmatrix} \\sigma_{nx} \\\\ \\sigma_{ny} \\\\ \\tau_{xy} \\end{pmatrix}\n",
    "\\end{equation}\n",
    "\n",
    "No debe confundirse el _vector de tensiones_ $\\boldsymbol{\\sigma}$ con el _vector tensión_, que se notó como $\\mathbf{t}$. "
   ]
  },
  {
   "cell_type": "markdown",
   "metadata": {
    "slideshow": {
     "slide_type": "slide"
    }
   },
   "source": [
    "#### Matriz de constantes elásticas. \n",
    "\n",
    "La ecuación constitutiva se escribirá en función de una matriz de constantes. El símbolo $\\mathbf{D}$ se redefine ahora para especificar la siguiente matriz: \n",
    "\n",
    "\\begin{equation}\n",
    "\\mathbf{D} = \\left[ \\begin{matrix} d_{11} & d_{12} & 0 \\\\ d_{21} & d_{22} & 0 \\\\0 & 0 & d_{33} \\end{matrix} \\right]\n",
    "\\end{equation}\n",
    "\n",
    "Las constantes de $\\mathbf{D}$ difieren según se trate de un problema de tensión plana o deformación plana. \n",
    "\n",
    "Para tensión plana: \n",
    "\n",
    "\\begin{align}\n",
    "d_{11} = d_{22} & = \\dfrac{E}{1 - \\nu^2} \\\\\n",
    "d_{12} = d_{21} & = \\nu\\,d_{11} \\\\\n",
    "d_{33} = G\n",
    "\\end{align}\n",
    "\n",
    "Para deformación plana:\n",
    "\n",
    "\\begin{align}\n",
    "d_{11} = d_{22} & = \\dfrac{E\\,(1-\\nu)}{(1+\\nu)(1-2\\,\\nu)} \\\\\n",
    "d_{12} = d_{21} & = \\dfrac{\\nu}{1-\\nu}\\,d_{11} \\\\\n",
    "d_{33} = G\n",
    "\\end{align}"
   ]
  },
  {
   "cell_type": "markdown",
   "metadata": {
    "slideshow": {
     "slide_type": "slide"
    }
   },
   "source": [
    "#### Relación entre tensión y deformación\n",
    "\n",
    "En general, tanto para tensión plana como para deformación plana, puede escribirse: \n",
    "\n",
    "\\begin{equation}\n",
    "\\boldsymbol{\\sigma} = \\mathbf{D} \\cdot \\boldsymbol{\\varepsilon}\n",
    "\\end{equation}"
   ]
  },
  {
   "cell_type": "markdown",
   "metadata": {
    "slideshow": {
     "slide_type": "slide"
    }
   },
   "source": [
    "### 3.2. Expresión del PTV en elasticidad plana\n",
    "\n",
    "La expresión del PTV en elasticidad plana puede escribirse como sigue: \n",
    "\n",
    "\\begin{equation}\n",
    "\\int_{\\Omega} \\boldsymbol{\\sigma}^T \\cdot \\boldsymbol{\\epsilon}^* \\, d\\Omega = \\int_{\\Gamma} \\mathbf{t}^T \\cdot \\mathbf{u}^* \\,d \\Gamma + \\int_{\\Omega} \\mathbf{b}^T \\,\\cdot \\, \\mathbf{u}^* \\,d \\Omega\n",
    "\\end{equation}\n",
    "\n",
    "Donde:\n",
    "\n",
    "- $\\mathbf{u}^* = [u,v]^T$\n",
    "- $\\boldsymbol{\\varepsilon}^* = [\\epsilon_{nx}^*,\\epsilon_{ny}^*,\\gamma_{xy}^*$\n",
    "- $\\mathbf{t} = [t_x,t_y]^T$\n",
    "- $\\mathbf{b} = [b_x,b_y]^T$\n",
    "\n",
    "Esta expresión es general. Si parte de las tensiones $\\mathbf{t}$ sobre la superficie se definen mediante fuerzas puntuales $\\mathbf{F}$ (por unidad de ancho $z$) concentradas en $n$ puntos del contorno, la expresión del PTV puede escribirse como: \n",
    "\n",
    "\\begin{equation}\n",
    "\\int_{\\Omega} \\boldsymbol{\\sigma}^T \\cdot \\boldsymbol{\\varepsilon}^* \\, d\\Omega = \\int_{\\Gamma} \\mathbf{t}^T \\cdot \\mathbf{u}^* \\,d \\Gamma + \\int_{\\Omega} \\mathbf{b}^T \\,\\cdot \\, \\mathbf{u}^* \\,d \\Omega + \\sum_{k=1}^n \\mathbf{F}_k^T \\,\\mathbf{u}_k^*\n",
    "\\end{equation}\n",
    "\n",
    "con $\\mathbf{F} = [F_x,F_y]^T$\n",
    "\n",
    "Esto puede hacerse porque las fuerzas puntuales pueden representarse como tensiones aplicadas, mediante una función especial, denominada [Delta de Dirac](https://es.wikipedia.org/wiki/Delta_de_Dirac), y aplicando sus propiedades de integración. "
   ]
  }
 ],
 "metadata": {
  "celltoolbar": "Slideshow",
  "kernelspec": {
   "display_name": "Python 2",
   "language": "python",
   "name": "python2"
  },
  "language_info": {
   "codemirror_mode": {
    "name": "ipython",
    "version": 2
   },
   "file_extension": ".py",
   "mimetype": "text/x-python",
   "name": "python",
   "nbconvert_exporter": "python",
   "pygments_lexer": "ipython2",
   "version": "2.7.9"
  }
 },
 "nbformat": 4,
 "nbformat_minor": 0
}
