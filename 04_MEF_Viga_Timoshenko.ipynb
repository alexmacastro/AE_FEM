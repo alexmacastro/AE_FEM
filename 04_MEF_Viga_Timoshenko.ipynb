{
 "cells": [
  {
   "cell_type": "markdown",
   "metadata": {
    "slideshow": {
     "slide_type": "slide"
    }
   },
   "source": [
    "# El MEF para vigas de Timoshenko\n",
    "\n",
    "\n",
    "Análisis de Estructuras. Grado en Ingeniería Civil. \n",
    "\n",
    "Autores: \n",
    "- Alejandro E. Martínez-Castro, Esther Puertas García, Rafael Gallego.\n",
    "- Dpto. Mecánica de Estructuras e Ingeniería Hidráulica. Universidad de Granada.\n",
    "\n",
    "<a rel=\"license\" href=\"http://creativecommons.org/licenses/by-nc-sa/4.0/\"><img alt=\"Licencia de Creative Commons\" style=\"border-width:0\" src=\"https://i.creativecommons.org/l/by-nc-sa/4.0/88x31.png\" /></a><br /><span xmlns:dct=\"http://purl.org/dc/terms/\" property=\"dct:title\">Cuadernos MEF: Viga de Timoshenko</span> by <span xmlns:cc=\"http://creativecommons.org/ns#\" property=\"cc:attributionName\">Alejandro Martínez Castro, Esther Puertas García, Rafael Gallego Sevilla</span> is licensed under a <a rel=\"license\" href=\"http://creativecommons.org/licenses/by-nc-sa/4.0/\">Creative Commons Reconocimiento-NoComercial-CompartirIgual 4.0 Internacional License</a>."
   ]
  },
  {
   "cell_type": "markdown",
   "metadata": {
    "slideshow": {
     "slide_type": "slide"
    }
   },
   "source": [
    "<a id=\"teoria\"></a> \n",
    "## Teoría básica\n",
    "\n",
    "La [viga de Timoshenko](https://es.wikipedia.org/wiki/Teor%C3%ADa_de_vigas_de_Timoshenko) (o viga gruesa) es un modelo de viga que tiene en cuenta la deformación debida a esfuerzo cortante. Es apta para modelizar elementos con canto elevado, para los cuales la relación canto-luz no es adecuada para ser considerados elementos de viga esbeltos (o viga de Bernoulli-Euler). \n",
    "\n",
    "Este modelo de viga comparte las mismas hipótesis que la viga de Bernoulli-Euler, pero difiere en la consideración del giro de la sección. \n",
    "\n",
    "Todos los puntos que están en una sección de $x$ constante (sección plana) permanecen en una sección plana al deformarse la viga. La viga de Bernoulli-Euler plantea la hipótesis de que el giro de esta sección coincide con el de la directriz de la viga en la configuración deformada (este giro coincide con la pendiente para giros pequeños). Esta hipótesis tiene como importante consecuencia que la distorsión angular es cero. En efecto, para calcular la distribución de tensiones tangenciales verticales, la viga de Bernoulli-Euler debe acudir a equilibrar las tensiones (Teorema de Colignon). \n",
    "\n",
    "La viga de Timoshenko admite que la sección plana permanece plana. La principal diferencia con el modelo de viga de Bernoulli-Euler consiste en admitir que el giro de la sección no coincide con la pendiente a la curva directriz. El ángulo girado por la sección es un parámetro independiente. Y constante para toda la sección. En consecuencia, en este modelo, la distorsión angular no es cero. \n",
    "\n",
    "Consideremos un sistema de referencia tal que el eje de la viga coincide con el eje $x$ positivo, el eje $y$ está en el plano horizontal de la sección, y el eje $z$ es perpendicular al plano de la viga. Las cargas se orientan según el eje $z$.  \n",
    "\n",
    "El campo de desplazamientos se notará como $(u,v,w)$, siendo $w(x)$ el desplazamiento vertical. \n",
    "\n",
    "<img alt=\"Secion_Timoshenko\" src=\"hipotesis_timoshenko.png\" />\n",
    "\n",
    "El giro que experimenta una sección plana al deformarse se notará como $\\theta(x)$. Se compone de dos partes: \n",
    "\n",
    "\\begin{equation}\n",
    "\\theta = \\dfrac{d w}{d x} + \\phi\n",
    "\\end{equation}\n",
    "\n",
    "Siendo: \n",
    "+ $\\dfrac{d w}{d x}$ = Giro de la viga de Bernoulli-Euler (la sección se alinea con la normal a la deformada). \n",
    "+ $\\phi$ = $\\phi(x)$, Giro adicional respecto a la normal. \n",
    "+ $\\theta = \\theta (x)$, Giro total de la sección. "
   ]
  },
  {
   "cell_type": "markdown",
   "metadata": {
    "collapsed": true,
    "slideshow": {
     "slide_type": "slide"
    }
   },
   "source": [
    "### Desplazamientos y deformaciones.\n",
    "\n",
    "El campo de desplazamientos horizontales es: \n",
    "\\begin{equation}\n",
    "u = -z \\,\\theta\n",
    "\\end{equation}\n",
    "siendo $w$ común para todos los puntos de una misma $x$. \n",
    "\n",
    "Las deformaciones $\\epsilon_x$ y $\\gamma_{xz}$ pueden escribirse como sigue:  \n",
    "\n",
    "\\begin{eqnarray}\n",
    "\\epsilon_x & = &- z \\, \\dfrac{d \\theta}{d x} \\\\\n",
    "\\gamma_{xz} & = &\\dfrac{\\partial w}{\\partial x} + \\dfrac{\\partial u}{\\partial z} = - \\theta + \\dfrac{d w}{d x} = - \\phi\n",
    "\\end{eqnarray}\n",
    "\n",
    "Nótese que en las anteriores expresiones se ha tenido en cuenta que $w$ y $\\theta$ son sólo función de una variable, la $x$. Por eso las derivadas parciales se han escrito como derivadas ordinarias. "
   ]
  },
  {
   "cell_type": "markdown",
   "metadata": {
    "slideshow": {
     "slide_type": "slide"
    }
   },
   "source": [
    "### Tensiones\n",
    "\n",
    "Puesto que $\\sigma_x = E \\, \\epsilon_x$, teniendo en cuenta las expresiones anteriores, \n",
    "\\begin{equation}\n",
    "\\sigma_x = -z \\,E \\,\\dfrac{d \\theta}{d x}\n",
    "\\end{equation}\n",
    "siendo $E$ el módulo de elasticidad. \n",
    "\n",
    "La tensión tangencial $\\tau_{xz} = G \\, \\gamma_{xz}$, con $G = \\dfrac{E}{2\\,(1 + \\nu)}$ el módulo de rigidez a cortante, siendo $\\nu$ el coeficiente de Poisson del material. Teniendo en cuenta la expresión de $\\gamma_{xz}$, \n",
    "\n",
    "\\begin{equation}\n",
    "\\tau_{xz} = G \\, \\left( \\dfrac{d w}{d x} - \\theta \\right) = - G \\,\\phi\n",
    "\\end{equation}\n",
    "\n",
    "Puesto que el ángulo $\\phi$ es el mismo para todos los puntos de una sección de $x$ fija, claramente, el elemento presenta un perfil de tensiones tangenciales constantes, de valor $\\tau_{xz}$. "
   ]
  },
  {
   "cell_type": "markdown",
   "metadata": {
    "slideshow": {
     "slide_type": "slide"
    }
   },
   "source": [
    "### Esfuerzos\n",
    "\n",
    "El esfuerzo cortante $\\mathcal{V}$ se relaciona con $\\tau_{xz}$ de forma \"especial\", ya que _estrictamente_ no se corresponde con la integral de $\\tau_{xz}$ en el área $A$, sino en un área $A_c$ denominada \"área reducida\" o \"área a cortante\" ($A_c = \\alpha \\, A$, siendo $\\alpha$ un coeficiente que depende de la forma de la sección transversal). Así, \n",
    "\n",
    "\\begin{equation}\n",
    "\\mathcal{V} = A_c \\,\\tau_{xz} = A_c \\,G\\,\\gamma_{xz}\n",
    "\\end{equation}\n",
    "\n",
    "Los esfuerzos se relacionan con las funciones $\\theta$ y $w$ como sigue: \n",
    "\n",
    "\\begin{align}\n",
    "\\mathcal{M} & = E\\,I\\,\\dfrac{d \\theta}{d x} \\\\\n",
    "\\mathcal{V} & = G \\,A_c \\cdot \\left( \\dfrac{d w}{d x} - \\theta \\right)\n",
    "\\end{align}\n"
   ]
  },
  {
   "cell_type": "markdown",
   "metadata": {
    "slideshow": {
     "slide_type": "slide"
    }
   },
   "source": [
    "### Ecuaciones de equilibrio\n",
    "\n",
    "Las ecuaciones de equilibrio de fuerzas verticales y momentos, considerando $q = q(x)$ una fuerza por unidad de línea distribuida en la viga, son: \n",
    "\n",
    "\\begin{align}\n",
    "\\dfrac {d \\mathcal{V}}{d x} + q & = 0 \\\\\n",
    "\\dfrac {d \\mathcal{M}}{d x} + \\mathcal{V} & = 0 \\\\\n",
    "\\end{align}\n",
    "\n",
    "Estas ecuaciones pueden escribirse como: \n",
    "\n",
    "\\begin{align}\n",
    "\\dfrac{d \\mathcal{V}}{d x} & = - q \\Rightarrow G\\,A_c \\cdot \\dfrac{d}{d x} \\,\\left( \\dfrac{d w}{d x} - \\theta \\right) = -q &\\,\\,\\,\\, (1)   \\\\\n",
    "\\dfrac{d \\mathcal{M}}{d x} & = - \\mathcal{V} \\Rightarrow \\dfrac{d}{d x} \\,\\left( E\\,I\\,\\dfrac{d \\theta}{d x}  \\right) = -\\mathcal{V} &\\,\\,\\,\\, (2)\n",
    "\\end{align}\n"
   ]
  },
  {
   "cell_type": "markdown",
   "metadata": {
    "slideshow": {
     "slide_type": "slide"
    }
   },
   "source": [
    "## Formulación débil.\n",
    "\n",
    "En las ecuaciones de equilibrio, considerando las funciones de ponderación independientes $w^*$ y $\\theta^*$ , estas ecuaciones pueden escribirse como: \n",
    "\n",
    "\\begin{align}\n",
    "G\\,A_c \\cdot \\dfrac{d}{d x} \\,\\left( \\dfrac{d w}{d x} - \\theta \\right)\\cdot w^* = -q \\,\\cdot w^* &\\,\\,\\,\\, \\mathrm{(1a)} \\\\\n",
    "\\dfrac{d}{d x} \\,\\left( E\\,I\\,\\dfrac{d \\theta}{d x}  \\right) \\cdot \\theta^* = -\\mathcal{V}\\,\\theta^* &\\,\\,\\,\\, \\mathrm{(2a)}\n",
    "\\end{align}\n",
    "\n",
    "E integrando entre $x=0$ y $x=L$, \n",
    "\n",
    "\\begin{align}\n",
    "\\int_{0}^{L} G\\,A_c \\cdot \\dfrac{d}{d x} \\,\\left( \\dfrac{d w}{d x} - \\theta \\right)\\cdot w^*\\,dx & =  \\int_{0}^{L} -q \\,\\cdot w^*\\,dx &\\,\\,\\,\\, \\mathrm{(1b)} \\\\\n",
    "\\int_{0}^{L} \\dfrac{d}{d x} \\,\\left( E\\,I\\,\\dfrac{d \\theta}{d x}  \\right) \\cdot \\theta^*\\,dx  & = \\int_{0}^{L} -\\mathcal{V}\\,\\theta^* \\,dx &\\,\\,\\,\\, \\mathrm{(2b)}\n",
    "\\end{align}"
   ]
  },
  {
   "cell_type": "markdown",
   "metadata": {
    "slideshow": {
     "slide_type": "slide"
    }
   },
   "source": [
    "La primera integral de cada igualdad puede integrarse por partes,\n",
    "\n",
    "\\begin{align}\n",
    "\\int_{0}^{L} G\\,A_c \\cdot \\dfrac{d}{d x} \\,\\left( \\dfrac{d w}{d x} - \\theta \\right)\\cdot w^*\\,dx & =  \n",
    "\\left. G \\,A_c \\cdot \\left( \\dfrac{d w}{d x} - \\theta \\right) \\cdot w^* \\right]_{0}^{L} - \\int_{0}^{L} G\\,A_c \\cdot \\left( \\dfrac{d w}{d x} - \\theta \\right) \\cdot \\dfrac{d w^*}{dx}\\,dx \\\\\n",
    "\\int_{0}^{L} \\dfrac{d}{d x} \\,\\left( E\\,I\\,\\dfrac{d \\theta}{d x}\\right) \\cdot \\theta^*\\,dx & = \n",
    "\\left. E I \\dfrac{d \\theta}{d x} \\,\\theta^* \\right]_{0}^{L} - \\int_{0}^{L} E I \\dfrac{d \\theta}{d x} \\cdot \\dfrac{d \\theta^*}{d x}\\,dx\n",
    "\\end{align}"
   ]
  },
  {
   "cell_type": "markdown",
   "metadata": {
    "slideshow": {
     "slide_type": "slide"
    }
   },
   "source": [
    "Nótese que en las igualdades anteriores aparecen evaluaciones en los extremos $0$ y $L$. \n",
    "\n",
    "Considerando el signo positivo de las funciones $\\mathcal{V}$ y $\\mathcal{M}$, podemos escribir: \n",
    "\n",
    "\\begin{align}  \n",
    "\\left. G \\,A_c \\cdot \\left( \\dfrac{d w}{d x} - \\theta \\right) \\cdot w^* \\right]_{0}^{L} & = \\mathcal{V}(L)\\,w^*(L) - \\mathcal{V}(0)\\,w^*(0) = \\\\\n",
    "\\left. E I \\dfrac{d \\theta}{d x} \\,\\theta^* \\right]_{0}^{L} & = \\mathcal{M}(L)\\,\\theta^*(L) - \\mathcal{M}(0)\\,\\theta^*(0)\n",
    "\\end{align}\n"
   ]
  },
  {
   "cell_type": "markdown",
   "metadata": {
    "slideshow": {
     "slide_type": "slide"
    }
   },
   "source": [
    "Las ecuaciones (1b) y (2b) pueden escribirse como sigue: \n",
    "\n",
    "\\begin{align}\n",
    "\\mathcal{V}(L)\\,w^*(L) - \\mathcal{V}(0)\\,w^*(0) -  \\int_{0}^{L} G\\,A_c \\cdot \\left( \\dfrac{d w}{d x} - \\theta \\right) \\, \\dfrac{d w^*}{dx}\\,dx & = - \\int_{0}^{L} q \\,w^* \\,d x &\\,\\,\\,\\, \\mathrm{(1c)}\\\\\n",
    "\\mathcal{M}(L)\\,\\theta^*(L) - \\mathcal{M}(0)\\,\\theta^*(0) -  \\int_{0}^{L} E\\,I \\cdot \\left( \\dfrac{d \\theta}{d x} \\right) \\, \\dfrac{d \\theta^*}{dx}\\,dx & = - \\int_{0}^{L} G\\, A_c \\, \\left( \\dfrac{d w}{d x} - \\theta \\right) \\, \\theta^* \\, d x &\\,\\,\\,\\, \\mathrm{(2c)}\n",
    "\\end{align}\n",
    "\n",
    "En la expresión anterior (2c) se ha sustituido $\\mathcal{V} = G\\, A_c \\, \\left( \\dfrac{d w}{d x} - \\theta \\right)$."
   ]
  },
  {
   "cell_type": "markdown",
   "metadata": {
    "collapsed": true,
    "slideshow": {
     "slide_type": "slide"
    }
   },
   "source": [
    "## Formulación discreta en un elemento.\n",
    "\n",
    "Consideremos que las funciones $w(x)$ y $\\theta(x)$ se aproximan, interpolando a partir de un conjunto de valores discretos $w_j$ y $\\theta_j$, como sigue: \n",
    "\n",
    "\\begin{align}\n",
    "w(x) & \\simeq \\sum_{j=1}^{n} f_j (x) \\, w_j \\\\\n",
    "\\theta (x) & \\simeq \\sum_{j=1}^{n} g_j (x) \\, \\theta_j\n",
    "\\end{align}\n",
    "donde se ha empleado la notación $f_j(x)$ para identificar a las funciones que interpolan desplazamientos (\"flecha\") y $g_j(x)$ a las que interpolan los giros. \n",
    "\n",
    "Si en la ecuación (1c) se eligen como funciones de ponderación $w^* = f_i(x)$, y en la ecuación (2c) $\\theta^* = g_i(x)$, con $i = 1, N$, (es decir, las mismas que se han usado para aproximar $w(x)$ y $\\theta(x)$ ), se tiene: \n",
    "\n",
    "\\begin{align}\n",
    "\\mathcal{V}(L)\\,f_i(L) - \\mathcal{V}(0)\\,f_i(0) + \\int_{0}^{L} q(x)\\,f_i(x)\\,d x & =\n",
    " \\int_{0}^{L} G\\,A_c \\cdot \\left( \\sum_{j=1}^{n} f'_j (x)\\,w_j  - \\sum_{j=1}^{n} g_j(x)\\,\\theta_j \\right)  \\, f'_i(x)\\,dx  &\\,\\,\\,\\, \\mathrm{(1d)}\\\\\n",
    "\\mathcal{M}(L)\\,g_i(L) - \\mathcal{M}(0)\\,g_i(0) + \\int_{0}^{L} G\\, A_c \\, \\left( \\sum_{j=1}^{n} f'_j(x) \\,w_j - \\sum_{j=1}^{n} g_j(x)\\,\\theta_j \\right) \\, g_i(x) \\, d x & = \n",
    "  \\int_{0}^{L} E\\,I \\cdot \\left( \\sum_{n=1}^{n} g'_j(x)\\,\\theta_j \\right) \\, g'_i(x) \\,dx &\\,\\,\\,\\, \\mathrm{(2d)}\n",
    "\\end{align}"
   ]
  },
  {
   "cell_type": "markdown",
   "metadata": {
    "slideshow": {
     "slide_type": "slide"
    }
   },
   "source": [
    "Las ecuaciones (1d) y (1e) pueden escribirse de forma más compacta como sigue: \n",
    "\n",
    "\\begin{align}\n",
    "\\sum_{j=1}^n \\left[\\begin{matrix}\n",
    "\\int_{0}^{L} G\\,A_c\\,f'_i(x)\\,f'_j(x)\\,dx & - \\int_{0}^{L} G\\,A_c\\,f'_i(x) \\,g_j(x)\\,dx  \\\\\n",
    "-\\int_{0}^{L} G\\,A_c \\,g_i(x)\\,f'_j(x)\\,dx & \\int_{0}^{L} G\\,A_c\\,g_i(x)\\,g_j(x) \\,dx\n",
    "\\end{matrix} \\right] \\cdot \\begin{pmatrix} w_j \\\\ \\theta_j \\end{pmatrix} + \\\\\n",
    "\\sum_{j=1}^n \\left[\\begin{matrix}\n",
    "0 & 0 \\\\\n",
    "0 & \\int_{0}^{L} g'_i(x) \\,E\\,I\\,g'_j(x) \\, dx \\end{matrix} \\right] \\cdot \\begin{pmatrix} w_j \\\\ \\theta_j \\end{pmatrix} =\n",
    "\\begin{pmatrix} \\int_{0}^{L} f_i(x) \\,q(x) \\,dx \\\\ 0 \\end{pmatrix} + \\left[\\begin{matrix} P_1 & M_1 & P_2 & M_2 \\end{matrix} \\right] \\cdot \\begin{pmatrix} f_i(0) \\\\ g_i(0) \\\\ f_i(0) \\\\ g_i(L) \\end{pmatrix}\n",
    "\\end{align}\n",
    "\n",
    "Siendo $P_1 = - \\mathcal{V}(0)$, $P_2 = \\mathcal{V}(L)$, $M_1 = - \\mathcal{M}(0)$ y $M_2 = \\mathcal{M}(L)$, que pueden interpretarse como fuerzas y momentos en los extremos del elemento-barra, aunque su significado es diferente al visto en cálculo matricial. \n",
    "\n",
    "Nótese que en las anteriores expresiones se requieren únicamente derivadas primeras. "
   ]
  },
  {
   "cell_type": "markdown",
   "metadata": {
    "slideshow": {
     "slide_type": "slide"
    }
   },
   "source": [
    "## Elemento de Timoshenko lagrangiano de 2 nodos\n",
    "\n",
    "El elemento más sencillo para la viga de Timoshenko es el lineal. Tanto los desplazamientos como los giros se interpolan con funciones de forma lineales. "
   ]
  },
  {
   "cell_type": "code",
   "execution_count": 1,
   "metadata": {
    "slideshow": {
     "slide_type": "-"
    }
   },
   "outputs": [
    {
     "name": "stdout",
     "output_type": "stream",
     "text": [
      "IPython console for SymPy 1.0 (Python 2.7.13-32-bit) (ground types: python)\n",
      "\n",
      "These commands were executed:\n",
      ">>> from __future__ import division\n",
      ">>> from sympy import *\n",
      ">>> x, y, z, t = symbols('x y z t')\n",
      ">>> k, m, n = symbols('k m n', integer=True)\n",
      ">>> f, g, h = symbols('f g h', cls=Function)\n",
      ">>> init_printing()\n",
      "\n",
      "Documentation can be found at http://docs.sympy.org/1.0/\n"
     ]
    }
   ],
   "source": [
    "from sympy import init_session\n",
    "init_session()"
   ]
  },
  {
   "cell_type": "markdown",
   "metadata": {
    "slideshow": {
     "slide_type": "slide"
    }
   },
   "source": [
    "Las funciones $w(x)$ y $\\theta(x)$ se interpolan como: \n",
    "\\begin{align}\n",
    "w(x) = N_1 (x) \\, w_1 + N_2 (x) \\,w_2 \\\\\n",
    "\\theta(x) = N_1 (x) \\, \\theta_1 + N_2 (x) \\,\\theta_2\n",
    "\\end{align}\n",
    "\n",
    "Que en formato matricial, puede escribirse como sigue: \n",
    "\n",
    "\\begin{equation}\n",
    "\\begin{pmatrix} w(x)\\\\ \\theta(x) \\end{pmatrix} = \n",
    "\\left[ \\begin{matrix} N_1(x) & 0 & N_2(x) & 0 \\\\\n",
    "                      0 & N_1(x) &  0 & N_2(x) \\end{matrix} \\right] \\cdot \n",
    "                      \\begin{pmatrix} w_1 \\\\ \\theta_1 \\\\ w_2 \\\\ \\theta_2 \\end{pmatrix} = \\mathbf{N}\\cdot \\mathbf{a}\n",
    "\\end{equation}"
   ]
  },
  {
   "cell_type": "markdown",
   "metadata": {
    "slideshow": {
     "slide_type": "slide"
    }
   },
   "source": [
    "A continuación se evaluarán las matrices de deformación a flexión $\\mathbf{B_f}$ y a cortante $\\mathbf{B_c}$."
   ]
  },
  {
   "cell_type": "code",
   "execution_count": 2,
   "metadata": {
    "collapsed": true
   },
   "outputs": [],
   "source": [
    "from sympy import Matrix\n",
    "E, I, Ac, G, L = symbols('E I Ac G L')\n",
    "N1 = 1 - x / L\n",
    "N2 = x / L\n",
    "funciones_w =    Matrix([[N1, 0, N2, 0]])\n",
    "funciones_giro = Matrix([[0, N1, 0, N2]])"
   ]
  },
  {
   "cell_type": "code",
   "execution_count": 3,
   "metadata": {},
   "outputs": [
    {
     "data": {
      "image/png": "[encoded data removed]",
      "text/latex": [
       "$$\\left[\\begin{matrix}1 - \\frac{x}{L} & 0 & \\frac{x}{L} & 0\\\\0 & 1 - \\frac{x}{L} & 0 & \\frac{x}{L}\\end{matrix}\\right]$$"
      ],
      "text/plain": [
       "⎡    x         x   ⎤\n",
       "⎢1 - ─    0    ─  0⎥\n",
       "⎢    L         L   ⎥\n",
       "⎢                  ⎥\n",
       "⎢           x     x⎥\n",
       "⎢  0    1 - ─  0  ─⎥\n",
       "⎣           L     L⎦"
      ]
     },
     "execution_count": 3,
     "metadata": {},
     "output_type": "execute_result"
    }
   ],
   "source": [
    "funciones = Matrix.vstack(funciones_w,funciones_giro)\n",
    "funciones"
   ]
  },
  {
   "cell_type": "markdown",
   "metadata": {
    "slideshow": {
     "slide_type": "slide"
    }
   },
   "source": [
    "La matriz $\\mathbf{B_f}$ es la matriz de deformación de flexión, para esta formulación, y se obtiene derivando las funciones de forma que definen $\\theta(x)$. \n",
    "\\begin{equation}\n",
    "\\dfrac{d \\theta}{d x} = \\left[ \\begin{matrix} 0 & \\dfrac{d N_1}{dx} & 0 & \\dfrac{d N_2}{d x} \\end{matrix} \\right] \\cdot \n",
    "\\begin{pmatrix} w_1 \\\\ \\theta_1 \\\\ w_2 \\\\ \\theta_2 \\end{pmatrix} = \\mathbf{B_f}\\,\\mathbf{a}\n",
    "\\end{equation}"
   ]
  },
  {
   "cell_type": "code",
   "execution_count": 4,
   "metadata": {
    "slideshow": {
     "slide_type": "subslide"
    }
   },
   "outputs": [
    {
     "data": {
      "image/png": "[encoded data removed]",
      "text/latex": [
       "$$\\left[\\begin{matrix}0 & - \\frac{1}{L} & 0 & \\frac{1}{L}\\end{matrix}\\right]$$"
      ],
      "text/plain": [
       "⎡   -1      1⎤\n",
       "⎢0  ───  0  ─⎥\n",
       "⎣    L      L⎦"
      ]
     },
     "execution_count": 4,
     "metadata": {},
     "output_type": "execute_result"
    }
   ],
   "source": [
    "Bf = funciones_giro.diff(x)\n",
    "Bf"
   ]
  },
  {
   "cell_type": "markdown",
   "metadata": {
    "slideshow": {
     "slide_type": "slide"
    }
   },
   "source": [
    "La matriz de deformación a cortante, $\\mathbf{B_c}$ se define como sigue: \n",
    "\n",
    "\\begin{equation}\n",
    "\\dfrac{d w }{d x} - \\theta = \\left[ \\begin{matrix} \\dfrac{d N_1}{dx} & -N_1 & \\dfrac{d N_2}{d x} & - N_2 \\end{matrix} \\right] \\cdot \n",
    "\\begin{pmatrix} w_1 \\\\ \\theta_1 \\\\ w_2 \\\\ \\theta_2 \\end{pmatrix} = \\mathbf{B_c}\\,\\mathbf{a} \n",
    "\\end{equation}"
   ]
  },
  {
   "cell_type": "code",
   "execution_count": 5,
   "metadata": {
    "slideshow": {
     "slide_type": "subslide"
    }
   },
   "outputs": [
    {
     "data": {
      "image/png": "[encoded data removed]",
      "text/latex": [
       "$$\\left[\\begin{matrix}- \\frac{1}{L} & -1 + \\frac{x}{L} & \\frac{1}{L} & - \\frac{x}{L}\\end{matrix}\\right]$$"
      ],
      "text/plain": [
       "⎡-1        x  1  -x ⎤\n",
       "⎢───  -1 + ─  ─  ───⎥\n",
       "⎣ L        L  L   L ⎦"
      ]
     },
     "execution_count": 5,
     "metadata": {},
     "output_type": "execute_result"
    }
   ],
   "source": [
    "Bc = funciones_w.diff(x) - funciones_giro\n",
    "Bc"
   ]
  },
  {
   "cell_type": "markdown",
   "metadata": {
    "slideshow": {
     "slide_type": "slide"
    }
   },
   "source": [
    "La Matriz $\\mathbf{K_f}$ se evalúa como \n",
    "\n",
    "\\begin{equation}\n",
    "\\mathbf{K_f} = \\int_{0}^L E\\,I\\,\\mathbf{B_f}^T \\cdot \\mathbf{B_f}\\,dx\n",
    "\\end{equation}"
   ]
  },
  {
   "cell_type": "code",
   "execution_count": 6,
   "metadata": {
    "slideshow": {
     "slide_type": "subslide"
    }
   },
   "outputs": [
    {
     "data": {
      "image/png": "[encoded data removed]",
      "text/latex": [
       "$$\\left[\\begin{matrix}0 & 0 & 0 & 0\\\\0 & \\frac{E I}{L} & 0 & - \\frac{E I}{L}\\\\0 & 0 & 0 & 0\\\\0 & - \\frac{E I}{L} & 0 & \\frac{E I}{L}\\end{matrix}\\right]$$"
      ],
      "text/plain": [
       "⎡0    0    0    0  ⎤\n",
       "⎢                  ⎥\n",
       "⎢    E⋅I      -E⋅I ⎥\n",
       "⎢0   ───   0  ─────⎥\n",
       "⎢     L         L  ⎥\n",
       "⎢                  ⎥\n",
       "⎢0    0    0    0  ⎥\n",
       "⎢                  ⎥\n",
       "⎢   -E⋅I       E⋅I ⎥\n",
       "⎢0  ─────  0   ─── ⎥\n",
       "⎣     L         L  ⎦"
      ]
     },
     "execution_count": 6,
     "metadata": {},
     "output_type": "execute_result"
    }
   ],
   "source": [
    "Kf = integrate(E* I * Bf.T.multiply(Bf),(x,0,L))\n",
    "Kf"
   ]
  },
  {
   "cell_type": "markdown",
   "metadata": {
    "slideshow": {
     "slide_type": "slide"
    }
   },
   "source": [
    "La Matriz $\\mathbf{K_c}$ se evalúa como \n",
    "\n",
    "\\begin{equation}\n",
    "K_c = \\int_{0}^L G\\,A_c\\,\\mathbf{B_c}^T \\cdot \\mathbf{B_c}\\,dx\n",
    "\\end{equation}"
   ]
  },
  {
   "cell_type": "code",
   "execution_count": 7,
   "metadata": {
    "slideshow": {
     "slide_type": "subslide"
    }
   },
   "outputs": [
    {
     "data": {
      "image/png": "[encoded data removed]",
      "text/latex": [
       "$$\\left[\\begin{matrix}\\frac{Ac G}{L} & \\frac{Ac G}{2} & - \\frac{Ac G}{L} & \\frac{Ac G}{2}\\\\\\frac{Ac G}{2} & \\frac{Ac G}{3} L & - \\frac{Ac G}{2} & \\frac{Ac G}{6} L\\\\- \\frac{Ac G}{L} & - \\frac{Ac G}{2} & \\frac{Ac G}{L} & - \\frac{Ac G}{2}\\\\\\frac{Ac G}{2} & \\frac{Ac G}{6} L & - \\frac{Ac G}{2} & \\frac{Ac G}{3} L\\end{matrix}\\right]$$"
      ],
      "text/plain": [
       "⎡ Ac⋅G    Ac⋅G   -Ac⋅G    Ac⋅G ⎤\n",
       "⎢ ────    ────   ──────   ──── ⎥\n",
       "⎢  L       2       L       2   ⎥\n",
       "⎢                              ⎥\n",
       "⎢ Ac⋅G   Ac⋅G⋅L  -Ac⋅G   Ac⋅G⋅L⎥\n",
       "⎢ ────   ──────  ──────  ──────⎥\n",
       "⎢  2       3       2       6   ⎥\n",
       "⎢                              ⎥\n",
       "⎢-Ac⋅G   -Ac⋅G    Ac⋅G   -Ac⋅G ⎥\n",
       "⎢──────  ──────   ────   ──────⎥\n",
       "⎢  L       2       L       2   ⎥\n",
       "⎢                              ⎥\n",
       "⎢ Ac⋅G   Ac⋅G⋅L  -Ac⋅G   Ac⋅G⋅L⎥\n",
       "⎢ ────   ──────  ──────  ──────⎥\n",
       "⎣  2       6       2       3   ⎦"
      ]
     },
     "execution_count": 7,
     "metadata": {},
     "output_type": "execute_result"
    }
   ],
   "source": [
    "Kc = integrate(G * Ac * Bc.T.multiply(Bc),(x,0,L))\n",
    "Kc.simplify()\n",
    "Kc"
   ]
  },
  {
   "cell_type": "markdown",
   "metadata": {
    "slideshow": {
     "slide_type": "slide"
    }
   },
   "source": [
    "La formulación completa para el elemento puede escribirse como: \n",
    "\n",
    "\\begin{equation}\n",
    "\\mathbf{K} \\,\\mathbf{a} = \\begin{pmatrix} P_1 \\\\ M_1 \\\\ P_2 \\\\ M_2 \\end{pmatrix} + \n",
    "\\begin{pmatrix} \\int_{0}^{L} q(x)\\,N_1(x)\\,dx \\\\ 0 \\\\ \\int_{0}^{L} q(x)\\,N_2(x)\\,dx \\\\ 0 \\end{pmatrix}\n",
    "\\end{equation}\n",
    "donde $\\mathbf{K} = \\mathbf{K_c} + \\mathbf{K_f}$"
   ]
  },
  {
   "cell_type": "markdown",
   "metadata": {},
   "source": [
    "Nótese que este elemento proporciona una solución continua, tanto en desplazamientos como en giros. La solución es de clase $C^0$. "
   ]
  },
  {
   "cell_type": "code",
   "execution_count": 8,
   "metadata": {},
   "outputs": [
    {
     "data": {
      "image/png": "[encoded data removed]",
      "text/latex": [
       "$$\\left[\\begin{matrix}\\frac{Ac G}{L} & \\frac{Ac G}{2} & - \\frac{Ac G}{L} & \\frac{Ac G}{2}\\\\\\frac{Ac G}{2} & \\frac{Ac G}{3} L + \\frac{E I}{L} & - \\frac{Ac G}{2} & \\frac{Ac G}{6} L - \\frac{E I}{L}\\\\- \\frac{Ac G}{L} & - \\frac{Ac G}{2} & \\frac{Ac G}{L} & - \\frac{Ac G}{2}\\\\\\frac{Ac G}{2} & \\frac{Ac G}{6} L - \\frac{E I}{L} & - \\frac{Ac G}{2} & \\frac{Ac G}{3} L + \\frac{E I}{L}\\end{matrix}\\right]$$"
      ],
      "text/plain": [
       "⎡ Ac⋅G       Ac⋅G      -Ac⋅G       Ac⋅G    ⎤\n",
       "⎢ ────       ────      ──────      ────    ⎥\n",
       "⎢  L          2          L          2      ⎥\n",
       "⎢                                          ⎥\n",
       "⎢ Ac⋅G   Ac⋅G⋅L   E⋅I  -Ac⋅G   Ac⋅G⋅L   E⋅I⎥\n",
       "⎢ ────   ────── + ───  ──────  ────── - ───⎥\n",
       "⎢  2       3       L     2       6       L ⎥\n",
       "⎢                                          ⎥\n",
       "⎢-Ac⋅G      -Ac⋅G       Ac⋅G      -Ac⋅G    ⎥\n",
       "⎢──────     ──────      ────      ──────   ⎥\n",
       "⎢  L          2          L          2      ⎥\n",
       "⎢                                          ⎥\n",
       "⎢ Ac⋅G   Ac⋅G⋅L   E⋅I  -Ac⋅G   Ac⋅G⋅L   E⋅I⎥\n",
       "⎢ ────   ────── - ───  ──────  ────── + ───⎥\n",
       "⎣  2       6       L     2       3       L ⎦"
      ]
     },
     "execution_count": 8,
     "metadata": {},
     "output_type": "execute_result"
    }
   ],
   "source": [
    "K = Kf + Kc\n",
    "K"
   ]
  },
  {
   "cell_type": "markdown",
   "metadata": {},
   "source": [
    "## Bloqueo de la solución\n",
    "\n",
    "El elemento lagrangiano de 2 nodos proporciona un caso interesante para introducir el problema del bloqueo de la solución, y las técnicas que se han desarrollado para resolver este problema dentro del MEF, como la integración reducida. \n",
    "\n",
    "Consideremos una viga en voladizo, modelizada mediante 1 único elemento. La viga tiene en el nodo inicial condición de empotramiento, y en el nodo final, existe una carga vertical de valor $P$. \n",
    "\n",
    "Con la matriz $\\mathbf{K}$ encontrada anteriormente, es posible plantear el sistema. Eliminando las filas y columnas correspondientes al nodo 1 (pues ambos grados de libertad son nulos), se obtiene el sistema: \n",
    "\n",
    "\\begin{equation}\n",
    "\\mathbf{K_{22}} \\cdot \\begin{pmatrix} w_2 \\\\ \\theta_2 \\end{pmatrix} = \\begin{pmatrix} P \\\\ 0 \\end{pmatrix}\n",
    "\\end{equation}"
   ]
  },
  {
   "cell_type": "code",
   "execution_count": 9,
   "metadata": {},
   "outputs": [
    {
     "data": {
      "image/png": "[encoded data removed]",
      "text/latex": [
       "$$\\left[\\begin{matrix}\\frac{Ac G}{L} & - \\frac{Ac G}{2}\\\\- \\frac{Ac G}{2} & \\frac{Ac G}{3} L + \\frac{E I}{L}\\end{matrix}\\right]$$"
      ],
      "text/plain": [
       "⎡ Ac⋅G      -Ac⋅G    ⎤\n",
       "⎢ ────      ──────   ⎥\n",
       "⎢  L          2      ⎥\n",
       "⎢                    ⎥\n",
       "⎢-Ac⋅G   Ac⋅G⋅L   E⋅I⎥\n",
       "⎢──────  ────── + ───⎥\n",
       "⎣  2       3       L ⎦"
      ]
     },
     "execution_count": 9,
     "metadata": {},
     "output_type": "execute_result"
    }
   ],
   "source": [
    "K22 = K[2:4,2:4]\n",
    "K22"
   ]
  },
  {
   "cell_type": "markdown",
   "metadata": {},
   "source": [
    "La inversa de esta matriz es la matriz de flexibilidad de este sistema: "
   ]
  },
  {
   "cell_type": "code",
   "execution_count": 10,
   "metadata": {},
   "outputs": [
    {
     "data": {
      "image/png": "[encoded data removed]",
      "text/latex": [
       "$$\\left[\\begin{matrix}\\frac{L^{2}}{\\frac{Ac G}{3} L + \\frac{4 E}{L} I} + \\frac{L}{Ac G} & \\frac{L}{\\frac{Ac G}{6} L + \\frac{2 E}{L} I}\\\\\\frac{L}{\\frac{Ac G}{6} L + \\frac{2 E}{L} I} & \\frac{1}{\\frac{Ac G}{12} L + \\frac{E I}{L}}\\end{matrix}\\right]$$"
      ],
      "text/plain": [
       "⎡        2                                ⎤\n",
       "⎢       L            L           L        ⎥\n",
       "⎢──────────────── + ────  ────────────────⎥\n",
       "⎢  ⎛Ac⋅G⋅L   E⋅I⎞   Ac⋅G    ⎛Ac⋅G⋅L   E⋅I⎞⎥\n",
       "⎢4⋅⎜────── + ───⎟         2⋅⎜────── + ───⎟⎥\n",
       "⎢  ⎝  12      L ⎠           ⎝  12      L ⎠⎥\n",
       "⎢                                         ⎥\n",
       "⎢          L                     1        ⎥\n",
       "⎢   ────────────────        ────────────  ⎥\n",
       "⎢     ⎛Ac⋅G⋅L   E⋅I⎞        Ac⋅G⋅L   E⋅I  ⎥\n",
       "⎢   2⋅⎜────── + ───⎟        ────── + ───  ⎥\n",
       "⎣     ⎝  12      L ⎠          12      L   ⎦"
      ]
     },
     "execution_count": 10,
     "metadata": {},
     "output_type": "execute_result"
    }
   ],
   "source": [
    "A22 = K22.inv()\n",
    "A22"
   ]
  },
  {
   "cell_type": "code",
   "execution_count": 11,
   "metadata": {},
   "outputs": [
    {
     "data": {
      "image/png": "[encoded data removed]",
      "text/latex": [
       "$$\\left[\\begin{matrix}P\\\\0\\end{matrix}\\right]$$"
      ],
      "text/plain": [
       "⎡P⎤\n",
       "⎢ ⎥\n",
       "⎣0⎦"
      ]
     },
     "execution_count": 11,
     "metadata": {},
     "output_type": "execute_result"
    }
   ],
   "source": [
    "P = symbols('P')\n",
    "vecF = Matrix([[P, 0]]).T\n",
    "vecF"
   ]
  },
  {
   "cell_type": "markdown",
   "metadata": {},
   "source": [
    "A continuación se resuelve el vector de desplazamientos, multiplicando la inversa de $\\mathbf{K_{22}}$ por el vector $\\mathbf{F}$"
   ]
  },
  {
   "cell_type": "code",
   "execution_count": 12,
   "metadata": {},
   "outputs": [
    {
     "data": {
      "image/png": "[encoded data removed]",
      "text/latex": [
       "$$\\left[\\begin{matrix}P \\left(\\frac{L^{2}}{\\frac{Ac G}{3} L + \\frac{4 E}{L} I} + \\frac{L}{Ac G}\\right)\\\\\\frac{L P}{\\frac{Ac G}{6} L + \\frac{2 E}{L} I}\\end{matrix}\\right]$$"
      ],
      "text/plain": [
       "⎡  ⎛        2              ⎞⎤\n",
       "⎢  ⎜       L            L  ⎟⎥\n",
       "⎢P⋅⎜──────────────── + ────⎟⎥\n",
       "⎢  ⎜  ⎛Ac⋅G⋅L   E⋅I⎞   Ac⋅G⎟⎥\n",
       "⎢  ⎜4⋅⎜────── + ───⎟       ⎟⎥\n",
       "⎢  ⎝  ⎝  12      L ⎠       ⎠⎥\n",
       "⎢                           ⎥\n",
       "⎢           L⋅P             ⎥\n",
       "⎢     ────────────────      ⎥\n",
       "⎢       ⎛Ac⋅G⋅L   E⋅I⎞      ⎥\n",
       "⎢     2⋅⎜────── + ───⎟      ⎥\n",
       "⎣       ⎝  12      L ⎠      ⎦"
      ]
     },
     "execution_count": 12,
     "metadata": {},
     "output_type": "execute_result"
    }
   ],
   "source": [
    "wsol = A22.multiply(vecF)\n",
    "wsol"
   ]
  },
  {
   "cell_type": "markdown",
   "metadata": {},
   "source": [
    "La solución aproximada, $w_{2}^{aprox}$ es el primer elemento de este vector."
   ]
  },
  {
   "cell_type": "code",
   "execution_count": 13,
   "metadata": {},
   "outputs": [
    {
     "data": {
      "image/png": "[encoded data removed]",
      "text/latex": [
       "$$P \\left(\\frac{L^{2}}{\\frac{Ac G}{3} L + \\frac{4 E}{L} I} + \\frac{L}{Ac G}\\right)$$"
      ],
      "text/plain": [
       "  ⎛        2              ⎞\n",
       "  ⎜       L            L  ⎟\n",
       "P⋅⎜──────────────── + ────⎟\n",
       "  ⎜  ⎛Ac⋅G⋅L   E⋅I⎞   Ac⋅G⎟\n",
       "  ⎜4⋅⎜────── + ───⎟       ⎟\n",
       "  ⎝  ⎝  12      L ⎠       ⎠"
      ]
     },
     "execution_count": 13,
     "metadata": {},
     "output_type": "execute_result"
    }
   ],
   "source": [
    "w_aprox = wsol[0]\n",
    "w_aprox"
   ]
  },
  {
   "cell_type": "markdown",
   "metadata": {},
   "source": [
    "Consideremos ahora una sección rectangular, de base $b$ y altura $h$. Se definen el momento de inercia y el área a cortante. "
   ]
  },
  {
   "cell_type": "code",
   "execution_count": 14,
   "metadata": {},
   "outputs": [
    {
     "data": {
      "image/png": "[encoded data removed]",
      "text/latex": [
       "$$\\left ( \\frac{b h^{3}}{12}, \\quad \\frac{5 b}{6} h\\right )$$"
      ],
      "text/plain": [
       "⎛   3       ⎞\n",
       "⎜b⋅h   5⋅b⋅h⎟\n",
       "⎜────, ─────⎟\n",
       "⎝ 12     6  ⎠"
      ]
     },
     "execution_count": 14,
     "metadata": {},
     "output_type": "execute_result"
    }
   ],
   "source": [
    "b, h, ld, fi = symbols('b h ld fi')\n",
    "In = Rational(1,12)* b * h**3\n",
    "Acort = Rational(5,6) * b * h\n",
    "In, Acort"
   ]
  },
  {
   "cell_type": "markdown",
   "metadata": {},
   "source": [
    "La solución exacta para una viga de Bernoulli-Euler es: \n",
    "\n",
    "\\begin{equation}\n",
    "w_{2}^{BE} = \\dfrac{P \\,L^3}{3\\,E\\,I}\n",
    "\\end{equation}"
   ]
  },
  {
   "cell_type": "code",
   "execution_count": 15,
   "metadata": {},
   "outputs": [
    {
     "data": {
      "image/png": "[encoded data removed]",
      "text/latex": [
       "$$\\frac{L^{3} P}{3 E I}$$"
      ],
      "text/plain": [
       "  3  \n",
       " L ⋅P\n",
       "─────\n",
       "3⋅E⋅I"
      ]
     },
     "execution_count": 15,
     "metadata": {},
     "output_type": "execute_result"
    }
   ],
   "source": [
    "w_be = (P* L **3) / (3*E*I)\n",
    "w_be"
   ]
  },
  {
   "cell_type": "markdown",
   "metadata": {},
   "source": [
    "Se define el ratio $\\varphi$ mediante el cociente entre el desplazamiento aproximado y el exacto para una viga de Bernoulli-Euler. \n",
    "\n",
    "\\begin{equation}\n",
    "\\varphi = \\dfrac{ w_2^{aprox} }{w_2^{BE}}\n",
    "\\end{equation}\n"
   ]
  },
  {
   "cell_type": "code",
   "execution_count": 16,
   "metadata": {},
   "outputs": [
    {
     "data": {
      "image/png": "[encoded data removed]",
      "text/latex": [
       "$$\\frac{3 E}{L^{3}} I \\left(\\frac{L^{2}}{\\frac{Ac G}{3} L + \\frac{4 E}{L} I} + \\frac{L}{Ac G}\\right)$$"
      ],
      "text/plain": [
       "      ⎛        2              ⎞\n",
       "      ⎜       L            L  ⎟\n",
       "3⋅E⋅I⋅⎜──────────────── + ────⎟\n",
       "      ⎜  ⎛Ac⋅G⋅L   E⋅I⎞   Ac⋅G⎟\n",
       "      ⎜4⋅⎜────── + ───⎟       ⎟\n",
       "      ⎝  ⎝  12      L ⎠       ⎠\n",
       "───────────────────────────────\n",
       "                3              \n",
       "               L               "
      ]
     },
     "execution_count": 16,
     "metadata": {},
     "output_type": "execute_result"
    }
   ],
   "source": [
    "phi = w_aprox/w_be\n",
    "phi"
   ]
  },
  {
   "cell_type": "markdown",
   "metadata": {},
   "source": [
    "Consideremos ahora los valores de $I$ y $A_c$ para sección rectangular. Al sustituir estos parámetros en la expresión de $\\varphi$, observe que el cociente no depende de $b$. "
   ]
  },
  {
   "cell_type": "code",
   "execution_count": 17,
   "metadata": {},
   "outputs": [
    {
     "data": {
      "image/png": "[encoded data removed]",
      "text/latex": [
       "$$\\frac{3 E h^{2} \\left(3 E h^{2} + 10 G L^{2}\\right)}{5 G L^{2} \\left(6 E h^{2} + 5 G L^{2}\\right)}$$"
      ],
      "text/plain": [
       "     2 ⎛     2         2⎞\n",
       "3⋅E⋅h ⋅⎝3⋅E⋅h  + 10⋅G⋅L ⎠\n",
       "─────────────────────────\n",
       "      2 ⎛     2        2⎞\n",
       " 5⋅G⋅L ⋅⎝6⋅E⋅h  + 5⋅G⋅L ⎠"
      ]
     },
     "execution_count": 17,
     "metadata": {},
     "output_type": "execute_result"
    }
   ],
   "source": [
    "phi = phi.subs([(I,In),(Ac,Acort)])\n",
    "phi = phi.simplify()\n",
    "phi"
   ]
  },
  {
   "cell_type": "markdown",
   "metadata": {},
   "source": [
    "Para introducir el parámetro de esbeltez $\\lambda =  \\dfrac{L}{h}$, consideremos que $L = \\lambda \\cdot h$. Emplearemos el símbolo $t$ para denominar a esta esbeltez, para realizar las operaciones simbólicas. "
   ]
  },
  {
   "cell_type": "code",
   "execution_count": 18,
   "metadata": {},
   "outputs": [
    {
     "data": {
      "image/png": "[encoded data removed]",
      "text/latex": [
       "$$\\frac{3 E \\left(3 E + 10 G t^{2}\\right)}{5 G t^{2} \\left(6 E + 5 G t^{2}\\right)}$$"
      ],
      "text/plain": [
       "     ⎛            2⎞ \n",
       " 3⋅E⋅⎝3⋅E + 10⋅G⋅t ⎠ \n",
       "─────────────────────\n",
       "     2 ⎛           2⎞\n",
       "5⋅G⋅t ⋅⎝6⋅E + 5⋅G⋅t ⎠"
      ]
     },
     "execution_count": 18,
     "metadata": {},
     "output_type": "execute_result"
    }
   ],
   "source": [
    "t = symbols('t')\n",
    "phi = phi.subs(L,t*h)\n",
    "phi = phi.simplify()\n",
    "phi"
   ]
  },
  {
   "cell_type": "markdown",
   "metadata": {},
   "source": [
    "En la expresión anterior, nótese que $G = \\dfrac{E}{2\\,(1 + \\nu)}$, siendo $\\nu$ el coeficiente de Poisson. "
   ]
  },
  {
   "cell_type": "code",
   "execution_count": 19,
   "metadata": {},
   "outputs": [
    {
     "data": {
      "image/png": "[encoded data removed]",
      "text/latex": [
       "$$\\frac{12 \\left(n + 1\\right) \\left(3 n + 5 t^{2} + 3\\right)}{5 t^{2} \\left(12 n + 5 t^{2} + 12\\right)}$$"
      ],
      "text/plain": [
       "           ⎛         2    ⎞\n",
       "12⋅(n + 1)⋅⎝3⋅n + 5⋅t  + 3⎠\n",
       "───────────────────────────\n",
       "     2 ⎛          2     ⎞  \n",
       "  5⋅t ⋅⎝12⋅n + 5⋅t  + 12⎠  "
      ]
     },
     "execution_count": 19,
     "metadata": {},
     "output_type": "execute_result"
    }
   ],
   "source": [
    "n = symbols('n')\n",
    "phi = phi.subs(G, E / (2 * (1 + n)))\n",
    "phi = phi.simplify()\n",
    "phi"
   ]
  },
  {
   "cell_type": "markdown",
   "metadata": {},
   "source": [
    "En la anterior expresión, nótese que para $t\\rightarrow \\infty$, el cociente tiende a 0. Teniendo en cuenta que $t=\\lambda$, se ha obtenido: \n",
    "\n",
    "\\begin{equation}\n",
    "\\lim_{\\lambda \\rightarrow \\infty}\\frac{12 \\left(\\nu + 1\\right) \\left(3 \\nu + 5 \\lambda^{2} + 3\\right)}{5 \\lambda^{2} \\left(12 \\nu + 5 \\lambda^{2} + 12\\right)} = 0\n",
    "\\end{equation}\n",
    "\n"
   ]
  },
  {
   "cell_type": "markdown",
   "metadata": {
    "collapsed": true
   },
   "source": [
    "El hecho de que este cociente tienda a cero indica que el desplazamiento obtenido mediante la aproximación proporcionada por el elemento de dos nodos tiende a cero a medida que la esbeltez aumenta. En efecto, recordando cómo se ha definido $\\varphi$, el numerador debe hacerse cero a medida que $\\lambda$ aumenta.  \n",
    "\n",
    "El límite puede calcularse de forma simbólica, con el comando de SimPy _limit_."
   ]
  },
  {
   "cell_type": "code",
   "execution_count": 20,
   "metadata": {},
   "outputs": [
    {
     "data": {
      "image/png": "[encoded data removed]",
      "text/latex": [
       "$$0$$"
      ],
      "text/plain": [
       "0"
      ]
     },
     "execution_count": 20,
     "metadata": {},
     "output_type": "execute_result"
    }
   ],
   "source": [
    "limit(phi,t,oo)"
   ]
  },
  {
   "cell_type": "markdown",
   "metadata": {},
   "source": [
    "El anterior resultado es válido para el rango de coeficientes de Poisson habituales en materiales elásticos. \n",
    "Para un coeficiente de Poisson $\\nu = \\dfrac{1}{4}$ se obtiene:"
   ]
  },
  {
   "cell_type": "code",
   "execution_count": 21,
   "metadata": {},
   "outputs": [
    {
     "data": {
      "image/png": "[encoded data removed]",
      "text/latex": [
       "$$\\frac{12 t^{2} + 9}{4 t^{2} \\left(t^{2} + 3\\right)}$$"
      ],
      "text/plain": [
       "   ⎛   2    ⎞\n",
       " 3⋅⎝4⋅t  + 3⎠\n",
       "─────────────\n",
       "   2 ⎛ 2    ⎞\n",
       "4⋅t ⋅⎝t  + 3⎠"
      ]
     },
     "execution_count": 21,
     "metadata": {},
     "output_type": "execute_result"
    }
   ],
   "source": [
    "phi_particular = phi.subs(n,Rational(1,4)).simplify()\n",
    "phi_particular"
   ]
  },
  {
   "cell_type": "markdown",
   "metadata": {},
   "source": [
    "Este cociente claramente tiende a 0 cuando $t$ tiende a $\\infty$. "
   ]
  },
  {
   "cell_type": "code",
   "execution_count": 22,
   "metadata": {},
   "outputs": [
    {
     "data": {
      "image/png": "[encoded data removed]",
      "text/latex": [
       "$$0$$"
      ],
      "text/plain": [
       "0"
      ]
     },
     "execution_count": 22,
     "metadata": {},
     "output_type": "execute_result"
    }
   ],
   "source": [
    "limit(phi_particular,t,oo)"
   ]
  },
  {
   "cell_type": "markdown",
   "metadata": {},
   "source": [
    "### Conclusión\n",
    "\n",
    "La principal conclusión que se ha obtenido es que, en el límite, el elemento de 2 nodos es incapaz de reproducir el comportamiento exacto de una viga de Timoshenko. \n",
    "\n",
    "Nótese que el hecho de que el cociente haya salido 0 no implica que el desplazamiento sea cero. Únicamente indica que para esbelteces elevadas, el elemento de 2 nodos proporciona un desplazamiento inferior al que debería. No que el desplazamiento en sí tienda a cero. \n",
    "\n",
    "Para aclarar este concepto, observemos la expresión del desplazamiento aproximado."
   ]
  },
  {
   "cell_type": "code",
   "execution_count": 23,
   "metadata": {},
   "outputs": [
    {
     "data": {
      "image/png": "[encoded data removed]",
      "text/latex": [
       "$$P \\left(\\frac{L^{2}}{\\frac{Ac G}{3} L + \\frac{4 E}{L} I} + \\frac{L}{Ac G}\\right)$$"
      ],
      "text/plain": [
       "  ⎛        2              ⎞\n",
       "  ⎜       L            L  ⎟\n",
       "P⋅⎜──────────────── + ────⎟\n",
       "  ⎜  ⎛Ac⋅G⋅L   E⋅I⎞   Ac⋅G⎟\n",
       "  ⎜4⋅⎜────── + ───⎟       ⎟\n",
       "  ⎝  ⎝  12      L ⎠       ⎠"
      ]
     },
     "execution_count": 23,
     "metadata": {},
     "output_type": "execute_result"
    }
   ],
   "source": [
    "w_aprox"
   ]
  },
  {
   "cell_type": "markdown",
   "metadata": {},
   "source": [
    "Particularizando para la sección rectangular, e introduciendo el parámetor de esbeltez, se obtiene:"
   ]
  },
  {
   "cell_type": "code",
   "execution_count": 24,
   "metadata": {},
   "outputs": [
    {
     "data": {
      "image/png": "[encoded data removed]",
      "text/latex": [
       "$$P \\left(\\frac{h^{2} t^{2}}{\\frac{E b h^{2}}{3 t} + \\frac{5 G}{18} b h^{2} t} + \\frac{6 t}{5 G b}\\right)$$"
      ],
      "text/plain": [
       "  ⎛          2  2                 ⎞\n",
       "  ⎜         h ⋅t              6⋅t ⎟\n",
       "P⋅⎜─────────────────────── + ─────⎟\n",
       "  ⎜  ⎛     2          2  ⎞   5⋅G⋅b⎟\n",
       "  ⎜  ⎜E⋅b⋅h    5⋅G⋅b⋅h ⋅t⎟        ⎟\n",
       "  ⎜4⋅⎜────── + ──────────⎟        ⎟\n",
       "  ⎝  ⎝ 12⋅t        72    ⎠        ⎠"
      ]
     },
     "execution_count": 24,
     "metadata": {},
     "output_type": "execute_result"
    }
   ],
   "source": [
    "w_aprox.subs([(Ac,Acort),(I,In),(L,t*h)])"
   ]
  },
  {
   "cell_type": "code",
   "execution_count": 25,
   "metadata": {},
   "outputs": [
    {
     "data": {
      "image/png": "[encoded data removed]",
      "text/latex": [
       "$$\\frac{12 P t \\left(3 E + 10 G t^{2}\\right)}{5 G b \\left(6 E + 5 G t^{2}\\right)}$$"
      ],
      "text/plain": [
       "       ⎛            2⎞\n",
       "12⋅P⋅t⋅⎝3⋅E + 10⋅G⋅t ⎠\n",
       "──────────────────────\n",
       "       ⎛           2⎞ \n",
       " 5⋅G⋅b⋅⎝6⋅E + 5⋅G⋅t ⎠ "
      ]
     },
     "execution_count": 25,
     "metadata": {},
     "output_type": "execute_result"
    }
   ],
   "source": [
    "_.simplify()"
   ]
  },
  {
   "cell_type": "code",
   "execution_count": 26,
   "metadata": {},
   "outputs": [
    {
     "data": {
      "image/png": "[encoded data removed]",
      "text/latex": [
       "$$\\infty \\operatorname{sign}{\\left (\\frac{P}{G b} \\right )}$$"
      ],
      "text/plain": [
       "      ⎛ P ⎞\n",
       "∞⋅sign⎜───⎟\n",
       "      ⎝G⋅b⎠"
      ]
     },
     "execution_count": 26,
     "metadata": {},
     "output_type": "execute_result"
    }
   ],
   "source": [
    "limit(_,t,oo)"
   ]
  },
  {
   "cell_type": "markdown",
   "metadata": {},
   "source": [
    "En el límite, y puesto que el signo del cociente anterior es positivo, para coeficiente de Poisson positivo, se obtiene que el desplazamiento tiende a $\\infty$ a medida que $\\lambda$ tiende a infinito. \n",
    "\n",
    "Esto indica un resultado del todo lógico. A medida que la viga es más y más esbelta, el desplazamiento que se obtiene en el extremo del voladizo aumenta, tendiendo a ser infinito para esbeltez infinita.\n",
    "\n",
    "#### Aclaración.\n",
    "\n",
    "No debe asociarse el término _bloqueo_ de la solución con el hecho de que la función de desplazamiento se bloquee y se obtenga un desplazamiento nulo. El desplazamiento no es nulo, salvo que la carga sea nula. \n",
    "\n",
    "El bloqueo hace referencia a que la solución que se obtiene discrepa de la que debería obtenerse.\n",
    "\n",
    "Un elemento de viga de Timoshenko debe comportarse como uno de Bernoulli-Euler, para esbeltez elevada. Sin ese requisito, este elemento no podría utilizarse para uso general para cualquier esbeltez. \n",
    "\n",
    "La solución exacta para la viga de Timoshenko para el desplazamiento en el extremo 2 es: \n",
    "\n",
    "\\begin{equation}\n",
    "w_2^{Timoshenko} = \\left( \\dfrac{L}{G\\,A_c} + \\dfrac{L^3}{3\\,E\\,I} \\right) \\,P\n",
    "\\end{equation}\n",
    "\n",
    "Con el resultado analítico, se puede comprobar que el cociente\n",
    "\n",
    "\\begin{equation}\n",
    "\\dfrac{w_2^{Timoshenko}}{w_2^{BE}}\n",
    "\\end{equation}\n",
    "\n",
    "tiende a 1 para esbeltez $\\lambda$ tendiendo a infinito. \n",
    "\n",
    "A continuación se comprueba, para la sección rectangular. "
   ]
  },
  {
   "cell_type": "code",
   "execution_count": 27,
   "metadata": {},
   "outputs": [
    {
     "data": {
      "image/png": "[encoded data removed]",
      "text/latex": [
       "$$P \\left(\\frac{L^{3}}{3 E I} + \\frac{L}{Ac G}\\right)$$"
      ],
      "text/plain": [
       "  ⎛   3        ⎞\n",
       "  ⎜  L      L  ⎟\n",
       "P⋅⎜───── + ────⎟\n",
       "  ⎝3⋅E⋅I   Ac⋅G⎠"
      ]
     },
     "execution_count": 27,
     "metadata": {},
     "output_type": "execute_result"
    }
   ],
   "source": [
    "w_T = (L / (G * Ac) + L**3 / (3*E*I) )*P\n",
    "w_T"
   ]
  },
  {
   "cell_type": "code",
   "execution_count": 28,
   "metadata": {},
   "outputs": [
    {
     "data": {
      "image/png": "[encoded data removed]",
      "text/latex": [
       "$$\\frac{3 E}{L^{3}} I \\left(\\frac{L^{3}}{3 E I} + \\frac{L}{Ac G}\\right)$$"
      ],
      "text/plain": [
       "      ⎛   3        ⎞\n",
       "      ⎜  L      L  ⎟\n",
       "3⋅E⋅I⋅⎜───── + ────⎟\n",
       "      ⎝3⋅E⋅I   Ac⋅G⎠\n",
       "────────────────────\n",
       "          3         \n",
       "         L          "
      ]
     },
     "execution_count": 28,
     "metadata": {},
     "output_type": "execute_result"
    }
   ],
   "source": [
    "ratio = w_T / w_be\n",
    "ratio"
   ]
  },
  {
   "cell_type": "code",
   "execution_count": 29,
   "metadata": {},
   "outputs": [
    {
     "data": {
      "image/png": "[encoded data removed]",
      "text/latex": [
       "$$\\frac{3 E}{10 G t^{2}} + 1$$"
      ],
      "text/plain": [
       "  3⋅E      \n",
       "─────── + 1\n",
       "      2    \n",
       "10⋅G⋅t     "
      ]
     },
     "execution_count": 29,
     "metadata": {},
     "output_type": "execute_result"
    }
   ],
   "source": [
    "ratio = ratio.subs([(Ac,Acort),(I,In),(L,t*h)])\n",
    "ratio = ratio.simplify()\n",
    "ratio"
   ]
  },
  {
   "cell_type": "code",
   "execution_count": 30,
   "metadata": {},
   "outputs": [
    {
     "data": {
      "image/png": "[encoded data removed]",
      "text/latex": [
       "$$1$$"
      ],
      "text/plain": [
       "1"
      ]
     },
     "execution_count": 30,
     "metadata": {},
     "output_type": "execute_result"
    }
   ],
   "source": [
    "limit(ratio,t,oo)"
   ]
  },
  {
   "cell_type": "markdown",
   "metadata": {},
   "source": [
    "Este ratio indica que los resultados proporcionados por una teoría (viga de Timoshenko) y la otra (viga de Bernoulli-Euler) son coherentes. Cuando una viga de Timoshenko se aplica para esbelteces elevadas, la solución es análoga a la que se obtiene con la teoría de vigas de Bernoulli-Euler. Pero esto es para la solución analítica. "
   ]
  },
  {
   "cell_type": "markdown",
   "metadata": {},
   "source": [
    "### Pequeñas esbelteces\n",
    "\n",
    "Para pequeñas esbelteces, se puede comprobar que la solución aproximada tiende a la solución analítica de una viga de Timoshenko. A continuación se verifica tomando como referencia la sección rectangular. "
   ]
  },
  {
   "cell_type": "code",
   "execution_count": 31,
   "metadata": {},
   "outputs": [
    {
     "data": {
      "image/png": "[encoded data removed]",
      "text/latex": [
       "$$\\frac{12 E I}{Ac G L^{2} + 12 E I}$$"
      ],
      "text/plain": [
       "     12⋅E⋅I     \n",
       "────────────────\n",
       "      2         \n",
       "Ac⋅G⋅L  + 12⋅E⋅I"
      ]
     },
     "execution_count": 31,
     "metadata": {},
     "output_type": "execute_result"
    }
   ],
   "source": [
    "ratio2 = w_aprox / w_T\n",
    "ratio2 = ratio2.simplify()\n",
    "ratio2"
   ]
  },
  {
   "cell_type": "code",
   "execution_count": 32,
   "metadata": {},
   "outputs": [
    {
     "data": {
      "image/png": "[encoded data removed]",
      "text/latex": [
       "$$\\frac{6 E}{6 E + 5 G t^{2}}$$"
      ],
      "text/plain": [
       "    6⋅E     \n",
       "────────────\n",
       "           2\n",
       "6⋅E + 5⋅G⋅t "
      ]
     },
     "execution_count": 32,
     "metadata": {},
     "output_type": "execute_result"
    }
   ],
   "source": [
    "ratio2 = ratio2.subs([(Ac,Acort),(I,In),(L,t*h)])\n",
    "ratio2 = ratio2.simplify()\n",
    "ratio2"
   ]
  },
  {
   "cell_type": "code",
   "execution_count": 33,
   "metadata": {},
   "outputs": [
    {
     "data": {
      "image/png": "[encoded data removed]",
      "text/latex": [
       "$$1$$"
      ],
      "text/plain": [
       "1"
      ]
     },
     "execution_count": 33,
     "metadata": {},
     "output_type": "execute_result"
    }
   ],
   "source": [
    "limit(ratio2,t,0)"
   ]
  },
  {
   "cell_type": "markdown",
   "metadata": {},
   "source": [
    "Para pequeñas esbelteces, la solución aproximada tiende a la exacta. Por eso el ratio entre soluciones tiende a 1. \n",
    "\n",
    "El problema se concentra por tanto en la incapacidad del elemento desarrollado para tender a los resultados que debería obtener. \n",
    "\n",
    "El elemento se comporta de forma más rígida a lo que le correspondería. Para esbelteces elevadas, con este elemento se obtendrán desplazamientos que, en realidad, deberían ser mayores. Y esta diferencia es tanto más acusada cuanto mayor es la esbeltez. "
   ]
  },
  {
   "cell_type": "markdown",
   "metadata": {},
   "source": [
    "## Integración reducida\n",
    "\n",
    "Existen varias formas de evitar el bloqueo de la solución para grandes esbelteces. \n",
    "\n",
    "Puede demostrarse que el problema del bloqueo procede de la evaluación de la matriz $\\mathbf{K_c}$. En efecto, esta matriz resulta excesivamente rígida para grandes esbelteces. \n",
    "\n",
    "Una forma de mejorar el comportamiento de este elemento consiste en sub-integrar la integral que define $\\mathbf{K_c}$. \n",
    "\n",
    "\\begin{equation}\n",
    "\\mathbf{K_c} = \\int_{0}^{L} G\\,A_c\\,\\mathbf{B_c}^T\\cdot\\mathbf{B_c}\\,dx\n",
    "\\end{equation}\n",
    "\n",
    "Veamos en primer lugar qué orden en $x$ tiene el producto $\\mathbf{B_c}^T\\cdot\\mathbf{B_c}$."
   ]
  },
  {
   "cell_type": "code",
   "execution_count": 34,
   "metadata": {},
   "outputs": [
    {
     "data": {
      "image/png": "[encoded data removed]",
      "text/latex": [
       "$$\\left[\\begin{matrix}\\frac{1}{L^{2}} & - \\frac{1}{L} \\left(-1 + \\frac{x}{L}\\right) & - \\frac{1}{L^{2}} & \\frac{x}{L^{2}}\\\\- \\frac{1}{L} \\left(-1 + \\frac{x}{L}\\right) & \\left(-1 + \\frac{x}{L}\\right)^{2} & \\frac{1}{L} \\left(-1 + \\frac{x}{L}\\right) & - \\frac{x}{L} \\left(-1 + \\frac{x}{L}\\right)\\\\- \\frac{1}{L^{2}} & \\frac{1}{L} \\left(-1 + \\frac{x}{L}\\right) & \\frac{1}{L^{2}} & - \\frac{x}{L^{2}}\\\\\\frac{x}{L^{2}} & - \\frac{x}{L} \\left(-1 + \\frac{x}{L}\\right) & - \\frac{x}{L^{2}} & \\frac{x^{2}}{L^{2}}\\end{matrix}\\right]$$"
      ],
      "text/plain": [
       "⎡              ⎛     x⎞                        ⎤\n",
       "⎢             -⎜-1 + ─⎟                        ⎥\n",
       "⎢    1         ⎝     L⎠     -1          x      ⎥\n",
       "⎢    ──       ──────────    ───         ──     ⎥\n",
       "⎢     2           L           2          2     ⎥\n",
       "⎢    L                       L          L      ⎥\n",
       "⎢                                              ⎥\n",
       "⎢ ⎛     x⎞                      x     ⎛     x⎞ ⎥\n",
       "⎢-⎜-1 + ─⎟            2    -1 + ─  -x⋅⎜-1 + ─⎟ ⎥\n",
       "⎢ ⎝     L⎠    ⎛     x⎞          L     ⎝     L⎠ ⎥\n",
       "⎢──────────   ⎜-1 + ─⎟     ──────  ────────────⎥\n",
       "⎢    L        ⎝     L⎠       L          L      ⎥\n",
       "⎢                                              ⎥\n",
       "⎢                    x                         ⎥\n",
       "⎢               -1 + ─                         ⎥\n",
       "⎢   -1               L       1         -x      ⎥\n",
       "⎢   ───         ──────       ──        ───     ⎥\n",
       "⎢     2           L           2          2     ⎥\n",
       "⎢    L                       L          L      ⎥\n",
       "⎢                                              ⎥\n",
       "⎢               ⎛     x⎞                       ⎥\n",
       "⎢            -x⋅⎜-1 + ─⎟                 2     ⎥\n",
       "⎢    x          ⎝     L⎠    -x          x      ⎥\n",
       "⎢    ──      ────────────   ───         ──     ⎥\n",
       "⎢     2           L           2          2     ⎥\n",
       "⎣    L                       L          L      ⎦"
      ]
     },
     "execution_count": 34,
     "metadata": {},
     "output_type": "execute_result"
    }
   ],
   "source": [
    "Bc.T.multiply(Bc)"
   ]
  },
  {
   "cell_type": "markdown",
   "metadata": {},
   "source": [
    "En este producto las potencias más altas de $x$ son cuadráticas. \n",
    "\n",
    "Anteriormente se evaluaron las integrales de forma analítica. Estas integrales pueden evaluarse de forma numérica, mediante cuadraturas de Gauss-Legendre. \n",
    "\n",
    "Una cuadratura de Gauss-Legendre de orden $n$ integra de forma exacta un polinomio de grado $2\\,n - 1$. \n",
    "\n",
    "Con $n=1$, se integra de forma exacta un polinomio de grado $2\\cdot 1 - 1 = 1$. Para integrar de forma exacta se requiere por tanto $n=2$, que proporciona una integral exacta para polinomios de grado $2\\,2 -1 = 3$. En este caso el grado más alto es el cuadrático. Por tanto, $\\mathbf{K_c}$ se puede integrar de forma exacta con una cuadratura de orden 2. \n",
    "\n",
    "Si se toma $n=1$, la integral será \"imperfecta\". Puede demostrarse que tomando $n=1$, estas integrales se sub-evalúan. Es decir, el área que se evalúa (que en esencia, es el sentido de una integral) es menor que la que se evaluaría integrando de forma exacta. \n",
    "\n",
    "Esta forma de evaluar las integrales mediante una aproximación con menor número de puntos de Gauss se denomina _integración reducida_.\n",
    "\n",
    "Para evaluar con 1 punto de Gauss, y en referencia a una función $f(x)$, se puede escribir: \n",
    "\n",
    "\\begin{equation}\n",
    "\\int_0^L f(x)\\,dx = \\int_{-1}^{1} f(\\xi)\\,\\dfrac{d x}{d\\xi} \\,d(\\xi) \\simeq f(\\xi_1)\\cdot W_1 \\cdot \\dfrac{L}{2}\n",
    "\\end{equation}\n",
    "\n",
    "Siendo $\\xi_1$ y $W_1$ la abscisa y el peso de una cuadratura de Gauss de orden 1. Este valor es $\\xi_1 = 1$, y $W_1 = 2$. Además, se ha tenido en cuenta la relación lineal entre la variable $x$ y $\\xi$, en \n",
    "\n",
    "$$\\dfrac{d x}{d \\xi} = \\dfrac{L}{2}$$.\n",
    "\n",
    "Teniendo en cuenta que $\\xi_1 = 0$, lo cual implica que $x_1 = \\dfrac{L}{2}$, puede escribirse: \n",
    "\n",
    "\\begin{equation}\n",
    "\\int_0^L f(x)\\,dx \\simeq f(\\dfrac{L}{2}) \\cdot 2 \\,\\cdot \\dfrac{L}{2} = f(\\dfrac{L}{2}) \\cdot \\,L\n",
    "\\end{equation}\n",
    "\n",
    "La expresión anterior puede verificarse fácilmente tomando $f(x) = 1$. Claramente, \n",
    "\n",
    "\\begin{equation}\n",
    "\\int_0^L 1 \\,dx = L \\simeq f(\\dfrac{L}{2}) \\cdot L = L\n",
    "\\end{equation}\n",
    "\n",
    "En relación al cálculo de $\\mathbf{K_c}$, la aproximación con 1 punto de gauss es: \n",
    "\n",
    "\\begin{equation}\n",
    "\\mathbf{K_c} \\simeq G\\,A_c\\,\\mathbf{\\hat{B}_c}\\cdot \\mathbf{\\hat{B}_c} \\cdot L\n",
    "\\end{equation}\n",
    "\n",
    "siendo $\\mathbf{\\hat{B}_c}$ la matriz $\\mathbf{B_c}$ evaluada en $x=\\dfrac{L}{2}$."
   ]
  },
  {
   "cell_type": "code",
   "execution_count": 35,
   "metadata": {},
   "outputs": [
    {
     "data": {
      "image/png": "[encoded data removed]",
      "text/latex": [
       "$$\\left[\\begin{matrix}\\frac{Ac G}{L} & \\frac{Ac G}{2} & - \\frac{Ac G}{L} & \\frac{Ac G}{2}\\\\\\frac{Ac G}{2} & \\frac{Ac G}{4} L & - \\frac{Ac G}{2} & \\frac{Ac G}{4} L\\\\- \\frac{Ac G}{L} & - \\frac{Ac G}{2} & \\frac{Ac G}{L} & - \\frac{Ac G}{2}\\\\\\frac{Ac G}{2} & \\frac{Ac G}{4} L & - \\frac{Ac G}{2} & \\frac{Ac G}{4} L\\end{matrix}\\right]$$"
      ],
      "text/plain": [
       "⎡ Ac⋅G    Ac⋅G   -Ac⋅G    Ac⋅G ⎤\n",
       "⎢ ────    ────   ──────   ──── ⎥\n",
       "⎢  L       2       L       2   ⎥\n",
       "⎢                              ⎥\n",
       "⎢ Ac⋅G   Ac⋅G⋅L  -Ac⋅G   Ac⋅G⋅L⎥\n",
       "⎢ ────   ──────  ──────  ──────⎥\n",
       "⎢  2       4       2       4   ⎥\n",
       "⎢                              ⎥\n",
       "⎢-Ac⋅G   -Ac⋅G    Ac⋅G   -Ac⋅G ⎥\n",
       "⎢──────  ──────   ────   ──────⎥\n",
       "⎢  L       2       L       2   ⎥\n",
       "⎢                              ⎥\n",
       "⎢ Ac⋅G   Ac⋅G⋅L  -Ac⋅G   Ac⋅G⋅L⎥\n",
       "⎢ ────   ──────  ──────  ──────⎥\n",
       "⎣  2       4       2       4   ⎦"
      ]
     },
     "execution_count": 35,
     "metadata": {},
     "output_type": "execute_result"
    }
   ],
   "source": [
    "Kc_reducida = G * Ac * Bc.T.multiply(Bc) \n",
    "Kc_reducida = Kc_reducida.subs(x,L/2) * L\n",
    "Kc_reducida "
   ]
  },
  {
   "cell_type": "markdown",
   "metadata": {},
   "source": [
    "Formemos de nuevo la matriz $\\mathbf{K}$, pero en esta ocasión tomando la aproximación de $\\mathbf{K_c}$ con 1 punto de gauss. "
   ]
  },
  {
   "cell_type": "code",
   "execution_count": 36,
   "metadata": {},
   "outputs": [
    {
     "data": {
      "image/png": "[encoded data removed]",
      "text/latex": [
       "$$\\left[\\begin{matrix}\\frac{Ac G}{L} & \\frac{Ac G}{2} & - \\frac{Ac G}{L} & \\frac{Ac G}{2}\\\\\\frac{Ac G}{2} & \\frac{Ac G}{4} L + \\frac{E I}{L} & - \\frac{Ac G}{2} & \\frac{Ac G}{4} L - \\frac{E I}{L}\\\\- \\frac{Ac G}{L} & - \\frac{Ac G}{2} & \\frac{Ac G}{L} & - \\frac{Ac G}{2}\\\\\\frac{Ac G}{2} & \\frac{Ac G}{4} L - \\frac{E I}{L} & - \\frac{Ac G}{2} & \\frac{Ac G}{4} L + \\frac{E I}{L}\\end{matrix}\\right]$$"
      ],
      "text/plain": [
       "⎡ Ac⋅G       Ac⋅G      -Ac⋅G       Ac⋅G    ⎤\n",
       "⎢ ────       ────      ──────      ────    ⎥\n",
       "⎢  L          2          L          2      ⎥\n",
       "⎢                                          ⎥\n",
       "⎢ Ac⋅G   Ac⋅G⋅L   E⋅I  -Ac⋅G   Ac⋅G⋅L   E⋅I⎥\n",
       "⎢ ────   ────── + ───  ──────  ────── - ───⎥\n",
       "⎢  2       4       L     2       4       L ⎥\n",
       "⎢                                          ⎥\n",
       "⎢-Ac⋅G      -Ac⋅G       Ac⋅G      -Ac⋅G    ⎥\n",
       "⎢──────     ──────      ────      ──────   ⎥\n",
       "⎢  L          2          L          2      ⎥\n",
       "⎢                                          ⎥\n",
       "⎢ Ac⋅G   Ac⋅G⋅L   E⋅I  -Ac⋅G   Ac⋅G⋅L   E⋅I⎥\n",
       "⎢ ────   ────── - ───  ──────  ────── + ───⎥\n",
       "⎣  2       4       L     2       4       L ⎦"
      ]
     },
     "execution_count": 36,
     "metadata": {},
     "output_type": "execute_result"
    }
   ],
   "source": [
    "Kred = Kf + Kc_reducida\n",
    "Kred"
   ]
  },
  {
   "cell_type": "code",
   "execution_count": 37,
   "metadata": {},
   "outputs": [
    {
     "data": {
      "image/png": "[encoded data removed]",
      "text/latex": [
       "$$\\frac{L^{3} P}{4 E I} + \\frac{L P}{Ac G}$$"
      ],
      "text/plain": [
       "  3         \n",
       " L ⋅P   L⋅P \n",
       "───── + ────\n",
       "4⋅E⋅I   Ac⋅G"
      ]
     },
     "execution_count": 37,
     "metadata": {},
     "output_type": "execute_result"
    }
   ],
   "source": [
    "Krig_red = Kred[2:4,2:4]\n",
    "wred = Krig_red.inv().multiply(vecF)\n",
    "w2_red = wred[0].simplify()\n",
    "w2_red"
   ]
  },
  {
   "cell_type": "markdown",
   "metadata": {},
   "source": [
    "Comparemos la expresión de la solución que se obtuvo anteriormente, y la que se ha obtenido con integración reducida"
   ]
  },
  {
   "cell_type": "code",
   "execution_count": 38,
   "metadata": {},
   "outputs": [
    {
     "data": {
      "image/png": "[encoded data removed]",
      "text/latex": [
       "$$\\left ( P \\left(\\frac{L^{2}}{\\frac{Ac G}{3} L + \\frac{4 E}{L} I} + \\frac{L}{Ac G}\\right), \\quad \\frac{L^{3} P}{4 E I} + \\frac{L P}{Ac G}\\right )$$"
      ],
      "text/plain": [
       "⎛  ⎛        2              ⎞    3         ⎞\n",
       "⎜  ⎜       L            L  ⎟   L ⋅P   L⋅P ⎟\n",
       "⎜P⋅⎜──────────────── + ────⎟, ───── + ────⎟\n",
       "⎜  ⎜  ⎛Ac⋅G⋅L   E⋅I⎞   Ac⋅G⎟  4⋅E⋅I   Ac⋅G⎟\n",
       "⎜  ⎜4⋅⎜────── + ───⎟       ⎟              ⎟\n",
       "⎝  ⎝  ⎝  12      L ⎠       ⎠              ⎠"
      ]
     },
     "execution_count": 38,
     "metadata": {},
     "output_type": "execute_result"
    }
   ],
   "source": [
    "w_aprox,w2_red"
   ]
  },
  {
   "cell_type": "markdown",
   "metadata": {},
   "source": [
    "Es interesante comparar la expresión de la solución exacta de la viga de Timoshenko con la que se ha obtenido mediante integración reducida"
   ]
  },
  {
   "cell_type": "code",
   "execution_count": 39,
   "metadata": {},
   "outputs": [
    {
     "data": {
      "image/png": "[encoded data removed]",
      "text/latex": [
       "$$\\left ( P \\left(\\frac{L^{3}}{3 E I} + \\frac{L}{Ac G}\\right), \\quad \\frac{L^{3} P}{4 E I} + \\frac{L P}{Ac G}\\right )$$"
      ],
      "text/plain": [
       "⎛  ⎛   3        ⎞    3         ⎞\n",
       "⎜  ⎜  L      L  ⎟   L ⋅P   L⋅P ⎟\n",
       "⎜P⋅⎜───── + ────⎟, ───── + ────⎟\n",
       "⎝  ⎝3⋅E⋅I   Ac⋅G⎠  4⋅E⋅I   Ac⋅G⎠"
      ]
     },
     "execution_count": 39,
     "metadata": {},
     "output_type": "execute_result"
    }
   ],
   "source": [
    "w_T,w2_red"
   ]
  },
  {
   "cell_type": "markdown",
   "metadata": {},
   "source": [
    "Para valorar el efecto que ha tenido esta integración reducida, es interesante ver su efecto en el cociente\n",
    "\n",
    "\\begin{equation}\n",
    "\\varphi = \\dfrac{ w_2^{aprox} }{w_2^{BE}}\n",
    "\\end{equation}\n"
   ]
  },
  {
   "cell_type": "code",
   "execution_count": 40,
   "metadata": {},
   "outputs": [
    {
     "data": {
      "image/png": "[encoded data removed]",
      "text/latex": [
       "$$\\frac{3}{4} + \\frac{3 E I}{Ac G L^{2}}$$"
      ],
      "text/plain": [
       "3    3⋅E⋅I \n",
       "─ + ───────\n",
       "4         2\n",
       "    Ac⋅G⋅L "
      ]
     },
     "execution_count": 40,
     "metadata": {},
     "output_type": "execute_result"
    }
   ],
   "source": [
    "ratio_fi = w2_red / w_be\n",
    "ratio_fi = ratio_fi.simplify()\n",
    "ratio_fi"
   ]
  },
  {
   "cell_type": "markdown",
   "metadata": {},
   "source": [
    "Para sección rectangular, e introduciendo la esbeltez, se obtiene: "
   ]
  },
  {
   "cell_type": "code",
   "execution_count": 41,
   "metadata": {},
   "outputs": [
    {
     "data": {
      "image/png": "[encoded data removed]",
      "text/latex": [
       "$$\\frac{3 E}{10 G t^{2}} + \\frac{3}{4}$$"
      ],
      "text/plain": [
       "  3⋅E     3\n",
       "─────── + ─\n",
       "      2   4\n",
       "10⋅G⋅t     "
      ]
     },
     "execution_count": 41,
     "metadata": {},
     "output_type": "execute_result"
    }
   ],
   "source": [
    "ratio_fi = ratio_fi.subs([(I,In),(Ac,Acort),(L,t*h)])\n",
    "ratio_fi"
   ]
  },
  {
   "cell_type": "markdown",
   "metadata": {},
   "source": [
    "Y el límite para esbeltez tendiendo a infinito es,"
   ]
  },
  {
   "cell_type": "code",
   "execution_count": 42,
   "metadata": {},
   "outputs": [
    {
     "data": {
      "image/png": "[encoded data removed]",
      "text/latex": [
       "$$\\frac{3}{4}$$"
      ],
      "text/plain": [
       "3/4"
      ]
     },
     "execution_count": 42,
     "metadata": {},
     "output_type": "execute_result"
    }
   ],
   "source": [
    "limit(ratio_fi,t,oo)"
   ]
  },
  {
   "cell_type": "markdown",
   "metadata": {},
   "source": [
    "Se ha obtenido un valor de $\\dfrac{3}{4} = 0.75$. Nótese que este valor está próximo a 1. \n",
    "\n",
    "La integración reducida ha permitido que el problema de bloqueo de la solución desaparezca. El resultado sigue siendo imperfecto. Este resultado puede mejorarse y hacerse más próximo a 1 tomando más de 1 elemento para la solución. \n",
    "\n",
    "Tomemos 2 elementos, y nombremos los nodos como 1-2-3 (1 = nodo en el empotramiento, 2 = nodo central, 3 = nodo en el voladizo). Denominemos \"barra a\" y \"barra b\" a las dos barras. Formulando el sistema, y eliminando las filas y columnas correspondientes a los desplazamientos $w_1$, $\\theta_1$, pues son cero por estar en un empotramiento, se obtiene:  \n",
    "\n",
    "\\begin{equation}\n",
    "\\left[\n",
    "\\begin{matrix}\n",
    "\\mathbf{K_{22}}^{a+b} & \\mathbf{K_{23}}^b \\\\\n",
    "\\mathbf{K_{32}}^b & \\mathbf{K_{33}}^b\n",
    "\\end{matrix} \\right] \\cdot \n",
    "\\begin{pmatrix}\n",
    "w_2 \\\\ \\theta_2 \\\\ w_3 \\\\ \\theta_3 \\end{pmatrix} = \n",
    "\\begin{pmatrix} 0 \\\\ 0 \\\\ P \\\\ 0 \\end{pmatrix}\n",
    "\\end{equation}"
   ]
  },
  {
   "cell_type": "code",
   "execution_count": 43,
   "metadata": {
    "collapsed": true
   },
   "outputs": [],
   "source": [
    "K22a = Kred.subs(L,L/2)[2:4,2:4]\n",
    "K22b = Kred.subs(L,L/2)[0:2,0:2]\n",
    "K33b = K22a\n",
    "K23b = Kred.subs(L,L/2)[0:2,2:4]\n",
    "K22 = K22a + K22b"
   ]
  },
  {
   "cell_type": "code",
   "execution_count": 44,
   "metadata": {},
   "outputs": [
    {
     "data": {
      "image/png": "[encoded data removed]",
      "text/latex": [
       "$$\\left[\\begin{matrix}- \\frac{2 Ac}{L} G & \\frac{Ac G}{2}\\\\- \\frac{Ac G}{2} & \\frac{Ac G}{8} L - \\frac{2 E}{L} I\\end{matrix}\\right]$$"
      ],
      "text/plain": [
       "⎡-2⋅Ac⋅G        Ac⋅G     ⎤\n",
       "⎢────────       ────     ⎥\n",
       "⎢   L            2       ⎥\n",
       "⎢                        ⎥\n",
       "⎢ -Ac⋅G    Ac⋅G⋅L   2⋅E⋅I⎥\n",
       "⎢ ──────   ────── - ─────⎥\n",
       "⎣   2        8        L  ⎦"
      ]
     },
     "execution_count": 44,
     "metadata": {},
     "output_type": "execute_result"
    }
   ],
   "source": [
    "K23b"
   ]
  },
  {
   "cell_type": "code",
   "execution_count": 45,
   "metadata": {},
   "outputs": [
    {
     "data": {
      "image/png": "[encoded data removed]",
      "text/latex": [
       "$$\\left[\\begin{matrix}\\frac{4 Ac}{L} G & 0 & - \\frac{2 Ac}{L} G & \\frac{Ac G}{2}\\\\0 & \\frac{Ac G}{4} L + \\frac{4 E}{L} I & - \\frac{Ac G}{2} & \\frac{Ac G}{8} L - \\frac{2 E}{L} I\\\\- \\frac{2 Ac}{L} G & - \\frac{Ac G}{2} & \\frac{2 Ac}{L} G & - \\frac{Ac G}{2}\\\\\\frac{Ac G}{2} & \\frac{Ac G}{8} L - \\frac{2 E}{L} I & - \\frac{Ac G}{2} & \\frac{Ac G}{8} L + \\frac{2 E}{L} I\\end{matrix}\\right]$$"
      ],
      "text/plain": [
       "⎡ 4⋅Ac⋅G                   -2⋅Ac⋅G        Ac⋅G     ⎤\n",
       "⎢ ──────         0         ────────       ────     ⎥\n",
       "⎢   L                         L            2       ⎥\n",
       "⎢                                                  ⎥\n",
       "⎢          Ac⋅G⋅L   4⋅E⋅I   -Ac⋅G    Ac⋅G⋅L   2⋅E⋅I⎥\n",
       "⎢   0      ────── + ─────   ──────   ────── - ─────⎥\n",
       "⎢            4        L       2        8        L  ⎥\n",
       "⎢                                                  ⎥\n",
       "⎢-2⋅Ac⋅G       -Ac⋅G        2⋅Ac⋅G       -Ac⋅G     ⎥\n",
       "⎢────────      ──────       ──────       ──────    ⎥\n",
       "⎢   L            2            L            2       ⎥\n",
       "⎢                                                  ⎥\n",
       "⎢  Ac⋅G    Ac⋅G⋅L   2⋅E⋅I   -Ac⋅G    Ac⋅G⋅L   2⋅E⋅I⎥\n",
       "⎢  ────    ────── - ─────   ──────   ────── + ─────⎥\n",
       "⎣   2        8        L       2        8        L  ⎦"
      ]
     },
     "execution_count": 45,
     "metadata": {},
     "output_type": "execute_result"
    }
   ],
   "source": [
    "Krig = zeros(4,4)\n",
    "Krig[0:2,0:2] = K22\n",
    "Krig[2:4,2:4] = K33b\n",
    "Krig[0:2,2:4] = K23b\n",
    "Krig[2:4,0:2] = K23b.T\n",
    "Krig"
   ]
  },
  {
   "cell_type": "markdown",
   "metadata": {},
   "source": [
    "A continuación se forma el vector de la derecha, y se resuelve el sistema de ecuaciones, mediante un procedimiento análogo al visto anteriormente (empleando la inversa de la matriz del sistema). "
   ]
  },
  {
   "cell_type": "code",
   "execution_count": 46,
   "metadata": {},
   "outputs": [
    {
     "data": {
      "image/png": "[encoded data removed]",
      "text/latex": [
       "$$\\frac{5 L^{3} P}{16 E I} + \\frac{L P}{Ac G}$$"
      ],
      "text/plain": [
       "   3         \n",
       "5⋅L ⋅P   L⋅P \n",
       "────── + ────\n",
       "16⋅E⋅I   Ac⋅G"
      ]
     },
     "execution_count": 46,
     "metadata": {},
     "output_type": "execute_result"
    }
   ],
   "source": [
    "vecF = Matrix([[0,0,P,0]]).T\n",
    "w3 = Krig.inv().multiply(vecF)\n",
    "w3 = w3[2]\n",
    "w3 = w3.simplify()\n",
    "w3"
   ]
  },
  {
   "cell_type": "markdown",
   "metadata": {},
   "source": [
    "A continuación se evalúa el ratio entre esta solución y la solución de la viga de Bernoulli-Euler"
   ]
  },
  {
   "cell_type": "code",
   "execution_count": 47,
   "metadata": {},
   "outputs": [
    {
     "data": {
      "image/png": "[encoded data removed]",
      "text/latex": [
       "$$\\frac{3 E}{10 G t^{2}} + \\frac{15}{16}$$"
      ],
      "text/plain": [
       "  3⋅E     15\n",
       "─────── + ──\n",
       "      2   16\n",
       "10⋅G⋅t      "
      ]
     },
     "execution_count": 47,
     "metadata": {},
     "output_type": "execute_result"
    }
   ],
   "source": [
    "ratio3 = w3 /w_be\n",
    "ratio3 = ratio3.subs([(Ac,Acort),(I,In),(L,t*h)])\n",
    "ratio3 = ratio3.simplify()\n",
    "ratio3"
   ]
  },
  {
   "cell_type": "code",
   "execution_count": 48,
   "metadata": {},
   "outputs": [
    {
     "data": {
      "image/png": "[encoded data removed]",
      "text/latex": [
       "$$\\frac{15}{16}$$"
      ],
      "text/plain": [
       "15\n",
       "──\n",
       "16"
      ]
     },
     "execution_count": 48,
     "metadata": {},
     "output_type": "execute_result"
    }
   ],
   "source": [
    "limit(ratio3,t,oo)"
   ]
  },
  {
   "cell_type": "code",
   "execution_count": 49,
   "metadata": {},
   "outputs": [
    {
     "data": {
      "image/png": "[encoded data removed]",
      "text/latex": [
       "$$0.9375$$"
      ],
      "text/plain": [
       "0.9375"
      ]
     },
     "execution_count": 49,
     "metadata": {},
     "output_type": "execute_result"
    }
   ],
   "source": [
    "15 / 16"
   ]
  },
  {
   "cell_type": "markdown",
   "metadata": {},
   "source": [
    "Nótese que al emplear 2 elementos, la formulación con matriz de cortante sub-evaluada con 1 punto de Gauss proporciona una mejor aproximación al cociente. Con 2 elementos el resultado es más próximo a 1. "
   ]
  },
  {
   "cell_type": "code",
   "execution_count": null,
   "metadata": {
    "collapsed": true
   },
   "outputs": [],
   "source": []
  }
 ],
 "metadata": {
  "anaconda-cloud": {},
  "kernelspec": {
   "display_name": "Python 2",
   "language": "python",
   "name": "python2"
  },
  "language_info": {
   "codemirror_mode": {
    "name": "ipython",
    "version": 2
   },
   "file_extension": ".py",
   "mimetype": "text/x-python",
   "name": "python",
   "nbconvert_exporter": "python",
   "pygments_lexer": "ipython2",
   "version": "2.7.13"
  }
 },
 "nbformat": 4,
 "nbformat_minor": 1
}
