{
 "cells": [
  {
   "cell_type": "markdown",
   "metadata": {
    "slideshow": {
     "slide_type": "slide"
    }
   },
   "source": [
    " # Elemento rectangular de 4 nodos en elasticidad plana\n",
    "\n",
    "Análisis de Estructuras. Grado en Ingeniería Civil. \n",
    "\n",
    "Autores: \n",
    "\n",
    "+ Alejandro E. Martínez-Castro, Esther Puertas García, Rafael Gallego.\n",
    "+ Departamento de Mecánica de Estructuras e Ingeniería Hidráulica. Universidad de Granada.\n"
   ]
  },
  {
   "cell_type": "markdown",
   "metadata": {
    "slideshow": {
     "slide_type": "slide"
    }
   },
   "source": [
    "## Interpolación de desplazamientos y deformaciones. \n",
    "\n",
    "El campo de desplazamiento se determinará como\n",
    "\n",
    "\\begin{equation}\n",
    "\\mathbf{u} = \\mathbf{N}\\cdot \\mathbf{a}\n",
    "\\end{equation}\n",
    "\n",
    "En este elemento, los desplazamiento se interpolan a partir de los valores de $u$ y $v$ en cuatro nodos:\n",
    "\n",
    "Consideremos un elemento de 4 nodos. El elemento es rectangular, de base $2a$ y altura $2b$. \n",
    "La interpolación se establece a partir de: \n",
    "\n",
    "- Las coordenadas de los 4 vértices, $(-a, -b),(a,-b),(a,b),(-a,b)$. \n",
    "- Los desplazamientos en los 4 nodos, $(u_1,v_1),(u_2,v_2),(u_3,v_3),(u_4,v_4)$. \n",
    "\n",
    "\\begin{equation}\n",
    "\\begin{pmatrix} u \\\\ v \\end{pmatrix} = \n",
    "\\left[\n",
    "\\begin{matrix}\n",
    "N_1 & 0 & N_2 & 0 & N_3 & 0 & N_4 & 0 \\\\\n",
    "0 & N_1 & 0 & N_2 & 0 & N_3 & 0 & N_4 \n",
    "\\end{matrix}\n",
    "\\right] \\cdot \\begin{pmatrix} u_1 \\\\ v_1 \\\\ u_2 \\\\ v_2 \\\\ u_3 \\\\ v_3 \\\\ u_4 \\\\ v_4 \\end{pmatrix}\n",
    "\\end{equation}\n",
    "\n",
    "Esta relación inducirá una relación para el vector $\\boldsymbol{\\varepsilon}$, \n",
    "\n",
    "\\begin{equation}\n",
    "\\boldsymbol{\\varepsilon} = \\mathbf{B}\\cdot \\mathbf{a}\n",
    "\\end{equation}"
   ]
  },
  {
   "cell_type": "markdown",
   "metadata": {
    "slideshow": {
     "slide_type": "slide"
    }
   },
   "source": [
    "## Funciones de forma\n",
    "\n",
    "A continuación se obtiene las funciones de forma. \n",
    "\n",
    "Para este elemento, la base $\\mathcal{B} = \\lbrace 1,x,y,x\\,y \\rbrace$, es decir $[1,x]\\times[1,y]$\n",
    "\n",
    "Esta es una base completa de los polinomios de grado parcial 1 sobre $(x,y)$. "
   ]
  },
  {
   "cell_type": "code",
   "execution_count": 1,
   "metadata": {
    "collapsed": false,
    "slideshow": {
     "slide_type": "slide"
    }
   },
   "outputs": [
    {
     "name": "stdout",
     "output_type": "stream",
     "text": [
      "IPython console for SymPy 0.7.6.1 (Python 2.7.11-32-bit) (ground types: python)\n",
      "\n",
      "These commands were executed:\n",
      ">>> from __future__ import division\n",
      ">>> from sympy import *\n",
      ">>> x, y, z, t = symbols('x y z t')\n",
      ">>> k, m, n = symbols('k m n', integer=True)\n",
      ">>> f, g, h = symbols('f g h', cls=Function)\n",
      ">>> init_printing()\n",
      "\n",
      "Documentation can be found at http://www.sympy.org\n"
     ]
    }
   ],
   "source": [
    "from sympy import init_session\n",
    "init_session()"
   ]
  },
  {
   "cell_type": "code",
   "execution_count": 2,
   "metadata": {
    "collapsed": false,
    "slideshow": {
     "slide_type": "slide"
    }
   },
   "outputs": [
    {
     "data": {
      "image/png": "[encoded data removed]",
      "text/latex": [
       "$$\\left[\\begin{matrix}1 & - a & - b & a b\\\\1 & a & - b & - a b\\\\1 & a & b & a b\\\\1 & - a & b & - a b\\end{matrix}\\right]$$"
      ],
      "text/plain": [
       "⎡1  -a  -b  a⋅b ⎤\n",
       "⎢               ⎥\n",
       "⎢1  a   -b  -a⋅b⎥\n",
       "⎢               ⎥\n",
       "⎢1  a   b   a⋅b ⎥\n",
       "⎢               ⎥\n",
       "⎣1  -a  b   -a⋅b⎦"
      ]
     },
     "execution_count": 2,
     "metadata": {},
     "output_type": "execute_result"
    }
   ],
   "source": [
    "base = Matrix([[1,x,y,x*y]])\n",
    "\n",
    "a,b = symbols('a b')\n",
    "matM = Matrix.vstack(base.subs([(x,-a),(y,-b)]),\n",
    "                     base.subs([(x,a),(y,-b)]),\n",
    "                     base.subs([(x,a),(y,b)]),\n",
    "                     base.subs([(x,-a),(y,b)]))\n",
    "matM"
   ]
  },
  {
   "cell_type": "code",
   "execution_count": 3,
   "metadata": {
    "collapsed": false,
    "slideshow": {
     "slide_type": "slide"
    }
   },
   "outputs": [
    {
     "data": {
      "image/png": "[encoded data removed]",
      "text/latex": [
       "$$\\left[\\begin{matrix}\\frac{1}{4} & \\frac{1}{4} & \\frac{1}{4} & \\frac{1}{4}\\\\- \\frac{1}{4 a} & \\frac{1}{4 a} & \\frac{1}{4 a} & - \\frac{1}{4 a}\\\\- \\frac{1}{4 b} & - \\frac{1}{4 b} & \\frac{1}{4 b} & \\frac{1}{4 b}\\\\\\frac{1}{4 a b} & - \\frac{1}{4 a b} & \\frac{1}{4 a b} & - \\frac{1}{4 a b}\\end{matrix}\\right]$$"
      ],
      "text/plain": [
       "⎡ 1/4    1/4    1/4    1/4 ⎤\n",
       "⎢                          ⎥\n",
       "⎢ -1      1      1     -1  ⎥\n",
       "⎢ ───    ───    ───    ─── ⎥\n",
       "⎢ 4⋅a    4⋅a    4⋅a    4⋅a ⎥\n",
       "⎢                          ⎥\n",
       "⎢ -1     -1      1      1  ⎥\n",
       "⎢ ───    ───    ───    ─── ⎥\n",
       "⎢ 4⋅b    4⋅b    4⋅b    4⋅b ⎥\n",
       "⎢                          ⎥\n",
       "⎢  1     -1      1     -1  ⎥\n",
       "⎢─────  ─────  ─────  ─────⎥\n",
       "⎣4⋅a⋅b  4⋅a⋅b  4⋅a⋅b  4⋅a⋅b⎦"
      ]
     },
     "execution_count": 3,
     "metadata": {},
     "output_type": "execute_result"
    }
   ],
   "source": [
    "Inv_matM = matM.inv()\n",
    "Inv_matM"
   ]
  },
  {
   "cell_type": "code",
   "execution_count": 4,
   "metadata": {
    "collapsed": true,
    "slideshow": {
     "slide_type": "slide"
    }
   },
   "outputs": [],
   "source": [
    "N1 = base.dot(Inv_matM.col(0))\n",
    "N2 = base.dot(Inv_matM.col(1))\n",
    "N3 = base.dot(Inv_matM.col(2))\n",
    "N4 = base.dot(Inv_matM.col(3))"
   ]
  },
  {
   "cell_type": "code",
   "execution_count": 5,
   "metadata": {
    "collapsed": false,
    "slideshow": {
     "slide_type": "-"
    }
   },
   "outputs": [
    {
     "data": {
      "image/png": "[encoded data removed]",
      "text/latex": [
       "$$\\frac{1}{4} - \\frac{y}{4 b} - \\frac{x}{4 a} + \\frac{x y}{4 a b}$$"
      ],
      "text/plain": [
       "1    y     x     x⋅y \n",
       "─ - ─── - ─── + ─────\n",
       "4   4⋅b   4⋅a   4⋅a⋅b"
      ]
     },
     "execution_count": 5,
     "metadata": {},
     "output_type": "execute_result"
    }
   ],
   "source": [
    "N1"
   ]
  },
  {
   "cell_type": "code",
   "execution_count": 6,
   "metadata": {
    "collapsed": false,
    "slideshow": {
     "slide_type": "-"
    }
   },
   "outputs": [
    {
     "data": {
      "image/png": "[encoded data removed]",
      "text/latex": [
       "$$\\frac{1}{4} - \\frac{y}{4 b} + \\frac{x}{4 a} - \\frac{x y}{4 a b}$$"
      ],
      "text/plain": [
       "1    y     x     x⋅y \n",
       "─ - ─── + ─── - ─────\n",
       "4   4⋅b   4⋅a   4⋅a⋅b"
      ]
     },
     "execution_count": 6,
     "metadata": {},
     "output_type": "execute_result"
    }
   ],
   "source": [
    "N2"
   ]
  },
  {
   "cell_type": "code",
   "execution_count": 7,
   "metadata": {
    "collapsed": false,
    "slideshow": {
     "slide_type": "-"
    }
   },
   "outputs": [
    {
     "data": {
      "image/png": "[encoded data removed]",
      "text/latex": [
       "$$\\frac{1}{4} + \\frac{y}{4 b} + \\frac{x}{4 a} + \\frac{x y}{4 a b}$$"
      ],
      "text/plain": [
       "1    y     x     x⋅y \n",
       "─ + ─── + ─── + ─────\n",
       "4   4⋅b   4⋅a   4⋅a⋅b"
      ]
     },
     "execution_count": 7,
     "metadata": {},
     "output_type": "execute_result"
    }
   ],
   "source": [
    "N3"
   ]
  },
  {
   "cell_type": "code",
   "execution_count": 8,
   "metadata": {
    "collapsed": false,
    "slideshow": {
     "slide_type": "-"
    }
   },
   "outputs": [
    {
     "data": {
      "image/png": "[encoded data removed]",
      "text/latex": [
       "$$\\frac{1}{4} + \\frac{y}{4 b} - \\frac{x}{4 a} - \\frac{x y}{4 a b}$$"
      ],
      "text/plain": [
       "1    y     x     x⋅y \n",
       "─ + ─── - ─── - ─────\n",
       "4   4⋅b   4⋅a   4⋅a⋅b"
      ]
     },
     "execution_count": 8,
     "metadata": {},
     "output_type": "execute_result"
    }
   ],
   "source": [
    "N4"
   ]
  },
  {
   "cell_type": "markdown",
   "metadata": {
    "slideshow": {
     "slide_type": "-"
    }
   },
   "source": [
    "## Vector de deformaciones\n",
    "\n",
    "El vector de deformaciones se expresa mediante el siguiente producto: \n",
    "\n",
    "\\begin{equation}\n",
    "\\boldsymbol{\\varepsilon} = \\begin{pmatrix} \\varepsilon_{nx} \\\\ \\varepsilon_{ny} \\\\ \\gamma_{xy} \\end{pmatrix}\n",
    "\\end{equation}\n",
    "\n",
    "Y en función de las funciones de forma: \n",
    "\n",
    "\\begin{equation}\n",
    "\\boldsymbol{\\varepsilon} = \\left[ \n",
    "\\begin{matrix}\n",
    "\\dfrac{\\partial N_1}{\\partial x} & 0 & \\dfrac{\\partial N_2}{\\partial x} & 0 & \\dfrac{\\partial N_3}{\\partial x} & 0 & \\dfrac{\\partial N_4}{\\partial x} & 0 \\\\\n",
    "0 & \\dfrac{\\partial N_1}{\\partial y} & 0 & \\dfrac{\\partial N_2}{\\partial y} & 0 & \\dfrac{\\partial N_3}{\\partial y} & 0 & \\dfrac{\\partial N_4}{\\partial y} \\\\\n",
    "\\dfrac{\\partial N_1}{\\partial y} & \\dfrac{\\partial N_1}{\\partial x} & \\dfrac{\\partial N_2}{\\partial y} & \\dfrac{\\partial N_2}{\\partial x} & \\dfrac{\\partial N_3}{\\partial y} & \\dfrac{\\partial N_3}{\\partial x} & \\dfrac{\\partial N_4}{\\partial y} & \\dfrac{\\partial N_4}{\\partial x}\n",
    "\\end{matrix} \\right] \\cdot\n",
    "\\begin{pmatrix} u_1 \\\\ v_1 \\\\ u_2 \\\\ v_2 \\\\ u_3 \\\\ v_3 \\end{pmatrix}\n",
    "\\end{equation}\n",
    "\n",
    "Relación que puede escribirse como: $\\boldsymbol{\\varepsilon} = \\mathbf{B} \\cdot \\mathbf{a}$.\n",
    "\n",
    "La matriz $\\mathbf{B}$ en este contexto se denomina _matriz de deformación_.\n"
   ]
  },
  {
   "cell_type": "code",
   "execution_count": 9,
   "metadata": {
    "collapsed": false,
    "slideshow": {
     "slide_type": "slide"
    }
   },
   "outputs": [
    {
     "data": {
      "image/png": "[encoded data removed]",
      "text/latex": [
       "$$\\left[\\begin{matrix}- \\frac{1}{4 a} + \\frac{y}{4 a b} & 0 & \\frac{1}{4 a} - \\frac{y}{4 a b} & 0 & \\frac{1}{4 a} + \\frac{y}{4 a b} & 0 & - \\frac{1}{4 a} - \\frac{y}{4 a b} & 0\\\\0 & - \\frac{1}{4 b} + \\frac{x}{4 a b} & 0 & - \\frac{1}{4 b} - \\frac{x}{4 a b} & 0 & \\frac{1}{4 b} + \\frac{x}{4 a b} & 0 & \\frac{1}{4 b} - \\frac{x}{4 a b}\\\\- \\frac{1}{4 b} + \\frac{x}{4 a b} & - \\frac{1}{4 a} + \\frac{y}{4 a b} & - \\frac{1}{4 b} - \\frac{x}{4 a b} & \\frac{1}{4 a} - \\frac{y}{4 a b} & \\frac{1}{4 b} + \\frac{x}{4 a b} & \\frac{1}{4 a} + \\frac{y}{4 a b} & \\frac{1}{4 b} - \\frac{x}{4 a b} & - \\frac{1}{4 a} - \\frac{y}{4 a b}\\end{matrix}\\right]$$"
      ],
      "text/plain": [
       "⎡   1      y                     1      y                     1      y        \n",
       "⎢- ─── + ─────        0         ─── - ─────         0        ─── + ─────      \n",
       "⎢  4⋅a   4⋅a⋅b                  4⋅a   4⋅a⋅b                  4⋅a   4⋅a⋅b      \n",
       "⎢                                                                             \n",
       "⎢                  1      x                      1      x                  1  \n",
       "⎢      0        - ─── + ─────        0        - ─── - ─────       0       ─── \n",
       "⎢                 4⋅b   4⋅a⋅b                   4⋅b   4⋅a⋅b               4⋅b \n",
       "⎢                                                                             \n",
       "⎢   1      x       1      y       1      x      1      y      1      x     1  \n",
       "⎢- ─── + ─────  - ─── + ─────  - ─── - ─────   ─── - ─────   ─── + ─────  ─── \n",
       "⎣  4⋅b   4⋅a⋅b    4⋅a   4⋅a⋅b    4⋅b   4⋅a⋅b   4⋅a   4⋅a⋅b   4⋅b   4⋅a⋅b  4⋅a \n",
       "\n",
       "            1      y                 ⎤\n",
       " 0       - ─── - ─────        0      ⎥\n",
       "           4⋅a   4⋅a⋅b               ⎥\n",
       "                                     ⎥\n",
       "    x                     1      x   ⎥\n",
       "+ ─────        0         ─── - ───── ⎥\n",
       "  4⋅a⋅b                  4⋅b   4⋅a⋅b ⎥\n",
       "                                     ⎥\n",
       "    y      1      x        1      y  ⎥\n",
       "+ ─────   ─── - ─────   - ─── - ─────⎥\n",
       "  4⋅a⋅b   4⋅b   4⋅a⋅b     4⋅a   4⋅a⋅b⎦"
      ]
     },
     "execution_count": 9,
     "metadata": {},
     "output_type": "execute_result"
    }
   ],
   "source": [
    "Nu = Matrix([[N1, 0, N2, 0, N3, 0, N4, 0]])\n",
    "Nv = Matrix([[0, N1, 0, N2, 0, N3, 0, N4]])\n",
    "B = Matrix.vstack(Nu.diff(x),Nv.diff(y),Nu.diff(y)+Nv.diff(x))\n",
    "B"
   ]
  },
  {
   "cell_type": "markdown",
   "metadata": {
    "slideshow": {
     "slide_type": "slide"
    }
   },
   "source": [
    "**Observación**: En este elemento, la matriz $\\mathbf{B}$ no es constante. Observe la dependencia de las variables $x$ e $y$.\n",
    "\n",
    "El elemento de 4 nodos rectangular genera una deformación no constante en el elemento. \n",
    "\n",
    "La variación es lineal. "
   ]
  },
  {
   "cell_type": "markdown",
   "metadata": {
    "slideshow": {
     "slide_type": "slide"
    }
   },
   "source": [
    "## Matriz de rigidez\n",
    "\n",
    "La expresión de la matriz de rigidez en un elemento es\n",
    "\n",
    "\\begin{equation}\n",
    "\\mathbf{K} = \\int_{\\Omega} \\mathbf{B}^T \\cdot \\mathbf{D} \\cdot \\mathbf{B} \\, d \\Omega \n",
    "\\end{equation}\n",
    "\n",
    "Siendo $\\mathbf{D}$ la matriz de constantes elásticas de elasticidad plana. \n",
    "\n",
    "Puesto que el elemento es rectangular, esta integral puede expresarse como: \n",
    "\n",
    "\\begin{equation}\n",
    "\\mathbf{K} = \\int_{x=-a}^{x=a} \\int_{y=-b}^{y=b} \\mathbf{B}^T \\cdot \\mathbf{D} \\cdot \\mathbf{B} \\, dx \\,dy \n",
    "\\end{equation}\n",
    "\n"
   ]
  },
  {
   "cell_type": "code",
   "execution_count": 10,
   "metadata": {
    "collapsed": true,
    "slideshow": {
     "slide_type": "slide"
    }
   },
   "outputs": [],
   "source": [
    "d11,d12,d33 = symbols('d11 d12 d33')\n",
    "D = Matrix([[d11, d12, 0],[d12,d11,0],[0,0,d33]])\n",
    "\n",
    "krigidez = integrate(B.T.multiply(D).multiply(B),(x,-a,a),(y,-b,b))\n"
   ]
  },
  {
   "cell_type": "markdown",
   "metadata": {
    "slideshow": {
     "slide_type": "slide"
    }
   },
   "source": [
    "La matriz de rigidez $\\mathbf{K}$ puede expresarse como: \n",
    "\n",
    "\\begin{equation}\n",
    "\\mathbf{K} = \\left[ \\begin{matrix}\n",
    "\\mathbf{K_{11}} & \\mathbf{K_{12}} & \\mathbf{K_{13}} & \\mathbf{K_{14}}\\\\\n",
    "\\mathbf{K_{21}} & \\mathbf{K_{22}} & \\mathbf{K_{23}} & \\mathbf{K_{24}}\\\\\n",
    "\\mathbf{K_{31}} & \\mathbf{K_{32}} & \\mathbf{K_{33}} & \\mathbf{K_{34}} \\\\\n",
    "\\mathbf{K_{41}} & \\mathbf{K_{42}} & \\mathbf{K_{43}} & \\mathbf{K_{44}}\n",
    "\\end{matrix} \\right] \n",
    "\\end{equation}\n",
    "\n",
    "Con \n",
    "\n",
    "\\begin{equation}\n",
    "\\mathbf{K_{ij}} = \\int_{x=-a}^{x=a} \\int_{y=-b}^{y=b} \\mathbf{B_i}^T \\cdot \\mathbf{D} \\cdot \\mathbf{B_j} \\,dx\\,dy\n",
    "\\end{equation}\n",
    "\n",
    "Con la relación: \n",
    "\n",
    "\n",
    "\\begin{equation}\n",
    "\\mathbf{K_{ji}} = \\mathbf{K_{ij}}^T\n",
    "\\end{equation}"
   ]
  },
  {
   "cell_type": "code",
   "execution_count": 11,
   "metadata": {
    "collapsed": false,
    "slideshow": {
     "slide_type": "slide"
    }
   },
   "outputs": [],
   "source": [
    "k11 = krigidez[0:2,0:2]\n",
    "k22 = krigidez[2:4,2:4]\n",
    "k33 = krigidez[4:6,4:6]\n",
    "k44 = krigidez[6:8,6:8]\n",
    "\n",
    "k12 = krigidez[0:2,2:4]\n",
    "k13 = krigidez[0:2,4:6]\n",
    "k14 = krigidez[0:2,6:8]\n",
    "\n",
    "k23 = krigidez[2:4,4:6]\n",
    "k24 = krigidez[2:4,6:8]\n",
    "\n",
    "k34 = krigidez[4:6,6:8]"
   ]
  },
  {
   "cell_type": "code",
   "execution_count": 12,
   "metadata": {
    "collapsed": false,
    "slideshow": {
     "slide_type": "slide"
    }
   },
   "outputs": [
    {
     "data": {
      "image/png": "[encoded data removed]",
      "text/latex": [
       "$$\\left[\\begin{matrix}\\frac{a d_{33}}{3 b} + \\frac{b d_{11}}{3 a} & \\frac{d_{12}}{4} + \\frac{d_{33}}{4}\\\\\\frac{d_{12}}{4} + \\frac{d_{33}}{4} & \\frac{a d_{11}}{3 b} + \\frac{b d_{33}}{3 a}\\end{matrix}\\right]$$"
      ],
      "text/plain": [
       "⎡a⋅d₃₃   b⋅d₁₁    d₁₂   d₃₃  ⎤\n",
       "⎢───── + ─────    ─── + ───  ⎥\n",
       "⎢ 3⋅b     3⋅a      4     4   ⎥\n",
       "⎢                            ⎥\n",
       "⎢  d₁₂   d₃₃    a⋅d₁₁   b⋅d₃₃⎥\n",
       "⎢  ─── + ───    ───── + ─────⎥\n",
       "⎣   4     4      3⋅b     3⋅a ⎦"
      ]
     },
     "execution_count": 12,
     "metadata": {},
     "output_type": "execute_result"
    }
   ],
   "source": [
    "k11.simplify()\n",
    "k11"
   ]
  },
  {
   "cell_type": "code",
   "execution_count": 13,
   "metadata": {
    "collapsed": false,
    "slideshow": {
     "slide_type": "-"
    }
   },
   "outputs": [
    {
     "data": {
      "image/png": "[encoded data removed]",
      "text/latex": [
       "$$\\left[\\begin{matrix}\\frac{a d_{33}}{3 b} + \\frac{b d_{11}}{3 a} & - \\frac{d_{12}}{4} - \\frac{d_{33}}{4}\\\\- \\frac{d_{12}}{4} - \\frac{d_{33}}{4} & \\frac{a d_{11}}{3 b} + \\frac{b d_{33}}{3 a}\\end{matrix}\\right]$$"
      ],
      "text/plain": [
       "⎡a⋅d₃₃   b⋅d₁₁     d₁₂   d₃₃ ⎤\n",
       "⎢───── + ─────   - ─── - ─── ⎥\n",
       "⎢ 3⋅b     3⋅a       4     4  ⎥\n",
       "⎢                            ⎥\n",
       "⎢   d₁₂   d₃₃   a⋅d₁₁   b⋅d₃₃⎥\n",
       "⎢ - ─── - ───   ───── + ─────⎥\n",
       "⎣    4     4     3⋅b     3⋅a ⎦"
      ]
     },
     "execution_count": 13,
     "metadata": {},
     "output_type": "execute_result"
    }
   ],
   "source": [
    "k22.simplify()\n",
    "k22"
   ]
  },
  {
   "cell_type": "code",
   "execution_count": 14,
   "metadata": {
    "collapsed": false,
    "slideshow": {
     "slide_type": "-"
    }
   },
   "outputs": [
    {
     "data": {
      "image/png": "[encoded data removed]",
      "text/latex": [
       "$$\\left[\\begin{matrix}\\frac{a d_{33}}{3 b} + \\frac{b d_{11}}{3 a} & \\frac{d_{12}}{4} + \\frac{d_{33}}{4}\\\\\\frac{d_{12}}{4} + \\frac{d_{33}}{4} & \\frac{a d_{11}}{3 b} + \\frac{b d_{33}}{3 a}\\end{matrix}\\right]$$"
      ],
      "text/plain": [
       "⎡a⋅d₃₃   b⋅d₁₁    d₁₂   d₃₃  ⎤\n",
       "⎢───── + ─────    ─── + ───  ⎥\n",
       "⎢ 3⋅b     3⋅a      4     4   ⎥\n",
       "⎢                            ⎥\n",
       "⎢  d₁₂   d₃₃    a⋅d₁₁   b⋅d₃₃⎥\n",
       "⎢  ─── + ───    ───── + ─────⎥\n",
       "⎣   4     4      3⋅b     3⋅a ⎦"
      ]
     },
     "execution_count": 14,
     "metadata": {},
     "output_type": "execute_result"
    }
   ],
   "source": [
    "k33.simplify()\n",
    "k33"
   ]
  },
  {
   "cell_type": "code",
   "execution_count": 15,
   "metadata": {
    "collapsed": false,
    "slideshow": {
     "slide_type": "-"
    }
   },
   "outputs": [
    {
     "data": {
      "image/png": "[encoded data removed]",
      "text/latex": [
       "$$\\left[\\begin{matrix}\\frac{a d_{33}}{3 b} + \\frac{b d_{11}}{3 a} & - \\frac{d_{12}}{4} - \\frac{d_{33}}{4}\\\\- \\frac{d_{12}}{4} - \\frac{d_{33}}{4} & \\frac{a d_{11}}{3 b} + \\frac{b d_{33}}{3 a}\\end{matrix}\\right]$$"
      ],
      "text/plain": [
       "⎡a⋅d₃₃   b⋅d₁₁     d₁₂   d₃₃ ⎤\n",
       "⎢───── + ─────   - ─── - ─── ⎥\n",
       "⎢ 3⋅b     3⋅a       4     4  ⎥\n",
       "⎢                            ⎥\n",
       "⎢   d₁₂   d₃₃   a⋅d₁₁   b⋅d₃₃⎥\n",
       "⎢ - ─── - ───   ───── + ─────⎥\n",
       "⎣    4     4     3⋅b     3⋅a ⎦"
      ]
     },
     "execution_count": 15,
     "metadata": {},
     "output_type": "execute_result"
    }
   ],
   "source": [
    "k44.simplify()\n",
    "k44"
   ]
  },
  {
   "cell_type": "code",
   "execution_count": 16,
   "metadata": {
    "collapsed": false,
    "slideshow": {
     "slide_type": "-"
    }
   },
   "outputs": [
    {
     "data": {
      "image/png": "[encoded data removed]",
      "text/latex": [
       "$$\\left[\\begin{matrix}\\frac{a d_{33}}{6 b} - \\frac{b d_{11}}{3 a} & \\frac{d_{12}}{4} - \\frac{d_{33}}{4}\\\\- \\frac{d_{12}}{4} + \\frac{d_{33}}{4} & \\frac{a d_{11}}{6 b} - \\frac{b d_{33}}{3 a}\\end{matrix}\\right]$$"
      ],
      "text/plain": [
       "⎡a⋅d₃₃   b⋅d₁₁    d₁₂   d₃₃  ⎤\n",
       "⎢───── - ─────    ─── - ───  ⎥\n",
       "⎢ 6⋅b     3⋅a      4     4   ⎥\n",
       "⎢                            ⎥\n",
       "⎢   d₁₂   d₃₃   a⋅d₁₁   b⋅d₃₃⎥\n",
       "⎢ - ─── + ───   ───── - ─────⎥\n",
       "⎣    4     4     6⋅b     3⋅a ⎦"
      ]
     },
     "execution_count": 16,
     "metadata": {},
     "output_type": "execute_result"
    }
   ],
   "source": [
    "k12.simplify()\n",
    "k12"
   ]
  },
  {
   "cell_type": "code",
   "execution_count": 17,
   "metadata": {
    "collapsed": false,
    "slideshow": {
     "slide_type": "-"
    }
   },
   "outputs": [
    {
     "data": {
      "image/png": "[encoded data removed]",
      "text/latex": [
       "$$\\left[\\begin{matrix}- \\frac{a d_{33}}{6 b} - \\frac{b d_{11}}{6 a} & - \\frac{d_{12}}{4} - \\frac{d_{33}}{4}\\\\- \\frac{d_{12}}{4} - \\frac{d_{33}}{4} & - \\frac{a d_{11}}{6 b} - \\frac{b d_{33}}{6 a}\\end{matrix}\\right]$$"
      ],
      "text/plain": [
       "⎡  a⋅d₃₃   b⋅d₁₁      d₁₂   d₃₃  ⎤\n",
       "⎢- ───── - ─────    - ─── - ───  ⎥\n",
       "⎢   6⋅b     6⋅a        4     4   ⎥\n",
       "⎢                                ⎥\n",
       "⎢    d₁₂   d₃₃      a⋅d₁₁   b⋅d₃₃⎥\n",
       "⎢  - ─── - ───    - ───── - ─────⎥\n",
       "⎣     4     4        6⋅b     6⋅a ⎦"
      ]
     },
     "execution_count": 17,
     "metadata": {},
     "output_type": "execute_result"
    }
   ],
   "source": [
    "k13.simplify()\n",
    "k13"
   ]
  },
  {
   "cell_type": "code",
   "execution_count": 18,
   "metadata": {
    "collapsed": false,
    "slideshow": {
     "slide_type": "-"
    }
   },
   "outputs": [
    {
     "data": {
      "image/png": "[encoded data removed]",
      "text/latex": [
       "$$\\left[\\begin{matrix}- \\frac{a d_{33}}{3 b} + \\frac{b d_{11}}{6 a} & - \\frac{d_{12}}{4} + \\frac{d_{33}}{4}\\\\\\frac{d_{12}}{4} - \\frac{d_{33}}{4} & - \\frac{a d_{11}}{3 b} + \\frac{b d_{33}}{6 a}\\end{matrix}\\right]$$"
      ],
      "text/plain": [
       "⎡  a⋅d₃₃   b⋅d₁₁      d₁₂   d₃₃  ⎤\n",
       "⎢- ───── + ─────    - ─── + ───  ⎥\n",
       "⎢   3⋅b     6⋅a        4     4   ⎥\n",
       "⎢                                ⎥\n",
       "⎢   d₁₂   d₃₃       a⋅d₁₁   b⋅d₃₃⎥\n",
       "⎢   ─── - ───     - ───── + ─────⎥\n",
       "⎣    4     4         3⋅b     6⋅a ⎦"
      ]
     },
     "execution_count": 18,
     "metadata": {},
     "output_type": "execute_result"
    }
   ],
   "source": [
    "k14.simplify()\n",
    "k14"
   ]
  },
  {
   "cell_type": "code",
   "execution_count": 19,
   "metadata": {
    "collapsed": false,
    "slideshow": {
     "slide_type": "-"
    }
   },
   "outputs": [
    {
     "data": {
      "image/png": "[encoded data removed]",
      "text/latex": [
       "$$\\left[\\begin{matrix}- \\frac{a d_{33}}{3 b} + \\frac{b d_{11}}{6 a} & \\frac{d_{12}}{4} - \\frac{d_{33}}{4}\\\\- \\frac{d_{12}}{4} + \\frac{d_{33}}{4} & - \\frac{a d_{11}}{3 b} + \\frac{b d_{33}}{6 a}\\end{matrix}\\right]$$"
      ],
      "text/plain": [
       "⎡  a⋅d₃₃   b⋅d₁₁     d₁₂   d₃₃   ⎤\n",
       "⎢- ───── + ─────     ─── - ───   ⎥\n",
       "⎢   3⋅b     6⋅a       4     4    ⎥\n",
       "⎢                                ⎥\n",
       "⎢    d₁₂   d₃₃      a⋅d₁₁   b⋅d₃₃⎥\n",
       "⎢  - ─── + ───    - ───── + ─────⎥\n",
       "⎣     4     4        3⋅b     6⋅a ⎦"
      ]
     },
     "execution_count": 19,
     "metadata": {},
     "output_type": "execute_result"
    }
   ],
   "source": [
    "k23.simplify()\n",
    "k23"
   ]
  },
  {
   "cell_type": "code",
   "execution_count": 20,
   "metadata": {
    "collapsed": false,
    "slideshow": {
     "slide_type": "-"
    }
   },
   "outputs": [
    {
     "data": {
      "image/png": "[encoded data removed]",
      "text/latex": [
       "$$\\left[\\begin{matrix}- \\frac{a d_{33}}{6 b} - \\frac{b d_{11}}{6 a} & \\frac{d_{12}}{4} + \\frac{d_{33}}{4}\\\\\\frac{d_{12}}{4} + \\frac{d_{33}}{4} & - \\frac{a d_{11}}{6 b} - \\frac{b d_{33}}{6 a}\\end{matrix}\\right]$$"
      ],
      "text/plain": [
       "⎡  a⋅d₃₃   b⋅d₁₁     d₁₂   d₃₃   ⎤\n",
       "⎢- ───── - ─────     ─── + ───   ⎥\n",
       "⎢   6⋅b     6⋅a       4     4    ⎥\n",
       "⎢                                ⎥\n",
       "⎢   d₁₂   d₃₃       a⋅d₁₁   b⋅d₃₃⎥\n",
       "⎢   ─── + ───     - ───── - ─────⎥\n",
       "⎣    4     4         6⋅b     6⋅a ⎦"
      ]
     },
     "execution_count": 20,
     "metadata": {},
     "output_type": "execute_result"
    }
   ],
   "source": [
    "k24.simplify()\n",
    "k24"
   ]
  },
  {
   "cell_type": "code",
   "execution_count": 21,
   "metadata": {
    "collapsed": false,
    "slideshow": {
     "slide_type": "-"
    }
   },
   "outputs": [
    {
     "data": {
      "image/png": "[encoded data removed]",
      "text/latex": [
       "$$\\left[\\begin{matrix}\\frac{a d_{33}}{6 b} - \\frac{b d_{11}}{3 a} & \\frac{d_{12}}{4} - \\frac{d_{33}}{4}\\\\- \\frac{d_{12}}{4} + \\frac{d_{33}}{4} & \\frac{a d_{11}}{6 b} - \\frac{b d_{33}}{3 a}\\end{matrix}\\right]$$"
      ],
      "text/plain": [
       "⎡a⋅d₃₃   b⋅d₁₁    d₁₂   d₃₃  ⎤\n",
       "⎢───── - ─────    ─── - ───  ⎥\n",
       "⎢ 6⋅b     3⋅a      4     4   ⎥\n",
       "⎢                            ⎥\n",
       "⎢   d₁₂   d₃₃   a⋅d₁₁   b⋅d₃₃⎥\n",
       "⎢ - ─── + ───   ───── - ─────⎥\n",
       "⎣    4     4     6⋅b     3⋅a ⎦"
      ]
     },
     "execution_count": 21,
     "metadata": {},
     "output_type": "execute_result"
    }
   ],
   "source": [
    "k34.simplify()\n",
    "k34"
   ]
  },
  {
   "cell_type": "markdown",
   "metadata": {
    "slideshow": {
     "slide_type": "slide"
    }
   },
   "source": [
    "## Vector de fuerzas debido a fuerzas volumétricas. \n",
    "\n",
    "En la expresión del PTV interviene el vector de fuerzas interiores, volumétricas, $\\mathbf{b}$, generando fuerzas nodales equivalentes. Para un elemento: \n",
    "\n",
    "\\begin{equation}\n",
    "\\mathbf{f}_b = \\int_{\\Omega} \\mathbf{N}^T \\cdot \\mathbf{b} \\,d \\Gamma\n",
    "\\end{equation}\n",
    "\n",
    "La integración genera fuerzas nodales en los cuatro nodos: \n",
    "\n",
    "\\begin{equation}\n",
    "\\mathbf{f}_b = \\dfrac{A}{4} \\,\\begin{pmatrix} b_x \\\\b_y \\\\b_x \\\\b_y \\\\ b_x \\\\ b_y \\\\b_x \\\\b_y \\end{pmatrix}\n",
    "\\end{equation}\n",
    "\n",
    "Siendo $A= 4\\,a\\,b$. \n",
    "\n",
    "Si la fuerza por unidad de volumen corresponde al peso propio, entonces $b_x = 0$ y $b_y = - \\rho \\,g$, siendo $\\rho$ la densidad volumétrica del material, y $g$ la constante gravitatoria. \n",
    "\n",
    "Por tanto, para el caso de fuerzas debidas a peso propio, se tomará: \n",
    "\n",
    "\\begin{equation}\n",
    "\\mathbf{f}_b = \\dfrac{A}{4} \\,\\begin{pmatrix} 0 \\\\ -\\rho \\,g \\\\ 0 \\\\- \\rho \\,g  \\\\ 0 \\\\ -\\rho \\,g \\\\0\\\\-\\rho\\,g\\end{pmatrix}\n",
    "\\end{equation}"
   ]
  },
  {
   "cell_type": "markdown",
   "metadata": {
    "slideshow": {
     "slide_type": "slide"
    }
   },
   "source": [
    "## Vector de fuerzas debido a tensiones en el contorno\n",
    "\n",
    "Al igual que ocurre con el elemento de 3 nodos, en el caso del elemento de 4 nodos las fuerzas sobre el contorno producen términos de fuerzas nodales en los lados cargados. Por tanto, sólo aparecerán fuerzas nodales en elementos que compartan alguno de sus lados con los lados cargados. \n",
    "\n",
    "Puesto que la geometría es sencilla, consideremos el cálculo para carga constante en el lado $1-2$. \n"
   ]
  },
  {
   "cell_type": "code",
   "execution_count": 22,
   "metadata": {
    "collapsed": false,
    "slideshow": {
     "slide_type": "slide"
    }
   },
   "outputs": [],
   "source": [
    "matN = Matrix.vstack(Nu,Nv)\n",
    "tx,ty = symbols('tx ty')\n",
    "vect = Matrix([[tx,ty]]).T\n",
    "producto = matN.T.multiply(vect)\n",
    "producto = producto.subs(y,-b)\n",
    "f_t = integrate(producto,(x,-a,a))"
   ]
  },
  {
   "cell_type": "code",
   "execution_count": 23,
   "metadata": {
    "collapsed": false,
    "slideshow": {
     "slide_type": "-"
    }
   },
   "outputs": [],
   "source": [
    "f_t.simplify()"
   ]
  },
  {
   "cell_type": "code",
   "execution_count": 24,
   "metadata": {
    "collapsed": false,
    "slideshow": {
     "slide_type": "-"
    }
   },
   "outputs": [
    {
     "data": {
      "image/png": "[encoded data removed]",
      "text/latex": [
       "$$\\left[\\begin{matrix}a tx\\\\a ty\\\\a tx\\\\a ty\\\\0\\\\0\\\\0\\\\0\\end{matrix}\\right]$$"
      ],
      "text/plain": [
       "⎡a⋅tx⎤\n",
       "⎢    ⎥\n",
       "⎢a⋅ty⎥\n",
       "⎢    ⎥\n",
       "⎢a⋅tx⎥\n",
       "⎢    ⎥\n",
       "⎢a⋅ty⎥\n",
       "⎢    ⎥\n",
       "⎢ 0  ⎥\n",
       "⎢    ⎥\n",
       "⎢ 0  ⎥\n",
       "⎢    ⎥\n",
       "⎢ 0  ⎥\n",
       "⎢    ⎥\n",
       "⎣ 0  ⎦"
      ]
     },
     "execution_count": 24,
     "metadata": {},
     "output_type": "execute_result"
    }
   ],
   "source": [
    "f_t"
   ]
  },
  {
   "cell_type": "markdown",
   "metadata": {
    "slideshow": {
     "slide_type": "slide"
    }
   },
   "source": [
    "Del mismo modo, para el lado cargado 1-2, con carga constante: \n"
   ]
  },
  {
   "cell_type": "code",
   "execution_count": 25,
   "metadata": {
    "collapsed": false,
    "slideshow": {
     "slide_type": "-"
    }
   },
   "outputs": [
    {
     "data": {
      "image/png": "[encoded data removed]",
      "text/latex": [
       "$$\\left[\\begin{matrix}0\\\\0\\\\b tx\\\\b ty\\\\b tx\\\\b ty\\\\0\\\\0\\end{matrix}\\right]$$"
      ],
      "text/plain": [
       "⎡ 0  ⎤\n",
       "⎢    ⎥\n",
       "⎢ 0  ⎥\n",
       "⎢    ⎥\n",
       "⎢b⋅tx⎥\n",
       "⎢    ⎥\n",
       "⎢b⋅ty⎥\n",
       "⎢    ⎥\n",
       "⎢b⋅tx⎥\n",
       "⎢    ⎥\n",
       "⎢b⋅ty⎥\n",
       "⎢    ⎥\n",
       "⎢ 0  ⎥\n",
       "⎢    ⎥\n",
       "⎣ 0  ⎦"
      ]
     },
     "execution_count": 25,
     "metadata": {},
     "output_type": "execute_result"
    }
   ],
   "source": [
    "producto = matN.T.multiply(vect)\n",
    "producto = producto.subs(x,a)\n",
    "f_t = integrate(producto,(y,-b,b))\n",
    "f_t.simplify()\n",
    "f_t"
   ]
  },
  {
   "cell_type": "markdown",
   "metadata": {
    "slideshow": {
     "slide_type": "slide"
    }
   },
   "source": [
    "## Consideración sobre el comportamiento del elemento de 4 nodos\n",
    "\n",
    "El elemento de 4 nodos ofrece una buena solución para los casos en los que el comportamiento sea de tracción-compresión. \n",
    "\n",
    "En problemas en los que el comportamiento predominante sea de flexión, este elemento requiere mallas muy tupidas para obtener resultados aceptables. \n",
    "\n",
    "La mala disponibilidad de este elemento para modelar estados de flexión tiene una explicación muy instructiva. \n",
    "\n",
    "Para un elemento, la solución exacta con teoría de vigas puede escribirse como: \n",
    "\n",
    "\\begin{align}\n",
    "u(x,y) & = \\dfrac{M}{E\\,I}\\,r\\,s \\\\\n",
    "v(x,y) & = \\dfrac{M\\,a^2}{2\\,E\\,I} \\,\\left( 1 - \\dfrac{x^2}{a^2} \\right) + \\dfrac{M\\,b^2}{2\\,E\\,I}\\,\\left( 1 - \\dfrac{y^2}{b^2} \\right)\n",
    "\\end{align}\n",
    "\n",
    "El elemento rectangular, por tener lados rectos, sólo puede representar el modo de desplazamiento de flexión: \n",
    "\n",
    "\\begin{align}\n",
    "u & = \\overline{u}\\, x\\,y \\\\\n",
    "v & = 0\n",
    "\\end{align}\n",
    "\n",
    "El elemento no puede reproducir correctamente la distribución de desplazamientos verticales en un estado de flexión, lo que le confiere una rigidez excesiva. "
   ]
  },
  {
   "cell_type": "markdown",
   "metadata": {
    "slideshow": {
     "slide_type": "slide"
    }
   },
   "source": [
    "Adicionalmente, la distribución exacta de deformaciones tangenciales es: \n",
    "\n",
    "\\begin{equation}\n",
    "\\gamma_{xy} = \\dfrac{\\partial u}{\\partial y} + \\dfrac{\\partial v}{\\partial x} = 0\n",
    "\\end{equation}\n",
    "\n",
    "Sin embargo, en la solución aproximada, \n",
    "\n",
    "$$\\gamma_{xy} = \\overline{u}\\,x$$\n",
    "\n",
    "El elemento contiene un \"exceso\" de deformaciones tangenciales. Esto genera una rigidez adicional que le incapacita para reproducir estados de tensión. \n",
    "\n",
    "Una forma de eliminar este exceso consiste en evaluar $\\gamma_{xy}$ en el centro (donde x=0 y por tanto, \\gamma_{xy} =0$). Esta es la base del método de _integración reducida_. \n",
    "\n",
    "Existen otras formas de resolver este problema: \n",
    "\n",
    "- Adición de nodos interiores. \n",
    "- Integración reducida de los términos de deformación tangencial. \n",
    "- Adición de modos incompatibles. \n",
    "- Imposición de un campo de deformaciones. \n",
    "\n",
    "En SAP 2000, por ejemplo, pueden encontrarse opciones para Elementos Incompatibles (opción \"Incompatible Modes\"), para mejorar el comportamiento a flexión del elemento. "
   ]
  }
 ],
 "metadata": {
  "celltoolbar": "Slideshow",
  "kernelspec": {
   "display_name": "Python 2",
   "language": "python",
   "name": "python2"
  },
  "language_info": {
   "codemirror_mode": {
    "name": "ipython",
    "version": 2
   },
   "file_extension": ".py",
   "mimetype": "text/x-python",
   "name": "python",
   "nbconvert_exporter": "python",
   "pygments_lexer": "ipython2",
   "version": "2.7.11"
  }
 },
 "nbformat": 4,
 "nbformat_minor": 0
}
