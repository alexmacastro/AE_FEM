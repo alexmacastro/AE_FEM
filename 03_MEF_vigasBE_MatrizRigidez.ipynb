{
 "cells": [
  {
   "cell_type": "markdown",
   "metadata": {
    "slideshow": {
     "slide_type": "slide"
    }
   },
   "source": [
    "# El MEF para vigas de Bernoulli-Euler\n",
    "\n",
    "## Matriz de rigidez de un elemento-viga de Bernoulli-Euler\n",
    "\n",
    "Análisis de Estructuras. Grado en Ingeniería Civil. \n",
    "\n",
    "Autores: \n",
    "- Alejandro E. Martínez-Castro, Esther Puertas García, Rafael Gallego.\n",
    "- Dpto. Mecánica de Estructuras e Ingeniería Hidráulica. Universidad de Granada.\n",
    "\n",
    "<a rel=\"license\" href=\"http://creativecommons.org/licenses/by-nc-sa/4.0/\"><img alt=\"Licencia de Creative Commons\" style=\"border-width:0\" src=\"https://i.creativecommons.org/l/by-nc-sa/4.0/88x31.png\" /></a><br /><span xmlns:dct=\"http://purl.org/dc/terms/\" property=\"dct:title\">Cuadernos MEF: Viga de Bernoulli-Euler</span> by <span xmlns:cc=\"http://creativecommons.org/ns#\" property=\"cc:attributionName\">Alejandro Martínez Castro, Esther Puertas García, Rafael Gallego Sevilla</span> is licensed under a <a rel=\"license\" href=\"http://creativecommons.org/licenses/by-nc-sa/4.0/\">Creative Commons Reconocimiento-NoComercial-CompartirIgual 4.0 Internacional License</a>."
   ]
  },
  {
   "cell_type": "markdown",
   "metadata": {},
   "source": [
    "En este cuaderno se va a obtener la expresión de la matriz de rigidez de una viga de Bernoulli-Euler. \n",
    "\n",
    "+ Se consideran los casos de inercia constante y variable. \n",
    "\n",
    "+ Se considerará la interpolación hermítica para los desplazamientos. \n",
    "\n",
    "Se definen los símbolos para las variables y funciones, con el paquete SymPy"
   ]
  },
  {
   "cell_type": "code",
   "execution_count": 1,
   "metadata": {
    "slideshow": {
     "slide_type": "slide"
    }
   },
   "outputs": [
    {
     "name": "stdout",
     "output_type": "stream",
     "text": [
      "IPython console for SymPy 0.7.6.1 (Python 2.7.11-64-bit) (ground types: python)\n",
      "\n",
      "These commands were executed:\n",
      ">>> from __future__ import division\n",
      ">>> from sympy import *\n",
      ">>> x, y, z, t = symbols('x y z t')\n",
      ">>> k, m, n = symbols('k m n', integer=True)\n",
      ">>> f, g, h = symbols('f g h', cls=Function)\n",
      ">>> init_printing()\n",
      "\n",
      "Documentation can be found at http://www.sympy.org\n"
     ]
    }
   ],
   "source": [
    "from sympy import init_session\n",
    "init_session()"
   ]
  },
  {
   "cell_type": "markdown",
   "metadata": {
    "slideshow": {
     "slide_type": "slide"
    }
   },
   "source": [
    "En primer lugar, se definen las funciones de Hermite. Se toman directamente del notebook \"El MEF para vigas. Funciones e Forma Hermíticas\""
   ]
  },
  {
   "cell_type": "code",
   "execution_count": 2,
   "metadata": {
    "collapsed": true
   },
   "outputs": [],
   "source": [
    "L = Symbol('L')\n",
    "h1 = 1 - 3*x**2/L**2 + 2*x**3/L**3\n",
    "h2 = x - 2*x**2/L + x**3/L**2\n",
    "h3 = 3*x**2/L**2 - 2*x**3/L**3\n",
    "h4 = -x**2/L + x**3/L**2"
   ]
  },
  {
   "cell_type": "markdown",
   "metadata": {
    "slideshow": {
     "slide_type": "subslide"
    }
   },
   "source": [
    "Se definen los símbolos para el módulo elástico y el momento de inercia "
   ]
  },
  {
   "cell_type": "code",
   "execution_count": 3,
   "metadata": {
    "collapsed": true,
    "slideshow": {
     "slide_type": "-"
    }
   },
   "outputs": [],
   "source": [
    "E, I = symbols('E I')"
   ]
  },
  {
   "cell_type": "markdown",
   "metadata": {},
   "source": [
    "Se define en una matriz-columna las funciones de interpolación. "
   ]
  },
  {
   "cell_type": "code",
   "execution_count": 4,
   "metadata": {
    "slideshow": {
     "slide_type": "slide"
    }
   },
   "outputs": [
    {
     "data": {
      "image/png": "[encoded data removed]",
      "text/latex": [
       "$$\\left[\\begin{matrix}1 - \\frac{3 x^{2}}{L^{2}} + \\frac{2 x^{3}}{L^{3}}\\\\x - \\frac{2 x^{2}}{L} + \\frac{x^{3}}{L^{2}}\\\\\\frac{3 x^{2}}{L^{2}} - \\frac{2 x^{3}}{L^{3}}\\\\- \\frac{x^{2}}{L} + \\frac{x^{3}}{L^{2}}\\end{matrix}\\right]$$"
      ],
      "text/plain": [
       "⎡       2      3⎤\n",
       "⎢    3⋅x    2⋅x ⎥\n",
       "⎢1 - ──── + ────⎥\n",
       "⎢      2      3 ⎥\n",
       "⎢     L      L  ⎥\n",
       "⎢               ⎥\n",
       "⎢        2    3 ⎥\n",
       "⎢     2⋅x    x  ⎥\n",
       "⎢ x - ──── + ── ⎥\n",
       "⎢      L      2 ⎥\n",
       "⎢            L  ⎥\n",
       "⎢               ⎥\n",
       "⎢     2      3  ⎥\n",
       "⎢  3⋅x    2⋅x   ⎥\n",
       "⎢  ──── - ────  ⎥\n",
       "⎢    2      3   ⎥\n",
       "⎢   L      L    ⎥\n",
       "⎢               ⎥\n",
       "⎢      2    3   ⎥\n",
       "⎢     x    x    ⎥\n",
       "⎢   - ── + ──   ⎥\n",
       "⎢     L     2   ⎥\n",
       "⎣          L    ⎦"
      ]
     },
     "execution_count": 4,
     "metadata": {},
     "output_type": "execute_result"
    }
   ],
   "source": [
    "from sympy import Matrix\n",
    "funciones = Matrix([[h1, h2, h3, h4]]) \n",
    "funciones.T # Se visualiza traspuesta para una mejor visualización de las 4 funciones en filas aparte."
   ]
  },
  {
   "cell_type": "markdown",
   "metadata": {},
   "source": [
    "A continuación se derivan las funciones anteriores 2 veces, para formar la matriz $\\mathbf{B_f}$"
   ]
  },
  {
   "cell_type": "code",
   "execution_count": 5,
   "metadata": {
    "slideshow": {
     "slide_type": "subslide"
    }
   },
   "outputs": [
    {
     "data": {
      "image/png": "[encoded data removed]",
      "text/latex": [
       "$$\\left[\\begin{matrix}\\frac{1}{L^{2}} \\left(-6 + \\frac{12 x}{L}\\right)\\\\\\frac{1}{L} \\left(-4 + \\frac{6 x}{L}\\right)\\\\\\frac{1}{L^{2}} \\left(6 - \\frac{12 x}{L}\\right)\\\\\\frac{1}{L} \\left(-2 + \\frac{6 x}{L}\\right)\\end{matrix}\\right]$$"
      ],
      "text/plain": [
       "⎡  ⎛     2⋅x⎞⎤\n",
       "⎢6⋅⎜-1 + ───⎟⎥\n",
       "⎢  ⎝      L ⎠⎥\n",
       "⎢────────────⎥\n",
       "⎢      2     ⎥\n",
       "⎢     L      ⎥\n",
       "⎢            ⎥\n",
       "⎢  ⎛     3⋅x⎞⎥\n",
       "⎢2⋅⎜-2 + ───⎟⎥\n",
       "⎢  ⎝      L ⎠⎥\n",
       "⎢────────────⎥\n",
       "⎢     L      ⎥\n",
       "⎢            ⎥\n",
       "⎢  ⎛    2⋅x⎞ ⎥\n",
       "⎢6⋅⎜1 - ───⎟ ⎥\n",
       "⎢  ⎝     L ⎠ ⎥\n",
       "⎢─────────── ⎥\n",
       "⎢      2     ⎥\n",
       "⎢     L      ⎥\n",
       "⎢            ⎥\n",
       "⎢  ⎛     3⋅x⎞⎥\n",
       "⎢2⋅⎜-1 + ───⎟⎥\n",
       "⎢  ⎝      L ⎠⎥\n",
       "⎢────────────⎥\n",
       "⎣     L      ⎦"
      ]
     },
     "execution_count": 5,
     "metadata": {},
     "output_type": "execute_result"
    }
   ],
   "source": [
    "Bf = funciones.diff(x,2) \n",
    "Bf.T "
   ]
  },
  {
   "cell_type": "markdown",
   "metadata": {},
   "source": [
    "Se construye la matriz de rigidez\n",
    "\n",
    "\\begin{equation}\n",
    "\\mathbf{K} = \\int_{0}^{L} \\mathbf{B_f}^T \\cdot \\mathbf{D} \\cdot \\mathbf{B_f} \\, \\mathrm{d}x \n",
    "\\end{equation}\n",
    "\n",
    "con $\\mathbf{D} = E \\,I$"
   ]
  },
  {
   "cell_type": "code",
   "execution_count": 6,
   "metadata": {
    "slideshow": {
     "slide_type": "slide"
    }
   },
   "outputs": [
    {
     "data": {
      "image/png": "[encoded data removed]",
      "text/latex": [
       "$$\\left[\\begin{matrix}\\frac{12 E}{L^{3}} I & \\frac{6 E}{L^{2}} I & - \\frac{12 E}{L^{3}} I & \\frac{6 E}{L^{2}} I\\\\\\frac{6 E}{L^{2}} I & \\frac{4 E}{L} I & - \\frac{6 E}{L^{2}} I & \\frac{2 E}{L} I\\\\- \\frac{12 E}{L^{3}} I & - \\frac{6 E}{L^{2}} I & \\frac{12 E}{L^{3}} I & - \\frac{6 E}{L^{2}} I\\\\\\frac{6 E}{L^{2}} I & \\frac{2 E}{L} I & - \\frac{6 E}{L^{2}} I & \\frac{4 E}{L} I\\end{matrix}\\right]$$"
      ],
      "text/plain": [
       "⎡ 12⋅E⋅I    6⋅E⋅I   -12⋅E⋅I    6⋅E⋅I ⎤\n",
       "⎢ ──────    ─────   ────────   ───── ⎥\n",
       "⎢    3         2        3         2  ⎥\n",
       "⎢   L         L        L         L   ⎥\n",
       "⎢                                    ⎥\n",
       "⎢ 6⋅E⋅I     4⋅E⋅I   -6⋅E⋅I     2⋅E⋅I ⎥\n",
       "⎢ ─────     ─────   ───────    ───── ⎥\n",
       "⎢    2        L         2        L   ⎥\n",
       "⎢   L                  L             ⎥\n",
       "⎢                                    ⎥\n",
       "⎢-12⋅E⋅I   -6⋅E⋅I    12⋅E⋅I   -6⋅E⋅I ⎥\n",
       "⎢────────  ───────   ──────   ───────⎥\n",
       "⎢    3         2        3         2  ⎥\n",
       "⎢   L         L        L         L   ⎥\n",
       "⎢                                    ⎥\n",
       "⎢ 6⋅E⋅I     2⋅E⋅I   -6⋅E⋅I     4⋅E⋅I ⎥\n",
       "⎢ ─────     ─────   ───────    ───── ⎥\n",
       "⎢    2        L         2        L   ⎥\n",
       "⎣   L                  L             ⎦"
      ]
     },
     "execution_count": 6,
     "metadata": {},
     "output_type": "execute_result"
    }
   ],
   "source": [
    "Krigidez = integrate(E* I * Bf.T.multiply(Bf),(x,0,L)) # Producto matricial \n",
    "Krigidez"
   ]
  },
  {
   "cell_type": "markdown",
   "metadata": {
    "slideshow": {
     "slide_type": "slide"
    }
   },
   "source": [
    "Esta matriz es idéntica a la matriz de flexión que se ha obtenido para un elemento de pórtico plano. \n"
   ]
  },
  {
   "cell_type": "markdown",
   "metadata": {},
   "source": [
    "## Matriz de rigidez de elemento-viga de inercia variable\n",
    "\n",
    "La formulación vista anteriormente permite obtener la matriz de rigidez para una barra de inercia variable.\n",
    "\n",
    "En primer lugar se definen los símbolos que van a emplearse para I1 e I2 (inercias inicial y final). \n",
    "\n",
    "Se considera una transición de inercia con variación lineal:\n",
    "\n",
    "$$ Inercia (x) = I_1 + \\dfrac{I_2 - I_1}{L} \\cdot x$$\n",
    "\n",
    "(Las variaciones de inercia \"realistas\" son cuadráticas o cúbicas para variación lineal de canto. Piense el motivo)"
   ]
  },
  {
   "cell_type": "code",
   "execution_count": 7,
   "metadata": {
    "collapsed": true,
    "slideshow": {
     "slide_type": "slide"
    }
   },
   "outputs": [],
   "source": [
    "I1, I2, Inercia = symbols('I1 I2 Inercia')"
   ]
  },
  {
   "cell_type": "code",
   "execution_count": 8,
   "metadata": {
    "collapsed": true
   },
   "outputs": [],
   "source": [
    "Inercia = I1 + (I2 - I1) / L * x"
   ]
  },
  {
   "cell_type": "code",
   "execution_count": 9,
   "metadata": {},
   "outputs": [
    {
     "data": {
      "image/png": "[encoded data removed]",
      "text/latex": [
       "$$\\left[\\begin{matrix}\\frac{6 E}{L^{3}} \\left(I_{1} + I_{2}\\right) & \\frac{2 E}{L^{2}} \\left(2 I_{1} + I_{2}\\right) & - \\frac{6 E}{L^{3}} \\left(I_{1} + I_{2}\\right) & \\frac{2 E}{L^{2}} \\left(I_{1} + 2 I_{2}\\right)\\\\\\frac{2 E}{L^{2}} \\left(2 I_{1} + I_{2}\\right) & \\frac{E}{L} \\left(3 I_{1} + I_{2}\\right) & - \\frac{2 E}{L^{2}} \\left(2 I_{1} + I_{2}\\right) & \\frac{E}{L} \\left(I_{1} + I_{2}\\right)\\\\- \\frac{6 E}{L^{3}} \\left(I_{1} + I_{2}\\right) & - \\frac{2 E}{L^{2}} \\left(2 I_{1} + I_{2}\\right) & \\frac{6 E}{L^{3}} \\left(I_{1} + I_{2}\\right) & - \\frac{2 E}{L^{2}} \\left(I_{1} + 2 I_{2}\\right)\\\\\\frac{2 E}{L^{2}} \\left(I_{1} + 2 I_{2}\\right) & \\frac{E}{L} \\left(I_{1} + I_{2}\\right) & - \\frac{2 E}{L^{2}} \\left(I_{1} + 2 I_{2}\\right) & \\frac{E}{L} \\left(I_{1} + 3 I_{2}\\right)\\end{matrix}\\right]$$"
      ],
      "text/plain": [
       "⎡ 6⋅E⋅(I₁ + I₂)    2⋅E⋅(2⋅I₁ + I₂)    -6⋅E⋅(I₁ + I₂)     2⋅E⋅(I₁ + 2⋅I₂) ⎤\n",
       "⎢ ─────────────    ───────────────    ───────────────    ─────────────── ⎥\n",
       "⎢        3                 2                  3                  2       ⎥\n",
       "⎢       L                 L                  L                  L        ⎥\n",
       "⎢                                                                        ⎥\n",
       "⎢2⋅E⋅(2⋅I₁ + I₂)    E⋅(3⋅I₁ + I₂)    -2⋅E⋅(2⋅I₁ + I₂)      E⋅(I₁ + I₂)   ⎥\n",
       "⎢───────────────    ─────────────    ─────────────────     ───────────   ⎥\n",
       "⎢        2                L                   2                 L        ⎥\n",
       "⎢       L                                    L                           ⎥\n",
       "⎢                                                                        ⎥\n",
       "⎢-6⋅E⋅(I₁ + I₂)   -2⋅E⋅(2⋅I₁ + I₂)     6⋅E⋅(I₁ + I₂)    -2⋅E⋅(I₁ + 2⋅I₂) ⎥\n",
       "⎢───────────────  ─────────────────    ─────────────    ─────────────────⎥\n",
       "⎢        3                 2                  3                  2       ⎥\n",
       "⎢       L                 L                  L                  L        ⎥\n",
       "⎢                                                                        ⎥\n",
       "⎢2⋅E⋅(I₁ + 2⋅I₂)     E⋅(I₁ + I₂)     -2⋅E⋅(I₁ + 2⋅I₂)     E⋅(I₁ + 3⋅I₂)  ⎥\n",
       "⎢───────────────     ───────────     ─────────────────    ─────────────  ⎥\n",
       "⎢        2                L                   2                 L        ⎥\n",
       "⎣       L                                    L                           ⎦"
      ]
     },
     "execution_count": 9,
     "metadata": {},
     "output_type": "execute_result"
    }
   ],
   "source": [
    "Krigidez_Ivar = integrate(E*Inercia * Bf.T.multiply(Bf),(x,0,L)) # Producto matricial\n",
    "Krigidez_Ivar.simplify()\n",
    "Krigidez_Ivar"
   ]
  },
  {
   "cell_type": "markdown",
   "metadata": {
    "slideshow": {
     "slide_type": "slide"
    }
   },
   "source": [
    "Es fácil verificar que esta matriz degenera en la matriz de rigidez para el caso de inercia constante. \n",
    "\n",
    "Para esto, basta sustituir en la anterior matriz las inercias I2 e I1 por I. "
   ]
  },
  {
   "cell_type": "code",
   "execution_count": 10,
   "metadata": {},
   "outputs": [
    {
     "data": {
      "image/png": "[encoded data removed]",
      "text/latex": [
       "$$\\left[\\begin{matrix}\\frac{12 E}{L^{3}} I & \\frac{6 E}{L^{2}} I & - \\frac{12 E}{L^{3}} I & \\frac{6 E}{L^{2}} I\\\\\\frac{6 E}{L^{2}} I & \\frac{4 E}{L} I & - \\frac{6 E}{L^{2}} I & \\frac{2 E}{L} I\\\\- \\frac{12 E}{L^{3}} I & - \\frac{6 E}{L^{2}} I & \\frac{12 E}{L^{3}} I & - \\frac{6 E}{L^{2}} I\\\\\\frac{6 E}{L^{2}} I & \\frac{2 E}{L} I & - \\frac{6 E}{L^{2}} I & \\frac{4 E}{L} I\\end{matrix}\\right]$$"
      ],
      "text/plain": [
       "⎡ 12⋅E⋅I    6⋅E⋅I   -12⋅E⋅I    6⋅E⋅I ⎤\n",
       "⎢ ──────    ─────   ────────   ───── ⎥\n",
       "⎢    3         2        3         2  ⎥\n",
       "⎢   L         L        L         L   ⎥\n",
       "⎢                                    ⎥\n",
       "⎢ 6⋅E⋅I     4⋅E⋅I   -6⋅E⋅I     2⋅E⋅I ⎥\n",
       "⎢ ─────     ─────   ───────    ───── ⎥\n",
       "⎢    2        L         2        L   ⎥\n",
       "⎢   L                  L             ⎥\n",
       "⎢                                    ⎥\n",
       "⎢-12⋅E⋅I   -6⋅E⋅I    12⋅E⋅I   -6⋅E⋅I ⎥\n",
       "⎢────────  ───────   ──────   ───────⎥\n",
       "⎢    3         2        3         2  ⎥\n",
       "⎢   L         L        L         L   ⎥\n",
       "⎢                                    ⎥\n",
       "⎢ 6⋅E⋅I     2⋅E⋅I   -6⋅E⋅I     4⋅E⋅I ⎥\n",
       "⎢ ─────     ─────   ───────    ───── ⎥\n",
       "⎢    2        L         2        L   ⎥\n",
       "⎣   L                  L             ⎦"
      ]
     },
     "execution_count": 10,
     "metadata": {},
     "output_type": "execute_result"
    }
   ],
   "source": [
    "Krigidez_Ivar.subs([(I2,I),(I1,I)])"
   ]
  },
  {
   "cell_type": "markdown",
   "metadata": {
    "slideshow": {
     "slide_type": "slide"
    }
   },
   "source": [
    "Para comprobar que se ha obtenido la matriz de rigidez para el caso de inercia constante, se restarán ambas expresiones. "
   ]
  },
  {
   "cell_type": "code",
   "execution_count": 11,
   "metadata": {},
   "outputs": [
    {
     "data": {
      "image/png": "[encoded data removed]",
      "text/latex": [
       "$$\\left[\\begin{matrix}0 & 0 & 0 & 0\\\\0 & 0 & 0 & 0\\\\0 & 0 & 0 & 0\\\\0 & 0 & 0 & 0\\end{matrix}\\right]$$"
      ],
      "text/plain": [
       "⎡0  0  0  0⎤\n",
       "⎢          ⎥\n",
       "⎢0  0  0  0⎥\n",
       "⎢          ⎥\n",
       "⎢0  0  0  0⎥\n",
       "⎢          ⎥\n",
       "⎣0  0  0  0⎦"
      ]
     },
     "execution_count": 11,
     "metadata": {},
     "output_type": "execute_result"
    }
   ],
   "source": [
    "Krigidez_Ivar.subs([(I2,I),(I1,I)]) - Krigidez"
   ]
  },
  {
   "cell_type": "code",
   "execution_count": null,
   "metadata": {
    "collapsed": true
   },
   "outputs": [],
   "source": []
  }
 ],
 "metadata": {
  "kernelspec": {
   "display_name": "Python 2",
   "language": "python",
   "name": "python2"
  },
  "language_info": {
   "codemirror_mode": {
    "name": "ipython",
    "version": 2
   },
   "file_extension": ".py",
   "mimetype": "text/x-python",
   "name": "python",
   "nbconvert_exporter": "python",
   "pygments_lexer": "ipython2",
   "version": "2.7.13"
  }
 },
 "nbformat": 4,
 "nbformat_minor": 1
}
