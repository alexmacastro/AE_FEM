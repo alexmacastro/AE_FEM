{
 "cells": [
  {
   "cell_type": "markdown",
   "metadata": {},
   "source": [
    "# Ejercicio: Presa de Gravedad con elemento de 3 nodos.\n",
    "\n",
    "\n",
    "\n",
    "## 1. Enunciado\n",
    "\n",
    "La figura representa una sección de presa de gravedad, la cual se va a analizar mediante el MEF como un problema de elasticidad bidimensional, de tensión plana. \n",
    "\n",
    "<img src=\"presa_triangulares.PNG\" width=\"50%\" height=\"50%\"/>\n",
    "\n",
    "En la figura, el parámetro h3 = h2/2. Se han tomado 8 nodos y 6 elementos, referenciados mediante las letras a,b,c,d,e,f.  \n",
    "\n",
    "La figura muestra la presión correspondiente a la carga hidráulica. Esta presión está aplicada sobre el paramento vertical, variable en función de $y$. El valor máximo es $Q$.\n",
    "\n",
    "Determinar: \n",
    "- Vector de fuerzas nodales debidas a la presión de agua, en el nodo 5. \n",
    "-  Vector de fuerzas nodales debido a peso propio, en el nodo 4. \n",
    "-  Determinar el término de la matriz de rigidez $\\mathbf{K_{58}}$.\n",
    "\n",
    "\n",
    "**Parámetros**\n",
    "- h1: 10 m \n",
    "- h2: 50 m\n",
    "- h3 = 25 m (puesto que vale h2/2)\n",
    "- b1 = 50 m. \n",
    "- b2 = 5 m. \n",
    "- Peso específico del agua: 10 kN/m$^3$. \n",
    "- Peso específico del hormigón: 25 kN/m$^3$. \n",
    "- Módulo de elasticidad $E = 30$ GPa. \n",
    "- Coeficiente de Poisson: 0.25\n"
   ]
  },
  {
   "cell_type": "code",
   "execution_count": 1,
   "metadata": {
    "collapsed": false
   },
   "outputs": [
    {
     "name": "stdout",
     "output_type": "stream",
     "text": [
      "IPython console for SymPy 1.0 (Python 2.7.11-64-bit) (ground types: python)\n",
      "\n",
      "These commands were executed:\n",
      ">>> from __future__ import division\n",
      ">>> from sympy import *\n",
      ">>> x, y, z, t = symbols('x y z t')\n",
      ">>> k, m, n = symbols('k m n', integer=True)\n",
      ">>> f, g, h = symbols('f g h', cls=Function)\n",
      ">>> init_printing()\n",
      "\n",
      "Documentation can be found at http://docs.sympy.org/1.0/\n"
     ]
    }
   ],
   "source": [
    "from sympy import init_session\n",
    "init_session()"
   ]
  },
  {
   "cell_type": "markdown",
   "metadata": {},
   "source": [
    "A continuación se definen los símbolos y las funciones de forma (tomadas del cuaderno del MEF-Elemento Triangular)"
   ]
  },
  {
   "cell_type": "code",
   "execution_count": 2,
   "metadata": {
    "collapsed": false
   },
   "outputs": [],
   "source": [
    "x1,y1,x2,y2,x3,y3,A = symbols('x1 y1 x2 y2 x3 y3 A',real=True) # Se definen como reales para evaluación posterior.\n",
    "N1 = (x*(y2 - y3) + x2*y3 - x3*y2 - y*(x2 - x3))/(2*A) \n",
    "N2 = (-x*(y1 - y3) - x1*y3 + x3*y1 + y*(x1 - x3))/(2*A)\n",
    "N3 = (x*(y1 - y2) + x1*y2 - x2*y1 - y*(x1 - x2))/(2*A)"
   ]
  },
  {
   "cell_type": "markdown",
   "metadata": {},
   "source": [
    "## 2. Determinación de las fuerzas nodales en el elemento triangular.\n",
    "\n",
    "El vector de fuerzas debido a tensiones en el contorno se calcula mediante una integral de línea, que sólo afecta a los lados cargados (es decir, en los que esté definida la tensión exterior $\\mathbf{t}$). \n",
    "\n",
    "Para un elemento dado, la fuerza nodal equivalente se obtiene evaluando la siguiente integral:\n",
    "\n",
    "\\begin{equation}\n",
    "\\mathbf{f}_t = \\int_{\\Gamma} \\mathbf{N}^T \\cdot \\mathbf{t} \\,d \\Gamma\n",
    "\\end{equation}\n",
    "\n",
    "Como se ha indicado anteriormente, $\\Gamma$ afecta únicamente a los lados en los que se define una tensión exterior aplicada $\\mathbf{t}$. \n",
    "\n",
    "Considerando un sistema de referencia local, en el cual los nodos está numerados como 1-2-3, la matriz de funciones de forma puede escribirse en función de las matrices de los nodos 1, 2 y 3, como sigue: \n",
    "\n",
    "\\begin{equation}\n",
    "\\mathbf{N} = \\left( \\begin{matrix} \\mathbf{N_1} & \\mathbf{N_2} & \\mathbf{N_3} \\end{matrix} \\right) \n",
    "\\end{equation}\n",
    "\n",
    "Y por tanto, \n",
    "\n",
    "\\begin{equation}\n",
    "\\mathbf{f}_t = \\int_{\\Gamma} \\left( \\begin{matrix} \\mathbf{N_1} & \\mathbf{N_2} & \\mathbf{N_3} \\end{matrix} \\right)^T \\cdot \\mathbf{t} \\,d \\Gamma\n",
    "\\end{equation}\n",
    "\n",
    "El vector $\\mathbf{f}_t$ puede a su vez escribirse en función de las componentes del nodo 1, 2 y 3. \n",
    "\n",
    "\\begin{equation}\n",
    "\\mathbf{f}_t = \\begin{pmatrix} \\mathbf{f}_{1} \\\\ \\mathbf{f}_{2} \\\\  \\mathbf{f}_{3}\\end{pmatrix}\n",
    "\\end{equation}\n",
    "\n",
    "Finalmente, las componentes vectoriales de $\\mathbf{f}_t$ pueden calcularse como: \n",
    "\n",
    "\\begin{equation}\n",
    "\\begin{pmatrix} \\mathbf{f}_{1} \\\\ \\mathbf{f}_{2} \\\\  \\mathbf{f}_{3}\\end{pmatrix} = \n",
    "\\begin{pmatrix} \\int_{\\Gamma} \\mathbf{N_1}^T \\cdot \\mathbf{t} \\, d\\ \\Gamma \\\\ \n",
    "\\int_{\\Gamma} \\mathbf{N_2}^T \\cdot \\mathbf{t}\\,d\\ \\Gamma \\\\ \\int_{\\Gamma} \\mathbf{N_3}^T  \\cdot \\mathbf{t}\\,d \\Gamma\n",
    "\\end{pmatrix}\n",
    "\\end{equation}"
   ]
  },
  {
   "cell_type": "markdown",
   "metadata": {},
   "source": [
    "### Componentes del vector tensión\n",
    "\n",
    "El vector $\\mathbf{t}$ puede escribirse como: \n",
    "\n",
    "\\begin{equation}\n",
    "\\mathbf{t} = \\begin{pmatrix} t_x \\\\ t_y \\end{pmatrix}\n",
    "\\end{equation}\n",
    "\n",
    "La figura muestra la carga hidrostática. Claramente, la componente $t_y$ es nula. La componente $t_x$ varía en función de $y$. Considerando el sistema de referencia $x,y$ de la figura, y teniendo en cuenta la variación lineal de la carga, puede definirse la función $t_x(y)$ como sigue:  \n",
    "\n",
    "\\begin{equation}\n",
    "t_x(y) = Q - \\dfrac{Q}{h1 + h2}\\,y\n",
    "\\end{equation}"
   ]
  },
  {
   "cell_type": "code",
   "execution_count": 3,
   "metadata": {
    "collapsed": false
   },
   "outputs": [
    {
     "data": {
      "image/png": "[encoded data removed]",
      "text/latex": [
       "$$- \\frac{Q y}{h_{1} + h_{2}} + Q$$"
      ],
      "text/plain": [
       "    Q⋅y      \n",
       "- ─────── + Q\n",
       "  h₁ + h₂    "
      ]
     },
     "execution_count": 3,
     "metadata": {},
     "output_type": "execute_result"
    }
   ],
   "source": [
    "h1, h2, Q  = symbols('h1 h2 Q',real=True)\n",
    "tx = Q - Q / (h1 + h2) * y\n",
    "tx"
   ]
  },
  {
   "cell_type": "markdown",
   "metadata": {},
   "source": [
    "### Determinación del vector de fuerzas en el nodo 5. \n",
    "\n",
    "El vector de fuerzas en el nodo 5 incluye componentes en los elementos $d$ y $f$, pues son  los elementos que tienen el nodo 5 en común y que tienen un lado cargado.\n",
    "\n",
    "\\begin{equation}\n",
    "\\mathbf{f}_5 = \\mathbf{f}_5^{d + f} = \\mathbf{f}_5^d +  \\mathbf{f}_5^f\n",
    "\\end{equation}"
   ]
  },
  {
   "cell_type": "markdown",
   "metadata": {},
   "source": [
    "### 2.1. Determinación del vector de fuerzas en 5 debido al elemento _d_\n",
    "\n",
    "Para este elemento se debe plantear una referencia local, en la que se renumeran los nodos como 1-2-3. En este caso, se ha elegido la numeración 3-6-5 como la 1-2-3, según se muestra la figura. Nótese que esta elección es arbitraria, y cualquiera de los tres nodos (3,6,5) puede elegirse como nodo 1. Lo importante es que, una vez fijado el nodo al que se asigna el 1, el resto de nodos respeten el sentido mostrado en la figura (pues sólo así las funciones de forma pueden expresarse en función del área $A$ en valor absoluto). \n",
    "\n",
    "<img src=\"presa_elementod.PNG\" width=\"50%\" height=\"50%\"/>\n",
    "\n",
    "\n",
    "El nodo 5 del elemento _d_ es el nodo 3 en la referencia local. Por tanto, se determinará la integral siguiente: \n",
    "\n",
    "\\begin{equation}\n",
    "\\mathbf{f}_5^d = \\int_{\\Gamma_d} \\mathbf{N_{3}}^T \\cdot \\mathbf{t}\\,d \\Gamma\n",
    "\\end{equation}\n",
    "\n",
    "En esta integral, $\\Gamma_d$ se refiere a la línea del elemento _d_ en la que está definido $\\mathbf{t}$. \n",
    "\n",
    "\n",
    "\\begin{equation}\n",
    "\\mathbf{f}_5^d = \\int_{\\Gamma_d} \\left( \\begin{matrix} N_3 & 0 \\\\ 0 & N_3 \\end{matrix} \\right) \\cdot \\begin{pmatrix} t_x \\\\ t_y \\end{pmatrix} \\,d \\Gamma\n",
    "\\end{equation}\n",
    "\n",
    "Teniendo en cuenta que $t_y = 0$ y que $t_x$ es una función de $y$ (pues corresponde con la carga hidráulica}, definida anteriormente, es fácil determinar la integral anterior, la cual se extiende al lado 1-3 en coordenadas locales, pues es el lado que está cargado. \n",
    "\n",
    "La carga nodal se obtiene mediante la siguiente integral, en $y$, particularizando la función de forma $N_3(x,y)$ en un punto de la línea vertical del paramento cargado, es decir, en un punto de la forma $(0,y)$. \n",
    "\n",
    "\\begin{equation}\n",
    "\\mathbf{f}_5^d = \\int_{y=h3}^{y = 2\\, h3} \\left( \\begin{matrix} N_3(0,y) & 0 \\\\ 0 & N_3(0,y) \\end{matrix} \\right) \\cdot \\begin{pmatrix} t_x(y) \\\\ 0 \\end{pmatrix} \\,d y = \\begin{pmatrix} \\int_{y=h3}^{y =2 \\, h3} N_3(0,y) \\,t_x(y) \\,dy \\\\ 0 \\end{pmatrix}\n",
    "\\end{equation}\n",
    "\n",
    "A continuación se realizan estas operaciones. "
   ]
  },
  {
   "cell_type": "code",
   "execution_count": 4,
   "metadata": {
    "collapsed": false
   },
   "outputs": [
    {
     "data": {
      "image/png": "[encoded data removed]",
      "text/latex": [
       "$$\\frac{b_{2} h_{3}}{2}$$"
      ],
      "text/plain": [
       "b₂⋅h₃\n",
       "─────\n",
       "  2  "
      ]
     },
     "execution_count": 4,
     "metadata": {},
     "output_type": "execute_result"
    }
   ],
   "source": [
    "b2, h3 = symbols('b2 h3',real=True)\n",
    "Area_d = Rational(1,2) * b2 * h3\n",
    "Area_d"
   ]
  },
  {
   "cell_type": "markdown",
   "metadata": {},
   "source": [
    "Se definen las coordenadas (x1,y1,x2,y2,x3,y3) de los vértices del triángulo _d_. Con las coordenadas, y el valor del área, se particulariza la expresión de la función de forma $N_3(x,y)$ al triángulo _d_.  "
   ]
  },
  {
   "cell_type": "code",
   "execution_count": 5,
   "metadata": {
    "collapsed": false
   },
   "outputs": [
    {
     "data": {
      "image/png": "[encoded data removed]",
      "text/latex": [
       "$$\\frac{1}{b_{2} h_{3}} \\left(- b_{2} h_{3} + b_{2} y - h_{3} x\\right)$$"
      ],
      "text/plain": [
       "-b₂⋅h₃ + b₂⋅y - h₃⋅x\n",
       "────────────────────\n",
       "       b₂⋅h₃        "
      ]
     },
     "execution_count": 5,
     "metadata": {},
     "output_type": "execute_result"
    }
   ],
   "source": [
    "x1_d = 0\n",
    "y1_d = h3\n",
    "x2_d = b2\n",
    "y2_d = 2*h3\n",
    "x3_d = 0\n",
    "y3_d = 2*h3\n",
    "N3_d = N3.subs([(x1,x1_d),(x2,x2_d),(x3,x3_d),(y1,y1_d),(y2,y2_d),(y3,y3_d),(A,Area_d)])\n",
    "N3_d"
   ]
  },
  {
   "cell_type": "markdown",
   "metadata": {},
   "source": [
    "A continuación se determina la integral para definir la componente $x$ de $\\mathbf{f}_5^d$"
   ]
  },
  {
   "cell_type": "code",
   "execution_count": 6,
   "metadata": {
    "collapsed": false
   },
   "outputs": [
    {
     "data": {
      "image/png": "[encoded data removed]",
      "text/latex": [
       "$$- \\frac{7 Q h_{3}^{3}}{3 h_{1} h_{3} + 3 h_{2} h_{3}} - Q h_{3} + \\frac{3 h_{3}^{2} \\left(Q h_{1} + Q h_{2} + Q h_{3}\\right)}{2 h_{1} h_{3} + 2 h_{2} h_{3}}$$"
      ],
      "text/plain": [
       "             3                   2                     \n",
       "       7⋅Q⋅h₃                3⋅h₃ ⋅(Q⋅h₁ + Q⋅h₂ + Q⋅h₃)\n",
       "- ───────────────── - Q⋅h₃ + ──────────────────────────\n",
       "  3⋅h₁⋅h₃ + 3⋅h₂⋅h₃              2⋅h₁⋅h₃ + 2⋅h₂⋅h₃     "
      ]
     },
     "execution_count": 6,
     "metadata": {},
     "output_type": "execute_result"
    }
   ],
   "source": [
    "f5d_x = integrate(N3_d.subs(x,0) * tx,(y,h3,2*h3))\n",
    "f5d_x.simplify()\n",
    "f5d_x"
   ]
  },
  {
   "cell_type": "markdown",
   "metadata": {
    "collapsed": true
   },
   "source": [
    "### 2.2. Determinación del vector de fuerzas en 5 debido al elemento elemento _f_\n",
    "\n",
    "Para este elemento se plantea nuevamente una referencia local, en la que se renumeran los nodos como 1-2-3. En este caso, se ha elegido la numeración 5-8-7 como la 1-2-3, según se muestra la figura. \n",
    "\n",
    "<img src=\"presa_elementof.PNG\" width=\"50%\" height=\"50%\"/>\n",
    "\n",
    "\n",
    "El nodo 5 del elemento _f_ es el nodo 1 en la referencia local. Por tanto, se determinará la integral siguiente: \n",
    "\n",
    "\\begin{equation}\n",
    "\\mathbf{f}_5^f = \\int_{\\Gamma_f} \\mathbf{N_{1}}^T \\cdot \\mathbf{t}\\,d \\Gamma\n",
    "\\end{equation}\n",
    "\n",
    "Es decir\n",
    "\n",
    "\\begin{equation}\n",
    "\\mathbf{f}_5^f = \\int_{\\Gamma_f} \\left( \\begin{matrix} N_1 & 0 \\\\ 0 & N_1 \\end{matrix} \\right) \\cdot \\begin{pmatrix} t_x \\\\ t_y \\end{pmatrix} \\,d \\Gamma\n",
    "\\end{equation}\n",
    "\n",
    "Y teniendo nuevamente en cuenta que $t_y = 0$ y que $t_x$ es una función de $y$, la componente no nula a evaluar de $\\mathbf{f}_5$ será\n",
    "\n",
    "\\begin{equation}\n",
    "f_{5x}^d = \\int_{h2}^{h1} N_1(0,y) \\, t_x(y) \\,dy\n",
    "\\end{equation}"
   ]
  },
  {
   "cell_type": "code",
   "execution_count": 7,
   "metadata": {
    "collapsed": false
   },
   "outputs": [
    {
     "data": {
      "image/png": "[encoded data removed]",
      "text/latex": [
       "$$\\frac{b_{2} h_{1}}{2}$$"
      ],
      "text/plain": [
       "b₂⋅h₁\n",
       "─────\n",
       "  2  "
      ]
     },
     "execution_count": 7,
     "metadata": {},
     "output_type": "execute_result"
    }
   ],
   "source": [
    "h1 = symbols('h1',real=True)\n",
    "Area_f = Rational(1,2) * b2 * h1\n",
    "Area_f"
   ]
  },
  {
   "cell_type": "code",
   "execution_count": 8,
   "metadata": {
    "collapsed": false
   },
   "outputs": [
    {
     "data": {
      "image/png": "[encoded data removed]",
      "text/latex": [
       "$$\\frac{1}{b_{2} h_{1}} \\left(- b_{2} y + b_{2} \\left(h_{1} + h_{2}\\right)\\right)$$"
      ],
      "text/plain": [
       "-b₂⋅y + b₂⋅(h₁ + h₂)\n",
       "────────────────────\n",
       "       b₂⋅h₁        "
      ]
     },
     "execution_count": 8,
     "metadata": {},
     "output_type": "execute_result"
    }
   ],
   "source": [
    "x1_f = 0\n",
    "y1_f = h2\n",
    "x2_f = b2\n",
    "y2_f = h2+h1\n",
    "x3_f = 0\n",
    "y3_f = h2+h1\n",
    "N1_f = N1.subs([(x1,x1_f),(x2,x2_f),(x3,x3_f),(y1,y1_f),(y2,y2_f),(y3,y3_f),(A,Area_f)])\n",
    "N1_f"
   ]
  },
  {
   "cell_type": "code",
   "execution_count": 9,
   "metadata": {
    "collapsed": false
   },
   "outputs": [
    {
     "data": {
      "image/png": "[encoded data removed]",
      "text/latex": [
       "$$- \\frac{Q h_{2}^{3}}{3 h_{1}^{2} + 3 h_{1} h_{2}} + \\frac{Q \\left(h_{1} + h_{2}\\right)^{3}}{3 h_{1}^{2} + 3 h_{1} h_{2}} + \\frac{Q h_{2}^{2}}{h_{1}} - \\frac{Q}{h_{1}} \\left(h_{1} + h_{2}\\right)^{2} - \\frac{h_{2}}{h_{1}} \\left(Q h_{1} + Q h_{2}\\right) + \\frac{1}{h_{1}} \\left(h_{1} + h_{2}\\right) \\left(Q h_{1} + Q h_{2}\\right)$$"
      ],
      "text/plain": [
       "           3                     3        2              2                    \n",
       "       Q⋅h₂           Q⋅(h₁ + h₂)     Q⋅h₂    Q⋅(h₁ + h₂)    h₂⋅(Q⋅h₁ + Q⋅h₂) \n",
       "- ─────────────── + ─────────────── + ───── - ──────────── - ──────────────── \n",
       "      2                 2               h₁         h₁               h₁        \n",
       "  3⋅h₁  + 3⋅h₁⋅h₂   3⋅h₁  + 3⋅h₁⋅h₂                                           \n",
       "\n",
       "                         \n",
       "  (h₁ + h₂)⋅(Q⋅h₁ + Q⋅h₂)\n",
       "+ ───────────────────────\n",
       "             h₁          \n",
       "                         "
      ]
     },
     "execution_count": 9,
     "metadata": {},
     "output_type": "execute_result"
    }
   ],
   "source": [
    "f5f_x = integrate(N1_f.subs(x,0) * tx,(y,h2,h2+h1))\n",
    "f5f_x.simplify()\n",
    "f5f_x"
   ]
  },
  {
   "cell_type": "markdown",
   "metadata": {},
   "source": [
    "### 2.3. Evaluación numérica para unos parámetros establecidos \n",
    "\n",
    "A continuación se definene los valores numéricos de los parámetros. Para distinguirlos de los símbolos se le añade una \"v\", para indicar que son valores de los parámetros. "
   ]
  },
  {
   "cell_type": "code",
   "execution_count": 10,
   "metadata": {
    "collapsed": false
   },
   "outputs": [
    {
     "data": {
      "image/png": "[encoded data removed]",
      "text/latex": [
       "$$2291.66666666667$$"
      ],
      "text/plain": [
       "2291.66666666667"
      ]
     },
     "execution_count": 10,
     "metadata": {},
     "output_type": "execute_result"
    }
   ],
   "source": [
    "h1_v = 10.\n",
    "h2_v = 50.\n",
    "h3_v = h2_v / 2.\n",
    "Q_v = 10 * (h2_v + h1_v) # Se ha tomado el peso específico del agua como 10 kN/m3\n",
    "b1_v = 50.\n",
    "b2_v = 5.\n",
    "f5dx= f5d_x.evalf(subs={Q:Q_v,h1:h1_v,h2:h2_v,h3:h3_v})\n",
    "f5dx"
   ]
  },
  {
   "cell_type": "code",
   "execution_count": 11,
   "metadata": {
    "collapsed": false
   },
   "outputs": [
    {
     "data": {
      "image/png": "[encoded data removed]",
      "text/latex": [
       "$$333.333333333333$$"
      ],
      "text/plain": [
       "333.333333333333"
      ]
     },
     "execution_count": 11,
     "metadata": {},
     "output_type": "execute_result"
    }
   ],
   "source": [
    "f5fx= f5f_x.evalf(subs={Q:Q_v,h1:h1_v,h2:h2_v,h3:h3_v})\n",
    "f5fx"
   ]
  },
  {
   "cell_type": "markdown",
   "metadata": {},
   "source": [
    "Resultado final para la componente $x$ de $\\mathbf{f}_5^{d+f}$"
   ]
  },
  {
   "cell_type": "code",
   "execution_count": 12,
   "metadata": {
    "collapsed": false
   },
   "outputs": [
    {
     "data": {
      "image/png": "[encoded data removed]",
      "text/latex": [
       "$$2625.0$$"
      ],
      "text/plain": [
       "2625.00000000000"
      ]
     },
     "execution_count": 12,
     "metadata": {},
     "output_type": "execute_result"
    }
   ],
   "source": [
    "f5x = f5dx + f5fx\n",
    "f5x"
   ]
  },
  {
   "cell_type": "markdown",
   "metadata": {},
   "source": [
    "El vector de cargas nodales equivalentes en 5 debido a la acción del agua será: "
   ]
  },
  {
   "cell_type": "code",
   "execution_count": 13,
   "metadata": {
    "collapsed": false
   },
   "outputs": [
    {
     "data": {
      "image/png": "[encoded data removed]",
      "text/latex": [
       "$$\\left[\\begin{matrix}2625.0\\\\0\\end{matrix}\\right]$$"
      ],
      "text/plain": [
       "⎡2625.0⎤\n",
       "⎢      ⎥\n",
       "⎣  0   ⎦"
      ]
     },
     "execution_count": 13,
     "metadata": {},
     "output_type": "execute_result"
    }
   ],
   "source": [
    "f5_agua = Matrix([f5x,0])\n",
    "f5_agua"
   ]
  },
  {
   "cell_type": "markdown",
   "metadata": {},
   "source": [
    "**Observación:**\n",
    "En el elemento lineal triangular, puede demostrarse (mediante el PTV) que las fuerzas nodales equivalen a las que se obtendrían mediante un reparto coherente con las ecuaciones de la estática. \n",
    "\n",
    "Este resultado es práctico. Observe: \n",
    "\n",
    "- Para el caso de la componente debida al elemento _f_ , la carga triangular equivalente para el nodo 5 puede obtenerse tomando momentos en 7 e igualando el momento producido por la fuerza nodal $f_{5x}^f$ respecto a dicho nodo (actuando con un brazo de 10 m). \n",
    "\n",
    "\\begin{equation}\n",
    "f_{5x}^f \\cdot 10 = \\dfrac{100 \\cdot 10}{2} \\,\\dfrac{2}{3} \\cdot 10 \\Rightarrow f_{5x}^f = 333.3 kN\n",
    "\\end{equation}\n",
    "\n",
    "- Para el caso de la componente debida al elemento _d_ se obtiene el mismo resultado: transfiriendo la carga trapezoidal variable, desde 100 a 350 kN/m$^2$; observe que al nodo 5 le corresponde (descomponiendo la carga en rectangular más triangular):\n",
    "\n",
    "\\begin{equation}\n",
    "f_{5x}^d = \\dfrac{100 \\cdot 25}{2} + \\dfrac{250 \\cdot 25}{2} \\cdot \\dfrac{1}{3} = 2291.667 kN\n",
    "\\end{equation}"
   ]
  },
  {
   "cell_type": "markdown",
   "metadata": {
    "collapsed": true
   },
   "source": [
    "## 3. Evaluación de las fuerzas nodales debido a cargas de peso propio\n",
    "\n",
    "En este apartado se va a evaluar el vector de fuerzas por unidad de volumen debido a cargas de peso propio, en el nodo 4. \n",
    "\n",
    "Tal y como se vio en el cuaderno de MEF del Elemento Triangular, la expresión dentro de un elemento de este vector es la siguiente:  \n",
    "\n",
    "\\begin{equation}\n",
    "\\mathbf{f}^{(e)}_b = \\dfrac{A^{(e)}}{3} \\,\\begin{pmatrix} 0 \\\\ -\\rho \\,g \\\\ 0 \\\\- \\rho \\,g  \\\\ 0 \\\\ -\\rho \\,g \\end{pmatrix}\n",
    "\\end{equation}\n",
    "\n",
    "Donde el superíndice (e) se ha empleado para indicar que los datos son los de un elemento en concreto. \n",
    "\n",
    "Observando la figura de la presa, vemos que el nodo 4 pertenece a los elementos (a,b,c). \n",
    "\n",
    "El vector de fuerzas volumétricas existe para todos los elementos. En este caso, \n",
    "\n",
    "\\begin{equation}\n",
    "\\mathbf{f}_4 = \\mathbf{f}_4^{a+b+c} = \\mathbf{f}_4^{a} + \\mathbf{f}_4^b + \\mathbf{f}_4^c\n",
    "\\end{equation}\n",
    "\n",
    "Observando la expresión de $\\mathbf{f}_b$, la única dependencia del elemento es el área de cada elemento. Por tanto, evaluar el vector de fuerzas por unidad de volumen es sencillo. Basta con evaluar las áreas de cada triángulo, y \"enviar\" 1/3 del valor total al nodo 4. Finalmente, considerar el peso específico, que en este caso es directamente el producto $\\rho\\,g$ y toma el valor 25 kN/m$^3$.\n"
   ]
  },
  {
   "cell_type": "code",
   "execution_count": 14,
   "metadata": {
    "collapsed": false
   },
   "outputs": [
    {
     "name": "stdout",
     "output_type": "stream",
     "text": [
      "Area triángulo a 625.0\n",
      "Area triángulos b y c (áreas iguales) 343.75\n",
      "Fuerza vertical en 4 debida a peso propio -10937.5\n"
     ]
    },
    {
     "data": {
      "image/png": "[encoded data removed]",
      "text/latex": [
       "$$\\left[\\begin{matrix}0\\\\-10937.5\\end{matrix}\\right]$$"
      ],
      "text/plain": [
       "⎡   0    ⎤\n",
       "⎢        ⎥\n",
       "⎣-10937.5⎦"
      ]
     },
     "execution_count": 14,
     "metadata": {},
     "output_type": "execute_result"
    }
   ],
   "source": [
    "gamma_h = 25\n",
    "A_a = 1/2. * b1_v * h3_v\n",
    "A_b = 1/2. * (b2_v + b1_v)/2 * h3_v\n",
    "A_c = A_b\n",
    "print \"Area triángulo a\", A_a\n",
    "print \"Area triángulos b y c (áreas iguales)\", A_b\n",
    "f4y = -gamma_h * 1/3.*(A_a + A_b + A_c)\n",
    "print \"Fuerza vertical en 4 debida a peso propio\", f4y\n",
    "f4_peso = Matrix([0,f4y])\n",
    "f4_peso"
   ]
  },
  {
   "cell_type": "markdown",
   "metadata": {},
   "source": [
    "## 4. Evaluación de un término de la matriz de rigidez completa.\n",
    "\n",
    "A continuación se evalúa un término concreto de la matriz de rigidez. Se evaluará $\\mathbf{K_{58}}$. \n",
    "\n",
    "Los elementos $e$ y $f$ contribuyen a este término. Por tanto: \n",
    "\n",
    "\\begin{equation}\n",
    "\\mathbf{K_{58}} = \\mathbf{K_{58}}^{e + f} = \\mathbf{K_{58}}^{e}+ \\mathbf{K_{58}}^{f}\n",
    "\\end{equation}"
   ]
  },
  {
   "cell_type": "markdown",
   "metadata": {},
   "source": [
    "### Problema elástico de deformación plana. \n",
    "\n",
    "Evaluaremos en primer lugar los vales de d11, d12, d33, correspondientes a deformación plana: "
   ]
  },
  {
   "cell_type": "code",
   "execution_count": 15,
   "metadata": {
    "collapsed": false
   },
   "outputs": [],
   "source": [
    "E = 30E6\n",
    "n = 0.25\n",
    "G = E / (2 * (1 + n))\n",
    "d33 = G\n",
    "d11 = E * (1 - n) / ( (1 + n) * (1 - 2 * n))\n",
    "d12 = n / (1 - n) * d11"
   ]
  },
  {
   "cell_type": "markdown",
   "metadata": {
    "collapsed": true
   },
   "source": [
    "### 4.1. Componente de la matriz en el elemento _e_\n",
    "\n",
    "En primer lugar es necesario definir un sentido de numeración. Eligiendo el nodo 5 como nodo 1 local, planteamos:\n",
    "\n",
    "    (5,6,8) en global se referencia como (1,2,3) en local. (Sentido de recorrido antihorario). \n",
    "\n",
    "El término $\\mathbf{K_{58}}^e$ es $\\mathbf{K_{13}}$ en locales. \n",
    "\n",
    "Su expresión puede tomarse del cuaderno del Elemento de 3 nodos\n",
    "\n",
    "\\left[\\begin{matrix}\\frac{b_{1} b_{3} d_{11}}{4 A} + \\frac{c_{1} c_{3} d_{33}}{4 A} & \\frac{b_{1} c_{3} d_{12}}{4 A} + \\frac{b_{3} c_{1} d_{33}}{4 A}\\\\\\frac{b_{1} c_{3} d_{33}}{4 A} + \\frac{b_{3} c_{1} d_{12}}{4 A} & \\frac{b_{1} b_{3} d_{33}}{4 A} + \\frac{c_{1} c_{3} d_{11}}{4 A}\\end{matrix}\\right]"
   ]
  },
  {
   "cell_type": "code",
   "execution_count": 16,
   "metadata": {
    "collapsed": false
   },
   "outputs": [],
   "source": [
    "(x1,y1) = 0, h2_v\n",
    "(x2,y2) = b2_v,h2_v\n",
    "(x3,y3) = b2_v,h2_v + h1_v\n",
    "A = 1/2. * b2_v * h1_v\n",
    "\n",
    "(b1, b2, b3, c1, c2, c3) = y2 - y3, y3-y1, y1-y2, x3-x2, x1-x3, x2-x1\n",
    "\n",
    "k58_c = np.array([[b1*b3*d11/(4*A) + c1*c3*d33/(4*A), b1*c3*d12/(4*A) + b3*c1*d33/(4*A)], [b1*c3*d33/(4*A) + b3*c1*d12/(4*A), b1*b3*d33/(4*A) + c1*c3*d11/(4*A)]])"
   ]
  },
  {
   "cell_type": "code",
   "execution_count": 17,
   "metadata": {
    "collapsed": false
   },
   "outputs": [
    {
     "name": "stdout",
     "output_type": "stream",
     "text": [
      "[[       0. -6000000.]\n",
      " [-6000000.        0.]]\n"
     ]
    }
   ],
   "source": [
    "print k58_c"
   ]
  },
  {
   "cell_type": "markdown",
   "metadata": {},
   "source": [
    "### 4.2. Componente de la matriz en el elemento _f_\n",
    "\n",
    "En primer lugar es necesario definir un sentido de numeración. Eligiendo el nodo 5 como nodo 1 local, planteamos\n",
    "\n",
    "    (5,8,7) en global se referencia como (1,2,3) en local. (Sentido de recorrido antihorario).\n",
    "\n",
    "El término $\\mathbf{K_{58}}^f$ será $\\mathbf{K_{12}}$ en planteamiento local.\n",
    "\n",
    "Su expresión es: \n",
    "\n",
    "\\left[\\begin{matrix}\\frac{b_{1} b_{2} d_{11}}{4 A} + \\frac{c_{1} c_{2} d_{33}}{4 A} & \\frac{b_{1} c_{2} d_{12}}{4 A} + \\frac{b_{2} c_{1} d_{33}}{4 A}\\\\\\frac{b_{1} c_{2} d_{33}}{4 A} + \\frac{b_{2} c_{1} d_{12}}{4 A} & \\frac{b_{1} b_{2} d_{33}}{4 A} + \\frac{c_{1} c_{2} d_{11}}{4 A}\\end{matrix}\\right]\n",
    "\n"
   ]
  },
  {
   "cell_type": "code",
   "execution_count": 18,
   "metadata": {
    "collapsed": true
   },
   "outputs": [],
   "source": [
    "(x1,y1) = 0, h2_v\n",
    "(x2,y2) = b2_v,h2_v + h1_v\n",
    "(x3,y3) = 0,   h2_v + h1_v\n",
    "A = 1/2. * b2_v * h1_v\n",
    "\n",
    "(b1, b2, b3, c1, c2, c3) = y2-y3, y3-y1, y1-y2, x3-x2, x1-x3, x2-x1\n",
    "\n",
    "k58_f = np.array([[b1*b2*d11/(4*A) + c1*c2*d33/(4*A), b1*c2*d12/(4*A) + b2*c1*d33/(4*A)], [b1*c2*d33/(4*A) + b2*c1*d12/(4*A), b1*b2*d33/(4*A) + c1*c2*d11/(4*A)]])\n"
   ]
  },
  {
   "cell_type": "code",
   "execution_count": 19,
   "metadata": {
    "collapsed": false
   },
   "outputs": [
    {
     "name": "stdout",
     "output_type": "stream",
     "text": [
      "[[       0. -6000000.]\n",
      " [-6000000.        0.]]\n"
     ]
    }
   ],
   "source": [
    "print k58_f"
   ]
  },
  {
   "cell_type": "markdown",
   "metadata": {},
   "source": [
    "Finalmente, sumando ambas matrices, se obtiene: "
   ]
  },
  {
   "cell_type": "code",
   "execution_count": 20,
   "metadata": {
    "collapsed": false
   },
   "outputs": [
    {
     "name": "stdout",
     "output_type": "stream",
     "text": [
      "[[        0. -12000000.]\n",
      " [-12000000.         0.]]\n"
     ]
    }
   ],
   "source": [
    "k58 = k58_c + k58_f\n",
    "print k58"
   ]
  },
  {
   "cell_type": "code",
   "execution_count": null,
   "metadata": {
    "collapsed": true
   },
   "outputs": [],
   "source": []
  }
 ],
 "metadata": {
  "kernelspec": {
   "display_name": "Python 2",
   "language": "python",
   "name": "python2"
  },
  "language_info": {
   "codemirror_mode": {
    "name": "ipython",
    "version": 2
   },
   "file_extension": ".py",
   "mimetype": "text/x-python",
   "name": "python",
   "nbconvert_exporter": "python",
   "pygments_lexer": "ipython2",
   "version": "2.7.11"
  }
 },
 "nbformat": 4,
 "nbformat_minor": 0
}
